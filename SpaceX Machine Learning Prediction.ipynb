





<!DOCTYPE html>
<html lang="en" data-color-mode="auto" data-light-theme="light" data-dark-theme="dark"  data-a11y-animated-images="system" data-a11y-link-underlines="true">



  <head>
    <meta charset="utf-8">
  <link rel="dns-prefetch" href="https://github.githubassets.com">
  <link rel="dns-prefetch" href="https://avatars.githubusercontent.com">
  <link rel="dns-prefetch" href="https://github-cloud.s3.amazonaws.com">
  <link rel="dns-prefetch" href="https://user-images.githubusercontent.com/">
  <link rel="preconnect" href="https://github.githubassets.com" crossorigin>
  <link rel="preconnect" href="https://avatars.githubusercontent.com">

  


  <link crossorigin="anonymous" media="all" rel="stylesheet" href="https://github.githubassets.com/assets/light-b92e9647318f.css" /><link crossorigin="anonymous" media="all" rel="stylesheet" href="https://github.githubassets.com/assets/dark-5d486a4ede8e.css" /><link data-color-theme="dark_dimmed" crossorigin="anonymous" media="all" rel="stylesheet" data-href="https://github.githubassets.com/assets/dark_dimmed-27c8d635e4e5.css" /><link data-color-theme="dark_high_contrast" crossorigin="anonymous" media="all" rel="stylesheet" data-href="https://github.githubassets.com/assets/dark_high_contrast-8438e75afd36.css" /><link data-color-theme="dark_colorblind" crossorigin="anonymous" media="all" rel="stylesheet" data-href="https://github.githubassets.com/assets/dark_colorblind-bf5665b96628.css" /><link data-color-theme="light_colorblind" crossorigin="anonymous" media="all" rel="stylesheet" data-href="https://github.githubassets.com/assets/light_colorblind-c414b5ba1dce.css" /><link data-color-theme="light_high_contrast" crossorigin="anonymous" media="all" rel="stylesheet" data-href="https://github.githubassets.com/assets/light_high_contrast-e5868b7374db.css" /><link data-color-theme="light_tritanopia" crossorigin="anonymous" media="all" rel="stylesheet" data-href="https://github.githubassets.com/assets/light_tritanopia-299ac9c64ec0.css" /><link data-color-theme="dark_tritanopia" crossorigin="anonymous" media="all" rel="stylesheet" data-href="https://github.githubassets.com/assets/dark_tritanopia-3a26e78ad0ff.css" />
    <link crossorigin="anonymous" media="all" rel="stylesheet" href="https://github.githubassets.com/assets/primer-primitives-363ec1831c26.css" />
    <link crossorigin="anonymous" media="all" rel="stylesheet" href="https://github.githubassets.com/assets/primer-ba77178b8574.css" />
    <link crossorigin="anonymous" media="all" rel="stylesheet" href="https://github.githubassets.com/assets/global-1b1d81338242.css" />
    <link crossorigin="anonymous" media="all" rel="stylesheet" href="https://github.githubassets.com/assets/github-9c22f1a8e428.css" />
  <link crossorigin="anonymous" media="all" rel="stylesheet" href="https://github.githubassets.com/assets/code-71ecd5638fbf.css" />

  

  <script type="application/json" id="client-env">{"locale":"en","featureFlags":["failbot_handle_non_errors","geojson_azure_maps","image_metric_tracking","turbo_experiment_risky","sample_network_conn_type"]}</script>
<script crossorigin="anonymous" defer="defer" type="application/javascript" src="https://github.githubassets.com/assets/wp-runtime-aba2cd364486.js"></script>
<script crossorigin="anonymous" defer="defer" type="application/javascript" src="https://github.githubassets.com/assets/vendors-node_modules_dompurify_dist_purify_js-6890e890956f.js"></script>
<script crossorigin="anonymous" defer="defer" type="application/javascript" src="https://github.githubassets.com/assets/vendors-node_modules_stacktrace-parser_dist_stack-trace-parser_esm_js-node_modules_github_bro-a4c183-79f9611c275b.js"></script>
<script crossorigin="anonymous" defer="defer" type="application/javascript" src="https://github.githubassets.com/assets/ui_packages_soft-nav_soft-nav_ts-6a5fadd2ef71.js"></script>
<script crossorigin="anonymous" defer="defer" type="application/javascript" src="https://github.githubassets.com/assets/environment-569829d98e9a.js"></script>
<script crossorigin="anonymous" defer="defer" type="application/javascript" src="https://github.githubassets.com/assets/vendors-node_modules_github_selector-observer_dist_index_esm_js-9f960d9b217c.js"></script>
<script crossorigin="anonymous" defer="defer" type="application/javascript" src="https://github.githubassets.com/assets/vendors-node_modules_primer_behaviors_dist_esm_focus-zone_js-d9ce45da2851.js"></script>
<script crossorigin="anonymous" defer="defer" type="application/javascript" src="https://github.githubassets.com/assets/vendors-node_modules_github_relative-time-element_dist_index_js-c6fd49e3fd28.js"></script>
<script crossorigin="anonymous" defer="defer" type="application/javascript" src="https://github.githubassets.com/assets/vendors-node_modules_fzy_js_index_js-node_modules_github_combobox-nav_dist_index_js-node_modu-344bff-421f7a8c1008.js"></script>
<script crossorigin="anonymous" defer="defer" type="application/javascript" src="https://github.githubassets.com/assets/vendors-node_modules_delegated-events_dist_index_js-node_modules_github_details-dialog-elemen-29dc30-a2a71f11a507.js"></script>
<script crossorigin="anonymous" defer="defer" type="application/javascript" src="https://github.githubassets.com/assets/vendors-node_modules_github_filter-input-element_dist_index_js-node_modules_github_remote-inp-59c459-e74bf552c5b7.js"></script>
<script crossorigin="anonymous" defer="defer" type="application/javascript" src="https://github.githubassets.com/assets/vendors-node_modules_github_file-attachment-element_dist_index_js-node_modules_primer_view-co-2c6968-68313e1bab1d.js"></script>
<script crossorigin="anonymous" defer="defer" type="application/javascript" src="https://github.githubassets.com/assets/github-elements-566950f6cdd3.js"></script>
<script crossorigin="anonymous" defer="defer" type="application/javascript" src="https://github.githubassets.com/assets/element-registry-056dadb65de9.js"></script>
<script crossorigin="anonymous" defer="defer" type="application/javascript" src="https://github.githubassets.com/assets/vendors-node_modules_github_catalyst_lib_index_js-node_modules_github_hydro-analytics-client_-978abc0-15861e0630b6.js"></script>
<script crossorigin="anonymous" defer="defer" type="application/javascript" src="https://github.githubassets.com/assets/vendors-node_modules_lit-html_lit-html_js-5b376145beff.js"></script>
<script crossorigin="anonymous" defer="defer" type="application/javascript" src="https://github.githubassets.com/assets/vendors-node_modules_github_mini-throttle_dist_index_js-node_modules_github_alive-client_dist-bf5aa2-1b562c29ab8e.js"></script>
<script crossorigin="anonymous" defer="defer" type="application/javascript" src="https://github.githubassets.com/assets/vendors-node_modules_morphdom_dist_morphdom-esm_js-5bff297a06de.js"></script>
<script crossorigin="anonymous" defer="defer" type="application/javascript" src="https://github.githubassets.com/assets/vendors-node_modules_github_turbo_dist_turbo_es2017-esm_js-ec51a0f6e881.js"></script>
<script crossorigin="anonymous" defer="defer" type="application/javascript" src="https://github.githubassets.com/assets/vendors-node_modules_color-convert_index_js-72c9fbde5ad4.js"></script>
<script crossorigin="anonymous" defer="defer" type="application/javascript" src="https://github.githubassets.com/assets/vendors-node_modules_primer_behaviors_dist_esm_dimensions_js-node_modules_github_hotkey_dist_-8755d2-0ac4a16a6cca.js"></script>
<script crossorigin="anonymous" defer="defer" type="application/javascript" src="https://github.githubassets.com/assets/vendors-node_modules_github_session-resume_dist_index_js-node_modules_primer_behaviors_dist_e-ac74c6-637fd908cfc1.js"></script>
<script crossorigin="anonymous" defer="defer" type="application/javascript" src="https://github.githubassets.com/assets/vendors-node_modules_github_paste-markdown_dist_index_esm_js-node_modules_github_quote-select-854ff4-201063b8cc44.js"></script>
<script crossorigin="anonymous" defer="defer" type="application/javascript" src="https://github.githubassets.com/assets/ui_packages_details-dialog_details-dialog_ts-ui_packages_fetch-utils_fetch-utils_ts-1dae7baac466.js"></script>
<script crossorigin="anonymous" defer="defer" type="application/javascript" src="https://github.githubassets.com/assets/app_assets_modules_github_updatable-content_ts-ui_packages_hydro-analytics_hydro-analytics_ts-6ab1a34074c8.js"></script>
<script crossorigin="anonymous" defer="defer" type="application/javascript" src="https://github.githubassets.com/assets/app_assets_modules_github_behaviors_task-list_ts-app_assets_modules_github_onfocus_ts-app_ass-079b43-84f860f8b7d6.js"></script>
<script crossorigin="anonymous" defer="defer" type="application/javascript" src="https://github.githubassets.com/assets/app_assets_modules_github_sticky-scroll-into-view_ts-f982282c5c39.js"></script>
<script crossorigin="anonymous" defer="defer" type="application/javascript" src="https://github.githubassets.com/assets/app_assets_modules_github_behaviors_ajax-error_ts-app_assets_modules_github_behaviors_include-2e2258-178d980b559e.js"></script>
<script crossorigin="anonymous" defer="defer" type="application/javascript" src="https://github.githubassets.com/assets/app_assets_modules_github_behaviors_commenting_edit_ts-app_assets_modules_github_behaviors_ht-83c235-b85e9f4f1304.js"></script>
<script crossorigin="anonymous" defer="defer" type="application/javascript" src="https://github.githubassets.com/assets/behaviors-e257e48ebcff.js"></script>
<script crossorigin="anonymous" defer="defer" type="application/javascript" src="https://github.githubassets.com/assets/vendors-node_modules_delegated-events_dist_index_js-node_modules_github_catalyst_lib_index_js-d0256ebff5cd.js"></script>
<script crossorigin="anonymous" defer="defer" type="application/javascript" src="https://github.githubassets.com/assets/notifications-global-99d196517b1b.js"></script>
<script crossorigin="anonymous" defer="defer" type="application/javascript" src="https://github.githubassets.com/assets/code-menu-9ea38b1fd5ad.js"></script>
  
  <script crossorigin="anonymous" defer="defer" type="application/javascript" src="https://github.githubassets.com/assets/react-lib-1fbfc5be2c18.js"></script>
<script crossorigin="anonymous" defer="defer" type="application/javascript" src="https://github.githubassets.com/assets/vendors-node_modules_primer_octicons-react_dist_index_esm_js-node_modules_primer_react_lib-es-2e8e7c-247c295eeaf1.js"></script>
<script crossorigin="anonymous" defer="defer" type="application/javascript" src="https://github.githubassets.com/assets/vendors-node_modules_primer_react_lib-esm_Box_Box_js-ebfceb11fb57.js"></script>
<script crossorigin="anonymous" defer="defer" type="application/javascript" src="https://github.githubassets.com/assets/vendors-node_modules_primer_react_lib-esm_Button_Button_js-60b00491ef3b.js"></script>
<script crossorigin="anonymous" defer="defer" type="application/javascript" src="https://github.githubassets.com/assets/vendors-node_modules_primer_react_lib-esm__VisuallyHidden_js-node_modules_primer_react_node_m-054ea3-d40b49e262db.js"></script>
<script crossorigin="anonymous" defer="defer" type="application/javascript" src="https://github.githubassets.com/assets/vendors-node_modules_primer_react_lib-esm_Button_index_js-node_modules_primer_react_lib-esm_O-701f13-0fd985ad14dc.js"></script>
<script crossorigin="anonymous" defer="defer" type="application/javascript" src="https://github.githubassets.com/assets/vendors-node_modules_primer_react_lib-esm_Text_Text_js-node_modules_primer_react_lib-esm_Text-85a14b-9b27ed54a3ef.js"></script>
<script crossorigin="anonymous" defer="defer" type="application/javascript" src="https://github.githubassets.com/assets/vendors-node_modules_primer_react_lib-esm_ActionList_index_js-102f4b796990.js"></script>
<script crossorigin="anonymous" defer="defer" type="application/javascript" src="https://github.githubassets.com/assets/vendors-node_modules_primer_react_lib-esm_ActionMenu_ActionMenu_js-9f1a313dca7f.js"></script>
<script crossorigin="anonymous" defer="defer" type="application/javascript" src="https://github.githubassets.com/assets/vendors-node_modules_primer_behaviors_dist_esm_scroll-into-view_js-node_modules_primer_react_-04bb1b-3e9cb0f38dfb.js"></script>
<script crossorigin="anonymous" defer="defer" type="application/javascript" src="https://github.githubassets.com/assets/vendors-node_modules_primer_react_lib-esm_FormControl_FormControl_js-5caeabd3a049.js"></script>
<script crossorigin="anonymous" defer="defer" type="application/javascript" src="https://github.githubassets.com/assets/vendors-node_modules_react-router-dom_dist_index_js-6df0edbb3b11.js"></script>
<script crossorigin="anonymous" defer="defer" type="application/javascript" src="https://github.githubassets.com/assets/vendors-node_modules_primer_react_lib-esm_PageLayout_PageLayout_js-6d204414df4f.js"></script>
<script crossorigin="anonymous" defer="defer" type="application/javascript" src="https://github.githubassets.com/assets/vendors-node_modules_primer_react_lib-esm_Label_Label_js-node_modules_primer_react_lib-esm_Oc-9ded4f-3fb70e9a8111.js"></script>
<script crossorigin="anonymous" defer="defer" type="application/javascript" src="https://github.githubassets.com/assets/vendors-node_modules_primer_react_lib-esm_Dialog_js-node_modules_primer_react_lib-esm_TabNav_-8321f5-dc0ea4d70a46.js"></script>
<script crossorigin="anonymous" defer="defer" type="application/javascript" src="https://github.githubassets.com/assets/vendors-node_modules_primer_react_lib-esm_UnderlineNav2_index_js-7ca2d460cd25.js"></script>
<script crossorigin="anonymous" defer="defer" type="application/javascript" src="https://github.githubassets.com/assets/vendors-node_modules_primer_react_lib-esm_BranchName_BranchName_js-node_modules_primer_react_-47506c-00510ffda39d.js"></script>
<script crossorigin="anonymous" defer="defer" type="application/javascript" src="https://github.githubassets.com/assets/vendors-node_modules_primer_react_lib-esm_AvatarStack_AvatarStack_js-node_modules_primer_reac-6d3540-e7c40167bae5.js"></script>
<script crossorigin="anonymous" defer="defer" type="application/javascript" src="https://github.githubassets.com/assets/vendors-node_modules_primer_react_lib-esm_Avatar_Avatar_js-node_modules_primer_react_lib-esm_-5bb308-843a22881d7f.js"></script>
<script crossorigin="anonymous" defer="defer" type="application/javascript" src="https://github.githubassets.com/assets/ui_packages_react-core_create-browser-history_ts-ui_packages_react-core_deferred-registry_ts--ebbb92-42b84521809f.js"></script>
<script crossorigin="anonymous" defer="defer" type="application/javascript" src="https://github.githubassets.com/assets/ui_packages_react-core_register-app_ts-211bc4a0e633.js"></script>
<script crossorigin="anonymous" defer="defer" type="application/javascript" src="https://github.githubassets.com/assets/ui_packages_ref-selector_RefSelector_tsx-7bf4f270bbcf.js"></script>
<script crossorigin="anonymous" defer="defer" type="application/javascript" src="https://github.githubassets.com/assets/app_assets_modules_github_blob-anchor_ts-app_assets_modules_github_filter-sort_ts-app_assets_-681869-5bba11e3ea7a.js"></script>
<script crossorigin="anonymous" defer="defer" type="application/javascript" src="https://github.githubassets.com/assets/ui_packages_commit-attribution_index_ts-ui_packages_commit-checks-status_index_ts-ui_packages-cc11d2-43d9c6c8b3b2.js"></script>
<script crossorigin="anonymous" defer="defer" type="application/javascript" src="https://github.githubassets.com/assets/app_assets_modules_react-code-view_pages_CodeView_tsx-0ce58ed038a3.js"></script>
<script crossorigin="anonymous" defer="defer" type="application/javascript" src="https://github.githubassets.com/assets/react-code-view-2bec29cf9a92.js"></script>


  <title>Coursera-Data-Science/SpaceX Machine Learning Prediction.ipynb at main · saivuttunoori/Coursera-Data-Science · GitHub</title>



  <meta name="route-pattern" content="/:user_id/:repository/blob/*name(/*path)">

    
  <meta name="current-catalog-service-hash" content="82c569b93da5c18ed649ebd4c2c79437db4611a6a1373e805a3cb001c64130b7">


  <meta name="request-id" content="DAE1:1003E5:1128C71:13702C0:653E3A83" data-pjax-transient="true"/><meta name="html-safe-nonce" content="5d3ef03dd2fee11e17bcb55a4e9d8f983af8f66f11c73b23b0d5dd5bbe5c13e1" data-pjax-transient="true"/><meta name="visitor-payload" content="eyJyZWZlcnJlciI6Imh0dHBzOi8vZ2l0aHViLmNvbS9zYWl2dXR0dW5vb3JpL0NvdXJzZXJhLURhdGEtU2NpZW5jZSIsInJlcXVlc3RfaWQiOiJEQUUxOjEwMDNFNToxMTI4QzcxOjEzNzAyQzA6NjUzRTNBODMiLCJ2aXNpdG9yX2lkIjoiMjA4NzI3NTExNDUxNDg2Nzc0NyIsInJlZ2lvbl9lZGdlIjoiY2VudHJhbGluZGlhIiwicmVnaW9uX3JlbmRlciI6ImNlbnRyYWxpbmRpYSJ9" data-pjax-transient="true"/><meta name="visitor-hmac" content="409efdfcb30d38443d520a27869b1bfa394205ca9a0d01647aed0147f2e30322" data-pjax-transient="true"/>


    <meta name="hovercard-subject-tag" content="repository:686678873" data-turbo-transient>


  <meta name="github-keyboard-shortcuts" content="repository,source-code,file-tree" data-turbo-transient="true" />
  

  <meta name="selected-link" value="repo_source" data-turbo-transient>
  <link rel="assets" href="https://github.githubassets.com/">

    <meta name="google-site-verification" content="c1kuD-K2HIVF635lypcsWPoD4kilo5-jA_wBFyT4uMY">
  <meta name="google-site-verification" content="KT5gs8h0wvaagLKAVWq8bbeNwnZZK1r1XQysX3xurLU">
  <meta name="google-site-verification" content="ZzhVyEFwb7w3e0-uOTltm8Jsck2F5StVihD0exw2fsA">
  <meta name="google-site-verification" content="GXs5KoUUkNCoaAZn7wPN-t01Pywp9M3sEjnt_3_ZWPc">
  <meta name="google-site-verification" content="Apib7-x98H0j5cPqHWwSMm6dNU4GmODRoqxLiDzdx9I">

<meta name="octolytics-url" content="https://collector.github.com/github/collect" />

  <meta name="analytics-location" content="/&lt;user-name&gt;/&lt;repo-name&gt;/blob/show" data-turbo-transient="true" />

  




  

    <meta name="user-login" content="">

  

    <meta name="viewport" content="width=device-width">
    
      <meta name="description" content="Contribute to saivuttunoori/Coursera-Data-Science development by creating an account on GitHub.">
      <link rel="search" type="application/opensearchdescription+xml" href="/opensearch.xml" title="GitHub">
    <link rel="fluid-icon" href="https://github.com/fluidicon.png" title="GitHub">
    <meta property="fb:app_id" content="1401488693436528">
    <meta name="apple-itunes-app" content="app-id=1477376905, app-argument=https://github.com/saivuttunoori/Coursera-Data-Science/blob/main/SpaceX%20Machine%20Learning%20Prediction.ipynb" />
      <meta name="twitter:image:src" content="https://opengraph.githubassets.com/3a8c179db93bd7a16569f6f971ed82ab419e5d1d809163a041e54324faa41964/saivuttunoori/Coursera-Data-Science" /><meta name="twitter:site" content="@github" /><meta name="twitter:card" content="summary_large_image" /><meta name="twitter:title" content="Coursera-Data-Science/SpaceX Machine Learning Prediction.ipynb at main · saivuttunoori/Coursera-Data-Science" /><meta name="twitter:description" content="Contribute to saivuttunoori/Coursera-Data-Science development by creating an account on GitHub." />
      <meta property="og:image" content="https://opengraph.githubassets.com/3a8c179db93bd7a16569f6f971ed82ab419e5d1d809163a041e54324faa41964/saivuttunoori/Coursera-Data-Science" /><meta property="og:image:alt" content="Contribute to saivuttunoori/Coursera-Data-Science development by creating an account on GitHub." /><meta property="og:image:width" content="1200" /><meta property="og:image:height" content="600" /><meta property="og:site_name" content="GitHub" /><meta property="og:type" content="object" /><meta property="og:title" content="Coursera-Data-Science/SpaceX Machine Learning Prediction.ipynb at main · saivuttunoori/Coursera-Data-Science" /><meta property="og:url" content="https://github.com/saivuttunoori/Coursera-Data-Science/blob/main/SpaceX%20Machine%20Learning%20Prediction.ipynb" /><meta property="og:description" content="Contribute to saivuttunoori/Coursera-Data-Science development by creating an account on GitHub." />
      



        <meta name="hostname" content="github.com">



        <meta name="expected-hostname" content="github.com">


  <meta http-equiv="x-pjax-version" content="c5355c8199ad67f7ce28fca50e03aca7fb999ff0d2df8c9d5cf0a8ca7c7f134f" data-turbo-track="reload">
  <meta http-equiv="x-pjax-csp-version" content="ee14a7165914197d62e19f664bfb961fcfdfc1ec31939a5c7b137fbab1751c87" data-turbo-track="reload">
  <meta http-equiv="x-pjax-css-version" content="5ca546058ab3911c34a4d974c5652c85e4b1ee506c4028fef7c34a61babeefd6" data-turbo-track="reload">
  <meta http-equiv="x-pjax-js-version" content="c91e0ea5c18e4b1f41bbd51dd69ade04e6569061ceda1615958d9184bdb9370e" data-turbo-track="reload">

  <meta name="turbo-cache-control" content="no-preview" data-turbo-transient="">

      <meta name="turbo-cache-control" content="no-cache" data-turbo-transient>
    <meta data-hydrostats="publish">

  <meta name="go-import" content="github.com/saivuttunoori/Coursera-Data-Science git https://github.com/saivuttunoori/Coursera-Data-Science.git">

  <meta name="octolytics-dimension-user_id" content="97359778" /><meta name="octolytics-dimension-user_login" content="saivuttunoori" /><meta name="octolytics-dimension-repository_id" content="686678873" /><meta name="octolytics-dimension-repository_nwo" content="saivuttunoori/Coursera-Data-Science" /><meta name="octolytics-dimension-repository_public" content="true" /><meta name="octolytics-dimension-repository_is_fork" content="false" /><meta name="octolytics-dimension-repository_network_root_id" content="686678873" /><meta name="octolytics-dimension-repository_network_root_nwo" content="saivuttunoori/Coursera-Data-Science" />



  <meta name="turbo-body-classes" content="logged-out env-production page-responsive">


  <meta name="browser-stats-url" content="https://api.github.com/_private/browser/stats">

  <meta name="browser-errors-url" content="https://api.github.com/_private/browser/errors">

  <meta name="browser-optimizely-client-errors-url" content="https://api.github.com/_private/browser/optimizely_client/errors">

  <link rel="mask-icon" href="https://github.githubassets.com/assets/pinned-octocat-093da3e6fa40.svg" color="#000000">
  <link rel="alternate icon" class="js-site-favicon" type="image/png" href="https://github.githubassets.com/favicons/favicon.png">
  <link rel="icon" class="js-site-favicon" type="image/svg+xml" href="https://github.githubassets.com/favicons/favicon.svg">

<meta name="theme-color" content="#1e2327">
<meta name="color-scheme" content="light dark" />


  <link rel="manifest" href="/manifest.json" crossOrigin="use-credentials">

  </head>

  <body class="logged-out env-production page-responsive" style="word-wrap: break-word;">
    <div data-turbo-body class="logged-out env-production page-responsive" style="word-wrap: break-word;">
      


    <div class="position-relative js-header-wrapper ">
      <a href="#start-of-content" class="px-2 py-4 color-bg-accent-emphasis color-fg-on-emphasis show-on-focus js-skip-to-content">Skip to content</a>
      <span data-view-component="true" class="progress-pjax-loader Progress position-fixed width-full">
    <span style="width: 0%;" data-view-component="true" class="Progress-item progress-pjax-loader-bar left-0 top-0 color-bg-accent-emphasis"></span>
</span>      
      


      

        

            

<script crossorigin="anonymous" defer="defer" type="application/javascript" src="https://github.githubassets.com/assets/vendors-node_modules_github_remote-form_dist_index_js-node_modules_delegated-events_dist_inde-94fd67-99519581d0f8.js"></script>
<script crossorigin="anonymous" defer="defer" type="application/javascript" src="https://github.githubassets.com/assets/sessions-575b09d49509.js"></script>
<header class="Header-old header-logged-out js-details-container Details position-relative f4 py-3" role="banner" data-color-mode=light data-light-theme=light data-dark-theme=dark>
  <button type="button" class="Header-backdrop d-lg-none border-0 position-fixed top-0 left-0 width-full height-full js-details-target" aria-label="Toggle navigation">
    <span class="d-none">Toggle navigation</span>
  </button>

  <div class=" d-flex flex-column flex-lg-row flex-items-center p-responsive height-full position-relative z-1">
    <div class="d-flex flex-justify-between flex-items-center width-full width-lg-auto">
      <a class="mr-lg-3 color-fg-inherit flex-order-2" href="https://github.com/" aria-label="Homepage" data-ga-click="(Logged out) Header, go to homepage, icon:logo-wordmark">
        <svg height="32" aria-hidden="true" viewBox="0 0 16 16" version="1.1" width="32" data-view-component="true" class="octicon octicon-mark-github">
    <path d="M8 0c4.42 0 8 3.58 8 8a8.013 8.013 0 0 1-5.45 7.59c-.4.08-.55-.17-.55-.38 0-.27.01-1.13.01-2.2 0-.75-.25-1.23-.54-1.48 1.78-.2 3.65-.88 3.65-3.95 0-.88-.31-1.59-.82-2.15.08-.2.36-1.02-.08-2.12 0 0-.67-.22-2.2.82-.64-.18-1.32-.27-2-.27-.68 0-1.36.09-2 .27-1.53-1.03-2.2-.82-2.2-.82-.44 1.1-.16 1.92-.08 2.12-.51.56-.82 1.28-.82 2.15 0 3.06 1.86 3.75 3.64 3.95-.23.2-.44.55-.51 1.07-.46.21-1.61.55-2.33-.66-.15-.24-.6-.83-1.23-.82-.67.01-.27.38.01.53.34.19.73.9.82 1.13.16.45.68 1.31 2.69.94 0 .67.01 1.3.01 1.49 0 .21-.15.45-.55.38A7.995 7.995 0 0 1 0 8c0-4.42 3.58-8 8-8Z"></path>
</svg>
      </a>

        <div class="flex-1">
          <a href="/signup?ref_cta=Sign+up&amp;ref_loc=header+logged+out&amp;ref_page=%2F%3Cuser-name%3E%2F%3Crepo-name%3E%2Fblob%2Fshow&amp;source=header-repo"
            class="d-inline-block d-lg-none flex-order-1 f5 no-underline border color-border-default rounded-2 px-2 py-1 color-fg-inherit"
            data-hydro-click="{&quot;event_type&quot;:&quot;authentication.click&quot;,&quot;payload&quot;:{&quot;location_in_page&quot;:&quot;site header&quot;,&quot;repository_id&quot;:null,&quot;auth_type&quot;:&quot;SIGN_UP&quot;,&quot;originating_url&quot;:&quot;https://github.com/saivuttunoori/Coursera-Data-Science/blob/main/SpaceX%20Machine%20Learning%20Prediction.ipynb&quot;,&quot;user_id&quot;:null}}" data-hydro-click-hmac="02a07226ce493b116a574ff98c43be79e2c9c31f748f28d1b2e277b7865be170"
          >
            Sign&nbsp;up
          </a>
        </div>

      <div class="flex-1 flex-order-2 text-right">
          <button aria-label="Toggle navigation" aria-expanded="false" type="button" data-view-component="true" class="js-details-target Button--link Button--medium Button d-lg-none color-fg-inherit p-1">    <span class="Button-content">
      <span class="Button-label"><div class="HeaderMenu-toggle-bar rounded my-1"></div>
            <div class="HeaderMenu-toggle-bar rounded my-1"></div>
            <div class="HeaderMenu-toggle-bar rounded my-1"></div></span>
    </span>
</button>  
      </div>
    </div>


    <div class="HeaderMenu--logged-out p-responsive height-fit position-lg-relative d-lg-flex flex-column flex-auto pt-7 pb-4 top-0">
      <div class="header-menu-wrapper d-flex flex-column flex-self-end flex-lg-row flex-justify-between flex-auto p-3 p-lg-0 rounded rounded-lg-0 mt-3 mt-lg-0">
          <nav class="mt-0 px-3 px-lg-0 mb-3 mb-lg-0" aria-label="Global">
            <ul class="d-lg-flex list-style-none">
                <li class="HeaderMenu-item position-relative flex-wrap flex-justify-between flex-items-center d-block d-lg-flex flex-lg-nowrap flex-lg-items-center js-details-container js-header-menu-item">
      <button type="button" class="HeaderMenu-link border-0 width-full width-lg-auto px-0 px-lg-2 py-3 py-lg-2 no-wrap d-flex flex-items-center flex-justify-between js-details-target" aria-expanded="false">
        Product
        <svg opacity="0.5" aria-hidden="true" height="16" viewBox="0 0 16 16" version="1.1" width="16" data-view-component="true" class="octicon octicon-chevron-down HeaderMenu-icon ml-1">
    <path d="M12.78 5.22a.749.749 0 0 1 0 1.06l-4.25 4.25a.749.749 0 0 1-1.06 0L3.22 6.28a.749.749 0 1 1 1.06-1.06L8 8.939l3.72-3.719a.749.749 0 0 1 1.06 0Z"></path>
</svg>
      </button>
      <div class="HeaderMenu-dropdown dropdown-menu rounded m-0 p-0 py-2 py-lg-4 position-relative position-lg-absolute left-0 left-lg-n3 d-lg-flex dropdown-menu-wide">
          <div class="px-lg-4 border-lg-right mb-4 mb-lg-0 pr-lg-7">
            <ul class="list-style-none f5" >
                <li>
  <a class="HeaderMenu-dropdown-link lh-condensed d-block no-underline position-relative py-2 Link--secondary d-flex flex-items-center pb-lg-3" data-analytics-event="{&quot;category&quot;:&quot;Header dropdown (logged out), Product&quot;,&quot;action&quot;:&quot;click to go to Actions&quot;,&quot;label&quot;:&quot;ref_cta:Actions;&quot;}" href="/features/actions">
      <svg aria-hidden="true" height="24" viewBox="0 0 24 24" version="1.1" width="24" data-view-component="true" class="octicon octicon-workflow color-fg-subtle mr-3">
    <path d="M1 3a2 2 0 0 1 2-2h6.5a2 2 0 0 1 2 2v6.5a2 2 0 0 1-2 2H7v4.063C7 16.355 7.644 17 8.438 17H12.5v-2.5a2 2 0 0 1 2-2H21a2 2 0 0 1 2 2V21a2 2 0 0 1-2 2h-6.5a2 2 0 0 1-2-2v-2.5H8.437A2.939 2.939 0 0 1 5.5 15.562V11.5H3a2 2 0 0 1-2-2Zm2-.5a.5.5 0 0 0-.5.5v6.5a.5.5 0 0 0 .5.5h6.5a.5.5 0 0 0 .5-.5V3a.5.5 0 0 0-.5-.5ZM14.5 14a.5.5 0 0 0-.5.5V21a.5.5 0 0 0 .5.5H21a.5.5 0 0 0 .5-.5v-6.5a.5.5 0 0 0-.5-.5Z"></path>
</svg>
      <div>
        <div class="color-fg-default h4">Actions</div>
        Automate any workflow
      </div>

    
</a></li>

                <li>
  <a class="HeaderMenu-dropdown-link lh-condensed d-block no-underline position-relative py-2 Link--secondary d-flex flex-items-center pb-lg-3" data-analytics-event="{&quot;category&quot;:&quot;Header dropdown (logged out), Product&quot;,&quot;action&quot;:&quot;click to go to Packages&quot;,&quot;label&quot;:&quot;ref_cta:Packages;&quot;}" href="/features/packages">
      <svg aria-hidden="true" height="24" viewBox="0 0 24 24" version="1.1" width="24" data-view-component="true" class="octicon octicon-package color-fg-subtle mr-3">
    <path d="M12.876.64V.639l8.25 4.763c.541.313.875.89.875 1.515v9.525a1.75 1.75 0 0 1-.875 1.516l-8.25 4.762a1.748 1.748 0 0 1-1.75 0l-8.25-4.763a1.75 1.75 0 0 1-.875-1.515V6.917c0-.625.334-1.202.875-1.515L11.126.64a1.748 1.748 0 0 1 1.75 0Zm-1 1.298L4.251 6.34l7.75 4.474 7.75-4.474-7.625-4.402a.248.248 0 0 0-.25 0Zm.875 19.123 7.625-4.402a.25.25 0 0 0 .125-.216V7.639l-7.75 4.474ZM3.501 7.64v8.803c0 .09.048.172.125.216l7.625 4.402v-8.947Z"></path>
</svg>
      <div>
        <div class="color-fg-default h4">Packages</div>
        Host and manage packages
      </div>

    
</a></li>

                <li>
  <a class="HeaderMenu-dropdown-link lh-condensed d-block no-underline position-relative py-2 Link--secondary d-flex flex-items-center pb-lg-3" data-analytics-event="{&quot;category&quot;:&quot;Header dropdown (logged out), Product&quot;,&quot;action&quot;:&quot;click to go to Security&quot;,&quot;label&quot;:&quot;ref_cta:Security;&quot;}" href="/features/security">
      <svg aria-hidden="true" height="24" viewBox="0 0 24 24" version="1.1" width="24" data-view-component="true" class="octicon octicon-shield-check color-fg-subtle mr-3">
    <path d="M16.53 9.78a.75.75 0 0 0-1.06-1.06L11 13.19l-1.97-1.97a.75.75 0 0 0-1.06 1.06l2.5 2.5a.75.75 0 0 0 1.06 0l5-5Z"></path><path d="m12.54.637 8.25 2.675A1.75 1.75 0 0 1 22 4.976V10c0 6.19-3.771 10.704-9.401 12.83a1.704 1.704 0 0 1-1.198 0C5.77 20.705 2 16.19 2 10V4.976c0-.758.489-1.43 1.21-1.664L11.46.637a1.748 1.748 0 0 1 1.08 0Zm-.617 1.426-8.25 2.676a.249.249 0 0 0-.173.237V10c0 5.46 3.28 9.483 8.43 11.426a.199.199 0 0 0 .14 0C17.22 19.483 20.5 15.461 20.5 10V4.976a.25.25 0 0 0-.173-.237l-8.25-2.676a.253.253 0 0 0-.154 0Z"></path>
</svg>
      <div>
        <div class="color-fg-default h4">Security</div>
        Find and fix vulnerabilities
      </div>

    
</a></li>

                <li>
  <a class="HeaderMenu-dropdown-link lh-condensed d-block no-underline position-relative py-2 Link--secondary d-flex flex-items-center pb-lg-3" data-analytics-event="{&quot;category&quot;:&quot;Header dropdown (logged out), Product&quot;,&quot;action&quot;:&quot;click to go to Codespaces&quot;,&quot;label&quot;:&quot;ref_cta:Codespaces;&quot;}" href="/features/codespaces">
      <svg aria-hidden="true" height="24" viewBox="0 0 24 24" version="1.1" width="24" data-view-component="true" class="octicon octicon-codespaces color-fg-subtle mr-3">
    <path d="M3.5 3.75C3.5 2.784 4.284 2 5.25 2h13.5c.966 0 1.75.784 1.75 1.75v7.5A1.75 1.75 0 0 1 18.75 13H5.25a1.75 1.75 0 0 1-1.75-1.75Zm-2 12c0-.966.784-1.75 1.75-1.75h17.5c.966 0 1.75.784 1.75 1.75v4a1.75 1.75 0 0 1-1.75 1.75H3.25a1.75 1.75 0 0 1-1.75-1.75ZM5.25 3.5a.25.25 0 0 0-.25.25v7.5c0 .138.112.25.25.25h13.5a.25.25 0 0 0 .25-.25v-7.5a.25.25 0 0 0-.25-.25Zm-2 12a.25.25 0 0 0-.25.25v4c0 .138.112.25.25.25h17.5a.25.25 0 0 0 .25-.25v-4a.25.25 0 0 0-.25-.25Z"></path><path d="M10 17.75a.75.75 0 0 1 .75-.75h6.5a.75.75 0 0 1 0 1.5h-6.5a.75.75 0 0 1-.75-.75Zm-4 0a.75.75 0 0 1 .75-.75h.5a.75.75 0 0 1 0 1.5h-.5a.75.75 0 0 1-.75-.75Z"></path>
</svg>
      <div>
        <div class="color-fg-default h4">Codespaces</div>
        Instant dev environments
      </div>

    
</a></li>

                <li>
  <a class="HeaderMenu-dropdown-link lh-condensed d-block no-underline position-relative py-2 Link--secondary d-flex flex-items-center pb-lg-3" data-analytics-event="{&quot;category&quot;:&quot;Header dropdown (logged out), Product&quot;,&quot;action&quot;:&quot;click to go to Copilot&quot;,&quot;label&quot;:&quot;ref_cta:Copilot;&quot;}" href="/features/copilot">
      <svg aria-hidden="true" height="24" viewBox="0 0 24 24" version="1.1" width="24" data-view-component="true" class="octicon octicon-copilot color-fg-subtle mr-3">
    <path d="M23.922 16.992c-.861 1.495-5.859 5.023-11.922 5.023-6.063 0-11.061-3.528-11.922-5.023A.641.641 0 0 1 0 16.736v-2.869a.841.841 0 0 1 .053-.22c.372-.935 1.347-2.292 2.605-2.656.167-.429.414-1.055.644-1.517a10.195 10.195 0 0 1-.052-1.086c0-1.331.282-2.499 1.132-3.368.397-.406.89-.717 1.474-.952 1.399-1.136 3.392-2.093 6.122-2.093 2.731 0 4.767.957 6.166 2.093.584.235 1.077.546 1.474.952.85.869 1.132 2.037 1.132 3.368 0 .368-.014.733-.052 1.086.23.462.477 1.088.644 1.517 1.258.364 2.233 1.721 2.605 2.656a.832.832 0 0 1 .053.22v2.869a.641.641 0 0 1-.078.256ZM12.172 11h-.344a4.323 4.323 0 0 1-.355.508C10.703 12.455 9.555 13 7.965 13c-1.725 0-2.989-.359-3.782-1.259a2.005 2.005 0 0 1-.085-.104L4 11.741v6.585c1.435.779 4.514 2.179 8 2.179 3.486 0 6.565-1.4 8-2.179v-6.585l-.098-.104s-.033.045-.085.104c-.793.9-2.057 1.259-3.782 1.259-1.59 0-2.738-.545-3.508-1.492a4.323 4.323 0 0 1-.355-.508h-.016.016Zm.641-2.935c.136 1.057.403 1.913.878 2.497.442.544 1.134.938 2.344.938 1.573 0 2.292-.337 2.657-.751.384-.435.558-1.15.558-2.361 0-1.14-.243-1.847-.705-2.319-.477-.488-1.319-.862-2.824-1.025-1.487-.161-2.192.138-2.533.529-.269.307-.437.808-.438 1.578v.021c0 .265.021.562.063.893Zm-1.626 0c.042-.331.063-.628.063-.894v-.02c-.001-.77-.169-1.271-.438-1.578-.341-.391-1.046-.69-2.533-.529-1.505.163-2.347.537-2.824 1.025-.462.472-.705 1.179-.705 2.319 0 1.211.175 1.926.558 2.361.365.414 1.084.751 2.657.751 1.21 0 1.902-.394 2.344-.938.475-.584.742-1.44.878-2.497Z"></path><path d="M14.5 14.25a1 1 0 0 1 1 1v2a1 1 0 0 1-2 0v-2a1 1 0 0 1 1-1Zm-5 0a1 1 0 0 1 1 1v2a1 1 0 0 1-2 0v-2a1 1 0 0 1 1-1Z"></path>
</svg>
      <div>
        <div class="color-fg-default h4">Copilot</div>
        Write better code with AI
      </div>

    
</a></li>

                <li>
  <a class="HeaderMenu-dropdown-link lh-condensed d-block no-underline position-relative py-2 Link--secondary d-flex flex-items-center pb-lg-3" data-analytics-event="{&quot;category&quot;:&quot;Header dropdown (logged out), Product&quot;,&quot;action&quot;:&quot;click to go to Code review&quot;,&quot;label&quot;:&quot;ref_cta:Code review;&quot;}" href="/features/code-review">
      <svg aria-hidden="true" height="24" viewBox="0 0 24 24" version="1.1" width="24" data-view-component="true" class="octicon octicon-code-review color-fg-subtle mr-3">
    <path d="M10.3 6.74a.75.75 0 0 1-.04 1.06l-2.908 2.7 2.908 2.7a.75.75 0 1 1-1.02 1.1l-3.5-3.25a.75.75 0 0 1 0-1.1l3.5-3.25a.75.75 0 0 1 1.06.04Zm3.44 1.06a.75.75 0 1 1 1.02-1.1l3.5 3.25a.75.75 0 0 1 0 1.1l-3.5 3.25a.75.75 0 1 1-1.02-1.1l2.908-2.7-2.908-2.7Z"></path><path d="M1.5 4.25c0-.966.784-1.75 1.75-1.75h17.5c.966 0 1.75.784 1.75 1.75v12.5a1.75 1.75 0 0 1-1.75 1.75h-9.69l-3.573 3.573A1.458 1.458 0 0 1 5 21.043V18.5H3.25a1.75 1.75 0 0 1-1.75-1.75ZM3.25 4a.25.25 0 0 0-.25.25v12.5c0 .138.112.25.25.25h2.5a.75.75 0 0 1 .75.75v3.19l3.72-3.72a.749.749 0 0 1 .53-.22h10a.25.25 0 0 0 .25-.25V4.25a.25.25 0 0 0-.25-.25Z"></path>
</svg>
      <div>
        <div class="color-fg-default h4">Code review</div>
        Manage code changes
      </div>

    
</a></li>

                <li>
  <a class="HeaderMenu-dropdown-link lh-condensed d-block no-underline position-relative py-2 Link--secondary d-flex flex-items-center pb-lg-3" data-analytics-event="{&quot;category&quot;:&quot;Header dropdown (logged out), Product&quot;,&quot;action&quot;:&quot;click to go to Issues&quot;,&quot;label&quot;:&quot;ref_cta:Issues;&quot;}" href="/features/issues">
      <svg aria-hidden="true" height="24" viewBox="0 0 24 24" version="1.1" width="24" data-view-component="true" class="octicon octicon-issue-opened color-fg-subtle mr-3">
    <path d="M12 1c6.075 0 11 4.925 11 11s-4.925 11-11 11S1 18.075 1 12 5.925 1 12 1ZM2.5 12a9.5 9.5 0 0 0 9.5 9.5 9.5 9.5 0 0 0 9.5-9.5A9.5 9.5 0 0 0 12 2.5 9.5 9.5 0 0 0 2.5 12Zm9.5 2a2 2 0 1 1-.001-3.999A2 2 0 0 1 12 14Z"></path>
</svg>
      <div>
        <div class="color-fg-default h4">Issues</div>
        Plan and track work
      </div>

    
</a></li>

                <li>
  <a class="HeaderMenu-dropdown-link lh-condensed d-block no-underline position-relative py-2 Link--secondary d-flex flex-items-center" data-analytics-event="{&quot;category&quot;:&quot;Header dropdown (logged out), Product&quot;,&quot;action&quot;:&quot;click to go to Discussions&quot;,&quot;label&quot;:&quot;ref_cta:Discussions;&quot;}" href="/features/discussions">
      <svg aria-hidden="true" height="24" viewBox="0 0 24 24" version="1.1" width="24" data-view-component="true" class="octicon octicon-comment-discussion color-fg-subtle mr-3">
    <path d="M1.75 1h12.5c.966 0 1.75.784 1.75 1.75v9.5A1.75 1.75 0 0 1 14.25 14H8.061l-2.574 2.573A1.458 1.458 0 0 1 3 15.543V14H1.75A1.75 1.75 0 0 1 0 12.25v-9.5C0 1.784.784 1 1.75 1ZM1.5 2.75v9.5c0 .138.112.25.25.25h2a.75.75 0 0 1 .75.75v2.19l2.72-2.72a.749.749 0 0 1 .53-.22h6.5a.25.25 0 0 0 .25-.25v-9.5a.25.25 0 0 0-.25-.25H1.75a.25.25 0 0 0-.25.25Z"></path><path d="M22.5 8.75a.25.25 0 0 0-.25-.25h-3.5a.75.75 0 0 1 0-1.5h3.5c.966 0 1.75.784 1.75 1.75v9.5A1.75 1.75 0 0 1 22.25 20H21v1.543a1.457 1.457 0 0 1-2.487 1.03L15.939 20H10.75A1.75 1.75 0 0 1 9 18.25v-1.465a.75.75 0 0 1 1.5 0v1.465c0 .138.112.25.25.25h5.5a.75.75 0 0 1 .53.22l2.72 2.72v-2.19a.75.75 0 0 1 .75-.75h2a.25.25 0 0 0 .25-.25v-9.5Z"></path>
</svg>
      <div>
        <div class="color-fg-default h4">Discussions</div>
        Collaborate outside of code
      </div>

    
</a></li>

            </ul>
          </div>
          <div class="px-lg-4">
              <span class="d-block h4 color-fg-default my-1" id="product-explore-heading">Explore</span>
            <ul class="list-style-none f5" aria-labelledby="product-explore-heading">
                <li>
  <a class="HeaderMenu-dropdown-link lh-condensed d-block no-underline position-relative py-2 Link--secondary" data-analytics-event="{&quot;category&quot;:&quot;Header dropdown (logged out), Product&quot;,&quot;action&quot;:&quot;click to go to All features&quot;,&quot;label&quot;:&quot;ref_cta:All features;&quot;}" href="/features">
      All features

    
</a></li>

                <li>
  <a class="HeaderMenu-dropdown-link lh-condensed d-block no-underline position-relative py-2 Link--secondary" target="_blank" data-analytics-event="{&quot;category&quot;:&quot;Header dropdown (logged out), Product&quot;,&quot;action&quot;:&quot;click to go to Documentation&quot;,&quot;label&quot;:&quot;ref_cta:Documentation;&quot;}" href="https://docs.github.com">
      Documentation

    <svg aria-hidden="true" height="16" viewBox="0 0 16 16" version="1.1" width="16" data-view-component="true" class="octicon octicon-link-external HeaderMenu-external-icon color-fg-subtle">
    <path d="M3.75 2h3.5a.75.75 0 0 1 0 1.5h-3.5a.25.25 0 0 0-.25.25v8.5c0 .138.112.25.25.25h8.5a.25.25 0 0 0 .25-.25v-3.5a.75.75 0 0 1 1.5 0v3.5A1.75 1.75 0 0 1 12.25 14h-8.5A1.75 1.75 0 0 1 2 12.25v-8.5C2 2.784 2.784 2 3.75 2Zm6.854-1h4.146a.25.25 0 0 1 .25.25v4.146a.25.25 0 0 1-.427.177L13.03 4.03 9.28 7.78a.751.751 0 0 1-1.042-.018.751.751 0 0 1-.018-1.042l3.75-3.75-1.543-1.543A.25.25 0 0 1 10.604 1Z"></path>
</svg>
</a></li>

                <li>
  <a class="HeaderMenu-dropdown-link lh-condensed d-block no-underline position-relative py-2 Link--secondary" target="_blank" data-analytics-event="{&quot;category&quot;:&quot;Header dropdown (logged out), Product&quot;,&quot;action&quot;:&quot;click to go to GitHub Skills&quot;,&quot;label&quot;:&quot;ref_cta:GitHub Skills;&quot;}" href="https://skills.github.com/">
      GitHub Skills

    <svg aria-hidden="true" height="16" viewBox="0 0 16 16" version="1.1" width="16" data-view-component="true" class="octicon octicon-link-external HeaderMenu-external-icon color-fg-subtle">
    <path d="M3.75 2h3.5a.75.75 0 0 1 0 1.5h-3.5a.25.25 0 0 0-.25.25v8.5c0 .138.112.25.25.25h8.5a.25.25 0 0 0 .25-.25v-3.5a.75.75 0 0 1 1.5 0v3.5A1.75 1.75 0 0 1 12.25 14h-8.5A1.75 1.75 0 0 1 2 12.25v-8.5C2 2.784 2.784 2 3.75 2Zm6.854-1h4.146a.25.25 0 0 1 .25.25v4.146a.25.25 0 0 1-.427.177L13.03 4.03 9.28 7.78a.751.751 0 0 1-1.042-.018.751.751 0 0 1-.018-1.042l3.75-3.75-1.543-1.543A.25.25 0 0 1 10.604 1Z"></path>
</svg>
</a></li>

                <li>
  <a class="HeaderMenu-dropdown-link lh-condensed d-block no-underline position-relative py-2 Link--secondary" target="_blank" data-analytics-event="{&quot;category&quot;:&quot;Header dropdown (logged out), Product&quot;,&quot;action&quot;:&quot;click to go to Blog&quot;,&quot;label&quot;:&quot;ref_cta:Blog;&quot;}" href="https://github.blog">
      Blog

    <svg aria-hidden="true" height="16" viewBox="0 0 16 16" version="1.1" width="16" data-view-component="true" class="octicon octicon-link-external HeaderMenu-external-icon color-fg-subtle">
    <path d="M3.75 2h3.5a.75.75 0 0 1 0 1.5h-3.5a.25.25 0 0 0-.25.25v8.5c0 .138.112.25.25.25h8.5a.25.25 0 0 0 .25-.25v-3.5a.75.75 0 0 1 1.5 0v3.5A1.75 1.75 0 0 1 12.25 14h-8.5A1.75 1.75 0 0 1 2 12.25v-8.5C2 2.784 2.784 2 3.75 2Zm6.854-1h4.146a.25.25 0 0 1 .25.25v4.146a.25.25 0 0 1-.427.177L13.03 4.03 9.28 7.78a.751.751 0 0 1-1.042-.018.751.751 0 0 1-.018-1.042l3.75-3.75-1.543-1.543A.25.25 0 0 1 10.604 1Z"></path>
</svg>
</a></li>

            </ul>
          </div>
      </div>
</li>


                <li class="HeaderMenu-item position-relative flex-wrap flex-justify-between flex-items-center d-block d-lg-flex flex-lg-nowrap flex-lg-items-center js-details-container js-header-menu-item">
      <button type="button" class="HeaderMenu-link border-0 width-full width-lg-auto px-0 px-lg-2 py-3 py-lg-2 no-wrap d-flex flex-items-center flex-justify-between js-details-target" aria-expanded="false">
        Solutions
        <svg opacity="0.5" aria-hidden="true" height="16" viewBox="0 0 16 16" version="1.1" width="16" data-view-component="true" class="octicon octicon-chevron-down HeaderMenu-icon ml-1">
    <path d="M12.78 5.22a.749.749 0 0 1 0 1.06l-4.25 4.25a.749.749 0 0 1-1.06 0L3.22 6.28a.749.749 0 1 1 1.06-1.06L8 8.939l3.72-3.719a.749.749 0 0 1 1.06 0Z"></path>
</svg>
      </button>
      <div class="HeaderMenu-dropdown dropdown-menu rounded m-0 p-0 py-2 py-lg-4 position-relative position-lg-absolute left-0 left-lg-n3 px-lg-4">
          <div class="border-bottom pb-3 mb-3">
              <span class="d-block h4 color-fg-default my-1" id="solutions-for-heading">For</span>
            <ul class="list-style-none f5" aria-labelledby="solutions-for-heading">
                <li>
  <a class="HeaderMenu-dropdown-link lh-condensed d-block no-underline position-relative py-2 Link--secondary" data-analytics-event="{&quot;category&quot;:&quot;Header dropdown (logged out), Solutions&quot;,&quot;action&quot;:&quot;click to go to Enterprise&quot;,&quot;label&quot;:&quot;ref_cta:Enterprise;&quot;}" href="/enterprise">
      Enterprise

    
</a></li>

                <li>
  <a class="HeaderMenu-dropdown-link lh-condensed d-block no-underline position-relative py-2 Link--secondary" data-analytics-event="{&quot;category&quot;:&quot;Header dropdown (logged out), Solutions&quot;,&quot;action&quot;:&quot;click to go to Teams&quot;,&quot;label&quot;:&quot;ref_cta:Teams;&quot;}" href="/team">
      Teams

    
</a></li>

                <li>
  <a class="HeaderMenu-dropdown-link lh-condensed d-block no-underline position-relative py-2 Link--secondary" data-analytics-event="{&quot;category&quot;:&quot;Header dropdown (logged out), Solutions&quot;,&quot;action&quot;:&quot;click to go to Startups&quot;,&quot;label&quot;:&quot;ref_cta:Startups;&quot;}" href="/enterprise/startups">
      Startups

    
</a></li>

                <li>
  <a class="HeaderMenu-dropdown-link lh-condensed d-block no-underline position-relative py-2 Link--secondary" target="_blank" data-analytics-event="{&quot;category&quot;:&quot;Header dropdown (logged out), Solutions&quot;,&quot;action&quot;:&quot;click to go to Education&quot;,&quot;label&quot;:&quot;ref_cta:Education;&quot;}" href="https://education.github.com">
      Education

    <svg aria-hidden="true" height="16" viewBox="0 0 16 16" version="1.1" width="16" data-view-component="true" class="octicon octicon-link-external HeaderMenu-external-icon color-fg-subtle">
    <path d="M3.75 2h3.5a.75.75 0 0 1 0 1.5h-3.5a.25.25 0 0 0-.25.25v8.5c0 .138.112.25.25.25h8.5a.25.25 0 0 0 .25-.25v-3.5a.75.75 0 0 1 1.5 0v3.5A1.75 1.75 0 0 1 12.25 14h-8.5A1.75 1.75 0 0 1 2 12.25v-8.5C2 2.784 2.784 2 3.75 2Zm6.854-1h4.146a.25.25 0 0 1 .25.25v4.146a.25.25 0 0 1-.427.177L13.03 4.03 9.28 7.78a.751.751 0 0 1-1.042-.018.751.751 0 0 1-.018-1.042l3.75-3.75-1.543-1.543A.25.25 0 0 1 10.604 1Z"></path>
</svg>
</a></li>

            </ul>
          </div>
          <div class="border-bottom pb-3 mb-3">
              <span class="d-block h4 color-fg-default my-1" id="solutions-by-solution-heading">By Solution</span>
            <ul class="list-style-none f5" aria-labelledby="solutions-by-solution-heading">
                <li>
  <a class="HeaderMenu-dropdown-link lh-condensed d-block no-underline position-relative py-2 Link--secondary" data-analytics-event="{&quot;category&quot;:&quot;Header dropdown (logged out), Solutions&quot;,&quot;action&quot;:&quot;click to go to CI/CD &amp;amp; Automation&quot;,&quot;label&quot;:&quot;ref_cta:CI/CD &amp;amp; Automation;&quot;}" href="/solutions/ci-cd/">
      CI/CD &amp; Automation

    
</a></li>

                <li>
  <a class="HeaderMenu-dropdown-link lh-condensed d-block no-underline position-relative py-2 Link--secondary" target="_blank" data-analytics-event="{&quot;category&quot;:&quot;Header dropdown (logged out), Solutions&quot;,&quot;action&quot;:&quot;click to go to DevOps&quot;,&quot;label&quot;:&quot;ref_cta:DevOps;&quot;}" href="https://resources.github.com/devops/">
      DevOps

    <svg aria-hidden="true" height="16" viewBox="0 0 16 16" version="1.1" width="16" data-view-component="true" class="octicon octicon-link-external HeaderMenu-external-icon color-fg-subtle">
    <path d="M3.75 2h3.5a.75.75 0 0 1 0 1.5h-3.5a.25.25 0 0 0-.25.25v8.5c0 .138.112.25.25.25h8.5a.25.25 0 0 0 .25-.25v-3.5a.75.75 0 0 1 1.5 0v3.5A1.75 1.75 0 0 1 12.25 14h-8.5A1.75 1.75 0 0 1 2 12.25v-8.5C2 2.784 2.784 2 3.75 2Zm6.854-1h4.146a.25.25 0 0 1 .25.25v4.146a.25.25 0 0 1-.427.177L13.03 4.03 9.28 7.78a.751.751 0 0 1-1.042-.018.751.751 0 0 1-.018-1.042l3.75-3.75-1.543-1.543A.25.25 0 0 1 10.604 1Z"></path>
</svg>
</a></li>

                <li>
  <a class="HeaderMenu-dropdown-link lh-condensed d-block no-underline position-relative py-2 Link--secondary" target="_blank" data-analytics-event="{&quot;category&quot;:&quot;Header dropdown (logged out), Solutions&quot;,&quot;action&quot;:&quot;click to go to DevSecOps&quot;,&quot;label&quot;:&quot;ref_cta:DevSecOps;&quot;}" href="https://resources.github.com/devops/fundamentals/devsecops/">
      DevSecOps

    <svg aria-hidden="true" height="16" viewBox="0 0 16 16" version="1.1" width="16" data-view-component="true" class="octicon octicon-link-external HeaderMenu-external-icon color-fg-subtle">
    <path d="M3.75 2h3.5a.75.75 0 0 1 0 1.5h-3.5a.25.25 0 0 0-.25.25v8.5c0 .138.112.25.25.25h8.5a.25.25 0 0 0 .25-.25v-3.5a.75.75 0 0 1 1.5 0v3.5A1.75 1.75 0 0 1 12.25 14h-8.5A1.75 1.75 0 0 1 2 12.25v-8.5C2 2.784 2.784 2 3.75 2Zm6.854-1h4.146a.25.25 0 0 1 .25.25v4.146a.25.25 0 0 1-.427.177L13.03 4.03 9.28 7.78a.751.751 0 0 1-1.042-.018.751.751 0 0 1-.018-1.042l3.75-3.75-1.543-1.543A.25.25 0 0 1 10.604 1Z"></path>
</svg>
</a></li>

            </ul>
          </div>
          <div class="">
              <span class="d-block h4 color-fg-default my-1" id="solutions-resources-heading">Resources</span>
            <ul class="list-style-none f5" aria-labelledby="solutions-resources-heading">
                <li>
  <a class="HeaderMenu-dropdown-link lh-condensed d-block no-underline position-relative py-2 Link--secondary" target="_blank" data-analytics-event="{&quot;category&quot;:&quot;Header dropdown (logged out), Solutions&quot;,&quot;action&quot;:&quot;click to go to Learning Pathways&quot;,&quot;label&quot;:&quot;ref_cta:Learning Pathways;&quot;}" href="https://resources.github.com/learn/pathways/">
      Learning Pathways

    <svg aria-hidden="true" height="16" viewBox="0 0 16 16" version="1.1" width="16" data-view-component="true" class="octicon octicon-link-external HeaderMenu-external-icon color-fg-subtle">
    <path d="M3.75 2h3.5a.75.75 0 0 1 0 1.5h-3.5a.25.25 0 0 0-.25.25v8.5c0 .138.112.25.25.25h8.5a.25.25 0 0 0 .25-.25v-3.5a.75.75 0 0 1 1.5 0v3.5A1.75 1.75 0 0 1 12.25 14h-8.5A1.75 1.75 0 0 1 2 12.25v-8.5C2 2.784 2.784 2 3.75 2Zm6.854-1h4.146a.25.25 0 0 1 .25.25v4.146a.25.25 0 0 1-.427.177L13.03 4.03 9.28 7.78a.751.751 0 0 1-1.042-.018.751.751 0 0 1-.018-1.042l3.75-3.75-1.543-1.543A.25.25 0 0 1 10.604 1Z"></path>
</svg>
</a></li>

                <li>
  <a class="HeaderMenu-dropdown-link lh-condensed d-block no-underline position-relative py-2 Link--secondary" target="_blank" data-analytics-event="{&quot;category&quot;:&quot;Header dropdown (logged out), Solutions&quot;,&quot;action&quot;:&quot;click to go to White papers, Ebooks, Webinars&quot;,&quot;label&quot;:&quot;ref_cta:White papers, Ebooks, Webinars;&quot;}" href="https://resources.github.com/">
      White papers, Ebooks, Webinars

    <svg aria-hidden="true" height="16" viewBox="0 0 16 16" version="1.1" width="16" data-view-component="true" class="octicon octicon-link-external HeaderMenu-external-icon color-fg-subtle">
    <path d="M3.75 2h3.5a.75.75 0 0 1 0 1.5h-3.5a.25.25 0 0 0-.25.25v8.5c0 .138.112.25.25.25h8.5a.25.25 0 0 0 .25-.25v-3.5a.75.75 0 0 1 1.5 0v3.5A1.75 1.75 0 0 1 12.25 14h-8.5A1.75 1.75 0 0 1 2 12.25v-8.5C2 2.784 2.784 2 3.75 2Zm6.854-1h4.146a.25.25 0 0 1 .25.25v4.146a.25.25 0 0 1-.427.177L13.03 4.03 9.28 7.78a.751.751 0 0 1-1.042-.018.751.751 0 0 1-.018-1.042l3.75-3.75-1.543-1.543A.25.25 0 0 1 10.604 1Z"></path>
</svg>
</a></li>

                <li>
  <a class="HeaderMenu-dropdown-link lh-condensed d-block no-underline position-relative py-2 Link--secondary" data-analytics-event="{&quot;category&quot;:&quot;Header dropdown (logged out), Solutions&quot;,&quot;action&quot;:&quot;click to go to Customer Stories&quot;,&quot;label&quot;:&quot;ref_cta:Customer Stories;&quot;}" href="/customer-stories">
      Customer Stories

    
</a></li>

                <li>
  <a class="HeaderMenu-dropdown-link lh-condensed d-block no-underline position-relative py-2 Link--secondary" target="_blank" data-analytics-event="{&quot;category&quot;:&quot;Header dropdown (logged out), Solutions&quot;,&quot;action&quot;:&quot;click to go to Partners&quot;,&quot;label&quot;:&quot;ref_cta:Partners;&quot;}" href="https://partner.github.com/">
      Partners

    <svg aria-hidden="true" height="16" viewBox="0 0 16 16" version="1.1" width="16" data-view-component="true" class="octicon octicon-link-external HeaderMenu-external-icon color-fg-subtle">
    <path d="M3.75 2h3.5a.75.75 0 0 1 0 1.5h-3.5a.25.25 0 0 0-.25.25v8.5c0 .138.112.25.25.25h8.5a.25.25 0 0 0 .25-.25v-3.5a.75.75 0 0 1 1.5 0v3.5A1.75 1.75 0 0 1 12.25 14h-8.5A1.75 1.75 0 0 1 2 12.25v-8.5C2 2.784 2.784 2 3.75 2Zm6.854-1h4.146a.25.25 0 0 1 .25.25v4.146a.25.25 0 0 1-.427.177L13.03 4.03 9.28 7.78a.751.751 0 0 1-1.042-.018.751.751 0 0 1-.018-1.042l3.75-3.75-1.543-1.543A.25.25 0 0 1 10.604 1Z"></path>
</svg>
</a></li>

            </ul>
          </div>
      </div>
</li>


                <li class="HeaderMenu-item position-relative flex-wrap flex-justify-between flex-items-center d-block d-lg-flex flex-lg-nowrap flex-lg-items-center js-details-container js-header-menu-item">
      <button type="button" class="HeaderMenu-link border-0 width-full width-lg-auto px-0 px-lg-2 py-3 py-lg-2 no-wrap d-flex flex-items-center flex-justify-between js-details-target" aria-expanded="false">
        Open Source
        <svg opacity="0.5" aria-hidden="true" height="16" viewBox="0 0 16 16" version="1.1" width="16" data-view-component="true" class="octicon octicon-chevron-down HeaderMenu-icon ml-1">
    <path d="M12.78 5.22a.749.749 0 0 1 0 1.06l-4.25 4.25a.749.749 0 0 1-1.06 0L3.22 6.28a.749.749 0 1 1 1.06-1.06L8 8.939l3.72-3.719a.749.749 0 0 1 1.06 0Z"></path>
</svg>
      </button>
      <div class="HeaderMenu-dropdown dropdown-menu rounded m-0 p-0 py-2 py-lg-4 position-relative position-lg-absolute left-0 left-lg-n3 px-lg-4">
          <div class="border-bottom pb-3 mb-3">
            <ul class="list-style-none f5" >
                <li>
  <a class="HeaderMenu-dropdown-link lh-condensed d-block no-underline position-relative py-2 Link--secondary d-flex flex-items-center" data-analytics-event="{&quot;category&quot;:&quot;Header dropdown (logged out), Open Source&quot;,&quot;action&quot;:&quot;click to go to GitHub Sponsors&quot;,&quot;label&quot;:&quot;ref_cta:GitHub Sponsors;&quot;}" href="/sponsors">
      
      <div>
        <div class="color-fg-default h4">GitHub Sponsors</div>
        Fund open source developers
      </div>

    
</a></li>

            </ul>
          </div>
          <div class="border-bottom pb-3 mb-3">
            <ul class="list-style-none f5" >
                <li>
  <a class="HeaderMenu-dropdown-link lh-condensed d-block no-underline position-relative py-2 Link--secondary d-flex flex-items-center" data-analytics-event="{&quot;category&quot;:&quot;Header dropdown (logged out), Open Source&quot;,&quot;action&quot;:&quot;click to go to The ReadME Project&quot;,&quot;label&quot;:&quot;ref_cta:The ReadME Project;&quot;}" href="/readme">
      
      <div>
        <div class="color-fg-default h4">The ReadME Project</div>
        GitHub community articles
      </div>

    
</a></li>

            </ul>
          </div>
          <div class="">
              <span class="d-block h4 color-fg-default my-1" id="open-source-repositories-heading">Repositories</span>
            <ul class="list-style-none f5" aria-labelledby="open-source-repositories-heading">
                <li>
  <a class="HeaderMenu-dropdown-link lh-condensed d-block no-underline position-relative py-2 Link--secondary" data-analytics-event="{&quot;category&quot;:&quot;Header dropdown (logged out), Open Source&quot;,&quot;action&quot;:&quot;click to go to Topics&quot;,&quot;label&quot;:&quot;ref_cta:Topics;&quot;}" href="/topics">
      Topics

    
</a></li>

                <li>
  <a class="HeaderMenu-dropdown-link lh-condensed d-block no-underline position-relative py-2 Link--secondary" data-analytics-event="{&quot;category&quot;:&quot;Header dropdown (logged out), Open Source&quot;,&quot;action&quot;:&quot;click to go to Trending&quot;,&quot;label&quot;:&quot;ref_cta:Trending;&quot;}" href="/trending">
      Trending

    
</a></li>

                <li>
  <a class="HeaderMenu-dropdown-link lh-condensed d-block no-underline position-relative py-2 Link--secondary" data-analytics-event="{&quot;category&quot;:&quot;Header dropdown (logged out), Open Source&quot;,&quot;action&quot;:&quot;click to go to Collections&quot;,&quot;label&quot;:&quot;ref_cta:Collections;&quot;}" href="/collections">
      Collections

    
</a></li>

            </ul>
          </div>
      </div>
</li>


                <li class="HeaderMenu-item position-relative flex-wrap flex-justify-between flex-items-center d-block d-lg-flex flex-lg-nowrap flex-lg-items-center js-details-container js-header-menu-item">
    <a class="HeaderMenu-link no-underline px-0 px-lg-2 py-3 py-lg-2 d-block d-lg-inline-block" data-analytics-event="{&quot;category&quot;:&quot;Header menu top item (logged out)&quot;,&quot;action&quot;:&quot;click to go to Pricing&quot;,&quot;label&quot;:&quot;ref_cta:Pricing;&quot;}" href="/pricing">Pricing</a>
</li>

            </ul>
          </nav>

        <div class="d-lg-flex flex-items-center mb-3 mb-lg-0 text-center text-lg-left ml-3" style="">
                


<qbsearch-input class="search-input" data-scope="repo:saivuttunoori/Coursera-Data-Science" data-custom-scopes-path="/search/custom_scopes" data-delete-custom-scopes-csrf="fU6VYLspd5x2uwCxrSA4Wrb7wSR7RUXrDD0NCmap78JlfSbT6CgtMXnNHDCxRCCYdYstzg8pyXVEn7MfKx3LXw" data-max-custom-scopes="10" data-header-redesign-enabled="false" data-initial-value="" data-blackbird-suggestions-path="/search/suggestions" data-jump-to-suggestions-path="/_graphql/GetSuggestedNavigationDestinations" data-current-repository="saivuttunoori/Coursera-Data-Science" data-current-org="" data-current-owner="saivuttunoori" data-logged-in="false">
  <div
    class="search-input-container search-with-dialog position-relative d-flex flex-row flex-items-center mr-4 rounded"
    data-action="click:qbsearch-input#searchInputContainerClicked"
  >
      <button
        type="button"
        class="header-search-button placeholder  input-button form-control d-flex flex-1 flex-self-stretch flex-items-center no-wrap width-full py-0 pl-2 pr-0 text-left border-0 box-shadow-none"
        data-target="qbsearch-input.inputButton"
        placeholder="Search or jump to..."
        data-hotkey=s,/
        autocapitalize="off"
        data-action="click:qbsearch-input#handleExpand"
      >
        <div class="mr-2 color-fg-muted">
          <svg aria-hidden="true" height="16" viewBox="0 0 16 16" version="1.1" width="16" data-view-component="true" class="octicon octicon-search">
    <path d="M10.68 11.74a6 6 0 0 1-7.922-8.982 6 6 0 0 1 8.982 7.922l3.04 3.04a.749.749 0 0 1-.326 1.275.749.749 0 0 1-.734-.215ZM11.5 7a4.499 4.499 0 1 0-8.997 0A4.499 4.499 0 0 0 11.5 7Z"></path>
</svg>
        </div>
        <span class="flex-1" data-target="qbsearch-input.inputButtonText">Search or jump to...</span>
          <div class="d-flex" data-target="qbsearch-input.hotkeyIndicator">
            <svg xmlns="http://www.w3.org/2000/svg" width="22" height="20" aria-hidden="true" class="mr-1"><path fill="none" stroke="#979A9C" opacity=".4" d="M3.5.5h12c1.7 0 3 1.3 3 3v13c0 1.7-1.3 3-3 3h-12c-1.7 0-3-1.3-3-3v-13c0-1.7 1.3-3 3-3z"></path><path fill="#979A9C" d="M11.8 6L8 15.1h-.9L10.8 6h1z"></path></svg>

          </div>
      </button>

    <input type="hidden" name="type" class="js-site-search-type-field">

    
<div class="Overlay--hidden " data-modal-dialog-overlay>
  <modal-dialog data-action="close:qbsearch-input#handleClose cancel:qbsearch-input#handleClose" data-target="qbsearch-input.searchSuggestionsDialog" role="dialog" id="search-suggestions-dialog" aria-modal="true" aria-labelledby="search-suggestions-dialog-header" data-view-component="true" class="Overlay Overlay--width-large Overlay--height-auto">
      <h1 id="search-suggestions-dialog-header" class="sr-only">Search code, repositories, users, issues, pull requests...</h1>
    <div class="Overlay-body Overlay-body--paddingNone">
      
          <div data-view-component="true">        <div class="search-suggestions position-fixed width-full color-shadow-large border color-fg-default color-bg-default overflow-hidden d-flex flex-column query-builder-container"
          style="border-radius: 12px;"
          data-target="qbsearch-input.queryBuilderContainer"
          hidden
        >
          <!-- '"` --><!-- </textarea></xmp> --></option></form><form id="query-builder-test-form" action="" accept-charset="UTF-8" method="get">
  <query-builder data-target="qbsearch-input.queryBuilder" id="query-builder-query-builder-test" data-filter-key=":" data-view-component="true" class="QueryBuilder search-query-builder">
    <div class="FormControl FormControl--fullWidth">
      <label id="query-builder-test-label" for="query-builder-test" class="FormControl-label sr-only">
        Search
      </label>
      <div
        class="QueryBuilder-StyledInput width-fit "
        data-target="query-builder.styledInput"
      >
          <span id="query-builder-test-leadingvisual-wrap" class="FormControl-input-leadingVisualWrap QueryBuilder-leadingVisualWrap">
            <svg aria-hidden="true" height="16" viewBox="0 0 16 16" version="1.1" width="16" data-view-component="true" class="octicon octicon-search FormControl-input-leadingVisual">
    <path d="M10.68 11.74a6 6 0 0 1-7.922-8.982 6 6 0 0 1 8.982 7.922l3.04 3.04a.749.749 0 0 1-.326 1.275.749.749 0 0 1-.734-.215ZM11.5 7a4.499 4.499 0 1 0-8.997 0A4.499 4.499 0 0 0 11.5 7Z"></path>
</svg>
          </span>
        <div data-target="query-builder.styledInputContainer" class="QueryBuilder-StyledInputContainer">
          <div
            aria-hidden="true"
            class="QueryBuilder-StyledInputContent"
            data-target="query-builder.styledInputContent"
          ></div>
          <div class="QueryBuilder-InputWrapper">
            <div aria-hidden="true" class="QueryBuilder-Sizer" data-target="query-builder.sizer"></div>
            <input id="query-builder-test" name="query-builder-test" value="" autocomplete="off" type="text" role="combobox" spellcheck="false" aria-expanded="false" aria-describedby="validation-41ec3421-6419-47d1-8083-d71b14e566c9" data-target="query-builder.input" data-action="
          input:query-builder#inputChange
          blur:query-builder#inputBlur
          keydown:query-builder#inputKeydown
          focus:query-builder#inputFocus
        " data-view-component="true" class="FormControl-input QueryBuilder-Input FormControl-medium" />
          </div>
        </div>
          <span class="sr-only" id="query-builder-test-clear">Clear</span>
          
  <button role="button" id="query-builder-test-clear-button" aria-labelledby="query-builder-test-clear query-builder-test-label" data-target="query-builder.clearButton" data-action="
                click:query-builder#clear
                focus:query-builder#clearButtonFocus
                blur:query-builder#clearButtonBlur
              " variant="small" hidden="hidden" type="button" data-view-component="true" class="Button Button--iconOnly Button--invisible Button--medium mr-1 px-2 py-0 d-flex flex-items-center rounded-1 color-fg-muted">    <svg aria-hidden="true" height="16" viewBox="0 0 16 16" version="1.1" width="16" data-view-component="true" class="octicon octicon-x-circle-fill Button-visual">
    <path d="M2.343 13.657A8 8 0 1 1 13.658 2.343 8 8 0 0 1 2.343 13.657ZM6.03 4.97a.751.751 0 0 0-1.042.018.751.751 0 0 0-.018 1.042L6.94 8 4.97 9.97a.749.749 0 0 0 .326 1.275.749.749 0 0 0 .734-.215L8 9.06l1.97 1.97a.749.749 0 0 0 1.275-.326.749.749 0 0 0-.215-.734L9.06 8l1.97-1.97a.749.749 0 0 0-.326-1.275.749.749 0 0 0-.734.215L8 6.94Z"></path>
</svg>
</button>  

      </div>
      <template id="search-icon">
  <svg aria-hidden="true" height="16" viewBox="0 0 16 16" version="1.1" width="16" data-view-component="true" class="octicon octicon-search">
    <path d="M10.68 11.74a6 6 0 0 1-7.922-8.982 6 6 0 0 1 8.982 7.922l3.04 3.04a.749.749 0 0 1-.326 1.275.749.749 0 0 1-.734-.215ZM11.5 7a4.499 4.499 0 1 0-8.997 0A4.499 4.499 0 0 0 11.5 7Z"></path>
</svg>
</template>

<template id="code-icon">
  <svg aria-hidden="true" height="16" viewBox="0 0 16 16" version="1.1" width="16" data-view-component="true" class="octicon octicon-code">
    <path d="m11.28 3.22 4.25 4.25a.75.75 0 0 1 0 1.06l-4.25 4.25a.749.749 0 0 1-1.275-.326.749.749 0 0 1 .215-.734L13.94 8l-3.72-3.72a.749.749 0 0 1 .326-1.275.749.749 0 0 1 .734.215Zm-6.56 0a.751.751 0 0 1 1.042.018.751.751 0 0 1 .018 1.042L2.06 8l3.72 3.72a.749.749 0 0 1-.326 1.275.749.749 0 0 1-.734-.215L.47 8.53a.75.75 0 0 1 0-1.06Z"></path>
</svg>
</template>

<template id="file-code-icon">
  <svg aria-hidden="true" height="16" viewBox="0 0 16 16" version="1.1" width="16" data-view-component="true" class="octicon octicon-file-code">
    <path d="M4 1.75C4 .784 4.784 0 5.75 0h5.586c.464 0 .909.184 1.237.513l2.914 2.914c.329.328.513.773.513 1.237v8.586A1.75 1.75 0 0 1 14.25 15h-9a.75.75 0 0 1 0-1.5h9a.25.25 0 0 0 .25-.25V6h-2.75A1.75 1.75 0 0 1 10 4.25V1.5H5.75a.25.25 0 0 0-.25.25v2.5a.75.75 0 0 1-1.5 0Zm1.72 4.97a.75.75 0 0 1 1.06 0l2 2a.75.75 0 0 1 0 1.06l-2 2a.749.749 0 0 1-1.275-.326.749.749 0 0 1 .215-.734l1.47-1.47-1.47-1.47a.75.75 0 0 1 0-1.06ZM3.28 7.78 1.81 9.25l1.47 1.47a.751.751 0 0 1-.018 1.042.751.751 0 0 1-1.042.018l-2-2a.75.75 0 0 1 0-1.06l2-2a.751.751 0 0 1 1.042.018.751.751 0 0 1 .018 1.042Zm8.22-6.218V4.25c0 .138.112.25.25.25h2.688l-.011-.013-2.914-2.914-.013-.011Z"></path>
</svg>
</template>

<template id="history-icon">
  <svg aria-hidden="true" height="16" viewBox="0 0 16 16" version="1.1" width="16" data-view-component="true" class="octicon octicon-history">
    <path d="m.427 1.927 1.215 1.215a8.002 8.002 0 1 1-1.6 5.685.75.75 0 1 1 1.493-.154 6.5 6.5 0 1 0 1.18-4.458l1.358 1.358A.25.25 0 0 1 3.896 6H.25A.25.25 0 0 1 0 5.75V2.104a.25.25 0 0 1 .427-.177ZM7.75 4a.75.75 0 0 1 .75.75v2.992l2.028.812a.75.75 0 0 1-.557 1.392l-2.5-1A.751.751 0 0 1 7 8.25v-3.5A.75.75 0 0 1 7.75 4Z"></path>
</svg>
</template>

<template id="repo-icon">
  <svg aria-hidden="true" height="16" viewBox="0 0 16 16" version="1.1" width="16" data-view-component="true" class="octicon octicon-repo">
    <path d="M2 2.5A2.5 2.5 0 0 1 4.5 0h8.75a.75.75 0 0 1 .75.75v12.5a.75.75 0 0 1-.75.75h-2.5a.75.75 0 0 1 0-1.5h1.75v-2h-8a1 1 0 0 0-.714 1.7.75.75 0 1 1-1.072 1.05A2.495 2.495 0 0 1 2 11.5Zm10.5-1h-8a1 1 0 0 0-1 1v6.708A2.486 2.486 0 0 1 4.5 9h8ZM5 12.25a.25.25 0 0 1 .25-.25h3.5a.25.25 0 0 1 .25.25v3.25a.25.25 0 0 1-.4.2l-1.45-1.087a.249.249 0 0 0-.3 0L5.4 15.7a.25.25 0 0 1-.4-.2Z"></path>
</svg>
</template>

<template id="bookmark-icon">
  <svg aria-hidden="true" height="16" viewBox="0 0 16 16" version="1.1" width="16" data-view-component="true" class="octicon octicon-bookmark">
    <path d="M3 2.75C3 1.784 3.784 1 4.75 1h6.5c.966 0 1.75.784 1.75 1.75v11.5a.75.75 0 0 1-1.227.579L8 11.722l-3.773 3.107A.751.751 0 0 1 3 14.25Zm1.75-.25a.25.25 0 0 0-.25.25v9.91l3.023-2.489a.75.75 0 0 1 .954 0l3.023 2.49V2.75a.25.25 0 0 0-.25-.25Z"></path>
</svg>
</template>

<template id="plus-circle-icon">
  <svg aria-hidden="true" height="16" viewBox="0 0 16 16" version="1.1" width="16" data-view-component="true" class="octicon octicon-plus-circle">
    <path d="M8 0a8 8 0 1 1 0 16A8 8 0 0 1 8 0ZM1.5 8a6.5 6.5 0 1 0 13 0 6.5 6.5 0 0 0-13 0Zm7.25-3.25v2.5h2.5a.75.75 0 0 1 0 1.5h-2.5v2.5a.75.75 0 0 1-1.5 0v-2.5h-2.5a.75.75 0 0 1 0-1.5h2.5v-2.5a.75.75 0 0 1 1.5 0Z"></path>
</svg>
</template>

<template id="circle-icon">
  <svg aria-hidden="true" height="16" viewBox="0 0 16 16" version="1.1" width="16" data-view-component="true" class="octicon octicon-dot-fill">
    <path d="M8 4a4 4 0 1 1 0 8 4 4 0 0 1 0-8Z"></path>
</svg>
</template>

<template id="trash-icon">
  <svg aria-hidden="true" height="16" viewBox="0 0 16 16" version="1.1" width="16" data-view-component="true" class="octicon octicon-trash">
    <path d="M11 1.75V3h2.25a.75.75 0 0 1 0 1.5H2.75a.75.75 0 0 1 0-1.5H5V1.75C5 .784 5.784 0 6.75 0h2.5C10.216 0 11 .784 11 1.75ZM4.496 6.675l.66 6.6a.25.25 0 0 0 .249.225h5.19a.25.25 0 0 0 .249-.225l.66-6.6a.75.75 0 0 1 1.492.149l-.66 6.6A1.748 1.748 0 0 1 10.595 15h-5.19a1.75 1.75 0 0 1-1.741-1.575l-.66-6.6a.75.75 0 1 1 1.492-.15ZM6.5 1.75V3h3V1.75a.25.25 0 0 0-.25-.25h-2.5a.25.25 0 0 0-.25.25Z"></path>
</svg>
</template>

<template id="team-icon">
  <svg aria-hidden="true" height="16" viewBox="0 0 16 16" version="1.1" width="16" data-view-component="true" class="octicon octicon-people">
    <path d="M2 5.5a3.5 3.5 0 1 1 5.898 2.549 5.508 5.508 0 0 1 3.034 4.084.75.75 0 1 1-1.482.235 4 4 0 0 0-7.9 0 .75.75 0 0 1-1.482-.236A5.507 5.507 0 0 1 3.102 8.05 3.493 3.493 0 0 1 2 5.5ZM11 4a3.001 3.001 0 0 1 2.22 5.018 5.01 5.01 0 0 1 2.56 3.012.749.749 0 0 1-.885.954.752.752 0 0 1-.549-.514 3.507 3.507 0 0 0-2.522-2.372.75.75 0 0 1-.574-.73v-.352a.75.75 0 0 1 .416-.672A1.5 1.5 0 0 0 11 5.5.75.75 0 0 1 11 4Zm-5.5-.5a2 2 0 1 0-.001 3.999A2 2 0 0 0 5.5 3.5Z"></path>
</svg>
</template>

<template id="project-icon">
  <svg aria-hidden="true" height="16" viewBox="0 0 16 16" version="1.1" width="16" data-view-component="true" class="octicon octicon-project">
    <path d="M1.75 0h12.5C15.216 0 16 .784 16 1.75v12.5A1.75 1.75 0 0 1 14.25 16H1.75A1.75 1.75 0 0 1 0 14.25V1.75C0 .784.784 0 1.75 0ZM1.5 1.75v12.5c0 .138.112.25.25.25h12.5a.25.25 0 0 0 .25-.25V1.75a.25.25 0 0 0-.25-.25H1.75a.25.25 0 0 0-.25.25ZM11.75 3a.75.75 0 0 1 .75.75v7.5a.75.75 0 0 1-1.5 0v-7.5a.75.75 0 0 1 .75-.75Zm-8.25.75a.75.75 0 0 1 1.5 0v5.5a.75.75 0 0 1-1.5 0ZM8 3a.75.75 0 0 1 .75.75v3.5a.75.75 0 0 1-1.5 0v-3.5A.75.75 0 0 1 8 3Z"></path>
</svg>
</template>

<template id="pencil-icon">
  <svg aria-hidden="true" height="16" viewBox="0 0 16 16" version="1.1" width="16" data-view-component="true" class="octicon octicon-pencil">
    <path d="M11.013 1.427a1.75 1.75 0 0 1 2.474 0l1.086 1.086a1.75 1.75 0 0 1 0 2.474l-8.61 8.61c-.21.21-.47.364-.756.445l-3.251.93a.75.75 0 0 1-.927-.928l.929-3.25c.081-.286.235-.547.445-.758l8.61-8.61Zm.176 4.823L9.75 4.81l-6.286 6.287a.253.253 0 0 0-.064.108l-.558 1.953 1.953-.558a.253.253 0 0 0 .108-.064Zm1.238-3.763a.25.25 0 0 0-.354 0L10.811 3.75l1.439 1.44 1.263-1.263a.25.25 0 0 0 0-.354Z"></path>
</svg>
</template>

        <div class="position-relative">
                <ul
                  role="listbox"
                  class="ActionListWrap QueryBuilder-ListWrap"
                  aria-label="Suggestions"
                  data-action="
                    combobox-commit:query-builder#comboboxCommit
                    mousedown:query-builder#resultsMousedown
                  "
                  data-target="query-builder.resultsList"
                  data-persist-list=false
                  id="query-builder-test-results"
                ></ul>
        </div>
      <div class="FormControl-inlineValidation" id="validation-41ec3421-6419-47d1-8083-d71b14e566c9" hidden="hidden">
        <span class="FormControl-inlineValidation--visual">
          <svg aria-hidden="true" height="12" viewBox="0 0 12 12" version="1.1" width="12" data-view-component="true" class="octicon octicon-alert-fill">
    <path d="M4.855.708c.5-.896 1.79-.896 2.29 0l4.675 8.351a1.312 1.312 0 0 1-1.146 1.954H1.33A1.313 1.313 0 0 1 .183 9.058ZM7 7V3H5v4Zm-1 3a1 1 0 1 0 0-2 1 1 0 0 0 0 2Z"></path>
</svg>
        </span>
        <span></span>
</div>    </div>
    <div data-target="query-builder.screenReaderFeedback" aria-live="polite" aria-atomic="true" class="sr-only"></div>
</query-builder></form>
          <div class="d-flex flex-row color-fg-muted px-3 text-small color-bg-default search-feedback-prompt">
            <a target="_blank" href="https://docs.github.com/en/search-github/github-code-search/understanding-github-code-search-syntax" data-view-component="true" class="Link color-fg-accent text-normal ml-2">
              Search syntax tips
</a>            <div class="d-flex flex-1"></div>
          </div>
        </div>
</div>

    </div>
</modal-dialog></div>
  </div>
  <div data-action="click:qbsearch-input#retract" class="dark-backdrop position-fixed" hidden data-target="qbsearch-input.darkBackdrop"></div>
  <div class="color-fg-default">
    
<div class="Overlay--hidden Overlay-backdrop--center" data-modal-dialog-overlay>
  <modal-dialog data-target="qbsearch-input.feedbackDialog" data-action="close:qbsearch-input#handleDialogClose cancel:qbsearch-input#handleDialogClose" role="dialog" id="feedback-dialog" aria-modal="true" aria-disabled="true" aria-labelledby="feedback-dialog-title" aria-describedby="feedback-dialog-description" data-view-component="true" class="Overlay Overlay-whenNarrow Overlay--size-medium Overlay--motion-scaleFade">
    <div data-view-component="true" class="Overlay-header">
  <div class="Overlay-headerContentWrap">
    <div class="Overlay-titleWrap">
      <h1 class="Overlay-title " id="feedback-dialog-title">
        Provide feedback
      </h1>
    </div>
    <div class="Overlay-actionWrap">
      <button data-close-dialog-id="feedback-dialog" aria-label="Close" type="button" data-view-component="true" class="close-button Overlay-closeButton"><svg aria-hidden="true" height="16" viewBox="0 0 16 16" version="1.1" width="16" data-view-component="true" class="octicon octicon-x">
    <path d="M3.72 3.72a.75.75 0 0 1 1.06 0L8 6.94l3.22-3.22a.749.749 0 0 1 1.275.326.749.749 0 0 1-.215.734L9.06 8l3.22 3.22a.749.749 0 0 1-.326 1.275.749.749 0 0 1-.734-.215L8 9.06l-3.22 3.22a.751.751 0 0 1-1.042-.018.751.751 0 0 1-.018-1.042L6.94 8 3.72 4.78a.75.75 0 0 1 0-1.06Z"></path>
</svg></button>
    </div>
  </div>
</div>
      <div data-view-component="true" class="Overlay-body">        <!-- '"` --><!-- </textarea></xmp> --></option></form><form id="code-search-feedback-form" data-turbo="false" action="/search/feedback" accept-charset="UTF-8" method="post"><input type="hidden" data-csrf="true" name="authenticity_token" value="YI4FW7G5BPqYDq2K0ajIJQVS2O1AdEzwAO7LEvgvOabZxoPjFszvWgRoxrGPwvfVwGz5hy+3qK63Akydwv4XEg==" />
          <p>We read every piece of feedback, and take your input very seriously.</p>
          <textarea name="feedback" class="form-control width-full mb-2" style="height: 120px" id="feedback"></textarea>
          <input name="include_email" id="include_email" aria-label="Include my email address so I can be contacted" class="form-control mr-2" type="checkbox">
          <label for="include_email" style="font-weight: normal">Include my email address so I can be contacted</label>
</form></div>
      <div data-view-component="true" class="Overlay-footer Overlay-footer--alignEnd">          <button data-close-dialog-id="feedback-dialog" type="button" data-view-component="true" class="btn">    Cancel
</button>
          <button form="code-search-feedback-form" data-action="click:qbsearch-input#submitFeedback" type="submit" data-view-component="true" class="btn-primary btn">    Submit feedback
</button>
</div>
</modal-dialog></div>

    <custom-scopes data-target="qbsearch-input.customScopesManager">
    
<div class="Overlay--hidden Overlay-backdrop--center" data-modal-dialog-overlay>
  <modal-dialog data-target="custom-scopes.customScopesModalDialog" data-action="close:qbsearch-input#handleDialogClose cancel:qbsearch-input#handleDialogClose" role="dialog" id="custom-scopes-dialog" aria-modal="true" aria-disabled="true" aria-labelledby="custom-scopes-dialog-title" aria-describedby="custom-scopes-dialog-description" data-view-component="true" class="Overlay Overlay-whenNarrow Overlay--size-medium Overlay--motion-scaleFade">
    <div data-view-component="true" class="Overlay-header Overlay-header--divided">
  <div class="Overlay-headerContentWrap">
    <div class="Overlay-titleWrap">
      <h1 class="Overlay-title " id="custom-scopes-dialog-title">
        Saved searches
      </h1>
        <h2 id="custom-scopes-dialog-description" class="Overlay-description">Use saved searches to filter your results more quickly</h2>
    </div>
    <div class="Overlay-actionWrap">
      <button data-close-dialog-id="custom-scopes-dialog" aria-label="Close" type="button" data-view-component="true" class="close-button Overlay-closeButton"><svg aria-hidden="true" height="16" viewBox="0 0 16 16" version="1.1" width="16" data-view-component="true" class="octicon octicon-x">
    <path d="M3.72 3.72a.75.75 0 0 1 1.06 0L8 6.94l3.22-3.22a.749.749 0 0 1 1.275.326.749.749 0 0 1-.215.734L9.06 8l3.22 3.22a.749.749 0 0 1-.326 1.275.749.749 0 0 1-.734-.215L8 9.06l-3.22 3.22a.751.751 0 0 1-1.042-.018.751.751 0 0 1-.018-1.042L6.94 8 3.72 4.78a.75.75 0 0 1 0-1.06Z"></path>
</svg></button>
    </div>
  </div>
</div>
      <div data-view-component="true" class="Overlay-body">        <div data-target="custom-scopes.customScopesModalDialogFlash"></div>

        <div hidden class="create-custom-scope-form" data-target="custom-scopes.createCustomScopeForm">
        <!-- '"` --><!-- </textarea></xmp> --></option></form><form id="custom-scopes-dialog-form" data-turbo="false" action="/search/custom_scopes" accept-charset="UTF-8" method="post"><input type="hidden" data-csrf="true" name="authenticity_token" value="ufZubOZz7AhqJNOa4rfVnHiF7TGIGQSiVAXxMWlcvr6U1mqcelB1OE0wZXJgjWuvLyOzhsFcX3IpgWnvr+bpXw==" />
          <div data-target="custom-scopes.customScopesModalDialogFlash"></div>

          <input type="hidden" id="custom_scope_id" name="custom_scope_id" data-target="custom-scopes.customScopesIdField">

          <div class="form-group">
            <label for="custom_scope_name">Name</label>
            <auto-check src="/search/custom_scopes/check_name" required>
              <input
                type="text"
                name="custom_scope_name"
                id="custom_scope_name"
                data-target="custom-scopes.customScopesNameField"
                class="form-control"
                autocomplete="off"
                placeholder="github-ruby"
                required
                maxlength="50">
              <input type="hidden" data-csrf="true" value="kQQiGDQAWOU0ZkVzFq2Zg3Z/ICNSDOhL94zS8v8EwWYqPRWadtBtdlgNC0J4YdWZHrANole9Cjg6hsfozUFwkg==" />
            </auto-check>
          </div>

          <div class="form-group">
            <label for="custom_scope_query">Query</label>
            <input
              type="text"
              name="custom_scope_query"
              id="custom_scope_query"
              data-target="custom-scopes.customScopesQueryField"
              class="form-control"
              autocomplete="off"
              placeholder="(repo:mona/a OR repo:mona/b) AND lang:python"
              required
              maxlength="500">
          </div>

          <p class="text-small color-fg-muted">
            To see all available qualifiers, see our <a class="Link--inTextBlock" href="https://docs.github.com/en/search-github/github-code-search/understanding-github-code-search-syntax">documentation</a>.
          </p>
</form>        </div>

        <div data-target="custom-scopes.manageCustomScopesForm">
          <div data-target="custom-scopes.list"></div>
        </div>

</div>
      <div data-view-component="true" class="Overlay-footer Overlay-footer--alignEnd Overlay-footer--divided">          <button data-action="click:custom-scopes#customScopesCancel" type="button" data-view-component="true" class="btn">    Cancel
</button>
          <button form="custom-scopes-dialog-form" data-action="click:custom-scopes#customScopesSubmit" data-target="custom-scopes.customScopesSubmitButton" type="submit" data-view-component="true" class="btn-primary btn">    Create saved search
</button>
</div>
</modal-dialog></div>
    </custom-scopes>
  </div>
</qbsearch-input><input type="hidden" data-csrf="true" class="js-data-jump-to-suggestions-path-csrf" value="F4HibL6bys3Fc/iMzbCLcMw1NI5+oazixXOS9K4/7xxJNbtjMvgADvakTrwzmiERG8NcNVltlxG3UxIEK7hVMA==" />


          <div class="position-relative mr-lg-3 d-lg-inline-block">
            <a href="/login?return_to=https%3A%2F%2Fgithub.com%2Fsaivuttunoori%2FCoursera-Data-Science%2Fblob%2Fmain%2FSpaceX%2520Machine%2520Learning%2520Prediction.ipynb"
              class="HeaderMenu-link HeaderMenu-link--sign-in flex-shrink-0 no-underline d-block d-lg-inline-block border border-lg-0 rounded rounded-lg-0 p-2 p-lg-0"
              data-hydro-click="{&quot;event_type&quot;:&quot;authentication.click&quot;,&quot;payload&quot;:{&quot;location_in_page&quot;:&quot;site header menu&quot;,&quot;repository_id&quot;:null,&quot;auth_type&quot;:&quot;SIGN_UP&quot;,&quot;originating_url&quot;:&quot;https://github.com/saivuttunoori/Coursera-Data-Science/blob/main/SpaceX%20Machine%20Learning%20Prediction.ipynb&quot;,&quot;user_id&quot;:null}}" data-hydro-click-hmac="e5f35ff71fe9865c2c802b14d4c19c379cd2dd99aedc43e56e33a777d99c5c56"
              data-ga-click="(Logged out) Header, clicked Sign in, text:sign-in">
              Sign in
            </a>
          </div>

            <a href="/signup?ref_cta=Sign+up&amp;ref_loc=header+logged+out&amp;ref_page=%2F%3Cuser-name%3E%2F%3Crepo-name%3E%2Fblob%2Fshow&amp;source=header-repo&amp;source_repo=saivuttunoori%2FCoursera-Data-Science"
              class="HeaderMenu-link HeaderMenu-link--sign-up flex-shrink-0 d-none d-lg-inline-block no-underline border color-border-default rounded px-2 py-1"
              data-hydro-click="{&quot;event_type&quot;:&quot;authentication.click&quot;,&quot;payload&quot;:{&quot;location_in_page&quot;:&quot;site header menu&quot;,&quot;repository_id&quot;:null,&quot;auth_type&quot;:&quot;SIGN_UP&quot;,&quot;originating_url&quot;:&quot;https://github.com/saivuttunoori/Coursera-Data-Science/blob/main/SpaceX%20Machine%20Learning%20Prediction.ipynb&quot;,&quot;user_id&quot;:null}}" data-hydro-click-hmac="e5f35ff71fe9865c2c802b14d4c19c379cd2dd99aedc43e56e33a777d99c5c56"
              data-analytics-event="{&quot;category&quot;:&quot;Sign up&quot;,&quot;action&quot;:&quot;click to sign up for account&quot;,&quot;label&quot;:&quot;ref_page:/&lt;user-name&gt;/&lt;repo-name&gt;/blob/show;ref_cta:Sign up;ref_loc:header logged out&quot;}"
            >
              Sign up
            </a>
        </div>
      </div>
    </div>
  </div>
</header>

      <div hidden="hidden" data-view-component="true" class="js-stale-session-flash stale-session-flash flash flash-warn mb-3">
  
        <svg aria-hidden="true" height="16" viewBox="0 0 16 16" version="1.1" width="16" data-view-component="true" class="octicon octicon-alert">
    <path d="M6.457 1.047c.659-1.234 2.427-1.234 3.086 0l6.082 11.378A1.75 1.75 0 0 1 14.082 15H1.918a1.75 1.75 0 0 1-1.543-2.575Zm1.763.707a.25.25 0 0 0-.44 0L1.698 13.132a.25.25 0 0 0 .22.368h12.164a.25.25 0 0 0 .22-.368Zm.53 3.996v2.5a.75.75 0 0 1-1.5 0v-2.5a.75.75 0 0 1 1.5 0ZM9 11a1 1 0 1 1-2 0 1 1 0 0 1 2 0Z"></path>
</svg>
        <span class="js-stale-session-flash-signed-in" hidden>You signed in with another tab or window. <a class="Link--inTextBlock" href="">Reload</a> to refresh your session.</span>
        <span class="js-stale-session-flash-signed-out" hidden>You signed out in another tab or window. <a class="Link--inTextBlock" href="">Reload</a> to refresh your session.</span>
        <span class="js-stale-session-flash-switched" hidden>You switched accounts on another tab or window. <a class="Link--inTextBlock" href="">Reload</a> to refresh your session.</span>

    <div data-view-component="true" class="flash-close">
  <button id="icon-button-1960d9c1-2547-40c2-b622-6f426191159c" aria-labelledby="tooltip-8c0d4324-610d-4cf8-8550-4d72f496001b" type="button" data-view-component="true" class="Button Button--iconOnly Button--invisible Button--medium js-flash-close">    <svg aria-hidden="true" height="16" viewBox="0 0 16 16" version="1.1" width="16" data-view-component="true" class="octicon octicon-x Button-visual">
    <path d="M3.72 3.72a.75.75 0 0 1 1.06 0L8 6.94l3.22-3.22a.749.749 0 0 1 1.275.326.749.749 0 0 1-.215.734L9.06 8l3.22 3.22a.749.749 0 0 1-.326 1.275.749.749 0 0 1-.734-.215L8 9.06l-3.22 3.22a.751.751 0 0 1-1.042-.018.751.751 0 0 1-.018-1.042L6.94 8 3.72 4.78a.75.75 0 0 1 0-1.06Z"></path>
</svg>
</button>  <tool-tip id="tooltip-8c0d4324-610d-4cf8-8550-4d72f496001b" for="icon-button-1960d9c1-2547-40c2-b622-6f426191159c" popover="manual" data-direction="s" data-type="label" data-view-component="true" class="sr-only position-absolute">Dismiss alert</tool-tip>
</div>

  
</div>
    </div>

  <div id="start-of-content" class="show-on-focus"></div>








    <div id="js-flash-container" data-turbo-replace>





  <template class="js-flash-template">
    
<div class="flash flash-full   {{ className }}">
  <div class="px-2" >
    <button autofocus class="flash-close js-flash-close" type="button" aria-label="Dismiss this message">
      <svg aria-hidden="true" height="16" viewBox="0 0 16 16" version="1.1" width="16" data-view-component="true" class="octicon octicon-x">
    <path d="M3.72 3.72a.75.75 0 0 1 1.06 0L8 6.94l3.22-3.22a.749.749 0 0 1 1.275.326.749.749 0 0 1-.215.734L9.06 8l3.22 3.22a.749.749 0 0 1-.326 1.275.749.749 0 0 1-.734-.215L8 9.06l-3.22 3.22a.751.751 0 0 1-1.042-.018.751.751 0 0 1-.018-1.042L6.94 8 3.72 4.78a.75.75 0 0 1 0-1.06Z"></path>
</svg>
    </button>
    <div aria-atomic="true" role="alert" class="js-flash-alert">
      
      <div>{{ message }}</div>

    </div>
  </div>
</div>
  </template>
</div>


    
    <include-fragment class="js-notification-shelf-include-fragment" data-base-src="https://github.com/notifications/beta/shelf"></include-fragment>






  <div
    class="application-main "
    data-commit-hovercards-enabled
    data-discussion-hovercards-enabled
    data-issue-and-pr-hovercards-enabled
  >
        <div itemscope itemtype="http://schema.org/SoftwareSourceCode" class="">
    <main id="js-repo-pjax-container" >
      
      
      






  
  <div id="repository-container-header"  class="pt-3 hide-full-screen" style="background-color: var(--color-page-header-bg);" data-turbo-replace>

      <div class="d-flex flex-wrap flex-justify-end mb-3  px-3 px-md-4 px-lg-5" style="gap: 1rem;">

        <div class="flex-auto min-width-0 width-fit mr-3">
            
  <div class=" d-flex flex-wrap flex-items-center wb-break-word f3 text-normal">
      <svg aria-hidden="true" height="16" viewBox="0 0 16 16" version="1.1" width="16" data-view-component="true" class="octicon octicon-repo color-fg-muted mr-2">
    <path d="M2 2.5A2.5 2.5 0 0 1 4.5 0h8.75a.75.75 0 0 1 .75.75v12.5a.75.75 0 0 1-.75.75h-2.5a.75.75 0 0 1 0-1.5h1.75v-2h-8a1 1 0 0 0-.714 1.7.75.75 0 1 1-1.072 1.05A2.495 2.495 0 0 1 2 11.5Zm10.5-1h-8a1 1 0 0 0-1 1v6.708A2.486 2.486 0 0 1 4.5 9h8ZM5 12.25a.25.25 0 0 1 .25-.25h3.5a.25.25 0 0 1 .25.25v3.25a.25.25 0 0 1-.4.2l-1.45-1.087a.249.249 0 0 0-.3 0L5.4 15.7a.25.25 0 0 1-.4-.2Z"></path>
</svg>
    
    <span class="author flex-self-stretch" itemprop="author">
      <a class="url fn" rel="author" data-hovercard-type="user" data-hovercard-url="/users/saivuttunoori/hovercard" data-octo-click="hovercard-link-click" data-octo-dimensions="link_type:self" href="/saivuttunoori">
        saivuttunoori
</a>    </span>
    <span class="mx-1 flex-self-stretch color-fg-muted">/</span>
    <strong itemprop="name" class="mr-2 flex-self-stretch">
      <a data-pjax="#repo-content-pjax-container" data-turbo-frame="repo-content-turbo-frame" href="/saivuttunoori/Coursera-Data-Science">Coursera-Data-Science</a>
    </strong>

    <span></span><span class="Label Label--secondary v-align-middle mr-1">Public</span>
  </div>


        </div>

        <div id="repository-details-container" data-turbo-replace>
            <ul class="pagehead-actions flex-shrink-0 d-none d-md-inline" style="padding: 2px 0;">
    
      

  <li>
            <a href="/login?return_to=%2Fsaivuttunoori%2FCoursera-Data-Science" rel="nofollow" data-hydro-click="{&quot;event_type&quot;:&quot;authentication.click&quot;,&quot;payload&quot;:{&quot;location_in_page&quot;:&quot;notification subscription menu watch&quot;,&quot;repository_id&quot;:null,&quot;auth_type&quot;:&quot;LOG_IN&quot;,&quot;originating_url&quot;:&quot;https://github.com/saivuttunoori/Coursera-Data-Science/blob/main/SpaceX%20Machine%20Learning%20Prediction.ipynb&quot;,&quot;user_id&quot;:null}}" data-hydro-click-hmac="29ac8b3d7f1b55e9fb0b85c63ca983b196f684fb78680637bef2ef61ea4e3576" aria-label="You must be signed in to change notification settings" data-view-component="true" class="tooltipped tooltipped-s btn-sm btn">    <svg aria-hidden="true" height="16" viewBox="0 0 16 16" version="1.1" width="16" data-view-component="true" class="octicon octicon-bell mr-2">
    <path d="M8 16a2 2 0 0 0 1.985-1.75c.017-.137-.097-.25-.235-.25h-3.5c-.138 0-.252.113-.235.25A2 2 0 0 0 8 16ZM3 5a5 5 0 0 1 10 0v2.947c0 .05.015.098.042.139l1.703 2.555A1.519 1.519 0 0 1 13.482 13H2.518a1.516 1.516 0 0 1-1.263-2.36l1.703-2.554A.255.255 0 0 0 3 7.947Zm5-3.5A3.5 3.5 0 0 0 4.5 5v2.947c0 .346-.102.683-.294.97l-1.703 2.556a.017.017 0 0 0-.003.01l.001.006c0 .002.002.004.004.006l.006.004.007.001h10.964l.007-.001.006-.004.004-.006.001-.007a.017.017 0 0 0-.003-.01l-1.703-2.554a1.745 1.745 0 0 1-.294-.97V5A3.5 3.5 0 0 0 8 1.5Z"></path>
</svg>Notifications
</a>
  </li>

  <li>
          <a icon="repo-forked" id="fork-button" href="/login?return_to=%2Fsaivuttunoori%2FCoursera-Data-Science" rel="nofollow" data-hydro-click="{&quot;event_type&quot;:&quot;authentication.click&quot;,&quot;payload&quot;:{&quot;location_in_page&quot;:&quot;repo details fork button&quot;,&quot;repository_id&quot;:686678873,&quot;auth_type&quot;:&quot;LOG_IN&quot;,&quot;originating_url&quot;:&quot;https://github.com/saivuttunoori/Coursera-Data-Science/blob/main/SpaceX%20Machine%20Learning%20Prediction.ipynb&quot;,&quot;user_id&quot;:null}}" data-hydro-click-hmac="322824a638fcb4e7c3ccd12824b7296b2530f32aef72ad72215248d2cf2ffda5" data-view-component="true" class="btn-sm btn">    <svg aria-hidden="true" height="16" viewBox="0 0 16 16" version="1.1" width="16" data-view-component="true" class="octicon octicon-repo-forked mr-2">
    <path d="M5 5.372v.878c0 .414.336.75.75.75h4.5a.75.75 0 0 0 .75-.75v-.878a2.25 2.25 0 1 1 1.5 0v.878a2.25 2.25 0 0 1-2.25 2.25h-1.5v2.128a2.251 2.251 0 1 1-1.5 0V8.5h-1.5A2.25 2.25 0 0 1 3.5 6.25v-.878a2.25 2.25 0 1 1 1.5 0ZM5 3.25a.75.75 0 1 0-1.5 0 .75.75 0 0 0 1.5 0Zm6.75.75a.75.75 0 1 0 0-1.5.75.75 0 0 0 0 1.5Zm-3 8.75a.75.75 0 1 0-1.5 0 .75.75 0 0 0 1.5 0Z"></path>
</svg>Fork
    <span id="repo-network-counter" data-pjax-replace="true" data-turbo-replace="true" title="0" data-view-component="true" class="Counter">0</span>
</a>
  </li>

  <li>
        <div data-view-component="true" class="BtnGroup d-flex">
        <a href="/login?return_to=%2Fsaivuttunoori%2FCoursera-Data-Science" rel="nofollow" data-hydro-click="{&quot;event_type&quot;:&quot;authentication.click&quot;,&quot;payload&quot;:{&quot;location_in_page&quot;:&quot;star button&quot;,&quot;repository_id&quot;:686678873,&quot;auth_type&quot;:&quot;LOG_IN&quot;,&quot;originating_url&quot;:&quot;https://github.com/saivuttunoori/Coursera-Data-Science/blob/main/SpaceX%20Machine%20Learning%20Prediction.ipynb&quot;,&quot;user_id&quot;:null}}" data-hydro-click-hmac="987c935d9cea88b496637f765a70a4d3c2ccb338fa954d1f22d8977af77f25b4" aria-label="You must be signed in to star a repository" data-view-component="true" class="tooltipped tooltipped-s btn-sm btn BtnGroup-item">    <svg aria-hidden="true" height="16" viewBox="0 0 16 16" version="1.1" width="16" data-view-component="true" class="octicon octicon-star v-align-text-bottom d-inline-block mr-2">
    <path d="M8 .25a.75.75 0 0 1 .673.418l1.882 3.815 4.21.612a.75.75 0 0 1 .416 1.279l-3.046 2.97.719 4.192a.751.751 0 0 1-1.088.791L8 12.347l-3.766 1.98a.75.75 0 0 1-1.088-.79l.72-4.194L.818 6.374a.75.75 0 0 1 .416-1.28l4.21-.611L7.327.668A.75.75 0 0 1 8 .25Zm0 2.445L6.615 5.5a.75.75 0 0 1-.564.41l-3.097.45 2.24 2.184a.75.75 0 0 1 .216.664l-.528 3.084 2.769-1.456a.75.75 0 0 1 .698 0l2.77 1.456-.53-3.084a.75.75 0 0 1 .216-.664l2.24-2.183-3.096-.45a.75.75 0 0 1-.564-.41L8 2.694Z"></path>
</svg><span data-view-component="true" class="d-inline">
          Star
</span>          <span id="repo-stars-counter-star" aria-label="0 users starred this repository" data-singular-suffix="user starred this repository" data-plural-suffix="users starred this repository" data-turbo-replace="true" title="0" data-view-component="true" class="Counter js-social-count">0</span>
</a>        <button aria-label="You must be signed in to add this repository to a list" type="button" disabled="disabled" data-view-component="true" class="btn-sm btn BtnGroup-item px-2">    <svg aria-hidden="true" height="16" viewBox="0 0 16 16" version="1.1" width="16" data-view-component="true" class="octicon octicon-triangle-down">
    <path d="m4.427 7.427 3.396 3.396a.25.25 0 0 0 .354 0l3.396-3.396A.25.25 0 0 0 11.396 7H4.604a.25.25 0 0 0-.177.427Z"></path>
</svg>
</button></div>
  </li>

</ul>

        </div>
      </div>

        <div id="responsive-meta-container" data-turbo-replace>
</div>


          <nav data-pjax="#js-repo-pjax-container" aria-label="Repository" data-view-component="true" class="js-repo-nav js-sidenav-container-pjax js-responsive-underlinenav overflow-hidden UnderlineNav px-3 px-md-4 px-lg-5">

  <ul data-view-component="true" class="UnderlineNav-body list-style-none">
      <li data-view-component="true" class="d-inline-flex">
  <a id="code-tab" href="/saivuttunoori/Coursera-Data-Science" data-tab-item="i0code-tab" data-selected-links="repo_source repo_downloads repo_commits repo_releases repo_tags repo_branches repo_packages repo_deployments repo_attestations /saivuttunoori/Coursera-Data-Science" data-pjax="#repo-content-pjax-container" data-turbo-frame="repo-content-turbo-frame" data-hotkey="g c" data-analytics-event="{&quot;category&quot;:&quot;Underline navbar&quot;,&quot;action&quot;:&quot;Click tab&quot;,&quot;label&quot;:&quot;Code&quot;,&quot;target&quot;:&quot;UNDERLINE_NAV.TAB&quot;}" aria-current="page" data-view-component="true" class="UnderlineNav-item no-wrap js-responsive-underlinenav-item js-selected-navigation-item selected">
    
              <svg aria-hidden="true" height="16" viewBox="0 0 16 16" version="1.1" width="16" data-view-component="true" class="octicon octicon-code UnderlineNav-octicon d-none d-sm-inline">
    <path d="m11.28 3.22 4.25 4.25a.75.75 0 0 1 0 1.06l-4.25 4.25a.749.749 0 0 1-1.275-.326.749.749 0 0 1 .215-.734L13.94 8l-3.72-3.72a.749.749 0 0 1 .326-1.275.749.749 0 0 1 .734.215Zm-6.56 0a.751.751 0 0 1 1.042.018.751.751 0 0 1 .018 1.042L2.06 8l3.72 3.72a.749.749 0 0 1-.326 1.275.749.749 0 0 1-.734-.215L.47 8.53a.75.75 0 0 1 0-1.06Z"></path>
</svg>
        <span data-content="Code">Code</span>
          <span id="code-repo-tab-count" data-pjax-replace="" data-turbo-replace="" title="Not available" data-view-component="true" class="Counter"></span>


    
</a></li>
      <li data-view-component="true" class="d-inline-flex">
  <a id="issues-tab" href="/saivuttunoori/Coursera-Data-Science/issues" data-tab-item="i1issues-tab" data-selected-links="repo_issues repo_labels repo_milestones /saivuttunoori/Coursera-Data-Science/issues" data-pjax="#repo-content-pjax-container" data-turbo-frame="repo-content-turbo-frame" data-hotkey="g i" data-analytics-event="{&quot;category&quot;:&quot;Underline navbar&quot;,&quot;action&quot;:&quot;Click tab&quot;,&quot;label&quot;:&quot;Issues&quot;,&quot;target&quot;:&quot;UNDERLINE_NAV.TAB&quot;}" data-view-component="true" class="UnderlineNav-item no-wrap js-responsive-underlinenav-item js-selected-navigation-item">
    
              <svg aria-hidden="true" height="16" viewBox="0 0 16 16" version="1.1" width="16" data-view-component="true" class="octicon octicon-issue-opened UnderlineNav-octicon d-none d-sm-inline">
    <path d="M8 9.5a1.5 1.5 0 1 0 0-3 1.5 1.5 0 0 0 0 3Z"></path><path d="M8 0a8 8 0 1 1 0 16A8 8 0 0 1 8 0ZM1.5 8a6.5 6.5 0 1 0 13 0 6.5 6.5 0 0 0-13 0Z"></path>
</svg>
        <span data-content="Issues">Issues</span>
          <span id="issues-repo-tab-count" data-pjax-replace="" data-turbo-replace="" title="0" hidden="hidden" data-view-component="true" class="Counter">0</span>


    
</a></li>
      <li data-view-component="true" class="d-inline-flex">
  <a id="pull-requests-tab" href="/saivuttunoori/Coursera-Data-Science/pulls" data-tab-item="i2pull-requests-tab" data-selected-links="repo_pulls checks /saivuttunoori/Coursera-Data-Science/pulls" data-pjax="#repo-content-pjax-container" data-turbo-frame="repo-content-turbo-frame" data-hotkey="g p" data-analytics-event="{&quot;category&quot;:&quot;Underline navbar&quot;,&quot;action&quot;:&quot;Click tab&quot;,&quot;label&quot;:&quot;Pull requests&quot;,&quot;target&quot;:&quot;UNDERLINE_NAV.TAB&quot;}" data-view-component="true" class="UnderlineNav-item no-wrap js-responsive-underlinenav-item js-selected-navigation-item">
    
              <svg aria-hidden="true" height="16" viewBox="0 0 16 16" version="1.1" width="16" data-view-component="true" class="octicon octicon-git-pull-request UnderlineNav-octicon d-none d-sm-inline">
    <path d="M1.5 3.25a2.25 2.25 0 1 1 3 2.122v5.256a2.251 2.251 0 1 1-1.5 0V5.372A2.25 2.25 0 0 1 1.5 3.25Zm5.677-.177L9.573.677A.25.25 0 0 1 10 .854V2.5h1A2.5 2.5 0 0 1 13.5 5v5.628a2.251 2.251 0 1 1-1.5 0V5a1 1 0 0 0-1-1h-1v1.646a.25.25 0 0 1-.427.177L7.177 3.427a.25.25 0 0 1 0-.354ZM3.75 2.5a.75.75 0 1 0 0 1.5.75.75 0 0 0 0-1.5Zm0 9.5a.75.75 0 1 0 0 1.5.75.75 0 0 0 0-1.5Zm8.25.75a.75.75 0 1 0 1.5 0 .75.75 0 0 0-1.5 0Z"></path>
</svg>
        <span data-content="Pull requests">Pull requests</span>
          <span id="pull-requests-repo-tab-count" data-pjax-replace="" data-turbo-replace="" title="0" hidden="hidden" data-view-component="true" class="Counter">0</span>


    
</a></li>
      <li data-view-component="true" class="d-inline-flex">
  <a id="actions-tab" href="/saivuttunoori/Coursera-Data-Science/actions" data-tab-item="i3actions-tab" data-selected-links="repo_actions /saivuttunoori/Coursera-Data-Science/actions" data-pjax="#repo-content-pjax-container" data-turbo-frame="repo-content-turbo-frame" data-hotkey="g a" data-analytics-event="{&quot;category&quot;:&quot;Underline navbar&quot;,&quot;action&quot;:&quot;Click tab&quot;,&quot;label&quot;:&quot;Actions&quot;,&quot;target&quot;:&quot;UNDERLINE_NAV.TAB&quot;}" data-view-component="true" class="UnderlineNav-item no-wrap js-responsive-underlinenav-item js-selected-navigation-item">
    
              <svg aria-hidden="true" height="16" viewBox="0 0 16 16" version="1.1" width="16" data-view-component="true" class="octicon octicon-play UnderlineNav-octicon d-none d-sm-inline">
    <path d="M8 0a8 8 0 1 1 0 16A8 8 0 0 1 8 0ZM1.5 8a6.5 6.5 0 1 0 13 0 6.5 6.5 0 0 0-13 0Zm4.879-2.773 4.264 2.559a.25.25 0 0 1 0 .428l-4.264 2.559A.25.25 0 0 1 6 10.559V5.442a.25.25 0 0 1 .379-.215Z"></path>
</svg>
        <span data-content="Actions">Actions</span>
          <span id="actions-repo-tab-count" data-pjax-replace="" data-turbo-replace="" title="Not available" data-view-component="true" class="Counter"></span>


    
</a></li>
      <li data-view-component="true" class="d-inline-flex">
  <a id="projects-tab" href="/saivuttunoori/Coursera-Data-Science/projects" data-tab-item="i4projects-tab" data-selected-links="repo_projects new_repo_project repo_project /saivuttunoori/Coursera-Data-Science/projects" data-pjax="#repo-content-pjax-container" data-turbo-frame="repo-content-turbo-frame" data-hotkey="g b" data-analytics-event="{&quot;category&quot;:&quot;Underline navbar&quot;,&quot;action&quot;:&quot;Click tab&quot;,&quot;label&quot;:&quot;Projects&quot;,&quot;target&quot;:&quot;UNDERLINE_NAV.TAB&quot;}" data-view-component="true" class="UnderlineNav-item no-wrap js-responsive-underlinenav-item js-selected-navigation-item">
    
              <svg aria-hidden="true" height="16" viewBox="0 0 16 16" version="1.1" width="16" data-view-component="true" class="octicon octicon-table UnderlineNav-octicon d-none d-sm-inline">
    <path d="M0 1.75C0 .784.784 0 1.75 0h12.5C15.216 0 16 .784 16 1.75v12.5A1.75 1.75 0 0 1 14.25 16H1.75A1.75 1.75 0 0 1 0 14.25ZM6.5 6.5v8h7.75a.25.25 0 0 0 .25-.25V6.5Zm8-1.5V1.75a.25.25 0 0 0-.25-.25H6.5V5Zm-13 1.5v7.75c0 .138.112.25.25.25H5v-8ZM5 5V1.5H1.75a.25.25 0 0 0-.25.25V5Z"></path>
</svg>
        <span data-content="Projects">Projects</span>
          <span id="projects-repo-tab-count" data-pjax-replace="" data-turbo-replace="" title="0" hidden="hidden" data-view-component="true" class="Counter">0</span>


    
</a></li>
      <li data-view-component="true" class="d-inline-flex">
  <a id="security-tab" href="/saivuttunoori/Coursera-Data-Science/security" data-tab-item="i5security-tab" data-selected-links="security overview alerts policy token_scanning code_scanning /saivuttunoori/Coursera-Data-Science/security" data-pjax="#repo-content-pjax-container" data-turbo-frame="repo-content-turbo-frame" data-hotkey="g s" data-analytics-event="{&quot;category&quot;:&quot;Underline navbar&quot;,&quot;action&quot;:&quot;Click tab&quot;,&quot;label&quot;:&quot;Security&quot;,&quot;target&quot;:&quot;UNDERLINE_NAV.TAB&quot;}" data-view-component="true" class="UnderlineNav-item no-wrap js-responsive-underlinenav-item js-selected-navigation-item">
    
              <svg aria-hidden="true" height="16" viewBox="0 0 16 16" version="1.1" width="16" data-view-component="true" class="octicon octicon-shield UnderlineNav-octicon d-none d-sm-inline">
    <path d="M7.467.133a1.748 1.748 0 0 1 1.066 0l5.25 1.68A1.75 1.75 0 0 1 15 3.48V7c0 1.566-.32 3.182-1.303 4.682-.983 1.498-2.585 2.813-5.032 3.855a1.697 1.697 0 0 1-1.33 0c-2.447-1.042-4.049-2.357-5.032-3.855C1.32 10.182 1 8.566 1 7V3.48a1.75 1.75 0 0 1 1.217-1.667Zm.61 1.429a.25.25 0 0 0-.153 0l-5.25 1.68a.25.25 0 0 0-.174.238V7c0 1.358.275 2.666 1.057 3.86.784 1.194 2.121 2.34 4.366 3.297a.196.196 0 0 0 .154 0c2.245-.956 3.582-2.104 4.366-3.298C13.225 9.666 13.5 8.36 13.5 7V3.48a.251.251 0 0 0-.174-.237l-5.25-1.68ZM8.75 4.75v3a.75.75 0 0 1-1.5 0v-3a.75.75 0 0 1 1.5 0ZM9 10.5a1 1 0 1 1-2 0 1 1 0 0 1 2 0Z"></path>
</svg>
        <span data-content="Security">Security</span>
          <include-fragment src="/saivuttunoori/Coursera-Data-Science/security/overall-count" accept="text/fragment+html"></include-fragment>

    
</a></li>
      <li data-view-component="true" class="d-inline-flex">
  <a id="insights-tab" href="/saivuttunoori/Coursera-Data-Science/pulse" data-tab-item="i6insights-tab" data-selected-links="repo_graphs repo_contributors dependency_graph dependabot_updates pulse people community /saivuttunoori/Coursera-Data-Science/pulse" data-pjax="#repo-content-pjax-container" data-turbo-frame="repo-content-turbo-frame" data-analytics-event="{&quot;category&quot;:&quot;Underline navbar&quot;,&quot;action&quot;:&quot;Click tab&quot;,&quot;label&quot;:&quot;Insights&quot;,&quot;target&quot;:&quot;UNDERLINE_NAV.TAB&quot;}" data-view-component="true" class="UnderlineNav-item no-wrap js-responsive-underlinenav-item js-selected-navigation-item">
    
              <svg aria-hidden="true" height="16" viewBox="0 0 16 16" version="1.1" width="16" data-view-component="true" class="octicon octicon-graph UnderlineNav-octicon d-none d-sm-inline">
    <path d="M1.5 1.75V13.5h13.75a.75.75 0 0 1 0 1.5H.75a.75.75 0 0 1-.75-.75V1.75a.75.75 0 0 1 1.5 0Zm14.28 2.53-5.25 5.25a.75.75 0 0 1-1.06 0L7 7.06 4.28 9.78a.751.751 0 0 1-1.042-.018.751.751 0 0 1-.018-1.042l3.25-3.25a.75.75 0 0 1 1.06 0L10 7.94l4.72-4.72a.751.751 0 0 1 1.042.018.751.751 0 0 1 .018 1.042Z"></path>
</svg>
        <span data-content="Insights">Insights</span>
          <span id="insights-repo-tab-count" data-pjax-replace="" data-turbo-replace="" title="Not available" data-view-component="true" class="Counter"></span>


    
</a></li>
</ul>
    <div style="visibility:hidden;" data-view-component="true" class="UnderlineNav-actions js-responsive-underlinenav-overflow position-absolute pr-3 pr-md-4 pr-lg-5 right-0">        <details data-view-component="true" class="details-overlay details-reset position-relative">
    <summary role="button" data-view-component="true">          <div class="UnderlineNav-item mr-0 border-0">
            <svg aria-hidden="true" height="16" viewBox="0 0 16 16" version="1.1" width="16" data-view-component="true" class="octicon octicon-kebab-horizontal">
    <path d="M8 9a1.5 1.5 0 1 0 0-3 1.5 1.5 0 0 0 0 3ZM1.5 9a1.5 1.5 0 1 0 0-3 1.5 1.5 0 0 0 0 3Zm13 0a1.5 1.5 0 1 0 0-3 1.5 1.5 0 0 0 0 3Z"></path>
</svg>
            <span class="sr-only">More</span>
          </div>
</summary>
    <details-menu role="menu" data-view-component="true" class="dropdown-menu dropdown-menu-sw">
          <ul>
              <li data-menu-item="i0code-tab" hidden>
                <a role="menuitem" class="js-selected-navigation-item selected dropdown-item" aria-current="page" data-selected-links="repo_source repo_downloads repo_commits repo_releases repo_tags repo_branches repo_packages repo_deployments repo_attestations /saivuttunoori/Coursera-Data-Science" href="/saivuttunoori/Coursera-Data-Science">
                  Code
</a>              </li>
              <li data-menu-item="i1issues-tab" hidden>
                <a role="menuitem" class="js-selected-navigation-item dropdown-item" data-selected-links="repo_issues repo_labels repo_milestones /saivuttunoori/Coursera-Data-Science/issues" href="/saivuttunoori/Coursera-Data-Science/issues">
                  Issues
</a>              </li>
              <li data-menu-item="i2pull-requests-tab" hidden>
                <a role="menuitem" class="js-selected-navigation-item dropdown-item" data-selected-links="repo_pulls checks /saivuttunoori/Coursera-Data-Science/pulls" href="/saivuttunoori/Coursera-Data-Science/pulls">
                  Pull requests
</a>              </li>
              <li data-menu-item="i3actions-tab" hidden>
                <a role="menuitem" class="js-selected-navigation-item dropdown-item" data-selected-links="repo_actions /saivuttunoori/Coursera-Data-Science/actions" href="/saivuttunoori/Coursera-Data-Science/actions">
                  Actions
</a>              </li>
              <li data-menu-item="i4projects-tab" hidden>
                <a role="menuitem" class="js-selected-navigation-item dropdown-item" data-selected-links="repo_projects new_repo_project repo_project /saivuttunoori/Coursera-Data-Science/projects" href="/saivuttunoori/Coursera-Data-Science/projects">
                  Projects
</a>              </li>
              <li data-menu-item="i5security-tab" hidden>
                <a role="menuitem" class="js-selected-navigation-item dropdown-item" data-selected-links="security overview alerts policy token_scanning code_scanning /saivuttunoori/Coursera-Data-Science/security" href="/saivuttunoori/Coursera-Data-Science/security">
                  Security
</a>              </li>
              <li data-menu-item="i6insights-tab" hidden>
                <a role="menuitem" class="js-selected-navigation-item dropdown-item" data-selected-links="repo_graphs repo_contributors dependency_graph dependabot_updates pulse people community /saivuttunoori/Coursera-Data-Science/pulse" href="/saivuttunoori/Coursera-Data-Science/pulse">
                  Insights
</a>              </li>
          </ul>
</details-menu>
</details></div>
</nav>

  </div>

  



<turbo-frame id="repo-content-turbo-frame" target="_top" data-turbo-action="advance" class="">
    <div id="repo-content-pjax-container" class="repository-content " >
    


    
      
    





<react-app
  app-name="react-code-view"
  initial-path="/saivuttunoori/Coursera-Data-Science/blob/main/SpaceX%20Machine%20Learning%20Prediction.ipynb"
  style="min-height: calc(100vh - 64px)" 
  data-ssr="false"
  data-lazy="false"
  data-alternate="false"
>
  
  <script type="application/json" data-target="react-app.embeddedData">{"payload":{"allShortcutsEnabled":false,"fileTree":{"":{"items":[{"name":"Analyzing Historical StockRevenue Data and Building a Dashboard.ipynb","path":"Analyzing Historical StockRevenue Data and Building a Dashboard.ipynb","contentType":"file"},{"name":"Data Collection-API.ipynb","path":"Data Collection-API.ipynb","contentType":"file"},{"name":"Data Collection-Web Scraping.ipynb","path":"Data Collection-Web Scraping.ipynb","contentType":"file"},{"name":"Data-Wrangling.ipynb","path":"Data-Wrangling.ipynb","contentType":"file"},{"name":"DataScienceEcosystem.ipynb","path":"DataScienceEcosystem.ipynb","contentType":"file"},{"name":"EDA-Viz.ipynb","path":"EDA-Viz.ipynb","contentType":"file"},{"name":"EDA_with_SQL.ipynb","path":"EDA_with_SQL.ipynb","contentType":"file"},{"name":"README.md","path":"README.md","contentType":"file"},{"name":"SpaceX Machine Learning Prediction.ipynb","path":"SpaceX Machine Learning Prediction.ipynb","contentType":"file"},{"name":"Visual Analytics with Folium lab.ipynb","path":"Visual Analytics with Folium lab.ipynb","contentType":"file"}],"totalCount":10}},"fileTreeProcessingTime":2.439096,"foldersToFetch":[],"reducedMotionEnabled":null,"repo":{"id":686678873,"defaultBranch":"main","name":"Coursera-Data-Science","ownerLogin":"saivuttunoori","currentUserCanPush":false,"isFork":false,"isEmpty":false,"createdAt":"2023-09-03T15:40:28.000Z","ownerAvatar":"https://avatars.githubusercontent.com/u/97359778?v=4","public":true,"private":false,"isOrgOwned":false},"symbolsExpanded":false,"treeExpanded":true,"refInfo":{"name":"main","listCacheKey":"v0:1696060360.0","canEdit":false,"refType":"branch","currentOid":"3c29162e0646f77141cc8893cd62d2e93fe62629"},"path":"SpaceX Machine Learning Prediction.ipynb","currentUser":null,"blob":{"rawLines":["{\"cells\": [{\"metadata\": {}, \"cell_type\": \"markdown\", \"source\": \"\u003cp style=\\\"text-align:center\\\"\u003e\\n    \u003ca href=\\\"https://skills.network/?utm_medium=Exinfluencer\u0026utm_source=Exinfluencer\u0026utm_content=000026UJ\u0026utm_term=10006555\u0026utm_id=NA-SkillsNetwork-Channel-SkillsNetworkCoursesIBMDS0321ENSkillsNetwork26802033-2022-01-01\\\" target=\\\"_blank\\\"\u003e\\n    \u003cimg src=\\\"https://cf-courses-data.s3.us.cloud-object-storage.appdomain.cloud/assets/logos/SN_web_lightmode.png\\\" width=\\\"200\\\" alt=\\\"Skills Network Logo\\\"  /\u003e\\n    \u003c/a\u003e\\n\u003c/p\u003e\\n\"}, {\"metadata\": {}, \"cell_type\": \"markdown\", \"source\": \"# **Space X  Falcon 9 First Stage Landing Prediction**\\n\"}, {\"metadata\": {}, \"cell_type\": \"markdown\", \"source\": \"## Assignment:  Machine Learning Prediction\\n\"}, {\"metadata\": {}, \"cell_type\": \"markdown\", \"source\": \"Estimated time needed: **60** minutes\\n\"}, {\"metadata\": {}, \"cell_type\": \"markdown\", \"source\": \"Space X advertises Falcon 9 rocket launches on its website with a cost of 62 million dollars; other providers cost upward of 165 million dollars each, much of the savings is because Space X can reuse the first stage. Therefore if we can determine if the first stage will land, we can determine the cost of a launch. This information can be used if an alternate company wants to bid against space X for a rocket launch.   In this lab, you will create a machine learning pipeline  to predict if the first stage will land given the data from the preceding labs.\\n\"}, {\"metadata\": {}, \"cell_type\": \"markdown\", \"source\": \"![](https://cf-courses-data.s3.us.cloud-object-storage.appdomain.cloud/IBMDeveloperSkillsNetwork-DS0701EN-SkillsNetwork/api/Images/landing\\\\_1.gif)\\n\"}, {\"metadata\": {}, \"cell_type\": \"markdown\", \"source\": \"Several examples of an unsuccessful landing are shown here:\\n\"}, {\"metadata\": {}, \"cell_type\": \"markdown\", \"source\": \"![](https://cf-courses-data.s3.us.cloud-object-storage.appdomain.cloud/IBMDeveloperSkillsNetwork-DS0701EN-SkillsNetwork/api/Images/crash.gif)\\n\"}, {\"metadata\": {}, \"cell_type\": \"markdown\", \"source\": \"Most unsuccessful landings are planed. Space X; performs a controlled landing in the oceans.\\n\"}, {\"metadata\": {}, \"cell_type\": \"markdown\", \"source\": \"## Objectives\\n\"}, {\"metadata\": {}, \"cell_type\": \"markdown\", \"source\": \"Perform exploratory  Data Analysis and determine Training Labels\\n\\n*   create a column for the class\\n*   Standardize the data\\n*   Split into training data and test data\\n\\n\\\\-Find best Hyperparameter for SVM, Classification Trees and Logistic Regression\\n\\n*   Find the method performs best using test data\\n\"}, {\"metadata\": {}, \"cell_type\": \"markdown\", \"source\": \"\"}, {\"metadata\": {}, \"cell_type\": \"markdown\", \"source\": \"***\\n\"}, {\"metadata\": {}, \"cell_type\": \"markdown\", \"source\": \"## Import Libraries and Define Auxiliary Functions\\n\"}, {\"metadata\": {}, \"cell_type\": \"markdown\", \"source\": \"We will import the following libraries for the lab\\n\"}, {\"metadata\": {}, \"cell_type\": \"code\", \"source\": \"# Pandas is a software library written for the Python programming language for data manipulation and analysis.\\nimport pandas as pd\\n# NumPy is a library for the Python programming language, adding support for large, multi-dimensional arrays and matrices, along with a large collection of high-level mathematical functions to operate on these arrays\\nimport numpy as np\\n# Matplotlib is a plotting library for python and pyplot gives us a MatLab like plotting framework. We will use this in our plotter function to plot data.\\nimport matplotlib.pyplot as plt\\n#Seaborn is a Python data visualization library based on matplotlib. It provides a high-level interface for drawing attractive and informative statistical graphics\\nimport seaborn as sns\\n# Preprocessing allows us to standarsize our data\\nfrom sklearn import preprocessing\\n# Allows us to split our data into training and testing data\\nfrom sklearn.model_selection import train_test_split\\n# Allows us to test parameters of classification algorithms and find the best one\\nfrom sklearn.model_selection import GridSearchCV\\n# Logistic Regression classification algorithm\\nfrom sklearn.linear_model import LogisticRegression\\n# Support Vector Machine classification algorithm\\nfrom sklearn.svm import SVC\\n# Decision Tree classification algorithm\\nfrom sklearn.tree import DecisionTreeClassifier\\n# K Nearest Neighbors classification algorithm\\nfrom sklearn.neighbors import KNeighborsClassifier\", \"execution_count\": 1, \"outputs\": []}, {\"metadata\": {}, \"cell_type\": \"markdown\", \"source\": \"This function is to plot the confusion matrix.\\n\"}, {\"metadata\": {}, \"cell_type\": \"code\", \"source\": \"def plot_confusion_matrix(y,y_predict):\\n    \\\"this function plots the confusion matrix\\\"\\n    from sklearn.metrics import confusion_matrix\\n\\n    cm = confusion_matrix(y, y_predict)\\n    ax= plt.subplot()\\n    sns.heatmap(cm, annot=True, ax = ax); #annot=True to annotate cells\\n    ax.set_xlabel('Predicted labels')\\n    ax.set_ylabel('True labels')\\n    ax.set_title('Confusion Matrix'); \\n    ax.xaxis.set_ticklabels(['did not land', 'land']); ax.yaxis.set_ticklabels(['did not land', 'landed'])\", \"execution_count\": 2, \"outputs\": []}, {\"metadata\": {}, \"cell_type\": \"markdown\", \"source\": \"## Load the dataframe\\n\"}, {\"metadata\": {}, \"cell_type\": \"markdown\", \"source\": \"Load the data\\n\"}, {\"metadata\": {}, \"cell_type\": \"code\", \"source\": \"data = pd.read_csv(\\\"https://cf-courses-data.s3.us.cloud-object-storage.appdomain.cloud/IBM-DS0321EN-SkillsNetwork/datasets/dataset_part_2.csv\\\")\\n\\n# If you were unable to complete the previous lab correctly you can uncomment and load this csv\\n\\ndata = pd.read_csv('https://cf-courses-data.s3.us.cloud-object-storage.appdomain.cloud/IBMDeveloperSkillsNetwork-DS0701EN-SkillsNetwork/api/dataset_part_2.csv')\\n\\ndata.head()\", \"execution_count\": 3, \"outputs\": [{\"output_type\": \"execute_result\", \"execution_count\": 3, \"data\": {\"text/plain\": \"   FlightNumber        Date BoosterVersion  PayloadMass Orbit    LaunchSite  \\\\\\n0             1  2010-06-04       Falcon 9  6104.959412   LEO  CCAFS SLC 40   \\n1             2  2012-05-22       Falcon 9   525.000000   LEO  CCAFS SLC 40   \\n2             3  2013-03-01       Falcon 9   677.000000   ISS  CCAFS SLC 40   \\n3             4  2013-09-29       Falcon 9   500.000000    PO   VAFB SLC 4E   \\n4             5  2013-12-03       Falcon 9  3170.000000   GTO  CCAFS SLC 40   \\n\\n       Outcome  Flights  GridFins  Reused   Legs LandingPad  Block  \\\\\\n0    None None        1     False   False  False        NaN    1.0   \\n1    None None        1     False   False  False        NaN    1.0   \\n2    None None        1     False   False  False        NaN    1.0   \\n3  False Ocean        1     False   False  False        NaN    1.0   \\n4    None None        1     False   False  False        NaN    1.0   \\n\\n   ReusedCount Serial   Longitude   Latitude  Class  \\n0            0  B0003  -80.577366  28.561857      0  \\n1            0  B0005  -80.577366  28.561857      0  \\n2            0  B0007  -80.577366  28.561857      0  \\n3            0  B1003 -120.610829  34.632093      0  \\n4            0  B1004  -80.577366  28.561857      0  \", \"text/html\": \"\u003cdiv\u003e\\n\u003cstyle scoped\u003e\\n    .dataframe tbody tr th:only-of-type {\\n        vertical-align: middle;\\n    }\\n\\n    .dataframe tbody tr th {\\n        vertical-align: top;\\n    }\\n\\n    .dataframe thead th {\\n        text-align: right;\\n    }\\n\u003c/style\u003e\\n\u003ctable border=\\\"1\\\" class=\\\"dataframe\\\"\u003e\\n  \u003cthead\u003e\\n    \u003ctr style=\\\"text-align: right;\\\"\u003e\\n      \u003cth\u003e\u003c/th\u003e\\n      \u003cth\u003eFlightNumber\u003c/th\u003e\\n      \u003cth\u003eDate\u003c/th\u003e\\n      \u003cth\u003eBoosterVersion\u003c/th\u003e\\n      \u003cth\u003ePayloadMass\u003c/th\u003e\\n      \u003cth\u003eOrbit\u003c/th\u003e\\n      \u003cth\u003eLaunchSite\u003c/th\u003e\\n      \u003cth\u003eOutcome\u003c/th\u003e\\n      \u003cth\u003eFlights\u003c/th\u003e\\n      \u003cth\u003eGridFins\u003c/th\u003e\\n      \u003cth\u003eReused\u003c/th\u003e\\n      \u003cth\u003eLegs\u003c/th\u003e\\n      \u003cth\u003eLandingPad\u003c/th\u003e\\n      \u003cth\u003eBlock\u003c/th\u003e\\n      \u003cth\u003eReusedCount\u003c/th\u003e\\n      \u003cth\u003eSerial\u003c/th\u003e\\n      \u003cth\u003eLongitude\u003c/th\u003e\\n      \u003cth\u003eLatitude\u003c/th\u003e\\n      \u003cth\u003eClass\u003c/th\u003e\\n    \u003c/tr\u003e\\n  \u003c/thead\u003e\\n  \u003ctbody\u003e\\n    \u003ctr\u003e\\n      \u003cth\u003e0\u003c/th\u003e\\n      \u003ctd\u003e1\u003c/td\u003e\\n      \u003ctd\u003e2010-06-04\u003c/td\u003e\\n      \u003ctd\u003eFalcon 9\u003c/td\u003e\\n      \u003ctd\u003e6104.959412\u003c/td\u003e\\n      \u003ctd\u003eLEO\u003c/td\u003e\\n      \u003ctd\u003eCCAFS SLC 40\u003c/td\u003e\\n      \u003ctd\u003eNone None\u003c/td\u003e\\n      \u003ctd\u003e1\u003c/td\u003e\\n      \u003ctd\u003eFalse\u003c/td\u003e\\n      \u003ctd\u003eFalse\u003c/td\u003e\\n      \u003ctd\u003eFalse\u003c/td\u003e\\n      \u003ctd\u003eNaN\u003c/td\u003e\\n      \u003ctd\u003e1.0\u003c/td\u003e\\n      \u003ctd\u003e0\u003c/td\u003e\\n      \u003ctd\u003eB0003\u003c/td\u003e\\n      \u003ctd\u003e-80.577366\u003c/td\u003e\\n      \u003ctd\u003e28.561857\u003c/td\u003e\\n      \u003ctd\u003e0\u003c/td\u003e\\n    \u003c/tr\u003e\\n    \u003ctr\u003e\\n      \u003cth\u003e1\u003c/th\u003e\\n      \u003ctd\u003e2\u003c/td\u003e\\n      \u003ctd\u003e2012-05-22\u003c/td\u003e\\n      \u003ctd\u003eFalcon 9\u003c/td\u003e\\n      \u003ctd\u003e525.000000\u003c/td\u003e\\n      \u003ctd\u003eLEO\u003c/td\u003e\\n      \u003ctd\u003eCCAFS SLC 40\u003c/td\u003e\\n      \u003ctd\u003eNone None\u003c/td\u003e\\n      \u003ctd\u003e1\u003c/td\u003e\\n      \u003ctd\u003eFalse\u003c/td\u003e\\n      \u003ctd\u003eFalse\u003c/td\u003e\\n      \u003ctd\u003eFalse\u003c/td\u003e\\n      \u003ctd\u003eNaN\u003c/td\u003e\\n      \u003ctd\u003e1.0\u003c/td\u003e\\n      \u003ctd\u003e0\u003c/td\u003e\\n      \u003ctd\u003eB0005\u003c/td\u003e\\n      \u003ctd\u003e-80.577366\u003c/td\u003e\\n      \u003ctd\u003e28.561857\u003c/td\u003e\\n      \u003ctd\u003e0\u003c/td\u003e\\n    \u003c/tr\u003e\\n    \u003ctr\u003e\\n      \u003cth\u003e2\u003c/th\u003e\\n      \u003ctd\u003e3\u003c/td\u003e\\n      \u003ctd\u003e2013-03-01\u003c/td\u003e\\n      \u003ctd\u003eFalcon 9\u003c/td\u003e\\n      \u003ctd\u003e677.000000\u003c/td\u003e\\n      \u003ctd\u003eISS\u003c/td\u003e\\n      \u003ctd\u003eCCAFS SLC 40\u003c/td\u003e\\n      \u003ctd\u003eNone None\u003c/td\u003e\\n      \u003ctd\u003e1\u003c/td\u003e\\n      \u003ctd\u003eFalse\u003c/td\u003e\\n      \u003ctd\u003eFalse\u003c/td\u003e\\n      \u003ctd\u003eFalse\u003c/td\u003e\\n      \u003ctd\u003eNaN\u003c/td\u003e\\n      \u003ctd\u003e1.0\u003c/td\u003e\\n      \u003ctd\u003e0\u003c/td\u003e\\n      \u003ctd\u003eB0007\u003c/td\u003e\\n      \u003ctd\u003e-80.577366\u003c/td\u003e\\n      \u003ctd\u003e28.561857\u003c/td\u003e\\n      \u003ctd\u003e0\u003c/td\u003e\\n    \u003c/tr\u003e\\n    \u003ctr\u003e\\n      \u003cth\u003e3\u003c/th\u003e\\n      \u003ctd\u003e4\u003c/td\u003e\\n      \u003ctd\u003e2013-09-29\u003c/td\u003e\\n      \u003ctd\u003eFalcon 9\u003c/td\u003e\\n      \u003ctd\u003e500.000000\u003c/td\u003e\\n      \u003ctd\u003ePO\u003c/td\u003e\\n      \u003ctd\u003eVAFB SLC 4E\u003c/td\u003e\\n      \u003ctd\u003eFalse Ocean\u003c/td\u003e\\n      \u003ctd\u003e1\u003c/td\u003e\\n      \u003ctd\u003eFalse\u003c/td\u003e\\n      \u003ctd\u003eFalse\u003c/td\u003e\\n      \u003ctd\u003eFalse\u003c/td\u003e\\n      \u003ctd\u003eNaN\u003c/td\u003e\\n      \u003ctd\u003e1.0\u003c/td\u003e\\n      \u003ctd\u003e0\u003c/td\u003e\\n      \u003ctd\u003eB1003\u003c/td\u003e\\n      \u003ctd\u003e-120.610829\u003c/td\u003e\\n      \u003ctd\u003e34.632093\u003c/td\u003e\\n      \u003ctd\u003e0\u003c/td\u003e\\n    \u003c/tr\u003e\\n    \u003ctr\u003e\\n      \u003cth\u003e4\u003c/th\u003e\\n      \u003ctd\u003e5\u003c/td\u003e\\n      \u003ctd\u003e2013-12-03\u003c/td\u003e\\n      \u003ctd\u003eFalcon 9\u003c/td\u003e\\n      \u003ctd\u003e3170.000000\u003c/td\u003e\\n      \u003ctd\u003eGTO\u003c/td\u003e\\n      \u003ctd\u003eCCAFS SLC 40\u003c/td\u003e\\n      \u003ctd\u003eNone None\u003c/td\u003e\\n      \u003ctd\u003e1\u003c/td\u003e\\n      \u003ctd\u003eFalse\u003c/td\u003e\\n      \u003ctd\u003eFalse\u003c/td\u003e\\n      \u003ctd\u003eFalse\u003c/td\u003e\\n      \u003ctd\u003eNaN\u003c/td\u003e\\n      \u003ctd\u003e1.0\u003c/td\u003e\\n      \u003ctd\u003e0\u003c/td\u003e\\n      \u003ctd\u003eB1004\u003c/td\u003e\\n      \u003ctd\u003e-80.577366\u003c/td\u003e\\n      \u003ctd\u003e28.561857\u003c/td\u003e\\n      \u003ctd\u003e0\u003c/td\u003e\\n    \u003c/tr\u003e\\n  \u003c/tbody\u003e\\n\u003c/table\u003e\\n\u003c/div\u003e\"}, \"metadata\": {}}]}, {\"metadata\": {}, \"cell_type\": \"code\", \"source\": \"X = pd.read_csv('https://cf-courses-data.s3.us.cloud-object-storage.appdomain.cloud/IBM-DS0321EN-SkillsNetwork/datasets/dataset_part_3.csv')\\n\\n# If you were unable to complete the previous lab correctly you can uncomment and load this csv\\n\\nX = pd.read_csv('https://cf-courses-data.s3.us.cloud-object-storage.appdomain.cloud/IBMDeveloperSkillsNetwork-DS0701EN-SkillsNetwork/api/dataset_part_3.csv')\\n\\nX.head(100)\", \"execution_count\": 4, \"outputs\": [{\"output_type\": \"execute_result\", \"execution_count\": 4, \"data\": {\"text/plain\": \"    FlightNumber   PayloadMass  Flights  Block  ReusedCount  Orbit_ES-L1  \\\\\\n0            1.0   6104.959412      1.0    1.0          0.0          0.0   \\n1            2.0    525.000000      1.0    1.0          0.0          0.0   \\n2            3.0    677.000000      1.0    1.0          0.0          0.0   \\n3            4.0    500.000000      1.0    1.0          0.0          0.0   \\n4            5.0   3170.000000      1.0    1.0          0.0          0.0   \\n..           ...           ...      ...    ...          ...          ...   \\n85          86.0  15400.000000      2.0    5.0          2.0          0.0   \\n86          87.0  15400.000000      3.0    5.0          2.0          0.0   \\n87          88.0  15400.000000      6.0    5.0          5.0          0.0   \\n88          89.0  15400.000000      3.0    5.0          2.0          0.0   \\n89          90.0   3681.000000      1.0    5.0          0.0          0.0   \\n\\n    Orbit_GEO  Orbit_GTO  Orbit_HEO  Orbit_ISS  ...  Serial_B1058  \\\\\\n0         0.0        0.0        0.0        0.0  ...           0.0   \\n1         0.0        0.0        0.0        0.0  ...           0.0   \\n2         0.0        0.0        0.0        1.0  ...           0.0   \\n3         0.0        0.0        0.0        0.0  ...           0.0   \\n4         0.0        1.0        0.0        0.0  ...           0.0   \\n..        ...        ...        ...        ...  ...           ...   \\n85        0.0        0.0        0.0        0.0  ...           0.0   \\n86        0.0        0.0        0.0        0.0  ...           1.0   \\n87        0.0        0.0        0.0        0.0  ...           0.0   \\n88        0.0        0.0        0.0        0.0  ...           0.0   \\n89        0.0        0.0        0.0        0.0  ...           0.0   \\n\\n    Serial_B1059  Serial_B1060  Serial_B1062  GridFins_False  GridFins_True  \\\\\\n0            0.0           0.0           0.0             1.0            0.0   \\n1            0.0           0.0           0.0             1.0            0.0   \\n2            0.0           0.0           0.0             1.0            0.0   \\n3            0.0           0.0           0.0             1.0            0.0   \\n4            0.0           0.0           0.0             1.0            0.0   \\n..           ...           ...           ...             ...            ...   \\n85           0.0           1.0           0.0             0.0            1.0   \\n86           0.0           0.0           0.0             0.0            1.0   \\n87           0.0           0.0           0.0             0.0            1.0   \\n88           0.0           1.0           0.0             0.0            1.0   \\n89           0.0           0.0           1.0             0.0            1.0   \\n\\n    Reused_False  Reused_True  Legs_False  Legs_True  \\n0            1.0          0.0         1.0        0.0  \\n1            1.0          0.0         1.0        0.0  \\n2            1.0          0.0         1.0        0.0  \\n3            1.0          0.0         1.0        0.0  \\n4            1.0          0.0         1.0        0.0  \\n..           ...          ...         ...        ...  \\n85           0.0          1.0         0.0        1.0  \\n86           0.0          1.0         0.0        1.0  \\n87           0.0          1.0         0.0        1.0  \\n88           0.0          1.0         0.0        1.0  \\n89           1.0          0.0         0.0        1.0  \\n\\n[90 rows x 83 columns]\", \"text/html\": \"\u003cdiv\u003e\\n\u003cstyle scoped\u003e\\n    .dataframe tbody tr th:only-of-type {\\n        vertical-align: middle;\\n    }\\n\\n    .dataframe tbody tr th {\\n        vertical-align: top;\\n    }\\n\\n    .dataframe thead th {\\n        text-align: right;\\n    }\\n\u003c/style\u003e\\n\u003ctable border=\\\"1\\\" class=\\\"dataframe\\\"\u003e\\n  \u003cthead\u003e\\n    \u003ctr style=\\\"text-align: right;\\\"\u003e\\n      \u003cth\u003e\u003c/th\u003e\\n      \u003cth\u003eFlightNumber\u003c/th\u003e\\n      \u003cth\u003ePayloadMass\u003c/th\u003e\\n      \u003cth\u003eFlights\u003c/th\u003e\\n      \u003cth\u003eBlock\u003c/th\u003e\\n      \u003cth\u003eReusedCount\u003c/th\u003e\\n      \u003cth\u003eOrbit_ES-L1\u003c/th\u003e\\n      \u003cth\u003eOrbit_GEO\u003c/th\u003e\\n      \u003cth\u003eOrbit_GTO\u003c/th\u003e\\n      \u003cth\u003eOrbit_HEO\u003c/th\u003e\\n      \u003cth\u003eOrbit_ISS\u003c/th\u003e\\n      \u003cth\u003e...\u003c/th\u003e\\n      \u003cth\u003eSerial_B1058\u003c/th\u003e\\n      \u003cth\u003eSerial_B1059\u003c/th\u003e\\n      \u003cth\u003eSerial_B1060\u003c/th\u003e\\n      \u003cth\u003eSerial_B1062\u003c/th\u003e\\n      \u003cth\u003eGridFins_False\u003c/th\u003e\\n      \u003cth\u003eGridFins_True\u003c/th\u003e\\n      \u003cth\u003eReused_False\u003c/th\u003e\\n      \u003cth\u003eReused_True\u003c/th\u003e\\n      \u003cth\u003eLegs_False\u003c/th\u003e\\n      \u003cth\u003eLegs_True\u003c/th\u003e\\n    \u003c/tr\u003e\\n  \u003c/thead\u003e\\n  \u003ctbody\u003e\\n    \u003ctr\u003e\\n      \u003cth\u003e0\u003c/th\u003e\\n      \u003ctd\u003e1.0\u003c/td\u003e\\n      \u003ctd\u003e6104.959412\u003c/td\u003e\\n      \u003ctd\u003e1.0\u003c/td\u003e\\n      \u003ctd\u003e1.0\u003c/td\u003e\\n      \u003ctd\u003e0.0\u003c/td\u003e\\n      \u003ctd\u003e0.0\u003c/td\u003e\\n      \u003ctd\u003e0.0\u003c/td\u003e\\n      \u003ctd\u003e0.0\u003c/td\u003e\\n      \u003ctd\u003e0.0\u003c/td\u003e\\n      \u003ctd\u003e0.0\u003c/td\u003e\\n      \u003ctd\u003e...\u003c/td\u003e\\n      \u003ctd\u003e0.0\u003c/td\u003e\\n      \u003ctd\u003e0.0\u003c/td\u003e\\n      \u003ctd\u003e0.0\u003c/td\u003e\\n      \u003ctd\u003e0.0\u003c/td\u003e\\n      \u003ctd\u003e1.0\u003c/td\u003e\\n      \u003ctd\u003e0.0\u003c/td\u003e\\n      \u003ctd\u003e1.0\u003c/td\u003e\\n      \u003ctd\u003e0.0\u003c/td\u003e\\n      \u003ctd\u003e1.0\u003c/td\u003e\\n      \u003ctd\u003e0.0\u003c/td\u003e\\n    \u003c/tr\u003e\\n    \u003ctr\u003e\\n      \u003cth\u003e1\u003c/th\u003e\\n      \u003ctd\u003e2.0\u003c/td\u003e\\n      \u003ctd\u003e525.000000\u003c/td\u003e\\n      \u003ctd\u003e1.0\u003c/td\u003e\\n      \u003ctd\u003e1.0\u003c/td\u003e\\n      \u003ctd\u003e0.0\u003c/td\u003e\\n      \u003ctd\u003e0.0\u003c/td\u003e\\n      \u003ctd\u003e0.0\u003c/td\u003e\\n      \u003ctd\u003e0.0\u003c/td\u003e\\n      \u003ctd\u003e0.0\u003c/td\u003e\\n      \u003ctd\u003e0.0\u003c/td\u003e\\n      \u003ctd\u003e...\u003c/td\u003e\\n      \u003ctd\u003e0.0\u003c/td\u003e\\n      \u003ctd\u003e0.0\u003c/td\u003e\\n      \u003ctd\u003e0.0\u003c/td\u003e\\n      \u003ctd\u003e0.0\u003c/td\u003e\\n      \u003ctd\u003e1.0\u003c/td\u003e\\n      \u003ctd\u003e0.0\u003c/td\u003e\\n      \u003ctd\u003e1.0\u003c/td\u003e\\n      \u003ctd\u003e0.0\u003c/td\u003e\\n      \u003ctd\u003e1.0\u003c/td\u003e\\n      \u003ctd\u003e0.0\u003c/td\u003e\\n    \u003c/tr\u003e\\n    \u003ctr\u003e\\n      \u003cth\u003e2\u003c/th\u003e\\n      \u003ctd\u003e3.0\u003c/td\u003e\\n      \u003ctd\u003e677.000000\u003c/td\u003e\\n      \u003ctd\u003e1.0\u003c/td\u003e\\n      \u003ctd\u003e1.0\u003c/td\u003e\\n      \u003ctd\u003e0.0\u003c/td\u003e\\n      \u003ctd\u003e0.0\u003c/td\u003e\\n      \u003ctd\u003e0.0\u003c/td\u003e\\n      \u003ctd\u003e0.0\u003c/td\u003e\\n      \u003ctd\u003e0.0\u003c/td\u003e\\n      \u003ctd\u003e1.0\u003c/td\u003e\\n      \u003ctd\u003e...\u003c/td\u003e\\n      \u003ctd\u003e0.0\u003c/td\u003e\\n      \u003ctd\u003e0.0\u003c/td\u003e\\n      \u003ctd\u003e0.0\u003c/td\u003e\\n      \u003ctd\u003e0.0\u003c/td\u003e\\n      \u003ctd\u003e1.0\u003c/td\u003e\\n      \u003ctd\u003e0.0\u003c/td\u003e\\n      \u003ctd\u003e1.0\u003c/td\u003e\\n      \u003ctd\u003e0.0\u003c/td\u003e\\n      \u003ctd\u003e1.0\u003c/td\u003e\\n      \u003ctd\u003e0.0\u003c/td\u003e\\n    \u003c/tr\u003e\\n    \u003ctr\u003e\\n      \u003cth\u003e3\u003c/th\u003e\\n      \u003ctd\u003e4.0\u003c/td\u003e\\n      \u003ctd\u003e500.000000\u003c/td\u003e\\n      \u003ctd\u003e1.0\u003c/td\u003e\\n      \u003ctd\u003e1.0\u003c/td\u003e\\n      \u003ctd\u003e0.0\u003c/td\u003e\\n      \u003ctd\u003e0.0\u003c/td\u003e\\n      \u003ctd\u003e0.0\u003c/td\u003e\\n      \u003ctd\u003e0.0\u003c/td\u003e\\n      \u003ctd\u003e0.0\u003c/td\u003e\\n      \u003ctd\u003e0.0\u003c/td\u003e\\n      \u003ctd\u003e...\u003c/td\u003e\\n      \u003ctd\u003e0.0\u003c/td\u003e\\n      \u003ctd\u003e0.0\u003c/td\u003e\\n      \u003ctd\u003e0.0\u003c/td\u003e\\n      \u003ctd\u003e0.0\u003c/td\u003e\\n      \u003ctd\u003e1.0\u003c/td\u003e\\n      \u003ctd\u003e0.0\u003c/td\u003e\\n      \u003ctd\u003e1.0\u003c/td\u003e\\n      \u003ctd\u003e0.0\u003c/td\u003e\\n      \u003ctd\u003e1.0\u003c/td\u003e\\n      \u003ctd\u003e0.0\u003c/td\u003e\\n    \u003c/tr\u003e\\n    \u003ctr\u003e\\n      \u003cth\u003e4\u003c/th\u003e\\n      \u003ctd\u003e5.0\u003c/td\u003e\\n      \u003ctd\u003e3170.000000\u003c/td\u003e\\n      \u003ctd\u003e1.0\u003c/td\u003e\\n      \u003ctd\u003e1.0\u003c/td\u003e\\n      \u003ctd\u003e0.0\u003c/td\u003e\\n      \u003ctd\u003e0.0\u003c/td\u003e\\n      \u003ctd\u003e0.0\u003c/td\u003e\\n      \u003ctd\u003e1.0\u003c/td\u003e\\n      \u003ctd\u003e0.0\u003c/td\u003e\\n      \u003ctd\u003e0.0\u003c/td\u003e\\n      \u003ctd\u003e...\u003c/td\u003e\\n      \u003ctd\u003e0.0\u003c/td\u003e\\n      \u003ctd\u003e0.0\u003c/td\u003e\\n      \u003ctd\u003e0.0\u003c/td\u003e\\n      \u003ctd\u003e0.0\u003c/td\u003e\\n      \u003ctd\u003e1.0\u003c/td\u003e\\n      \u003ctd\u003e0.0\u003c/td\u003e\\n      \u003ctd\u003e1.0\u003c/td\u003e\\n      \u003ctd\u003e0.0\u003c/td\u003e\\n      \u003ctd\u003e1.0\u003c/td\u003e\\n      \u003ctd\u003e0.0\u003c/td\u003e\\n    \u003c/tr\u003e\\n    \u003ctr\u003e\\n      \u003cth\u003e...\u003c/th\u003e\\n      \u003ctd\u003e...\u003c/td\u003e\\n      \u003ctd\u003e...\u003c/td\u003e\\n      \u003ctd\u003e...\u003c/td\u003e\\n      \u003ctd\u003e...\u003c/td\u003e\\n      \u003ctd\u003e...\u003c/td\u003e\\n      \u003ctd\u003e...\u003c/td\u003e\\n      \u003ctd\u003e...\u003c/td\u003e\\n      \u003ctd\u003e...\u003c/td\u003e\\n      \u003ctd\u003e...\u003c/td\u003e\\n      \u003ctd\u003e...\u003c/td\u003e\\n      \u003ctd\u003e...\u003c/td\u003e\\n      \u003ctd\u003e...\u003c/td\u003e\\n      \u003ctd\u003e...\u003c/td\u003e\\n      \u003ctd\u003e...\u003c/td\u003e\\n      \u003ctd\u003e...\u003c/td\u003e\\n      \u003ctd\u003e...\u003c/td\u003e\\n      \u003ctd\u003e...\u003c/td\u003e\\n      \u003ctd\u003e...\u003c/td\u003e\\n      \u003ctd\u003e...\u003c/td\u003e\\n      \u003ctd\u003e...\u003c/td\u003e\\n      \u003ctd\u003e...\u003c/td\u003e\\n    \u003c/tr\u003e\\n    \u003ctr\u003e\\n      \u003cth\u003e85\u003c/th\u003e\\n      \u003ctd\u003e86.0\u003c/td\u003e\\n      \u003ctd\u003e15400.000000\u003c/td\u003e\\n      \u003ctd\u003e2.0\u003c/td\u003e\\n      \u003ctd\u003e5.0\u003c/td\u003e\\n      \u003ctd\u003e2.0\u003c/td\u003e\\n      \u003ctd\u003e0.0\u003c/td\u003e\\n      \u003ctd\u003e0.0\u003c/td\u003e\\n      \u003ctd\u003e0.0\u003c/td\u003e\\n      \u003ctd\u003e0.0\u003c/td\u003e\\n      \u003ctd\u003e0.0\u003c/td\u003e\\n      \u003ctd\u003e...\u003c/td\u003e\\n      \u003ctd\u003e0.0\u003c/td\u003e\\n      \u003ctd\u003e0.0\u003c/td\u003e\\n      \u003ctd\u003e1.0\u003c/td\u003e\\n      \u003ctd\u003e0.0\u003c/td\u003e\\n      \u003ctd\u003e0.0\u003c/td\u003e\\n      \u003ctd\u003e1.0\u003c/td\u003e\\n      \u003ctd\u003e0.0\u003c/td\u003e\\n      \u003ctd\u003e1.0\u003c/td\u003e\\n      \u003ctd\u003e0.0\u003c/td\u003e\\n      \u003ctd\u003e1.0\u003c/td\u003e\\n    \u003c/tr\u003e\\n    \u003ctr\u003e\\n      \u003cth\u003e86\u003c/th\u003e\\n      \u003ctd\u003e87.0\u003c/td\u003e\\n      \u003ctd\u003e15400.000000\u003c/td\u003e\\n      \u003ctd\u003e3.0\u003c/td\u003e\\n      \u003ctd\u003e5.0\u003c/td\u003e\\n      \u003ctd\u003e2.0\u003c/td\u003e\\n      \u003ctd\u003e0.0\u003c/td\u003e\\n      \u003ctd\u003e0.0\u003c/td\u003e\\n      \u003ctd\u003e0.0\u003c/td\u003e\\n      \u003ctd\u003e0.0\u003c/td\u003e\\n      \u003ctd\u003e0.0\u003c/td\u003e\\n      \u003ctd\u003e...\u003c/td\u003e\\n      \u003ctd\u003e1.0\u003c/td\u003e\\n      \u003ctd\u003e0.0\u003c/td\u003e\\n      \u003ctd\u003e0.0\u003c/td\u003e\\n      \u003ctd\u003e0.0\u003c/td\u003e\\n      \u003ctd\u003e0.0\u003c/td\u003e\\n      \u003ctd\u003e1.0\u003c/td\u003e\\n      \u003ctd\u003e0.0\u003c/td\u003e\\n      \u003ctd\u003e1.0\u003c/td\u003e\\n      \u003ctd\u003e0.0\u003c/td\u003e\\n      \u003ctd\u003e1.0\u003c/td\u003e\\n    \u003c/tr\u003e\\n    \u003ctr\u003e\\n      \u003cth\u003e87\u003c/th\u003e\\n      \u003ctd\u003e88.0\u003c/td\u003e\\n      \u003ctd\u003e15400.000000\u003c/td\u003e\\n      \u003ctd\u003e6.0\u003c/td\u003e\\n      \u003ctd\u003e5.0\u003c/td\u003e\\n      \u003ctd\u003e5.0\u003c/td\u003e\\n      \u003ctd\u003e0.0\u003c/td\u003e\\n      \u003ctd\u003e0.0\u003c/td\u003e\\n      \u003ctd\u003e0.0\u003c/td\u003e\\n      \u003ctd\u003e0.0\u003c/td\u003e\\n      \u003ctd\u003e0.0\u003c/td\u003e\\n      \u003ctd\u003e...\u003c/td\u003e\\n      \u003ctd\u003e0.0\u003c/td\u003e\\n      \u003ctd\u003e0.0\u003c/td\u003e\\n      \u003ctd\u003e0.0\u003c/td\u003e\\n      \u003ctd\u003e0.0\u003c/td\u003e\\n      \u003ctd\u003e0.0\u003c/td\u003e\\n      \u003ctd\u003e1.0\u003c/td\u003e\\n      \u003ctd\u003e0.0\u003c/td\u003e\\n      \u003ctd\u003e1.0\u003c/td\u003e\\n      \u003ctd\u003e0.0\u003c/td\u003e\\n      \u003ctd\u003e1.0\u003c/td\u003e\\n    \u003c/tr\u003e\\n    \u003ctr\u003e\\n      \u003cth\u003e88\u003c/th\u003e\\n      \u003ctd\u003e89.0\u003c/td\u003e\\n      \u003ctd\u003e15400.000000\u003c/td\u003e\\n      \u003ctd\u003e3.0\u003c/td\u003e\\n      \u003ctd\u003e5.0\u003c/td\u003e\\n      \u003ctd\u003e2.0\u003c/td\u003e\\n      \u003ctd\u003e0.0\u003c/td\u003e\\n      \u003ctd\u003e0.0\u003c/td\u003e\\n      \u003ctd\u003e0.0\u003c/td\u003e\\n      \u003ctd\u003e0.0\u003c/td\u003e\\n      \u003ctd\u003e0.0\u003c/td\u003e\\n      \u003ctd\u003e...\u003c/td\u003e\\n      \u003ctd\u003e0.0\u003c/td\u003e\\n      \u003ctd\u003e0.0\u003c/td\u003e\\n      \u003ctd\u003e1.0\u003c/td\u003e\\n      \u003ctd\u003e0.0\u003c/td\u003e\\n      \u003ctd\u003e0.0\u003c/td\u003e\\n      \u003ctd\u003e1.0\u003c/td\u003e\\n      \u003ctd\u003e0.0\u003c/td\u003e\\n      \u003ctd\u003e1.0\u003c/td\u003e\\n      \u003ctd\u003e0.0\u003c/td\u003e\\n      \u003ctd\u003e1.0\u003c/td\u003e\\n    \u003c/tr\u003e\\n    \u003ctr\u003e\\n      \u003cth\u003e89\u003c/th\u003e\\n      \u003ctd\u003e90.0\u003c/td\u003e\\n      \u003ctd\u003e3681.000000\u003c/td\u003e\\n      \u003ctd\u003e1.0\u003c/td\u003e\\n      \u003ctd\u003e5.0\u003c/td\u003e\\n      \u003ctd\u003e0.0\u003c/td\u003e\\n      \u003ctd\u003e0.0\u003c/td\u003e\\n      \u003ctd\u003e0.0\u003c/td\u003e\\n      \u003ctd\u003e0.0\u003c/td\u003e\\n      \u003ctd\u003e0.0\u003c/td\u003e\\n      \u003ctd\u003e0.0\u003c/td\u003e\\n      \u003ctd\u003e...\u003c/td\u003e\\n      \u003ctd\u003e0.0\u003c/td\u003e\\n      \u003ctd\u003e0.0\u003c/td\u003e\\n      \u003ctd\u003e0.0\u003c/td\u003e\\n      \u003ctd\u003e1.0\u003c/td\u003e\\n      \u003ctd\u003e0.0\u003c/td\u003e\\n      \u003ctd\u003e1.0\u003c/td\u003e\\n      \u003ctd\u003e1.0\u003c/td\u003e\\n      \u003ctd\u003e0.0\u003c/td\u003e\\n      \u003ctd\u003e0.0\u003c/td\u003e\\n      \u003ctd\u003e1.0\u003c/td\u003e\\n    \u003c/tr\u003e\\n  \u003c/tbody\u003e\\n\u003c/table\u003e\\n\u003cp\u003e90 rows \\u00d7 83 columns\u003c/p\u003e\\n\u003c/div\u003e\"}, \"metadata\": {}}]}, {\"metadata\": {}, \"cell_type\": \"markdown\", \"source\": \"## TASK  1\\n\"}, {\"metadata\": {}, \"cell_type\": \"markdown\", \"source\": \"Create a NumPy array from the column \u003ccode\u003eClass\u003c/code\u003e in \u003ccode\u003edata\u003c/code\u003e, by applying the method \u003ccode\u003eto_numpy()\u003c/code\u003e  then\\nassign it  to the variable \u003ccode\u003eY\u003c/code\u003e,make sure the output is a  Pandas series (only one bracket df\\\\['name of  column']).\\n\"}, {\"metadata\": {}, \"cell_type\": \"code\", \"source\": \"Y = data['Class'].to_numpy()\\ntype(Y)\\nprint(Y)\", \"execution_count\": 5, \"outputs\": [{\"output_type\": \"stream\", \"text\": \"[0 0 0 0 0 0 1 1 0 0 0 0 1 0 0 0 1 0 0 1 1 1 1 1 0 1 1 0 1 1 0 1 1 1 0 1 1\\n 1 1 1 1 1 1 1 1 0 0 0 1 1 0 0 1 1 1 1 1 1 1 0 0 1 1 1 1 1 1 0 1 1 1 1 0 1\\n 0 1 0 1 1 1 1 1 1 1 1 1 1 1 1 1]\\n\", \"name\": \"stdout\"}]}, {\"metadata\": {}, \"cell_type\": \"markdown\", \"source\": \"## TASK  2\\n\"}, {\"metadata\": {}, \"cell_type\": \"markdown\", \"source\": \"Standardize the data in \u003ccode\u003eX\u003c/code\u003e then reassign it to the variable  \u003ccode\u003eX\u003c/code\u003e using the transform provided below.\\n\"}, {\"metadata\": {}, \"cell_type\": \"code\", \"source\": \"# students get this \\ntransform = preprocessing.StandardScaler()\", \"execution_count\": 6, \"outputs\": []}, {\"metadata\": {}, \"cell_type\": \"code\", \"source\": \"X = preprocessing.StandardScaler().fit(X).transform(X.astype(float))\", \"execution_count\": 7, \"outputs\": []}, {\"metadata\": {}, \"cell_type\": \"markdown\", \"source\": \"We split the data into training and testing data using the  function  \u003ccode\u003etrain_test_split\u003c/code\u003e.   The training data is divided into validation data, a second set used for training  data; then the models are trained and hyperparameters are selected using the function \u003ccode\u003eGridSearchCV\u003c/code\u003e.\\n\"}, {\"metadata\": {}, \"cell_type\": \"markdown\", \"source\": \"## TASK  3\\n\"}, {\"metadata\": {}, \"cell_type\": \"markdown\", \"source\": \"Use the function train_test_split to split the data X and Y into training and test data. Set the parameter test_size to  0.2 and random_state to 2. The training data and test data should be assigned to the following labels.\\n\"}, {\"metadata\": {}, \"cell_type\": \"markdown\", \"source\": \"\u003ccode\u003eX_train, X_test, Y_train, Y_test\u003c/code\u003e\\n\"}, {\"metadata\": {}, \"cell_type\": \"code\", \"source\": \"X_train, X_test, Y_train, Y_test = train_test_split(X, Y, test_size=0.2, random_state=2)\", \"execution_count\": 8, \"outputs\": []}, {\"metadata\": {}, \"cell_type\": \"markdown\", \"source\": \"we can see we only have 18 test samples.\\n\"}, {\"metadata\": {}, \"cell_type\": \"code\", \"source\": \"X_test.shape\", \"execution_count\": 9, \"outputs\": [{\"output_type\": \"execute_result\", \"execution_count\": 9, \"data\": {\"text/plain\": \"(18, 83)\"}, \"metadata\": {}}]}, {\"metadata\": {}, \"cell_type\": \"code\", \"source\": \"X_train.shape\", \"execution_count\": 10, \"outputs\": [{\"output_type\": \"execute_result\", \"execution_count\": 10, \"data\": {\"text/plain\": \"(72, 83)\"}, \"metadata\": {}}]}, {\"metadata\": {}, \"cell_type\": \"code\", \"source\": \"Y_test.shape\", \"execution_count\": 11, \"outputs\": [{\"output_type\": \"execute_result\", \"execution_count\": 11, \"data\": {\"text/plain\": \"(18,)\"}, \"metadata\": {}}]}, {\"metadata\": {}, \"cell_type\": \"code\", \"source\": \"Y_train.shape\", \"execution_count\": 12, \"outputs\": [{\"output_type\": \"execute_result\", \"execution_count\": 12, \"data\": {\"text/plain\": \"(72,)\"}, \"metadata\": {}}]}, {\"metadata\": {}, \"cell_type\": \"markdown\", \"source\": \"## TASK  4\\n\"}, {\"metadata\": {}, \"cell_type\": \"markdown\", \"source\": \"Create a logistic regression object  then create a  GridSearchCV object  \u003ccode\u003elogreg_cv\u003c/code\u003e with cv = 10.  Fit the object to find the best parameters from the dictionary \u003ccode\u003eparameters\u003c/code\u003e.\\n\"}, {\"metadata\": {}, \"cell_type\": \"code\", \"source\": \"parameters ={'C':[0.01,0.1,1],\\n             'penalty':['l2'],\\n             'solver':['lbfgs']}\", \"execution_count\": 13, \"outputs\": []}, {\"metadata\": {}, \"cell_type\": \"code\", \"source\": \"parameters ={\\\"C\\\":[0.01,0.1,1],'penalty':['l2'], 'solver':['lbfgs']}# l1 lasso l2 ridge\\nlr=LogisticRegression()\", \"execution_count\": 14, \"outputs\": []}, {\"metadata\": {}, \"cell_type\": \"code\", \"source\": \"logreg_cv = GridSearchCV(estimator=lr, cv=10, param_grid=parameters)\\nlogreg_cv.fit(X_train, Y_train)\", \"execution_count\": 15, \"outputs\": [{\"output_type\": \"execute_result\", \"execution_count\": 15, \"data\": {\"text/plain\": \"GridSearchCV(cv=10, estimator=LogisticRegression(),\\n             param_grid={'C': [0.01, 0.1, 1], 'penalty': ['l2'],\\n                         'solver': ['lbfgs']})\"}, \"metadata\": {}}]}, {\"metadata\": {}, \"cell_type\": \"markdown\", \"source\": \"We output the \u003ccode\u003eGridSearchCV\u003c/code\u003e object for logistic regression. We display the best parameters using the data attribute \u003ccode\u003ebest_params\\\\_\u003c/code\u003e and the accuracy on the validation data using the data attribute \u003ccode\u003ebest_score\\\\_\u003c/code\u003e.\\n\"}, {\"metadata\": {}, \"cell_type\": \"code\", \"source\": \"print(\\\"best parameters:\\\", logreg_cv.best_params_)\\nprint(\\\"accuracy:\\\", logreg_cv.best_score_)\", \"execution_count\": 16, \"outputs\": [{\"output_type\": \"stream\", \"text\": \"best parameters: {'C': 0.01, 'penalty': 'l2', 'solver': 'lbfgs'}\\naccuracy: 0.8464285714285713\\n\", \"name\": \"stdout\"}]}, {\"metadata\": {}, \"cell_type\": \"markdown\", \"source\": \"## TASK  5\\n\"}, {\"metadata\": {}, \"cell_type\": \"markdown\", \"source\": \"Calculate the accuracy on the test data using the method \u003ccode\u003escore\u003c/code\u003e:\\n\"}, {\"metadata\": {}, \"cell_type\": \"code\", \"source\": \"print(\\\"accuracy :\\\",logreg_cv.score(X_test, Y_test))\", \"execution_count\": 17, \"outputs\": [{\"output_type\": \"stream\", \"text\": \"accuracy : 0.8333333333333334\\n\", \"name\": \"stdout\"}]}, {\"metadata\": {}, \"cell_type\": \"markdown\", \"source\": \"Lets look at the confusion matrix:\\n\"}, {\"metadata\": {}, \"cell_type\": \"code\", \"source\": \"yhat=logreg_cv.predict(X_test)\\nplot_confusion_matrix(Y_test,yhat)\", \"execution_count\": 18, \"outputs\": [{\"output_type\": \"display_data\", \"data\": {\"text/plain\": \"\u003cFigure size 432x288 with 2 Axes\u003e\", \"image/png\": \"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\\n\"}, \"metadata\": {\"needs_background\": \"light\"}}]}, {\"metadata\": {}, \"cell_type\": \"markdown\", \"source\": \"Examining the confusion matrix, we see that logistic regression can distinguish between the different classes.  We see that the major problem is false positives.\\n\"}, {\"metadata\": {}, \"cell_type\": \"markdown\", \"source\": \"## TASK  6\\n\"}, {\"metadata\": {}, \"cell_type\": \"markdown\", \"source\": \"Create a support vector machine object then  create a  \u003ccode\u003eGridSearchCV\u003c/code\u003e object  \u003ccode\u003esvm_cv\u003c/code\u003e with cv - 10.  Fit the object to find the best parameters from the dictionary \u003ccode\u003eparameters\u003c/code\u003e.\\n\"}, {\"metadata\": {}, \"cell_type\": \"code\", \"source\": \"parameters = {'kernel':('linear', 'rbf','poly','rbf', 'sigmoid'),\\n              'C': np.logspace(-3, 3, 5),\\n              'gamma':np.logspace(-3, 3, 5)}\\nsvm = SVC()\", \"execution_count\": 19, \"outputs\": []}, {\"metadata\": {}, \"cell_type\": \"code\", \"source\": \"svm_cv = GridSearchCV(estimator=svm, cv=10, param_grid=parameters)\\nsvm_cv.fit(X_train, Y_train)\", \"execution_count\": 20, \"outputs\": [{\"output_type\": \"execute_result\", \"execution_count\": 20, \"data\": {\"text/plain\": \"GridSearchCV(cv=10, estimator=SVC(),\\n             param_grid={'C': array([1.00000000e-03, 3.16227766e-02, 1.00000000e+00, 3.16227766e+01,\\n       1.00000000e+03]),\\n                         'gamma': array([1.00000000e-03, 3.16227766e-02, 1.00000000e+00, 3.16227766e+01,\\n       1.00000000e+03]),\\n                         'kernel': ('linear', 'rbf', 'poly', 'rbf', 'sigmoid')})\"}, \"metadata\": {}}]}, {\"metadata\": {}, \"cell_type\": \"code\", \"source\": \"print(\\\"best parameters: \\\",svm_cv.best_params_)\\nprint(\\\"accuracy:\\\",svm_cv.best_score_)\", \"execution_count\": 21, \"outputs\": [{\"output_type\": \"stream\", \"text\": \"best parameters:  {'C': 1.0, 'gamma': 0.03162277660168379, 'kernel': 'sigmoid'}\\naccuracy: 0.8482142857142856\\n\", \"name\": \"stdout\"}]}, {\"metadata\": {}, \"cell_type\": \"markdown\", \"source\": \"## TASK  7\\n\"}, {\"metadata\": {}, \"cell_type\": \"markdown\", \"source\": \"Calculate the accuracy on the test data using the method \u003ccode\u003escore\u003c/code\u003e:\\n\"}, {\"metadata\": {}, \"cell_type\": \"code\", \"source\": \"print(\\\"accuracy :\\\", svm_cv.score(X_test, Y_test))\", \"execution_count\": 22, \"outputs\": [{\"output_type\": \"stream\", \"text\": \"accuracy : 0.8333333333333334\\n\", \"name\": \"stdout\"}]}, {\"metadata\": {}, \"cell_type\": \"markdown\", \"source\": \"We can plot the confusion matrix\\n\"}, {\"metadata\": {}, \"cell_type\": \"code\", \"source\": \"yhat=svm_cv.predict(X_test)\\nplot_confusion_matrix(Y_test,yhat)\", \"execution_count\": 23, \"outputs\": [{\"output_type\": \"display_data\", \"data\": {\"text/plain\": \"\u003cFigure size 432x288 with 2 Axes\u003e\", \"image/png\": \"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\\n\"}, \"metadata\": {\"needs_background\": \"light\"}}]}, {\"metadata\": {}, \"cell_type\": \"markdown\", \"source\": \"## TASK  8\\n\"}, {\"metadata\": {}, \"cell_type\": \"markdown\", \"source\": \"Create a decision tree classifier object then  create a  \u003ccode\u003eGridSearchCV\u003c/code\u003e object  \u003ccode\u003etree_cv\u003c/code\u003e with cv = 10.  Fit the object to find the best parameters from the dictionary \u003ccode\u003eparameters\u003c/code\u003e.\\n\"}, {\"metadata\": {}, \"cell_type\": \"code\", \"source\": \"parameters = {'criterion': ['gini', 'entropy'],\\n     'splitter': ['best', 'random'],\\n     'max_depth': [2*n for n in range(1,10)],\\n     'max_features': ['auto', 'sqrt'],\\n     'min_samples_leaf': [1, 2, 4],\\n     'min_samples_split': [2, 5, 10]}\\n\\ntree = DecisionTreeClassifier()\", \"execution_count\": 24, \"outputs\": []}, {\"metadata\": {}, \"cell_type\": \"code\", \"source\": \"tree_cv = GridSearchCV(estimator=tree, cv=10, param_grid=parameters)\\ntree_cv.fit(X_train, Y_train)\", \"execution_count\": 25, \"outputs\": [{\"output_type\": \"execute_result\", \"execution_count\": 25, \"data\": {\"text/plain\": \"GridSearchCV(cv=10, estimator=DecisionTreeClassifier(),\\n             param_grid={'criterion': ['gini', 'entropy'],\\n                         'max_depth': [2, 4, 6, 8, 10, 12, 14, 16, 18],\\n                         'max_features': ['auto', 'sqrt'],\\n                         'min_samples_leaf': [1, 2, 4],\\n                         'min_samples_split': [2, 5, 10],\\n                         'splitter': ['best', 'random']})\"}, \"metadata\": {}}]}, {\"metadata\": {}, \"cell_type\": \"code\", \"source\": \"print(\\\"best parameters: \\\",tree_cv.best_params_)\\nprint(\\\"accuracy:\\\",tree_cv.best_score_)\", \"execution_count\": 26, \"outputs\": [{\"output_type\": \"stream\", \"text\": \"best parameters:  {'criterion': 'gini', 'max_depth': 14, 'max_features': 'sqrt', 'min_samples_leaf': 1, 'min_samples_split': 10, 'splitter': 'random'}\\naccuracy: 0.875\\n\", \"name\": \"stdout\"}]}, {\"metadata\": {}, \"cell_type\": \"markdown\", \"source\": \"## TASK  9\\n\"}, {\"metadata\": {}, \"cell_type\": \"markdown\", \"source\": \"Calculate the accuracy of tree_cv on the test data using the method \u003ccode\u003escore\u003c/code\u003e:\\n\"}, {\"metadata\": {}, \"cell_type\": \"code\", \"source\": \"print(\\\"accuracy :\\\", tree_cv.score(X_test, Y_test))\", \"execution_count\": 27, \"outputs\": [{\"output_type\": \"stream\", \"text\": \"accuracy : 0.8888888888888888\\n\", \"name\": \"stdout\"}]}, {\"metadata\": {}, \"cell_type\": \"markdown\", \"source\": \"We can plot the confusion matrix\\n\"}, {\"metadata\": {}, \"cell_type\": \"code\", \"source\": \"yhat = tree_cv.predict(X_test)\\nplot_confusion_matrix(Y_test,yhat)\", \"execution_count\": 28, \"outputs\": [{\"output_type\": \"display_data\", \"data\": {\"text/plain\": \"\u003cFigure size 432x288 with 2 Axes\u003e\", \"image/png\": \"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\\n\"}, \"metadata\": {\"needs_background\": \"light\"}}]}, {\"metadata\": {}, \"cell_type\": \"markdown\", \"source\": \"## TASK  10\\n\"}, {\"metadata\": {}, \"cell_type\": \"markdown\", \"source\": \"Create a k nearest neighbors object then  create a  \u003ccode\u003eGridSearchCV\u003c/code\u003e object  \u003ccode\u003eknn_cv\u003c/code\u003e with cv = 10.  Fit the object to find the best parameters from the dictionary \u003ccode\u003eparameters\u003c/code\u003e.\\n\"}, {\"metadata\": {}, \"cell_type\": \"code\", \"source\": \"parameters = {'n_neighbors': [1, 2, 3, 4, 5, 6, 7, 8, 9, 10],\\n              'algorithm': ['auto', 'ball_tree', 'kd_tree', 'brute'],\\n              'p': [1,2]}\\n\\nKNN = KNeighborsClassifier()\", \"execution_count\": 29, \"outputs\": []}, {\"metadata\": {}, \"cell_type\": \"code\", \"source\": \"\\nknn_cv = GridSearchCV(estimator=KNN, cv=10, param_grid=parameters)\\nknn_cv.fit(X_train, Y_train)\", \"execution_count\": 30, \"outputs\": [{\"output_type\": \"execute_result\", \"execution_count\": 30, \"data\": {\"text/plain\": \"GridSearchCV(cv=10, estimator=KNeighborsClassifier(),\\n             param_grid={'algorithm': ['auto', 'ball_tree', 'kd_tree', 'brute'],\\n                         'n_neighbors': [1, 2, 3, 4, 5, 6, 7, 8, 9, 10],\\n                         'p': [1, 2]})\"}, \"metadata\": {}}]}, {\"metadata\": {}, \"cell_type\": \"code\", \"source\": \"print(\\\"best parameters: \\\",knn_cv.best_params_)\\nprint(\\\"accuracy:\\\",knn_cv.best_score_)\", \"execution_count\": 31, \"outputs\": [{\"output_type\": \"stream\", \"text\": \"best parameters:  {'algorithm': 'auto', 'n_neighbors': 10, 'p': 1}\\naccuracy: 0.8482142857142858\\n\", \"name\": \"stdout\"}]}, {\"metadata\": {}, \"cell_type\": \"markdown\", \"source\": \"## TASK  11\\n\"}, {\"metadata\": {}, \"cell_type\": \"markdown\", \"source\": \"Calculate the accuracy of tree_cv on the test data using the method \u003ccode\u003escore\u003c/code\u003e:\\n\"}, {\"metadata\": {}, \"cell_type\": \"code\", \"source\": \"print(\\\"accuracy :\\\", knn_cv.score(X_test, Y_test))\", \"execution_count\": 32, \"outputs\": [{\"output_type\": \"stream\", \"text\": \"accuracy : 0.8333333333333334\\n\", \"name\": \"stdout\"}]}, {\"metadata\": {}, \"cell_type\": \"markdown\", \"source\": \"We can plot the confusion matrix\\n\"}, {\"metadata\": {}, \"cell_type\": \"code\", \"source\": \"yhat = knn_cv.predict(X_test)\\nplot_confusion_matrix(Y_test,yhat)\", \"execution_count\": 33, \"outputs\": [{\"output_type\": \"display_data\", \"data\": {\"text/plain\": \"\u003cFigure size 432x288 with 2 Axes\u003e\", \"image/png\": \"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\\n\"}, \"metadata\": {\"needs_background\": \"light\"}}]}, {\"metadata\": {}, \"cell_type\": \"markdown\", \"source\": \"## TASK  12\\n\"}, {\"metadata\": {}, \"cell_type\": \"markdown\", \"source\": \"Find the method performs best:\\n\"}, {\"metadata\": {}, \"cell_type\": \"code\", \"source\": \"comparison  = {}\\ncomparison['LogReg'] = {'Accuracy': logreg_cv.best_score_, 'TestAccuracy': logreg_cv.score(X_test, Y_test)}\\ncomparison['SVM'] = {'Accuracy': svm_cv.best_score_, 'TestAccuracy': svm_cv.score(X_test, Y_test)}\\ncomparison['Tree'] = {'Accuracy': tree_cv.best_score_, 'TestAccuracy': tree_cv.score(X_test, Y_test)}\\ncomparison['KNN'] = {'Accuracy': knn_cv.best_score_, 'TestAccuracy': knn_cv.score(X_test, Y_test)}\\n\\nx = []\\ny1 = []\\ny2 = []\\n\\nfor method in comparison.keys():\\n    x.append(method)    \\n    y1.append(comparison[method]['Accuracy'])\\n    y2.append(comparison[method]['TestAccuracy'])\\n    \\n\\nx_axis = np.arange(len(x))\\n\\nplt.bar(x_axis, y1, label = 'Accuracy')\\nplt.bar(x_axis, y2, label = 'Test Accuracy')\\n\\nplt.xticks(x_axis, x)\\n\\nplt.xlabel(\\\"Methods\\\")\\nplt.ylabel(\\\"Accuracy Core\\\")\\nplt.title(\\\"Method Accuracy Comparison\\\")\\nplt.legend()\\nplt.show()\", \"execution_count\": 35, \"outputs\": [{\"output_type\": \"display_data\", \"data\": {\"text/plain\": \"\u003cFigure size 432x288 with 1 Axes\u003e\", \"image/png\": \"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\\n\"}, \"metadata\": {\"needs_background\": \"light\"}}]}, {\"metadata\": {}, \"cell_type\": \"code\", \"source\": \"print(\\\"Model\\\\t\\\\tAccuracy\\\\tTestAccuracy\\\")#,logreg_cv.best_score_)\\nprint(\\\"LogReg\\\\t\\\\t{}\\\\t\\\\t{}\\\".format((logreg_cv.best_score_).round(3), logreg_cv.score(X_test, Y_test).round(3)))\\nprint(\\\"SVM\\\\t\\\\t{}\\\\t\\\\t{}\\\".format((svm_cv.best_score_).round(3), svm_cv.score(X_test, Y_test).round(3)))\\nprint(\\\"Tree\\\\t\\\\t{}\\\\t\\\\t{}\\\".format((tree_cv.best_score_).round(3), tree_cv.score(X_test, Y_test).round(3)))\\nprint(\\\"KNN\\\\t\\\\t{}\\\\t\\\\t{}\\\".format((knn_cv.best_score_).round(3), knn_cv.score(X_test, Y_test).round(3)))\", \"execution_count\": 36, \"outputs\": [{\"output_type\": \"stream\", \"text\": \"Model\\t\\tAccuracy\\tTestAccuracy\\nLogReg\\t\\t0.846\\t\\t0.833\\nSVM\\t\\t0.848\\t\\t0.833\\nTree\\t\\t0.875\\t\\t0.889\\nKNN\\t\\t0.848\\t\\t0.833\\n\", \"name\": \"stdout\"}]}, {\"metadata\": {}, \"cell_type\": \"markdown\", \"source\": \"## Authors\\n\"}, {\"metadata\": {}, \"cell_type\": \"markdown\", \"source\": \"\u003ca href=\\\"https://www.linkedin.com/in/joseph-s-50398b136/?utm_medium=Exinfluencer\u0026utm_source=Exinfluencer\u0026utm_content=000026UJ\u0026utm_term=10006555\u0026utm_id=NA-SkillsNetwork-Channel-SkillsNetworkCoursesIBMDS0321ENSkillsNetwork26802033-2022-01-01\\\"\u003eJoseph Santarcangelo\u003c/a\u003e has a PhD in Electrical Engineering, his research focused on using machine learning, signal processing, and computer vision to determine how videos impact human cognition. Joseph has been working for IBM since he completed his PhD.\\n\"}, {\"metadata\": {}, \"cell_type\": \"markdown\", \"source\": \"## Change Log\\n\"}, {\"metadata\": {}, \"cell_type\": \"markdown\", \"source\": \"| Date (YYYY-MM-DD) | Version | Changed By    | Change Description      |\\n| ----------------- | ------- | ------------- | ----------------------- |\\n| 2021-08-31        | 1.1     | Lakshmi Holla | Modified markdown       |\\n| 2020-09-20        | 1.0     | Joseph        | Modified Multiple Areas |\\n\"}, {\"metadata\": {}, \"cell_type\": \"markdown\", \"source\": \"Copyright \\u00a9 2020 IBM Corporation. All rights reserved.\\n\"}], \"metadata\": {\"kernelspec\": {\"name\": \"python3\", \"display_name\": \"Python 3.9\", \"language\": \"python\"}, \"language_info\": {\"name\": \"python\", \"version\": \"3.9.12\", \"mimetype\": \"text/x-python\", \"codemirror_mode\": {\"name\": \"ipython\", \"version\": 3}, \"pygments_lexer\": \"ipython3\", \"nbconvert_exporter\": \"python\", \"file_extension\": \".py\"}}, \"nbformat\": 4, \"nbformat_minor\": 4}"],"stylingDirectives":null,"csv":null,"csvError":null,"dependabotInfo":{"showConfigurationBanner":false,"configFilePath":null,"networkDependabotPath":"/saivuttunoori/Coursera-Data-Science/network/updates","dismissConfigurationNoticePath":"/settings/dismiss-notice/dependabot_configuration_notice","configurationNoticeDismissed":null,"repoAlertsPath":"/saivuttunoori/Coursera-Data-Science/security/dependabot","repoSecurityAndAnalysisPath":"/saivuttunoori/Coursera-Data-Science/settings/security_analysis","repoOwnerIsOrg":false,"currentUserCanAdminRepo":false},"displayName":"SpaceX Machine Learning Prediction.ipynb","displayUrl":"https://notebooks.githubusercontent.com/view/ipynb?browser=chrome\u0026bypass_fastly=true\u0026color_mode=auto\u0026commit=3c29162e0646f77141cc8893cd62d2e93fe62629\u0026device=unknown_device\u0026docs_host=https%3A%2F%2Fdocs.github.com\u0026enc_url=68747470733a2f2f7261772e67697468756275736572636f6e74656e742e636f6d2f73616976757474756e6f6f72692f436f7572736572612d446174612d536369656e63652f336332393136326530363436663737313431636338383933636436326432653933666536323632392f5370616365582532304d616368696e652532304c6561726e696e6725323050726564696374696f6e2e6970796e62\u0026logged_in=false\u0026nwo=saivuttunoori%2FCoursera-Data-Science\u0026path=SpaceX+Machine+Learning+Prediction.ipynb\u0026platform=windows\u0026repository_id=686678873\u0026repository_type=Repository\u0026version=118","headerInfo":{"blobSize":"92.4 KB","deleteInfo":{"deleteTooltip":"You must be signed in to make or propose changes"},"editInfo":{"editTooltip":"You must be signed in to make or propose changes"},"ghDesktopPath":"https://desktop.github.com","gitLfsPath":null,"onBranch":true,"shortPath":"99bb000","siteNavLoginPath":"/login?return_to=https%3A%2F%2Fgithub.com%2Fsaivuttunoori%2FCoursera-Data-Science%2Fblob%2Fmain%2FSpaceX%2520Machine%2520Learning%2520Prediction.ipynb","isCSV":false,"isRichtext":false,"toc":null,"lineInfo":{"truncatedLoc":"1","truncatedSloc":"1"},"mode":"file"},"image":false,"isCodeownersFile":null,"isPlain":false,"isValidLegacyIssueTemplate":false,"issueTemplateHelpUrl":"https://docs.github.com/articles/about-issue-and-pull-request-templates","issueTemplate":null,"discussionTemplate":null,"language":"Jupyter Notebook","languageID":185,"large":false,"loggedIn":false,"newDiscussionPath":"/saivuttunoori/Coursera-Data-Science/discussions/new","newIssuePath":"/saivuttunoori/Coursera-Data-Science/issues/new","planSupportInfo":{"repoIsFork":null,"repoOwnedByCurrentUser":null,"requestFullPath":"/saivuttunoori/Coursera-Data-Science/blob/main/SpaceX%20Machine%20Learning%20Prediction.ipynb","showFreeOrgGatedFeatureMessage":null,"showPlanSupportBanner":null,"upgradeDataAttributes":null,"upgradePath":null},"publishBannersInfo":{"dismissActionNoticePath":"/settings/dismiss-notice/publish_action_from_dockerfile","dismissStackNoticePath":"/settings/dismiss-notice/publish_stack_from_file","releasePath":"/saivuttunoori/Coursera-Data-Science/releases/new?marketplace=true","showPublishActionBanner":false,"showPublishStackBanner":false},"rawBlobUrl":"https://github.com/saivuttunoori/Coursera-Data-Science/raw/main/SpaceX%20Machine%20Learning%20Prediction.ipynb","renderImageOrRaw":false,"richText":null,"renderedFileInfo":{"identityUUID":"3b6e238e-5a28-40cf-8d56-c7e5ede0a1a1","renderFileType":"ipynb","size":94659},"shortPath":null,"tabSize":8,"topBannersInfo":{"overridingGlobalFundingFile":false,"globalPreferredFundingPath":null,"repoOwner":"saivuttunoori","repoName":"Coursera-Data-Science","showInvalidCitationWarning":false,"citationHelpUrl":"https://docs.github.com/en/github/creating-cloning-and-archiving-repositories/creating-a-repository-on-github/about-citation-files","showDependabotConfigurationBanner":false,"actionsOnboardingTip":null},"truncated":false,"viewable":true,"workflowRedirectUrl":null,"symbols":{"timedOut":false,"notAnalyzed":true,"symbols":[]}},"copilotInfo":null,"copilotAccessAllowed":false,"csrf_tokens":{"/saivuttunoori/Coursera-Data-Science/branches":{"post":"xNwJjlQg3T1SrGUtMkTfwRn7ybpFfw64v0RavNmSzHIvDPKvrDpFuYqAhsPidXvkqqfXvtsLPOBC8kqtvF3Yyw"},"/repos/preferences":{"post":"ZjVoDIkd-kJ4-4IkYxJqBlP1CywCplg4H8nsFMLHP1pKOUW69HGx22IDkEXKAVHObz_cB1lkonjJb4IW5mEusA"}}},"title":"Coursera-Data-Science/SpaceX Machine Learning Prediction.ipynb at main · saivuttunoori/Coursera-Data-Science","appPayload":{"helpUrl":"https://docs.github.com","findFileWorkerPath":"/assets-cdn/worker/find-file-worker-32bb159cc57c.js","findInFileWorkerPath":"/assets-cdn/worker/find-in-file-worker-ce6d5c15d2a1.js","githubDevUrl":null,"enabled_features":{"code_nav_ui_events":false,"copilot_conversational_ux":false,"copilot_conversational_ux_embedding_update":false,"copilot_conversational_ux_streaming":false,"copilot_popover_file_editor_header":false,"copilot_smell_icebreaker_ux":false}}}</script>
  <div data-target="react-app.reactRoot"></div>
</react-app>
</turbo-frame>



  </div>

</turbo-frame>

    </main>
  </div>

  </div>

          <footer class="footer width-full container-xl p-responsive" role="contentinfo">
  <h2 class='sr-only'>Footer</h2>

  <div class="position-relative d-flex flex-items-center pb-2 f6 color-fg-muted border-top color-border-muted flex-column-reverse flex-lg-row flex-wrap flex-lg-nowrap mt-6 pt-6">
    <div class="list-style-none d-flex flex-wrap col-0 col-lg-2 flex-justify-start flex-lg-justify-between mb-2 mb-lg-0">
      <div class="mt-2 mt-lg-0 d-flex flex-items-center">
        <a aria-label="Homepage" title="GitHub" class="footer-octicon mr-2" href="https://github.com">
          <svg aria-hidden="true" height="24" viewBox="0 0 16 16" version="1.1" width="24" data-view-component="true" class="octicon octicon-mark-github">
    <path d="M8 0c4.42 0 8 3.58 8 8a8.013 8.013 0 0 1-5.45 7.59c-.4.08-.55-.17-.55-.38 0-.27.01-1.13.01-2.2 0-.75-.25-1.23-.54-1.48 1.78-.2 3.65-.88 3.65-3.95 0-.88-.31-1.59-.82-2.15.08-.2.36-1.02-.08-2.12 0 0-.67-.22-2.2.82-.64-.18-1.32-.27-2-.27-.68 0-1.36.09-2 .27-1.53-1.03-2.2-.82-2.2-.82-.44 1.1-.16 1.92-.08 2.12-.51.56-.82 1.28-.82 2.15 0 3.06 1.86 3.75 3.64 3.95-.23.2-.44.55-.51 1.07-.46.21-1.61.55-2.33-.66-.15-.24-.6-.83-1.23-.82-.67.01-.27.38.01.53.34.19.73.9.82 1.13.16.45.68 1.31 2.69.94 0 .67.01 1.3.01 1.49 0 .21-.15.45-.55.38A7.995 7.995 0 0 1 0 8c0-4.42 3.58-8 8-8Z"></path>
</svg>
</a>        <span>
        &copy; 2023 GitHub, Inc.
        </span>
      </div>
    </div>

    <nav aria-label='Footer' class="col-12 col-lg-8">
      <h3 class='sr-only' id='sr-footer-heading'>Footer navigation</h3>
      <ul class="list-style-none d-flex flex-wrap col-12 flex-justify-center flex-lg-justify-between mb-2 mb-lg-0" aria-labelledby='sr-footer-heading'>
          <li class="mr-3 mr-lg-0"><a href="https://docs.github.com/site-policy/github-terms/github-terms-of-service" data-analytics-event="{&quot;category&quot;:&quot;Footer&quot;,&quot;action&quot;:&quot;go to terms&quot;,&quot;label&quot;:&quot;text:terms&quot;}">Terms</a></li>
          <li class="mr-3 mr-lg-0"><a href="https://docs.github.com/site-policy/privacy-policies/github-privacy-statement" data-analytics-event="{&quot;category&quot;:&quot;Footer&quot;,&quot;action&quot;:&quot;go to privacy&quot;,&quot;label&quot;:&quot;text:privacy&quot;}">Privacy</a></li>
          <li class="mr-3 mr-lg-0"><a data-analytics-event="{&quot;category&quot;:&quot;Footer&quot;,&quot;action&quot;:&quot;go to security&quot;,&quot;label&quot;:&quot;text:security&quot;}" href="https://github.com/security">Security</a></li>
          <li class="mr-3 mr-lg-0"><a href="https://www.githubstatus.com/" data-analytics-event="{&quot;category&quot;:&quot;Footer&quot;,&quot;action&quot;:&quot;go to status&quot;,&quot;label&quot;:&quot;text:status&quot;}">Status</a></li>
          <li class="mr-3 mr-lg-0"><a data-ga-click="Footer, go to help, text:Docs" href="https://docs.github.com">Docs</a></li>
          <li class="mr-3 mr-lg-0"><a href="https://support.github.com?tags=dotcom-footer" data-analytics-event="{&quot;category&quot;:&quot;Footer&quot;,&quot;action&quot;:&quot;go to contact&quot;,&quot;label&quot;:&quot;text:contact&quot;}">Contact GitHub</a></li>
          <li class="mr-3 mr-lg-0"><a href="https://github.com/pricing" data-analytics-event="{&quot;category&quot;:&quot;Footer&quot;,&quot;action&quot;:&quot;go to Pricing&quot;,&quot;label&quot;:&quot;text:Pricing&quot;}">Pricing</a></li>
        <li class="mr-3 mr-lg-0"><a href="https://docs.github.com" data-analytics-event="{&quot;category&quot;:&quot;Footer&quot;,&quot;action&quot;:&quot;go to api&quot;,&quot;label&quot;:&quot;text:api&quot;}">API</a></li>
        <li class="mr-3 mr-lg-0"><a href="https://services.github.com" data-analytics-event="{&quot;category&quot;:&quot;Footer&quot;,&quot;action&quot;:&quot;go to training&quot;,&quot;label&quot;:&quot;text:training&quot;}">Training</a></li>
          <li class="mr-3 mr-lg-0"><a href="https://github.blog" data-analytics-event="{&quot;category&quot;:&quot;Footer&quot;,&quot;action&quot;:&quot;go to blog&quot;,&quot;label&quot;:&quot;text:blog&quot;}">Blog</a></li>
          <li><a data-ga-click="Footer, go to about, text:about" href="https://github.com/about">About</a></li>
      </ul>
    </nav>
  </div>

  <div class="d-flex flex-justify-center pb-6">
    <span class="f6 color-fg-muted"></span>
  </div>
</footer>




  <div id="ajax-error-message" class="ajax-error-message flash flash-error" hidden>
    <svg aria-hidden="true" height="16" viewBox="0 0 16 16" version="1.1" width="16" data-view-component="true" class="octicon octicon-alert">
    <path d="M6.457 1.047c.659-1.234 2.427-1.234 3.086 0l6.082 11.378A1.75 1.75 0 0 1 14.082 15H1.918a1.75 1.75 0 0 1-1.543-2.575Zm1.763.707a.25.25 0 0 0-.44 0L1.698 13.132a.25.25 0 0 0 .22.368h12.164a.25.25 0 0 0 .22-.368Zm.53 3.996v2.5a.75.75 0 0 1-1.5 0v-2.5a.75.75 0 0 1 1.5 0ZM9 11a1 1 0 1 1-2 0 1 1 0 0 1 2 0Z"></path>
</svg>
    <button type="button" class="flash-close js-ajax-error-dismiss" aria-label="Dismiss error">
      <svg aria-hidden="true" height="16" viewBox="0 0 16 16" version="1.1" width="16" data-view-component="true" class="octicon octicon-x">
    <path d="M3.72 3.72a.75.75 0 0 1 1.06 0L8 6.94l3.22-3.22a.749.749 0 0 1 1.275.326.749.749 0 0 1-.215.734L9.06 8l3.22 3.22a.749.749 0 0 1-.326 1.275.749.749 0 0 1-.734-.215L8 9.06l-3.22 3.22a.751.751 0 0 1-1.042-.018.751.751 0 0 1-.018-1.042L6.94 8 3.72 4.78a.75.75 0 0 1 0-1.06Z"></path>
</svg>
    </button>
    You can’t perform that action at this time.
  </div>

    <template id="site-details-dialog">
  <details class="details-reset details-overlay details-overlay-dark lh-default color-fg-default hx_rsm" open>
    <summary role="button" aria-label="Close dialog"></summary>
    <details-dialog class="Box Box--overlay d-flex flex-column anim-fade-in fast hx_rsm-dialog hx_rsm-modal">
      <button class="Box-btn-octicon m-0 btn-octicon position-absolute right-0 top-0" type="button" aria-label="Close dialog" data-close-dialog>
        <svg aria-hidden="true" height="16" viewBox="0 0 16 16" version="1.1" width="16" data-view-component="true" class="octicon octicon-x">
    <path d="M3.72 3.72a.75.75 0 0 1 1.06 0L8 6.94l3.22-3.22a.749.749 0 0 1 1.275.326.749.749 0 0 1-.215.734L9.06 8l3.22 3.22a.749.749 0 0 1-.326 1.275.749.749 0 0 1-.734-.215L8 9.06l-3.22 3.22a.751.751 0 0 1-1.042-.018.751.751 0 0 1-.018-1.042L6.94 8 3.72 4.78a.75.75 0 0 1 0-1.06Z"></path>
</svg>
      </button>
      <div class="octocat-spinner my-6 js-details-dialog-spinner"></div>
    </details-dialog>
  </details>
</template>

    <div class="Popover js-hovercard-content position-absolute" style="display: none; outline: none;" tabindex="0">
  <div class="Popover-message Popover-message--bottom-left Popover-message--large Box color-shadow-large" style="width:360px;">
  </div>
</div>

    <template id="snippet-clipboard-copy-button">
  <div class="zeroclipboard-container position-absolute right-0 top-0">
    <clipboard-copy aria-label="Copy" class="ClipboardButton btn js-clipboard-copy m-2 p-0 tooltipped-no-delay" data-copy-feedback="Copied!" data-tooltip-direction="w">
      <svg aria-hidden="true" height="16" viewBox="0 0 16 16" version="1.1" width="16" data-view-component="true" class="octicon octicon-copy js-clipboard-copy-icon m-2">
    <path d="M0 6.75C0 5.784.784 5 1.75 5h1.5a.75.75 0 0 1 0 1.5h-1.5a.25.25 0 0 0-.25.25v7.5c0 .138.112.25.25.25h7.5a.25.25 0 0 0 .25-.25v-1.5a.75.75 0 0 1 1.5 0v1.5A1.75 1.75 0 0 1 9.25 16h-7.5A1.75 1.75 0 0 1 0 14.25Z"></path><path d="M5 1.75C5 .784 5.784 0 6.75 0h7.5C15.216 0 16 .784 16 1.75v7.5A1.75 1.75 0 0 1 14.25 11h-7.5A1.75 1.75 0 0 1 5 9.25Zm1.75-.25a.25.25 0 0 0-.25.25v7.5c0 .138.112.25.25.25h7.5a.25.25 0 0 0 .25-.25v-7.5a.25.25 0 0 0-.25-.25Z"></path>
</svg>
      <svg aria-hidden="true" height="16" viewBox="0 0 16 16" version="1.1" width="16" data-view-component="true" class="octicon octicon-check js-clipboard-check-icon color-fg-success d-none m-2">
    <path d="M13.78 4.22a.75.75 0 0 1 0 1.06l-7.25 7.25a.75.75 0 0 1-1.06 0L2.22 9.28a.751.751 0 0 1 .018-1.042.751.751 0 0 1 1.042-.018L6 10.94l6.72-6.72a.75.75 0 0 1 1.06 0Z"></path>
</svg>
    </clipboard-copy>
  </div>
</template>
<template id="snippet-clipboard-copy-button-unpositioned">
  <div class="zeroclipboard-container">
    <clipboard-copy aria-label="Copy" class="ClipboardButton btn btn-invisible js-clipboard-copy m-2 p-0 tooltipped-no-delay d-flex flex-justify-center flex-items-center" data-copy-feedback="Copied!" data-tooltip-direction="w">
      <svg aria-hidden="true" height="16" viewBox="0 0 16 16" version="1.1" width="16" data-view-component="true" class="octicon octicon-copy js-clipboard-copy-icon">
    <path d="M0 6.75C0 5.784.784 5 1.75 5h1.5a.75.75 0 0 1 0 1.5h-1.5a.25.25 0 0 0-.25.25v7.5c0 .138.112.25.25.25h7.5a.25.25 0 0 0 .25-.25v-1.5a.75.75 0 0 1 1.5 0v1.5A1.75 1.75 0 0 1 9.25 16h-7.5A1.75 1.75 0 0 1 0 14.25Z"></path><path d="M5 1.75C5 .784 5.784 0 6.75 0h7.5C15.216 0 16 .784 16 1.75v7.5A1.75 1.75 0 0 1 14.25 11h-7.5A1.75 1.75 0 0 1 5 9.25Zm1.75-.25a.25.25 0 0 0-.25.25v7.5c0 .138.112.25.25.25h7.5a.25.25 0 0 0 .25-.25v-7.5a.25.25 0 0 0-.25-.25Z"></path>
</svg>
      <svg aria-hidden="true" height="16" viewBox="0 0 16 16" version="1.1" width="16" data-view-component="true" class="octicon octicon-check js-clipboard-check-icon color-fg-success d-none">
    <path d="M13.78 4.22a.75.75 0 0 1 0 1.06l-7.25 7.25a.75.75 0 0 1-1.06 0L2.22 9.28a.751.751 0 0 1 .018-1.042.751.751 0 0 1 1.042-.018L6 10.94l6.72-6.72a.75.75 0 0 1 1.06 0Z"></path>
</svg>
    </clipboard-copy>
  </div>
</template>




    </div>

    <div id="js-global-screen-reader-notice" class="sr-only" aria-live="polite" ></div>
    <div id="js-global-screen-reader-notice-assertive" class="sr-only" aria-live="assertive"></div>
  </body>
</html>

