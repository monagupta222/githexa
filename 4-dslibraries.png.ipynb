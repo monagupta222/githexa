{
 "cells": [
  {
   "cell_type": "markdown",
   "id": "6ac3839e-683f-42f8-bf4f-4e1a15878290",
   "metadata": {
    "tags": []
   },
   "source": [
    "In the field of data science, there are several programming languages that are commonly used for analysis and visualization.\n",
    "\n",
    "1. Python\n",
    "2. R\n",
    "3. SQL\n",
    "4. Julia\n",
    "5. Scala\n"
   ]
  },
  {
   "cell_type": "code",
   "execution_count": null,
   "id": "7b82cc1c-ea73-4b3c-9145-940285ceeccb",
   "metadata": {},
   "outputs": [],
   "source": []
  }
 ],
 "metadata": {
  "kernelspec": {
   "display_name": "Python",
   "language": "python",
   "name": "conda-env-python-py"
  },
  "language_info": {
   "codemirror_mode": {
    "name": "ipython",
    "version": 3
   },
   "file_extension": ".py",
   "mimetype": "text/x-python",
   "name": "python",
   "nbconvert_exporter": "python",
   "pygments_lexer": "ipython3",
   "version": "3.7.12"
  }
 },
 "nbformat": 4,
 "nbformat_minor": 5
}
