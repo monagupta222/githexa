





<!DOCTYPE html>
<html lang="en" data-color-mode="auto" data-light-theme="light" data-dark-theme="dark"  data-a11y-animated-images="system" data-a11y-link-underlines="true">



  <head>
    <meta charset="utf-8">
  <link rel="dns-prefetch" href="https://github.githubassets.com">
  <link rel="dns-prefetch" href="https://avatars.githubusercontent.com">
  <link rel="dns-prefetch" href="https://github-cloud.s3.amazonaws.com">
  <link rel="dns-prefetch" href="https://user-images.githubusercontent.com/">
  <link rel="preconnect" href="https://github.githubassets.com" crossorigin>
  <link rel="preconnect" href="https://avatars.githubusercontent.com">

  


  <link crossorigin="anonymous" media="all" rel="stylesheet" href="https://github.githubassets.com/assets/light-b92e9647318f.css" /><link crossorigin="anonymous" media="all" rel="stylesheet" href="https://github.githubassets.com/assets/dark-5d486a4ede8e.css" /><link data-color-theme="dark_dimmed" crossorigin="anonymous" media="all" rel="stylesheet" data-href="https://github.githubassets.com/assets/dark_dimmed-27c8d635e4e5.css" /><link data-color-theme="dark_high_contrast" crossorigin="anonymous" media="all" rel="stylesheet" data-href="https://github.githubassets.com/assets/dark_high_contrast-8438e75afd36.css" /><link data-color-theme="dark_colorblind" crossorigin="anonymous" media="all" rel="stylesheet" data-href="https://github.githubassets.com/assets/dark_colorblind-bf5665b96628.css" /><link data-color-theme="light_colorblind" crossorigin="anonymous" media="all" rel="stylesheet" data-href="https://github.githubassets.com/assets/light_colorblind-c414b5ba1dce.css" /><link data-color-theme="light_high_contrast" crossorigin="anonymous" media="all" rel="stylesheet" data-href="https://github.githubassets.com/assets/light_high_contrast-e5868b7374db.css" /><link data-color-theme="light_tritanopia" crossorigin="anonymous" media="all" rel="stylesheet" data-href="https://github.githubassets.com/assets/light_tritanopia-299ac9c64ec0.css" /><link data-color-theme="dark_tritanopia" crossorigin="anonymous" media="all" rel="stylesheet" data-href="https://github.githubassets.com/assets/dark_tritanopia-3a26e78ad0ff.css" />
    <link crossorigin="anonymous" media="all" rel="stylesheet" href="https://github.githubassets.com/assets/primer-primitives-363ec1831c26.css" />
    <link crossorigin="anonymous" media="all" rel="stylesheet" href="https://github.githubassets.com/assets/primer-ba77178b8574.css" />
    <link crossorigin="anonymous" media="all" rel="stylesheet" href="https://github.githubassets.com/assets/global-1b1d81338242.css" />
    <link crossorigin="anonymous" media="all" rel="stylesheet" href="https://github.githubassets.com/assets/github-9c22f1a8e428.css" />
  <link crossorigin="anonymous" media="all" rel="stylesheet" href="https://github.githubassets.com/assets/code-71ecd5638fbf.css" />

  

  <script type="application/json" id="client-env">{"locale":"en","featureFlags":["failbot_handle_non_errors","geojson_azure_maps","image_metric_tracking","turbo_experiment_risky","sample_network_conn_type"]}</script>
<script crossorigin="anonymous" defer="defer" type="application/javascript" src="https://github.githubassets.com/assets/wp-runtime-aba2cd364486.js"></script>
<script crossorigin="anonymous" defer="defer" type="application/javascript" src="https://github.githubassets.com/assets/vendors-node_modules_dompurify_dist_purify_js-6890e890956f.js"></script>
<script crossorigin="anonymous" defer="defer" type="application/javascript" src="https://github.githubassets.com/assets/vendors-node_modules_stacktrace-parser_dist_stack-trace-parser_esm_js-node_modules_github_bro-a4c183-79f9611c275b.js"></script>
<script crossorigin="anonymous" defer="defer" type="application/javascript" src="https://github.githubassets.com/assets/ui_packages_soft-nav_soft-nav_ts-6a5fadd2ef71.js"></script>
<script crossorigin="anonymous" defer="defer" type="application/javascript" src="https://github.githubassets.com/assets/environment-569829d98e9a.js"></script>
<script crossorigin="anonymous" defer="defer" type="application/javascript" src="https://github.githubassets.com/assets/vendors-node_modules_github_selector-observer_dist_index_esm_js-9f960d9b217c.js"></script>
<script crossorigin="anonymous" defer="defer" type="application/javascript" src="https://github.githubassets.com/assets/vendors-node_modules_primer_behaviors_dist_esm_focus-zone_js-d9ce45da2851.js"></script>
<script crossorigin="anonymous" defer="defer" type="application/javascript" src="https://github.githubassets.com/assets/vendors-node_modules_github_relative-time-element_dist_index_js-c6fd49e3fd28.js"></script>
<script crossorigin="anonymous" defer="defer" type="application/javascript" src="https://github.githubassets.com/assets/vendors-node_modules_fzy_js_index_js-node_modules_github_combobox-nav_dist_index_js-node_modu-344bff-421f7a8c1008.js"></script>
<script crossorigin="anonymous" defer="defer" type="application/javascript" src="https://github.githubassets.com/assets/vendors-node_modules_delegated-events_dist_index_js-node_modules_github_details-dialog-elemen-29dc30-a2a71f11a507.js"></script>
<script crossorigin="anonymous" defer="defer" type="application/javascript" src="https://github.githubassets.com/assets/vendors-node_modules_github_filter-input-element_dist_index_js-node_modules_github_remote-inp-59c459-e74bf552c5b7.js"></script>
<script crossorigin="anonymous" defer="defer" type="application/javascript" src="https://github.githubassets.com/assets/vendors-node_modules_github_file-attachment-element_dist_index_js-node_modules_primer_view-co-2c6968-68313e1bab1d.js"></script>
<script crossorigin="anonymous" defer="defer" type="application/javascript" src="https://github.githubassets.com/assets/github-elements-566950f6cdd3.js"></script>
<script crossorigin="anonymous" defer="defer" type="application/javascript" src="https://github.githubassets.com/assets/element-registry-056dadb65de9.js"></script>
<script crossorigin="anonymous" defer="defer" type="application/javascript" src="https://github.githubassets.com/assets/vendors-node_modules_github_catalyst_lib_index_js-node_modules_github_hydro-analytics-client_-978abc0-15861e0630b6.js"></script>
<script crossorigin="anonymous" defer="defer" type="application/javascript" src="https://github.githubassets.com/assets/vendors-node_modules_lit-html_lit-html_js-5b376145beff.js"></script>
<script crossorigin="anonymous" defer="defer" type="application/javascript" src="https://github.githubassets.com/assets/vendors-node_modules_github_mini-throttle_dist_index_js-node_modules_github_alive-client_dist-bf5aa2-1b562c29ab8e.js"></script>
<script crossorigin="anonymous" defer="defer" type="application/javascript" src="https://github.githubassets.com/assets/vendors-node_modules_morphdom_dist_morphdom-esm_js-5bff297a06de.js"></script>
<script crossorigin="anonymous" defer="defer" type="application/javascript" src="https://github.githubassets.com/assets/vendors-node_modules_github_turbo_dist_turbo_es2017-esm_js-ec51a0f6e881.js"></script>
<script crossorigin="anonymous" defer="defer" type="application/javascript" src="https://github.githubassets.com/assets/vendors-node_modules_color-convert_index_js-72c9fbde5ad4.js"></script>
<script crossorigin="anonymous" defer="defer" type="application/javascript" src="https://github.githubassets.com/assets/vendors-node_modules_primer_behaviors_dist_esm_dimensions_js-node_modules_github_hotkey_dist_-8755d2-0ac4a16a6cca.js"></script>
<script crossorigin="anonymous" defer="defer" type="application/javascript" src="https://github.githubassets.com/assets/vendors-node_modules_github_session-resume_dist_index_js-node_modules_primer_behaviors_dist_e-ac74c6-637fd908cfc1.js"></script>
<script crossorigin="anonymous" defer="defer" type="application/javascript" src="https://github.githubassets.com/assets/vendors-node_modules_github_paste-markdown_dist_index_esm_js-node_modules_github_quote-select-854ff4-201063b8cc44.js"></script>
<script crossorigin="anonymous" defer="defer" type="application/javascript" src="https://github.githubassets.com/assets/ui_packages_details-dialog_details-dialog_ts-ui_packages_fetch-utils_fetch-utils_ts-1dae7baac466.js"></script>
<script crossorigin="anonymous" defer="defer" type="application/javascript" src="https://github.githubassets.com/assets/app_assets_modules_github_updatable-content_ts-ui_packages_hydro-analytics_hydro-analytics_ts-6ab1a34074c8.js"></script>
<script crossorigin="anonymous" defer="defer" type="application/javascript" src="https://github.githubassets.com/assets/app_assets_modules_github_behaviors_task-list_ts-app_assets_modules_github_onfocus_ts-app_ass-079b43-84f860f8b7d6.js"></script>
<script crossorigin="anonymous" defer="defer" type="application/javascript" src="https://github.githubassets.com/assets/app_assets_modules_github_sticky-scroll-into-view_ts-f982282c5c39.js"></script>
<script crossorigin="anonymous" defer="defer" type="application/javascript" src="https://github.githubassets.com/assets/app_assets_modules_github_behaviors_ajax-error_ts-app_assets_modules_github_behaviors_include-2e2258-178d980b559e.js"></script>
<script crossorigin="anonymous" defer="defer" type="application/javascript" src="https://github.githubassets.com/assets/app_assets_modules_github_behaviors_commenting_edit_ts-app_assets_modules_github_behaviors_ht-83c235-b85e9f4f1304.js"></script>
<script crossorigin="anonymous" defer="defer" type="application/javascript" src="https://github.githubassets.com/assets/behaviors-e257e48ebcff.js"></script>
<script crossorigin="anonymous" defer="defer" type="application/javascript" src="https://github.githubassets.com/assets/vendors-node_modules_delegated-events_dist_index_js-node_modules_github_catalyst_lib_index_js-d0256ebff5cd.js"></script>
<script crossorigin="anonymous" defer="defer" type="application/javascript" src="https://github.githubassets.com/assets/notifications-global-99d196517b1b.js"></script>
<script crossorigin="anonymous" defer="defer" type="application/javascript" src="https://github.githubassets.com/assets/code-menu-9ea38b1fd5ad.js"></script>
  
  <script crossorigin="anonymous" defer="defer" type="application/javascript" src="https://github.githubassets.com/assets/react-lib-1fbfc5be2c18.js"></script>
<script crossorigin="anonymous" defer="defer" type="application/javascript" src="https://github.githubassets.com/assets/vendors-node_modules_primer_octicons-react_dist_index_esm_js-node_modules_primer_react_lib-es-2e8e7c-247c295eeaf1.js"></script>
<script crossorigin="anonymous" defer="defer" type="application/javascript" src="https://github.githubassets.com/assets/vendors-node_modules_primer_react_lib-esm_Box_Box_js-ebfceb11fb57.js"></script>
<script crossorigin="anonymous" defer="defer" type="application/javascript" src="https://github.githubassets.com/assets/vendors-node_modules_primer_react_lib-esm_Button_Button_js-60b00491ef3b.js"></script>
<script crossorigin="anonymous" defer="defer" type="application/javascript" src="https://github.githubassets.com/assets/vendors-node_modules_primer_react_lib-esm__VisuallyHidden_js-node_modules_primer_react_node_m-054ea3-d40b49e262db.js"></script>
<script crossorigin="anonymous" defer="defer" type="application/javascript" src="https://github.githubassets.com/assets/vendors-node_modules_primer_react_lib-esm_Button_index_js-node_modules_primer_react_lib-esm_O-701f13-0fd985ad14dc.js"></script>
<script crossorigin="anonymous" defer="defer" type="application/javascript" src="https://github.githubassets.com/assets/vendors-node_modules_primer_react_lib-esm_Text_Text_js-node_modules_primer_react_lib-esm_Text-85a14b-9b27ed54a3ef.js"></script>
<script crossorigin="anonymous" defer="defer" type="application/javascript" src="https://github.githubassets.com/assets/vendors-node_modules_primer_react_lib-esm_ActionList_index_js-102f4b796990.js"></script>
<script crossorigin="anonymous" defer="defer" type="application/javascript" src="https://github.githubassets.com/assets/vendors-node_modules_primer_react_lib-esm_ActionMenu_ActionMenu_js-9f1a313dca7f.js"></script>
<script crossorigin="anonymous" defer="defer" type="application/javascript" src="https://github.githubassets.com/assets/vendors-node_modules_primer_behaviors_dist_esm_scroll-into-view_js-node_modules_primer_react_-04bb1b-3e9cb0f38dfb.js"></script>
<script crossorigin="anonymous" defer="defer" type="application/javascript" src="https://github.githubassets.com/assets/vendors-node_modules_primer_react_lib-esm_FormControl_FormControl_js-5caeabd3a049.js"></script>
<script crossorigin="anonymous" defer="defer" type="application/javascript" src="https://github.githubassets.com/assets/vendors-node_modules_react-router-dom_dist_index_js-6df0edbb3b11.js"></script>
<script crossorigin="anonymous" defer="defer" type="application/javascript" src="https://github.githubassets.com/assets/vendors-node_modules_primer_react_lib-esm_PageLayout_PageLayout_js-6d204414df4f.js"></script>
<script crossorigin="anonymous" defer="defer" type="application/javascript" src="https://github.githubassets.com/assets/vendors-node_modules_primer_react_lib-esm_Label_Label_js-node_modules_primer_react_lib-esm_Oc-9ded4f-3fb70e9a8111.js"></script>
<script crossorigin="anonymous" defer="defer" type="application/javascript" src="https://github.githubassets.com/assets/vendors-node_modules_primer_react_lib-esm_Dialog_js-node_modules_primer_react_lib-esm_TabNav_-8321f5-dc0ea4d70a46.js"></script>
<script crossorigin="anonymous" defer="defer" type="application/javascript" src="https://github.githubassets.com/assets/vendors-node_modules_primer_react_lib-esm_UnderlineNav2_index_js-7ca2d460cd25.js"></script>
<script crossorigin="anonymous" defer="defer" type="application/javascript" src="https://github.githubassets.com/assets/vendors-node_modules_primer_react_lib-esm_BranchName_BranchName_js-node_modules_primer_react_-47506c-00510ffda39d.js"></script>
<script crossorigin="anonymous" defer="defer" type="application/javascript" src="https://github.githubassets.com/assets/vendors-node_modules_primer_react_lib-esm_AvatarStack_AvatarStack_js-node_modules_primer_reac-6d3540-e7c40167bae5.js"></script>
<script crossorigin="anonymous" defer="defer" type="application/javascript" src="https://github.githubassets.com/assets/vendors-node_modules_primer_react_lib-esm_Avatar_Avatar_js-node_modules_primer_react_lib-esm_-5bb308-843a22881d7f.js"></script>
<script crossorigin="anonymous" defer="defer" type="application/javascript" src="https://github.githubassets.com/assets/ui_packages_react-core_create-browser-history_ts-ui_packages_react-core_deferred-registry_ts--ebbb92-42b84521809f.js"></script>
<script crossorigin="anonymous" defer="defer" type="application/javascript" src="https://github.githubassets.com/assets/ui_packages_react-core_register-app_ts-211bc4a0e633.js"></script>
<script crossorigin="anonymous" defer="defer" type="application/javascript" src="https://github.githubassets.com/assets/ui_packages_ref-selector_RefSelector_tsx-7bf4f270bbcf.js"></script>
<script crossorigin="anonymous" defer="defer" type="application/javascript" src="https://github.githubassets.com/assets/app_assets_modules_github_blob-anchor_ts-app_assets_modules_github_filter-sort_ts-app_assets_-681869-5bba11e3ea7a.js"></script>
<script crossorigin="anonymous" defer="defer" type="application/javascript" src="https://github.githubassets.com/assets/ui_packages_commit-attribution_index_ts-ui_packages_commit-checks-status_index_ts-ui_packages-cc11d2-43d9c6c8b3b2.js"></script>
<script crossorigin="anonymous" defer="defer" type="application/javascript" src="https://github.githubassets.com/assets/app_assets_modules_react-code-view_pages_CodeView_tsx-0ce58ed038a3.js"></script>
<script crossorigin="anonymous" defer="defer" type="application/javascript" src="https://github.githubassets.com/assets/react-code-view-2bec29cf9a92.js"></script>


  <title>Coursera-Data-Science/Data Collection-Web Scraping.ipynb at main · saivuttunoori/Coursera-Data-Science · GitHub</title>



  <meta name="route-pattern" content="/:user_id/:repository/blob/*name(/*path)">

    
  <meta name="current-catalog-service-hash" content="82c569b93da5c18ed649ebd4c2c79437db4611a6a1373e805a3cb001c64130b7">


  <meta name="request-id" content="DAE1:1003E5:112B1DC:1372D41:653E3AE9" data-pjax-transient="true"/><meta name="html-safe-nonce" content="5d3ef03dd2fee11e17bcb55a4e9d8f983af8f66f11c73b23b0d5dd5bbe5c13e1" data-pjax-transient="true"/><meta name="visitor-payload" content="eyJyZWZlcnJlciI6Imh0dHBzOi8vZ2l0aHViLmNvbS9zYWl2dXR0dW5vb3JpL0NvdXJzZXJhLURhdGEtU2NpZW5jZSIsInJlcXVlc3RfaWQiOiJEQUUxOjEwMDNFNToxMTJCMURDOjEzNzJENDE6NjUzRTNBRTkiLCJ2aXNpdG9yX2lkIjoiMjA4NzI3NTExNDUxNDg2Nzc0NyIsInJlZ2lvbl9lZGdlIjoiY2VudHJhbGluZGlhIiwicmVnaW9uX3JlbmRlciI6ImNlbnRyYWxpbmRpYSJ9" data-pjax-transient="true"/><meta name="visitor-hmac" content="f67c36f4654cb1f8390a2338d3a39d68668286fad68298e576edce7c8872c12e" data-pjax-transient="true"/>


    <meta name="hovercard-subject-tag" content="repository:686678873" data-turbo-transient>


  <meta name="github-keyboard-shortcuts" content="repository,source-code,file-tree" data-turbo-transient="true" />
  

  <meta name="selected-link" value="repo_source" data-turbo-transient>
  <link rel="assets" href="https://github.githubassets.com/">

    <meta name="google-site-verification" content="c1kuD-K2HIVF635lypcsWPoD4kilo5-jA_wBFyT4uMY">
  <meta name="google-site-verification" content="KT5gs8h0wvaagLKAVWq8bbeNwnZZK1r1XQysX3xurLU">
  <meta name="google-site-verification" content="ZzhVyEFwb7w3e0-uOTltm8Jsck2F5StVihD0exw2fsA">
  <meta name="google-site-verification" content="GXs5KoUUkNCoaAZn7wPN-t01Pywp9M3sEjnt_3_ZWPc">
  <meta name="google-site-verification" content="Apib7-x98H0j5cPqHWwSMm6dNU4GmODRoqxLiDzdx9I">

<meta name="octolytics-url" content="https://collector.github.com/github/collect" />

  <meta name="analytics-location" content="/&lt;user-name&gt;/&lt;repo-name&gt;/blob/show" data-turbo-transient="true" />

  




  

    <meta name="user-login" content="">

  

    <meta name="viewport" content="width=device-width">
    
      <meta name="description" content="Contribute to saivuttunoori/Coursera-Data-Science development by creating an account on GitHub.">
      <link rel="search" type="application/opensearchdescription+xml" href="/opensearch.xml" title="GitHub">
    <link rel="fluid-icon" href="https://github.com/fluidicon.png" title="GitHub">
    <meta property="fb:app_id" content="1401488693436528">
    <meta name="apple-itunes-app" content="app-id=1477376905, app-argument=https://github.com/saivuttunoori/Coursera-Data-Science/blob/main/Data%20Collection-Web%20Scraping.ipynb" />
      <meta name="twitter:image:src" content="https://opengraph.githubassets.com/3a8c179db93bd7a16569f6f971ed82ab419e5d1d809163a041e54324faa41964/saivuttunoori/Coursera-Data-Science" /><meta name="twitter:site" content="@github" /><meta name="twitter:card" content="summary_large_image" /><meta name="twitter:title" content="Coursera-Data-Science/Data Collection-Web Scraping.ipynb at main · saivuttunoori/Coursera-Data-Science" /><meta name="twitter:description" content="Contribute to saivuttunoori/Coursera-Data-Science development by creating an account on GitHub." />
      <meta property="og:image" content="https://opengraph.githubassets.com/3a8c179db93bd7a16569f6f971ed82ab419e5d1d809163a041e54324faa41964/saivuttunoori/Coursera-Data-Science" /><meta property="og:image:alt" content="Contribute to saivuttunoori/Coursera-Data-Science development by creating an account on GitHub." /><meta property="og:image:width" content="1200" /><meta property="og:image:height" content="600" /><meta property="og:site_name" content="GitHub" /><meta property="og:type" content="object" /><meta property="og:title" content="Coursera-Data-Science/Data Collection-Web Scraping.ipynb at main · saivuttunoori/Coursera-Data-Science" /><meta property="og:url" content="https://github.com/saivuttunoori/Coursera-Data-Science/blob/main/Data%20Collection-Web%20Scraping.ipynb" /><meta property="og:description" content="Contribute to saivuttunoori/Coursera-Data-Science development by creating an account on GitHub." />
      



        <meta name="hostname" content="github.com">



        <meta name="expected-hostname" content="github.com">


  <meta http-equiv="x-pjax-version" content="c5355c8199ad67f7ce28fca50e03aca7fb999ff0d2df8c9d5cf0a8ca7c7f134f" data-turbo-track="reload">
  <meta http-equiv="x-pjax-csp-version" content="ee14a7165914197d62e19f664bfb961fcfdfc1ec31939a5c7b137fbab1751c87" data-turbo-track="reload">
  <meta http-equiv="x-pjax-css-version" content="5ca546058ab3911c34a4d974c5652c85e4b1ee506c4028fef7c34a61babeefd6" data-turbo-track="reload">
  <meta http-equiv="x-pjax-js-version" content="c91e0ea5c18e4b1f41bbd51dd69ade04e6569061ceda1615958d9184bdb9370e" data-turbo-track="reload">

  <meta name="turbo-cache-control" content="no-preview" data-turbo-transient="">

      <meta name="turbo-cache-control" content="no-cache" data-turbo-transient>
    <meta data-hydrostats="publish">

  <meta name="go-import" content="github.com/saivuttunoori/Coursera-Data-Science git https://github.com/saivuttunoori/Coursera-Data-Science.git">

  <meta name="octolytics-dimension-user_id" content="97359778" /><meta name="octolytics-dimension-user_login" content="saivuttunoori" /><meta name="octolytics-dimension-repository_id" content="686678873" /><meta name="octolytics-dimension-repository_nwo" content="saivuttunoori/Coursera-Data-Science" /><meta name="octolytics-dimension-repository_public" content="true" /><meta name="octolytics-dimension-repository_is_fork" content="false" /><meta name="octolytics-dimension-repository_network_root_id" content="686678873" /><meta name="octolytics-dimension-repository_network_root_nwo" content="saivuttunoori/Coursera-Data-Science" />



  <meta name="turbo-body-classes" content="logged-out env-production page-responsive">


  <meta name="browser-stats-url" content="https://api.github.com/_private/browser/stats">

  <meta name="browser-errors-url" content="https://api.github.com/_private/browser/errors">

  <meta name="browser-optimizely-client-errors-url" content="https://api.github.com/_private/browser/optimizely_client/errors">

  <link rel="mask-icon" href="https://github.githubassets.com/assets/pinned-octocat-093da3e6fa40.svg" color="#000000">
  <link rel="alternate icon" class="js-site-favicon" type="image/png" href="https://github.githubassets.com/favicons/favicon.png">
  <link rel="icon" class="js-site-favicon" type="image/svg+xml" href="https://github.githubassets.com/favicons/favicon.svg">

<meta name="theme-color" content="#1e2327">
<meta name="color-scheme" content="light dark" />


  <link rel="manifest" href="/manifest.json" crossOrigin="use-credentials">

  </head>

  <body class="logged-out env-production page-responsive" style="word-wrap: break-word;">
    <div data-turbo-body class="logged-out env-production page-responsive" style="word-wrap: break-word;">
      


    <div class="position-relative js-header-wrapper ">
      <a href="#start-of-content" class="px-2 py-4 color-bg-accent-emphasis color-fg-on-emphasis show-on-focus js-skip-to-content">Skip to content</a>
      <span data-view-component="true" class="progress-pjax-loader Progress position-fixed width-full">
    <span style="width: 0%;" data-view-component="true" class="Progress-item progress-pjax-loader-bar left-0 top-0 color-bg-accent-emphasis"></span>
</span>      
      


      

        

            

<script crossorigin="anonymous" defer="defer" type="application/javascript" src="https://github.githubassets.com/assets/vendors-node_modules_github_remote-form_dist_index_js-node_modules_delegated-events_dist_inde-94fd67-99519581d0f8.js"></script>
<script crossorigin="anonymous" defer="defer" type="application/javascript" src="https://github.githubassets.com/assets/sessions-575b09d49509.js"></script>
<header class="Header-old header-logged-out js-details-container Details position-relative f4 py-3" role="banner" data-color-mode=light data-light-theme=light data-dark-theme=dark>
  <button type="button" class="Header-backdrop d-lg-none border-0 position-fixed top-0 left-0 width-full height-full js-details-target" aria-label="Toggle navigation">
    <span class="d-none">Toggle navigation</span>
  </button>

  <div class=" d-flex flex-column flex-lg-row flex-items-center p-responsive height-full position-relative z-1">
    <div class="d-flex flex-justify-between flex-items-center width-full width-lg-auto">
      <a class="mr-lg-3 color-fg-inherit flex-order-2" href="https://github.com/" aria-label="Homepage" data-ga-click="(Logged out) Header, go to homepage, icon:logo-wordmark">
        <svg height="32" aria-hidden="true" viewBox="0 0 16 16" version="1.1" width="32" data-view-component="true" class="octicon octicon-mark-github">
    <path d="M8 0c4.42 0 8 3.58 8 8a8.013 8.013 0 0 1-5.45 7.59c-.4.08-.55-.17-.55-.38 0-.27.01-1.13.01-2.2 0-.75-.25-1.23-.54-1.48 1.78-.2 3.65-.88 3.65-3.95 0-.88-.31-1.59-.82-2.15.08-.2.36-1.02-.08-2.12 0 0-.67-.22-2.2.82-.64-.18-1.32-.27-2-.27-.68 0-1.36.09-2 .27-1.53-1.03-2.2-.82-2.2-.82-.44 1.1-.16 1.92-.08 2.12-.51.56-.82 1.28-.82 2.15 0 3.06 1.86 3.75 3.64 3.95-.23.2-.44.55-.51 1.07-.46.21-1.61.55-2.33-.66-.15-.24-.6-.83-1.23-.82-.67.01-.27.38.01.53.34.19.73.9.82 1.13.16.45.68 1.31 2.69.94 0 .67.01 1.3.01 1.49 0 .21-.15.45-.55.38A7.995 7.995 0 0 1 0 8c0-4.42 3.58-8 8-8Z"></path>
</svg>
      </a>

        <div class="flex-1">
          <a href="/signup?ref_cta=Sign+up&amp;ref_loc=header+logged+out&amp;ref_page=%2F%3Cuser-name%3E%2F%3Crepo-name%3E%2Fblob%2Fshow&amp;source=header-repo"
            class="d-inline-block d-lg-none flex-order-1 f5 no-underline border color-border-default rounded-2 px-2 py-1 color-fg-inherit"
            data-hydro-click="{&quot;event_type&quot;:&quot;authentication.click&quot;,&quot;payload&quot;:{&quot;location_in_page&quot;:&quot;site header&quot;,&quot;repository_id&quot;:null,&quot;auth_type&quot;:&quot;SIGN_UP&quot;,&quot;originating_url&quot;:&quot;https://github.com/saivuttunoori/Coursera-Data-Science/blob/main/Data%20Collection-Web%20Scraping.ipynb&quot;,&quot;user_id&quot;:null}}" data-hydro-click-hmac="bcb1f901bc972663347fdd6842a30f24b84251c73c399d526e0fbeff45e43441"
          >
            Sign&nbsp;up
          </a>
        </div>

      <div class="flex-1 flex-order-2 text-right">
          <button aria-label="Toggle navigation" aria-expanded="false" type="button" data-view-component="true" class="js-details-target Button--link Button--medium Button d-lg-none color-fg-inherit p-1">    <span class="Button-content">
      <span class="Button-label"><div class="HeaderMenu-toggle-bar rounded my-1"></div>
            <div class="HeaderMenu-toggle-bar rounded my-1"></div>
            <div class="HeaderMenu-toggle-bar rounded my-1"></div></span>
    </span>
</button>  
      </div>
    </div>


    <div class="HeaderMenu--logged-out p-responsive height-fit position-lg-relative d-lg-flex flex-column flex-auto pt-7 pb-4 top-0">
      <div class="header-menu-wrapper d-flex flex-column flex-self-end flex-lg-row flex-justify-between flex-auto p-3 p-lg-0 rounded rounded-lg-0 mt-3 mt-lg-0">
          <nav class="mt-0 px-3 px-lg-0 mb-3 mb-lg-0" aria-label="Global">
            <ul class="d-lg-flex list-style-none">
                <li class="HeaderMenu-item position-relative flex-wrap flex-justify-between flex-items-center d-block d-lg-flex flex-lg-nowrap flex-lg-items-center js-details-container js-header-menu-item">
      <button type="button" class="HeaderMenu-link border-0 width-full width-lg-auto px-0 px-lg-2 py-3 py-lg-2 no-wrap d-flex flex-items-center flex-justify-between js-details-target" aria-expanded="false">
        Product
        <svg opacity="0.5" aria-hidden="true" height="16" viewBox="0 0 16 16" version="1.1" width="16" data-view-component="true" class="octicon octicon-chevron-down HeaderMenu-icon ml-1">
    <path d="M12.78 5.22a.749.749 0 0 1 0 1.06l-4.25 4.25a.749.749 0 0 1-1.06 0L3.22 6.28a.749.749 0 1 1 1.06-1.06L8 8.939l3.72-3.719a.749.749 0 0 1 1.06 0Z"></path>
</svg>
      </button>
      <div class="HeaderMenu-dropdown dropdown-menu rounded m-0 p-0 py-2 py-lg-4 position-relative position-lg-absolute left-0 left-lg-n3 d-lg-flex dropdown-menu-wide">
          <div class="px-lg-4 border-lg-right mb-4 mb-lg-0 pr-lg-7">
            <ul class="list-style-none f5" >
                <li>
  <a class="HeaderMenu-dropdown-link lh-condensed d-block no-underline position-relative py-2 Link--secondary d-flex flex-items-center pb-lg-3" data-analytics-event="{&quot;category&quot;:&quot;Header dropdown (logged out), Product&quot;,&quot;action&quot;:&quot;click to go to Actions&quot;,&quot;label&quot;:&quot;ref_cta:Actions;&quot;}" href="/features/actions">
      <svg aria-hidden="true" height="24" viewBox="0 0 24 24" version="1.1" width="24" data-view-component="true" class="octicon octicon-workflow color-fg-subtle mr-3">
    <path d="M1 3a2 2 0 0 1 2-2h6.5a2 2 0 0 1 2 2v6.5a2 2 0 0 1-2 2H7v4.063C7 16.355 7.644 17 8.438 17H12.5v-2.5a2 2 0 0 1 2-2H21a2 2 0 0 1 2 2V21a2 2 0 0 1-2 2h-6.5a2 2 0 0 1-2-2v-2.5H8.437A2.939 2.939 0 0 1 5.5 15.562V11.5H3a2 2 0 0 1-2-2Zm2-.5a.5.5 0 0 0-.5.5v6.5a.5.5 0 0 0 .5.5h6.5a.5.5 0 0 0 .5-.5V3a.5.5 0 0 0-.5-.5ZM14.5 14a.5.5 0 0 0-.5.5V21a.5.5 0 0 0 .5.5H21a.5.5 0 0 0 .5-.5v-6.5a.5.5 0 0 0-.5-.5Z"></path>
</svg>
      <div>
        <div class="color-fg-default h4">Actions</div>
        Automate any workflow
      </div>

    
</a></li>

                <li>
  <a class="HeaderMenu-dropdown-link lh-condensed d-block no-underline position-relative py-2 Link--secondary d-flex flex-items-center pb-lg-3" data-analytics-event="{&quot;category&quot;:&quot;Header dropdown (logged out), Product&quot;,&quot;action&quot;:&quot;click to go to Packages&quot;,&quot;label&quot;:&quot;ref_cta:Packages;&quot;}" href="/features/packages">
      <svg aria-hidden="true" height="24" viewBox="0 0 24 24" version="1.1" width="24" data-view-component="true" class="octicon octicon-package color-fg-subtle mr-3">
    <path d="M12.876.64V.639l8.25 4.763c.541.313.875.89.875 1.515v9.525a1.75 1.75 0 0 1-.875 1.516l-8.25 4.762a1.748 1.748 0 0 1-1.75 0l-8.25-4.763a1.75 1.75 0 0 1-.875-1.515V6.917c0-.625.334-1.202.875-1.515L11.126.64a1.748 1.748 0 0 1 1.75 0Zm-1 1.298L4.251 6.34l7.75 4.474 7.75-4.474-7.625-4.402a.248.248 0 0 0-.25 0Zm.875 19.123 7.625-4.402a.25.25 0 0 0 .125-.216V7.639l-7.75 4.474ZM3.501 7.64v8.803c0 .09.048.172.125.216l7.625 4.402v-8.947Z"></path>
</svg>
      <div>
        <div class="color-fg-default h4">Packages</div>
        Host and manage packages
      </div>

    
</a></li>

                <li>
  <a class="HeaderMenu-dropdown-link lh-condensed d-block no-underline position-relative py-2 Link--secondary d-flex flex-items-center pb-lg-3" data-analytics-event="{&quot;category&quot;:&quot;Header dropdown (logged out), Product&quot;,&quot;action&quot;:&quot;click to go to Security&quot;,&quot;label&quot;:&quot;ref_cta:Security;&quot;}" href="/features/security">
      <svg aria-hidden="true" height="24" viewBox="0 0 24 24" version="1.1" width="24" data-view-component="true" class="octicon octicon-shield-check color-fg-subtle mr-3">
    <path d="M16.53 9.78a.75.75 0 0 0-1.06-1.06L11 13.19l-1.97-1.97a.75.75 0 0 0-1.06 1.06l2.5 2.5a.75.75 0 0 0 1.06 0l5-5Z"></path><path d="m12.54.637 8.25 2.675A1.75 1.75 0 0 1 22 4.976V10c0 6.19-3.771 10.704-9.401 12.83a1.704 1.704 0 0 1-1.198 0C5.77 20.705 2 16.19 2 10V4.976c0-.758.489-1.43 1.21-1.664L11.46.637a1.748 1.748 0 0 1 1.08 0Zm-.617 1.426-8.25 2.676a.249.249 0 0 0-.173.237V10c0 5.46 3.28 9.483 8.43 11.426a.199.199 0 0 0 .14 0C17.22 19.483 20.5 15.461 20.5 10V4.976a.25.25 0 0 0-.173-.237l-8.25-2.676a.253.253 0 0 0-.154 0Z"></path>
</svg>
      <div>
        <div class="color-fg-default h4">Security</div>
        Find and fix vulnerabilities
      </div>

    
</a></li>

                <li>
  <a class="HeaderMenu-dropdown-link lh-condensed d-block no-underline position-relative py-2 Link--secondary d-flex flex-items-center pb-lg-3" data-analytics-event="{&quot;category&quot;:&quot;Header dropdown (logged out), Product&quot;,&quot;action&quot;:&quot;click to go to Codespaces&quot;,&quot;label&quot;:&quot;ref_cta:Codespaces;&quot;}" href="/features/codespaces">
      <svg aria-hidden="true" height="24" viewBox="0 0 24 24" version="1.1" width="24" data-view-component="true" class="octicon octicon-codespaces color-fg-subtle mr-3">
    <path d="M3.5 3.75C3.5 2.784 4.284 2 5.25 2h13.5c.966 0 1.75.784 1.75 1.75v7.5A1.75 1.75 0 0 1 18.75 13H5.25a1.75 1.75 0 0 1-1.75-1.75Zm-2 12c0-.966.784-1.75 1.75-1.75h17.5c.966 0 1.75.784 1.75 1.75v4a1.75 1.75 0 0 1-1.75 1.75H3.25a1.75 1.75 0 0 1-1.75-1.75ZM5.25 3.5a.25.25 0 0 0-.25.25v7.5c0 .138.112.25.25.25h13.5a.25.25 0 0 0 .25-.25v-7.5a.25.25 0 0 0-.25-.25Zm-2 12a.25.25 0 0 0-.25.25v4c0 .138.112.25.25.25h17.5a.25.25 0 0 0 .25-.25v-4a.25.25 0 0 0-.25-.25Z"></path><path d="M10 17.75a.75.75 0 0 1 .75-.75h6.5a.75.75 0 0 1 0 1.5h-6.5a.75.75 0 0 1-.75-.75Zm-4 0a.75.75 0 0 1 .75-.75h.5a.75.75 0 0 1 0 1.5h-.5a.75.75 0 0 1-.75-.75Z"></path>
</svg>
      <div>
        <div class="color-fg-default h4">Codespaces</div>
        Instant dev environments
      </div>

    
</a></li>

                <li>
  <a class="HeaderMenu-dropdown-link lh-condensed d-block no-underline position-relative py-2 Link--secondary d-flex flex-items-center pb-lg-3" data-analytics-event="{&quot;category&quot;:&quot;Header dropdown (logged out), Product&quot;,&quot;action&quot;:&quot;click to go to Copilot&quot;,&quot;label&quot;:&quot;ref_cta:Copilot;&quot;}" href="/features/copilot">
      <svg aria-hidden="true" height="24" viewBox="0 0 24 24" version="1.1" width="24" data-view-component="true" class="octicon octicon-copilot color-fg-subtle mr-3">
    <path d="M23.922 16.992c-.861 1.495-5.859 5.023-11.922 5.023-6.063 0-11.061-3.528-11.922-5.023A.641.641 0 0 1 0 16.736v-2.869a.841.841 0 0 1 .053-.22c.372-.935 1.347-2.292 2.605-2.656.167-.429.414-1.055.644-1.517a10.195 10.195 0 0 1-.052-1.086c0-1.331.282-2.499 1.132-3.368.397-.406.89-.717 1.474-.952 1.399-1.136 3.392-2.093 6.122-2.093 2.731 0 4.767.957 6.166 2.093.584.235 1.077.546 1.474.952.85.869 1.132 2.037 1.132 3.368 0 .368-.014.733-.052 1.086.23.462.477 1.088.644 1.517 1.258.364 2.233 1.721 2.605 2.656a.832.832 0 0 1 .053.22v2.869a.641.641 0 0 1-.078.256ZM12.172 11h-.344a4.323 4.323 0 0 1-.355.508C10.703 12.455 9.555 13 7.965 13c-1.725 0-2.989-.359-3.782-1.259a2.005 2.005 0 0 1-.085-.104L4 11.741v6.585c1.435.779 4.514 2.179 8 2.179 3.486 0 6.565-1.4 8-2.179v-6.585l-.098-.104s-.033.045-.085.104c-.793.9-2.057 1.259-3.782 1.259-1.59 0-2.738-.545-3.508-1.492a4.323 4.323 0 0 1-.355-.508h-.016.016Zm.641-2.935c.136 1.057.403 1.913.878 2.497.442.544 1.134.938 2.344.938 1.573 0 2.292-.337 2.657-.751.384-.435.558-1.15.558-2.361 0-1.14-.243-1.847-.705-2.319-.477-.488-1.319-.862-2.824-1.025-1.487-.161-2.192.138-2.533.529-.269.307-.437.808-.438 1.578v.021c0 .265.021.562.063.893Zm-1.626 0c.042-.331.063-.628.063-.894v-.02c-.001-.77-.169-1.271-.438-1.578-.341-.391-1.046-.69-2.533-.529-1.505.163-2.347.537-2.824 1.025-.462.472-.705 1.179-.705 2.319 0 1.211.175 1.926.558 2.361.365.414 1.084.751 2.657.751 1.21 0 1.902-.394 2.344-.938.475-.584.742-1.44.878-2.497Z"></path><path d="M14.5 14.25a1 1 0 0 1 1 1v2a1 1 0 0 1-2 0v-2a1 1 0 0 1 1-1Zm-5 0a1 1 0 0 1 1 1v2a1 1 0 0 1-2 0v-2a1 1 0 0 1 1-1Z"></path>
</svg>
      <div>
        <div class="color-fg-default h4">Copilot</div>
        Write better code with AI
      </div>

    
</a></li>

                <li>
  <a class="HeaderMenu-dropdown-link lh-condensed d-block no-underline position-relative py-2 Link--secondary d-flex flex-items-center pb-lg-3" data-analytics-event="{&quot;category&quot;:&quot;Header dropdown (logged out), Product&quot;,&quot;action&quot;:&quot;click to go to Code review&quot;,&quot;label&quot;:&quot;ref_cta:Code review;&quot;}" href="/features/code-review">
      <svg aria-hidden="true" height="24" viewBox="0 0 24 24" version="1.1" width="24" data-view-component="true" class="octicon octicon-code-review color-fg-subtle mr-3">
    <path d="M10.3 6.74a.75.75 0 0 1-.04 1.06l-2.908 2.7 2.908 2.7a.75.75 0 1 1-1.02 1.1l-3.5-3.25a.75.75 0 0 1 0-1.1l3.5-3.25a.75.75 0 0 1 1.06.04Zm3.44 1.06a.75.75 0 1 1 1.02-1.1l3.5 3.25a.75.75 0 0 1 0 1.1l-3.5 3.25a.75.75 0 1 1-1.02-1.1l2.908-2.7-2.908-2.7Z"></path><path d="M1.5 4.25c0-.966.784-1.75 1.75-1.75h17.5c.966 0 1.75.784 1.75 1.75v12.5a1.75 1.75 0 0 1-1.75 1.75h-9.69l-3.573 3.573A1.458 1.458 0 0 1 5 21.043V18.5H3.25a1.75 1.75 0 0 1-1.75-1.75ZM3.25 4a.25.25 0 0 0-.25.25v12.5c0 .138.112.25.25.25h2.5a.75.75 0 0 1 .75.75v3.19l3.72-3.72a.749.749 0 0 1 .53-.22h10a.25.25 0 0 0 .25-.25V4.25a.25.25 0 0 0-.25-.25Z"></path>
</svg>
      <div>
        <div class="color-fg-default h4">Code review</div>
        Manage code changes
      </div>

    
</a></li>

                <li>
  <a class="HeaderMenu-dropdown-link lh-condensed d-block no-underline position-relative py-2 Link--secondary d-flex flex-items-center pb-lg-3" data-analytics-event="{&quot;category&quot;:&quot;Header dropdown (logged out), Product&quot;,&quot;action&quot;:&quot;click to go to Issues&quot;,&quot;label&quot;:&quot;ref_cta:Issues;&quot;}" href="/features/issues">
      <svg aria-hidden="true" height="24" viewBox="0 0 24 24" version="1.1" width="24" data-view-component="true" class="octicon octicon-issue-opened color-fg-subtle mr-3">
    <path d="M12 1c6.075 0 11 4.925 11 11s-4.925 11-11 11S1 18.075 1 12 5.925 1 12 1ZM2.5 12a9.5 9.5 0 0 0 9.5 9.5 9.5 9.5 0 0 0 9.5-9.5A9.5 9.5 0 0 0 12 2.5 9.5 9.5 0 0 0 2.5 12Zm9.5 2a2 2 0 1 1-.001-3.999A2 2 0 0 1 12 14Z"></path>
</svg>
      <div>
        <div class="color-fg-default h4">Issues</div>
        Plan and track work
      </div>

    
</a></li>

                <li>
  <a class="HeaderMenu-dropdown-link lh-condensed d-block no-underline position-relative py-2 Link--secondary d-flex flex-items-center" data-analytics-event="{&quot;category&quot;:&quot;Header dropdown (logged out), Product&quot;,&quot;action&quot;:&quot;click to go to Discussions&quot;,&quot;label&quot;:&quot;ref_cta:Discussions;&quot;}" href="/features/discussions">
      <svg aria-hidden="true" height="24" viewBox="0 0 24 24" version="1.1" width="24" data-view-component="true" class="octicon octicon-comment-discussion color-fg-subtle mr-3">
    <path d="M1.75 1h12.5c.966 0 1.75.784 1.75 1.75v9.5A1.75 1.75 0 0 1 14.25 14H8.061l-2.574 2.573A1.458 1.458 0 0 1 3 15.543V14H1.75A1.75 1.75 0 0 1 0 12.25v-9.5C0 1.784.784 1 1.75 1ZM1.5 2.75v9.5c0 .138.112.25.25.25h2a.75.75 0 0 1 .75.75v2.19l2.72-2.72a.749.749 0 0 1 .53-.22h6.5a.25.25 0 0 0 .25-.25v-9.5a.25.25 0 0 0-.25-.25H1.75a.25.25 0 0 0-.25.25Z"></path><path d="M22.5 8.75a.25.25 0 0 0-.25-.25h-3.5a.75.75 0 0 1 0-1.5h3.5c.966 0 1.75.784 1.75 1.75v9.5A1.75 1.75 0 0 1 22.25 20H21v1.543a1.457 1.457 0 0 1-2.487 1.03L15.939 20H10.75A1.75 1.75 0 0 1 9 18.25v-1.465a.75.75 0 0 1 1.5 0v1.465c0 .138.112.25.25.25h5.5a.75.75 0 0 1 .53.22l2.72 2.72v-2.19a.75.75 0 0 1 .75-.75h2a.25.25 0 0 0 .25-.25v-9.5Z"></path>
</svg>
      <div>
        <div class="color-fg-default h4">Discussions</div>
        Collaborate outside of code
      </div>

    
</a></li>

            </ul>
          </div>
          <div class="px-lg-4">
              <span class="d-block h4 color-fg-default my-1" id="product-explore-heading">Explore</span>
            <ul class="list-style-none f5" aria-labelledby="product-explore-heading">
                <li>
  <a class="HeaderMenu-dropdown-link lh-condensed d-block no-underline position-relative py-2 Link--secondary" data-analytics-event="{&quot;category&quot;:&quot;Header dropdown (logged out), Product&quot;,&quot;action&quot;:&quot;click to go to All features&quot;,&quot;label&quot;:&quot;ref_cta:All features;&quot;}" href="/features">
      All features

    
</a></li>

                <li>
  <a class="HeaderMenu-dropdown-link lh-condensed d-block no-underline position-relative py-2 Link--secondary" target="_blank" data-analytics-event="{&quot;category&quot;:&quot;Header dropdown (logged out), Product&quot;,&quot;action&quot;:&quot;click to go to Documentation&quot;,&quot;label&quot;:&quot;ref_cta:Documentation;&quot;}" href="https://docs.github.com">
      Documentation

    <svg aria-hidden="true" height="16" viewBox="0 0 16 16" version="1.1" width="16" data-view-component="true" class="octicon octicon-link-external HeaderMenu-external-icon color-fg-subtle">
    <path d="M3.75 2h3.5a.75.75 0 0 1 0 1.5h-3.5a.25.25 0 0 0-.25.25v8.5c0 .138.112.25.25.25h8.5a.25.25 0 0 0 .25-.25v-3.5a.75.75 0 0 1 1.5 0v3.5A1.75 1.75 0 0 1 12.25 14h-8.5A1.75 1.75 0 0 1 2 12.25v-8.5C2 2.784 2.784 2 3.75 2Zm6.854-1h4.146a.25.25 0 0 1 .25.25v4.146a.25.25 0 0 1-.427.177L13.03 4.03 9.28 7.78a.751.751 0 0 1-1.042-.018.751.751 0 0 1-.018-1.042l3.75-3.75-1.543-1.543A.25.25 0 0 1 10.604 1Z"></path>
</svg>
</a></li>

                <li>
  <a class="HeaderMenu-dropdown-link lh-condensed d-block no-underline position-relative py-2 Link--secondary" target="_blank" data-analytics-event="{&quot;category&quot;:&quot;Header dropdown (logged out), Product&quot;,&quot;action&quot;:&quot;click to go to GitHub Skills&quot;,&quot;label&quot;:&quot;ref_cta:GitHub Skills;&quot;}" href="https://skills.github.com/">
      GitHub Skills

    <svg aria-hidden="true" height="16" viewBox="0 0 16 16" version="1.1" width="16" data-view-component="true" class="octicon octicon-link-external HeaderMenu-external-icon color-fg-subtle">
    <path d="M3.75 2h3.5a.75.75 0 0 1 0 1.5h-3.5a.25.25 0 0 0-.25.25v8.5c0 .138.112.25.25.25h8.5a.25.25 0 0 0 .25-.25v-3.5a.75.75 0 0 1 1.5 0v3.5A1.75 1.75 0 0 1 12.25 14h-8.5A1.75 1.75 0 0 1 2 12.25v-8.5C2 2.784 2.784 2 3.75 2Zm6.854-1h4.146a.25.25 0 0 1 .25.25v4.146a.25.25 0 0 1-.427.177L13.03 4.03 9.28 7.78a.751.751 0 0 1-1.042-.018.751.751 0 0 1-.018-1.042l3.75-3.75-1.543-1.543A.25.25 0 0 1 10.604 1Z"></path>
</svg>
</a></li>

                <li>
  <a class="HeaderMenu-dropdown-link lh-condensed d-block no-underline position-relative py-2 Link--secondary" target="_blank" data-analytics-event="{&quot;category&quot;:&quot;Header dropdown (logged out), Product&quot;,&quot;action&quot;:&quot;click to go to Blog&quot;,&quot;label&quot;:&quot;ref_cta:Blog;&quot;}" href="https://github.blog">
      Blog

    <svg aria-hidden="true" height="16" viewBox="0 0 16 16" version="1.1" width="16" data-view-component="true" class="octicon octicon-link-external HeaderMenu-external-icon color-fg-subtle">
    <path d="M3.75 2h3.5a.75.75 0 0 1 0 1.5h-3.5a.25.25 0 0 0-.25.25v8.5c0 .138.112.25.25.25h8.5a.25.25 0 0 0 .25-.25v-3.5a.75.75 0 0 1 1.5 0v3.5A1.75 1.75 0 0 1 12.25 14h-8.5A1.75 1.75 0 0 1 2 12.25v-8.5C2 2.784 2.784 2 3.75 2Zm6.854-1h4.146a.25.25 0 0 1 .25.25v4.146a.25.25 0 0 1-.427.177L13.03 4.03 9.28 7.78a.751.751 0 0 1-1.042-.018.751.751 0 0 1-.018-1.042l3.75-3.75-1.543-1.543A.25.25 0 0 1 10.604 1Z"></path>
</svg>
</a></li>

            </ul>
          </div>
      </div>
</li>


                <li class="HeaderMenu-item position-relative flex-wrap flex-justify-between flex-items-center d-block d-lg-flex flex-lg-nowrap flex-lg-items-center js-details-container js-header-menu-item">
      <button type="button" class="HeaderMenu-link border-0 width-full width-lg-auto px-0 px-lg-2 py-3 py-lg-2 no-wrap d-flex flex-items-center flex-justify-between js-details-target" aria-expanded="false">
        Solutions
        <svg opacity="0.5" aria-hidden="true" height="16" viewBox="0 0 16 16" version="1.1" width="16" data-view-component="true" class="octicon octicon-chevron-down HeaderMenu-icon ml-1">
    <path d="M12.78 5.22a.749.749 0 0 1 0 1.06l-4.25 4.25a.749.749 0 0 1-1.06 0L3.22 6.28a.749.749 0 1 1 1.06-1.06L8 8.939l3.72-3.719a.749.749 0 0 1 1.06 0Z"></path>
</svg>
      </button>
      <div class="HeaderMenu-dropdown dropdown-menu rounded m-0 p-0 py-2 py-lg-4 position-relative position-lg-absolute left-0 left-lg-n3 px-lg-4">
          <div class="border-bottom pb-3 mb-3">
              <span class="d-block h4 color-fg-default my-1" id="solutions-for-heading">For</span>
            <ul class="list-style-none f5" aria-labelledby="solutions-for-heading">
                <li>
  <a class="HeaderMenu-dropdown-link lh-condensed d-block no-underline position-relative py-2 Link--secondary" data-analytics-event="{&quot;category&quot;:&quot;Header dropdown (logged out), Solutions&quot;,&quot;action&quot;:&quot;click to go to Enterprise&quot;,&quot;label&quot;:&quot;ref_cta:Enterprise;&quot;}" href="/enterprise">
      Enterprise

    
</a></li>

                <li>
  <a class="HeaderMenu-dropdown-link lh-condensed d-block no-underline position-relative py-2 Link--secondary" data-analytics-event="{&quot;category&quot;:&quot;Header dropdown (logged out), Solutions&quot;,&quot;action&quot;:&quot;click to go to Teams&quot;,&quot;label&quot;:&quot;ref_cta:Teams;&quot;}" href="/team">
      Teams

    
</a></li>

                <li>
  <a class="HeaderMenu-dropdown-link lh-condensed d-block no-underline position-relative py-2 Link--secondary" data-analytics-event="{&quot;category&quot;:&quot;Header dropdown (logged out), Solutions&quot;,&quot;action&quot;:&quot;click to go to Startups&quot;,&quot;label&quot;:&quot;ref_cta:Startups;&quot;}" href="/enterprise/startups">
      Startups

    
</a></li>

                <li>
  <a class="HeaderMenu-dropdown-link lh-condensed d-block no-underline position-relative py-2 Link--secondary" target="_blank" data-analytics-event="{&quot;category&quot;:&quot;Header dropdown (logged out), Solutions&quot;,&quot;action&quot;:&quot;click to go to Education&quot;,&quot;label&quot;:&quot;ref_cta:Education;&quot;}" href="https://education.github.com">
      Education

    <svg aria-hidden="true" height="16" viewBox="0 0 16 16" version="1.1" width="16" data-view-component="true" class="octicon octicon-link-external HeaderMenu-external-icon color-fg-subtle">
    <path d="M3.75 2h3.5a.75.75 0 0 1 0 1.5h-3.5a.25.25 0 0 0-.25.25v8.5c0 .138.112.25.25.25h8.5a.25.25 0 0 0 .25-.25v-3.5a.75.75 0 0 1 1.5 0v3.5A1.75 1.75 0 0 1 12.25 14h-8.5A1.75 1.75 0 0 1 2 12.25v-8.5C2 2.784 2.784 2 3.75 2Zm6.854-1h4.146a.25.25 0 0 1 .25.25v4.146a.25.25 0 0 1-.427.177L13.03 4.03 9.28 7.78a.751.751 0 0 1-1.042-.018.751.751 0 0 1-.018-1.042l3.75-3.75-1.543-1.543A.25.25 0 0 1 10.604 1Z"></path>
</svg>
</a></li>

            </ul>
          </div>
          <div class="border-bottom pb-3 mb-3">
              <span class="d-block h4 color-fg-default my-1" id="solutions-by-solution-heading">By Solution</span>
            <ul class="list-style-none f5" aria-labelledby="solutions-by-solution-heading">
                <li>
  <a class="HeaderMenu-dropdown-link lh-condensed d-block no-underline position-relative py-2 Link--secondary" data-analytics-event="{&quot;category&quot;:&quot;Header dropdown (logged out), Solutions&quot;,&quot;action&quot;:&quot;click to go to CI/CD &amp;amp; Automation&quot;,&quot;label&quot;:&quot;ref_cta:CI/CD &amp;amp; Automation;&quot;}" href="/solutions/ci-cd/">
      CI/CD &amp; Automation

    
</a></li>

                <li>
  <a class="HeaderMenu-dropdown-link lh-condensed d-block no-underline position-relative py-2 Link--secondary" target="_blank" data-analytics-event="{&quot;category&quot;:&quot;Header dropdown (logged out), Solutions&quot;,&quot;action&quot;:&quot;click to go to DevOps&quot;,&quot;label&quot;:&quot;ref_cta:DevOps;&quot;}" href="https://resources.github.com/devops/">
      DevOps

    <svg aria-hidden="true" height="16" viewBox="0 0 16 16" version="1.1" width="16" data-view-component="true" class="octicon octicon-link-external HeaderMenu-external-icon color-fg-subtle">
    <path d="M3.75 2h3.5a.75.75 0 0 1 0 1.5h-3.5a.25.25 0 0 0-.25.25v8.5c0 .138.112.25.25.25h8.5a.25.25 0 0 0 .25-.25v-3.5a.75.75 0 0 1 1.5 0v3.5A1.75 1.75 0 0 1 12.25 14h-8.5A1.75 1.75 0 0 1 2 12.25v-8.5C2 2.784 2.784 2 3.75 2Zm6.854-1h4.146a.25.25 0 0 1 .25.25v4.146a.25.25 0 0 1-.427.177L13.03 4.03 9.28 7.78a.751.751 0 0 1-1.042-.018.751.751 0 0 1-.018-1.042l3.75-3.75-1.543-1.543A.25.25 0 0 1 10.604 1Z"></path>
</svg>
</a></li>

                <li>
  <a class="HeaderMenu-dropdown-link lh-condensed d-block no-underline position-relative py-2 Link--secondary" target="_blank" data-analytics-event="{&quot;category&quot;:&quot;Header dropdown (logged out), Solutions&quot;,&quot;action&quot;:&quot;click to go to DevSecOps&quot;,&quot;label&quot;:&quot;ref_cta:DevSecOps;&quot;}" href="https://resources.github.com/devops/fundamentals/devsecops/">
      DevSecOps

    <svg aria-hidden="true" height="16" viewBox="0 0 16 16" version="1.1" width="16" data-view-component="true" class="octicon octicon-link-external HeaderMenu-external-icon color-fg-subtle">
    <path d="M3.75 2h3.5a.75.75 0 0 1 0 1.5h-3.5a.25.25 0 0 0-.25.25v8.5c0 .138.112.25.25.25h8.5a.25.25 0 0 0 .25-.25v-3.5a.75.75 0 0 1 1.5 0v3.5A1.75 1.75 0 0 1 12.25 14h-8.5A1.75 1.75 0 0 1 2 12.25v-8.5C2 2.784 2.784 2 3.75 2Zm6.854-1h4.146a.25.25 0 0 1 .25.25v4.146a.25.25 0 0 1-.427.177L13.03 4.03 9.28 7.78a.751.751 0 0 1-1.042-.018.751.751 0 0 1-.018-1.042l3.75-3.75-1.543-1.543A.25.25 0 0 1 10.604 1Z"></path>
</svg>
</a></li>

            </ul>
          </div>
          <div class="">
              <span class="d-block h4 color-fg-default my-1" id="solutions-resources-heading">Resources</span>
            <ul class="list-style-none f5" aria-labelledby="solutions-resources-heading">
                <li>
  <a class="HeaderMenu-dropdown-link lh-condensed d-block no-underline position-relative py-2 Link--secondary" target="_blank" data-analytics-event="{&quot;category&quot;:&quot;Header dropdown (logged out), Solutions&quot;,&quot;action&quot;:&quot;click to go to Learning Pathways&quot;,&quot;label&quot;:&quot;ref_cta:Learning Pathways;&quot;}" href="https://resources.github.com/learn/pathways/">
      Learning Pathways

    <svg aria-hidden="true" height="16" viewBox="0 0 16 16" version="1.1" width="16" data-view-component="true" class="octicon octicon-link-external HeaderMenu-external-icon color-fg-subtle">
    <path d="M3.75 2h3.5a.75.75 0 0 1 0 1.5h-3.5a.25.25 0 0 0-.25.25v8.5c0 .138.112.25.25.25h8.5a.25.25 0 0 0 .25-.25v-3.5a.75.75 0 0 1 1.5 0v3.5A1.75 1.75 0 0 1 12.25 14h-8.5A1.75 1.75 0 0 1 2 12.25v-8.5C2 2.784 2.784 2 3.75 2Zm6.854-1h4.146a.25.25 0 0 1 .25.25v4.146a.25.25 0 0 1-.427.177L13.03 4.03 9.28 7.78a.751.751 0 0 1-1.042-.018.751.751 0 0 1-.018-1.042l3.75-3.75-1.543-1.543A.25.25 0 0 1 10.604 1Z"></path>
</svg>
</a></li>

                <li>
  <a class="HeaderMenu-dropdown-link lh-condensed d-block no-underline position-relative py-2 Link--secondary" target="_blank" data-analytics-event="{&quot;category&quot;:&quot;Header dropdown (logged out), Solutions&quot;,&quot;action&quot;:&quot;click to go to White papers, Ebooks, Webinars&quot;,&quot;label&quot;:&quot;ref_cta:White papers, Ebooks, Webinars;&quot;}" href="https://resources.github.com/">
      White papers, Ebooks, Webinars

    <svg aria-hidden="true" height="16" viewBox="0 0 16 16" version="1.1" width="16" data-view-component="true" class="octicon octicon-link-external HeaderMenu-external-icon color-fg-subtle">
    <path d="M3.75 2h3.5a.75.75 0 0 1 0 1.5h-3.5a.25.25 0 0 0-.25.25v8.5c0 .138.112.25.25.25h8.5a.25.25 0 0 0 .25-.25v-3.5a.75.75 0 0 1 1.5 0v3.5A1.75 1.75 0 0 1 12.25 14h-8.5A1.75 1.75 0 0 1 2 12.25v-8.5C2 2.784 2.784 2 3.75 2Zm6.854-1h4.146a.25.25 0 0 1 .25.25v4.146a.25.25 0 0 1-.427.177L13.03 4.03 9.28 7.78a.751.751 0 0 1-1.042-.018.751.751 0 0 1-.018-1.042l3.75-3.75-1.543-1.543A.25.25 0 0 1 10.604 1Z"></path>
</svg>
</a></li>

                <li>
  <a class="HeaderMenu-dropdown-link lh-condensed d-block no-underline position-relative py-2 Link--secondary" data-analytics-event="{&quot;category&quot;:&quot;Header dropdown (logged out), Solutions&quot;,&quot;action&quot;:&quot;click to go to Customer Stories&quot;,&quot;label&quot;:&quot;ref_cta:Customer Stories;&quot;}" href="/customer-stories">
      Customer Stories

    
</a></li>

                <li>
  <a class="HeaderMenu-dropdown-link lh-condensed d-block no-underline position-relative py-2 Link--secondary" target="_blank" data-analytics-event="{&quot;category&quot;:&quot;Header dropdown (logged out), Solutions&quot;,&quot;action&quot;:&quot;click to go to Partners&quot;,&quot;label&quot;:&quot;ref_cta:Partners;&quot;}" href="https://partner.github.com/">
      Partners

    <svg aria-hidden="true" height="16" viewBox="0 0 16 16" version="1.1" width="16" data-view-component="true" class="octicon octicon-link-external HeaderMenu-external-icon color-fg-subtle">
    <path d="M3.75 2h3.5a.75.75 0 0 1 0 1.5h-3.5a.25.25 0 0 0-.25.25v8.5c0 .138.112.25.25.25h8.5a.25.25 0 0 0 .25-.25v-3.5a.75.75 0 0 1 1.5 0v3.5A1.75 1.75 0 0 1 12.25 14h-8.5A1.75 1.75 0 0 1 2 12.25v-8.5C2 2.784 2.784 2 3.75 2Zm6.854-1h4.146a.25.25 0 0 1 .25.25v4.146a.25.25 0 0 1-.427.177L13.03 4.03 9.28 7.78a.751.751 0 0 1-1.042-.018.751.751 0 0 1-.018-1.042l3.75-3.75-1.543-1.543A.25.25 0 0 1 10.604 1Z"></path>
</svg>
</a></li>

            </ul>
          </div>
      </div>
</li>


                <li class="HeaderMenu-item position-relative flex-wrap flex-justify-between flex-items-center d-block d-lg-flex flex-lg-nowrap flex-lg-items-center js-details-container js-header-menu-item">
      <button type="button" class="HeaderMenu-link border-0 width-full width-lg-auto px-0 px-lg-2 py-3 py-lg-2 no-wrap d-flex flex-items-center flex-justify-between js-details-target" aria-expanded="false">
        Open Source
        <svg opacity="0.5" aria-hidden="true" height="16" viewBox="0 0 16 16" version="1.1" width="16" data-view-component="true" class="octicon octicon-chevron-down HeaderMenu-icon ml-1">
    <path d="M12.78 5.22a.749.749 0 0 1 0 1.06l-4.25 4.25a.749.749 0 0 1-1.06 0L3.22 6.28a.749.749 0 1 1 1.06-1.06L8 8.939l3.72-3.719a.749.749 0 0 1 1.06 0Z"></path>
</svg>
      </button>
      <div class="HeaderMenu-dropdown dropdown-menu rounded m-0 p-0 py-2 py-lg-4 position-relative position-lg-absolute left-0 left-lg-n3 px-lg-4">
          <div class="border-bottom pb-3 mb-3">
            <ul class="list-style-none f5" >
                <li>
  <a class="HeaderMenu-dropdown-link lh-condensed d-block no-underline position-relative py-2 Link--secondary d-flex flex-items-center" data-analytics-event="{&quot;category&quot;:&quot;Header dropdown (logged out), Open Source&quot;,&quot;action&quot;:&quot;click to go to GitHub Sponsors&quot;,&quot;label&quot;:&quot;ref_cta:GitHub Sponsors;&quot;}" href="/sponsors">
      
      <div>
        <div class="color-fg-default h4">GitHub Sponsors</div>
        Fund open source developers
      </div>

    
</a></li>

            </ul>
          </div>
          <div class="border-bottom pb-3 mb-3">
            <ul class="list-style-none f5" >
                <li>
  <a class="HeaderMenu-dropdown-link lh-condensed d-block no-underline position-relative py-2 Link--secondary d-flex flex-items-center" data-analytics-event="{&quot;category&quot;:&quot;Header dropdown (logged out), Open Source&quot;,&quot;action&quot;:&quot;click to go to The ReadME Project&quot;,&quot;label&quot;:&quot;ref_cta:The ReadME Project;&quot;}" href="/readme">
      
      <div>
        <div class="color-fg-default h4">The ReadME Project</div>
        GitHub community articles
      </div>

    
</a></li>

            </ul>
          </div>
          <div class="">
              <span class="d-block h4 color-fg-default my-1" id="open-source-repositories-heading">Repositories</span>
            <ul class="list-style-none f5" aria-labelledby="open-source-repositories-heading">
                <li>
  <a class="HeaderMenu-dropdown-link lh-condensed d-block no-underline position-relative py-2 Link--secondary" data-analytics-event="{&quot;category&quot;:&quot;Header dropdown (logged out), Open Source&quot;,&quot;action&quot;:&quot;click to go to Topics&quot;,&quot;label&quot;:&quot;ref_cta:Topics;&quot;}" href="/topics">
      Topics

    
</a></li>

                <li>
  <a class="HeaderMenu-dropdown-link lh-condensed d-block no-underline position-relative py-2 Link--secondary" data-analytics-event="{&quot;category&quot;:&quot;Header dropdown (logged out), Open Source&quot;,&quot;action&quot;:&quot;click to go to Trending&quot;,&quot;label&quot;:&quot;ref_cta:Trending;&quot;}" href="/trending">
      Trending

    
</a></li>

                <li>
  <a class="HeaderMenu-dropdown-link lh-condensed d-block no-underline position-relative py-2 Link--secondary" data-analytics-event="{&quot;category&quot;:&quot;Header dropdown (logged out), Open Source&quot;,&quot;action&quot;:&quot;click to go to Collections&quot;,&quot;label&quot;:&quot;ref_cta:Collections;&quot;}" href="/collections">
      Collections

    
</a></li>

            </ul>
          </div>
      </div>
</li>


                <li class="HeaderMenu-item position-relative flex-wrap flex-justify-between flex-items-center d-block d-lg-flex flex-lg-nowrap flex-lg-items-center js-details-container js-header-menu-item">
    <a class="HeaderMenu-link no-underline px-0 px-lg-2 py-3 py-lg-2 d-block d-lg-inline-block" data-analytics-event="{&quot;category&quot;:&quot;Header menu top item (logged out)&quot;,&quot;action&quot;:&quot;click to go to Pricing&quot;,&quot;label&quot;:&quot;ref_cta:Pricing;&quot;}" href="/pricing">Pricing</a>
</li>

            </ul>
          </nav>

        <div class="d-lg-flex flex-items-center mb-3 mb-lg-0 text-center text-lg-left ml-3" style="">
                


<qbsearch-input class="search-input" data-scope="repo:saivuttunoori/Coursera-Data-Science" data-custom-scopes-path="/search/custom_scopes" data-delete-custom-scopes-csrf="WmZLNxI0EizPfVQ-cP033EILUNpfZn8X_HCkgxuZs0h3c9qekPRWbz4x7fKQ1BETjTQjkJnIkLaIwtqXKOwlEA" data-max-custom-scopes="10" data-header-redesign-enabled="false" data-initial-value="" data-blackbird-suggestions-path="/search/suggestions" data-jump-to-suggestions-path="/_graphql/GetSuggestedNavigationDestinations" data-current-repository="saivuttunoori/Coursera-Data-Science" data-current-org="" data-current-owner="saivuttunoori" data-logged-in="false">
  <div
    class="search-input-container search-with-dialog position-relative d-flex flex-row flex-items-center mr-4 rounded"
    data-action="click:qbsearch-input#searchInputContainerClicked"
  >
      <button
        type="button"
        class="header-search-button placeholder  input-button form-control d-flex flex-1 flex-self-stretch flex-items-center no-wrap width-full py-0 pl-2 pr-0 text-left border-0 box-shadow-none"
        data-target="qbsearch-input.inputButton"
        placeholder="Search or jump to..."
        data-hotkey=s,/
        autocapitalize="off"
        data-action="click:qbsearch-input#handleExpand"
      >
        <div class="mr-2 color-fg-muted">
          <svg aria-hidden="true" height="16" viewBox="0 0 16 16" version="1.1" width="16" data-view-component="true" class="octicon octicon-search">
    <path d="M10.68 11.74a6 6 0 0 1-7.922-8.982 6 6 0 0 1 8.982 7.922l3.04 3.04a.749.749 0 0 1-.326 1.275.749.749 0 0 1-.734-.215ZM11.5 7a4.499 4.499 0 1 0-8.997 0A4.499 4.499 0 0 0 11.5 7Z"></path>
</svg>
        </div>
        <span class="flex-1" data-target="qbsearch-input.inputButtonText">Search or jump to...</span>
          <div class="d-flex" data-target="qbsearch-input.hotkeyIndicator">
            <svg xmlns="http://www.w3.org/2000/svg" width="22" height="20" aria-hidden="true" class="mr-1"><path fill="none" stroke="#979A9C" opacity=".4" d="M3.5.5h12c1.7 0 3 1.3 3 3v13c0 1.7-1.3 3-3 3h-12c-1.7 0-3-1.3-3-3v-13c0-1.7 1.3-3 3-3z"></path><path fill="#979A9C" d="M11.8 6L8 15.1h-.9L10.8 6h1z"></path></svg>

          </div>
      </button>

    <input type="hidden" name="type" class="js-site-search-type-field">

    
<div class="Overlay--hidden " data-modal-dialog-overlay>
  <modal-dialog data-action="close:qbsearch-input#handleClose cancel:qbsearch-input#handleClose" data-target="qbsearch-input.searchSuggestionsDialog" role="dialog" id="search-suggestions-dialog" aria-modal="true" aria-labelledby="search-suggestions-dialog-header" data-view-component="true" class="Overlay Overlay--width-large Overlay--height-auto">
      <h1 id="search-suggestions-dialog-header" class="sr-only">Search code, repositories, users, issues, pull requests...</h1>
    <div class="Overlay-body Overlay-body--paddingNone">
      
          <div data-view-component="true">        <div class="search-suggestions position-fixed width-full color-shadow-large border color-fg-default color-bg-default overflow-hidden d-flex flex-column query-builder-container"
          style="border-radius: 12px;"
          data-target="qbsearch-input.queryBuilderContainer"
          hidden
        >
          <!-- '"` --><!-- </textarea></xmp> --></option></form><form id="query-builder-test-form" action="" accept-charset="UTF-8" method="get">
  <query-builder data-target="qbsearch-input.queryBuilder" id="query-builder-query-builder-test" data-filter-key=":" data-view-component="true" class="QueryBuilder search-query-builder">
    <div class="FormControl FormControl--fullWidth">
      <label id="query-builder-test-label" for="query-builder-test" class="FormControl-label sr-only">
        Search
      </label>
      <div
        class="QueryBuilder-StyledInput width-fit "
        data-target="query-builder.styledInput"
      >
          <span id="query-builder-test-leadingvisual-wrap" class="FormControl-input-leadingVisualWrap QueryBuilder-leadingVisualWrap">
            <svg aria-hidden="true" height="16" viewBox="0 0 16 16" version="1.1" width="16" data-view-component="true" class="octicon octicon-search FormControl-input-leadingVisual">
    <path d="M10.68 11.74a6 6 0 0 1-7.922-8.982 6 6 0 0 1 8.982 7.922l3.04 3.04a.749.749 0 0 1-.326 1.275.749.749 0 0 1-.734-.215ZM11.5 7a4.499 4.499 0 1 0-8.997 0A4.499 4.499 0 0 0 11.5 7Z"></path>
</svg>
          </span>
        <div data-target="query-builder.styledInputContainer" class="QueryBuilder-StyledInputContainer">
          <div
            aria-hidden="true"
            class="QueryBuilder-StyledInputContent"
            data-target="query-builder.styledInputContent"
          ></div>
          <div class="QueryBuilder-InputWrapper">
            <div aria-hidden="true" class="QueryBuilder-Sizer" data-target="query-builder.sizer"></div>
            <input id="query-builder-test" name="query-builder-test" value="" autocomplete="off" type="text" role="combobox" spellcheck="false" aria-expanded="false" aria-describedby="validation-7b910b7d-899a-4801-b714-2a18fc0ac52c" data-target="query-builder.input" data-action="
          input:query-builder#inputChange
          blur:query-builder#inputBlur
          keydown:query-builder#inputKeydown
          focus:query-builder#inputFocus
        " data-view-component="true" class="FormControl-input QueryBuilder-Input FormControl-medium" />
          </div>
        </div>
          <span class="sr-only" id="query-builder-test-clear">Clear</span>
          
  <button role="button" id="query-builder-test-clear-button" aria-labelledby="query-builder-test-clear query-builder-test-label" data-target="query-builder.clearButton" data-action="
                click:query-builder#clear
                focus:query-builder#clearButtonFocus
                blur:query-builder#clearButtonBlur
              " variant="small" hidden="hidden" type="button" data-view-component="true" class="Button Button--iconOnly Button--invisible Button--medium mr-1 px-2 py-0 d-flex flex-items-center rounded-1 color-fg-muted">    <svg aria-hidden="true" height="16" viewBox="0 0 16 16" version="1.1" width="16" data-view-component="true" class="octicon octicon-x-circle-fill Button-visual">
    <path d="M2.343 13.657A8 8 0 1 1 13.658 2.343 8 8 0 0 1 2.343 13.657ZM6.03 4.97a.751.751 0 0 0-1.042.018.751.751 0 0 0-.018 1.042L6.94 8 4.97 9.97a.749.749 0 0 0 .326 1.275.749.749 0 0 0 .734-.215L8 9.06l1.97 1.97a.749.749 0 0 0 1.275-.326.749.749 0 0 0-.215-.734L9.06 8l1.97-1.97a.749.749 0 0 0-.326-1.275.749.749 0 0 0-.734.215L8 6.94Z"></path>
</svg>
</button>  

      </div>
      <template id="search-icon">
  <svg aria-hidden="true" height="16" viewBox="0 0 16 16" version="1.1" width="16" data-view-component="true" class="octicon octicon-search">
    <path d="M10.68 11.74a6 6 0 0 1-7.922-8.982 6 6 0 0 1 8.982 7.922l3.04 3.04a.749.749 0 0 1-.326 1.275.749.749 0 0 1-.734-.215ZM11.5 7a4.499 4.499 0 1 0-8.997 0A4.499 4.499 0 0 0 11.5 7Z"></path>
</svg>
</template>

<template id="code-icon">
  <svg aria-hidden="true" height="16" viewBox="0 0 16 16" version="1.1" width="16" data-view-component="true" class="octicon octicon-code">
    <path d="m11.28 3.22 4.25 4.25a.75.75 0 0 1 0 1.06l-4.25 4.25a.749.749 0 0 1-1.275-.326.749.749 0 0 1 .215-.734L13.94 8l-3.72-3.72a.749.749 0 0 1 .326-1.275.749.749 0 0 1 .734.215Zm-6.56 0a.751.751 0 0 1 1.042.018.751.751 0 0 1 .018 1.042L2.06 8l3.72 3.72a.749.749 0 0 1-.326 1.275.749.749 0 0 1-.734-.215L.47 8.53a.75.75 0 0 1 0-1.06Z"></path>
</svg>
</template>

<template id="file-code-icon">
  <svg aria-hidden="true" height="16" viewBox="0 0 16 16" version="1.1" width="16" data-view-component="true" class="octicon octicon-file-code">
    <path d="M4 1.75C4 .784 4.784 0 5.75 0h5.586c.464 0 .909.184 1.237.513l2.914 2.914c.329.328.513.773.513 1.237v8.586A1.75 1.75 0 0 1 14.25 15h-9a.75.75 0 0 1 0-1.5h9a.25.25 0 0 0 .25-.25V6h-2.75A1.75 1.75 0 0 1 10 4.25V1.5H5.75a.25.25 0 0 0-.25.25v2.5a.75.75 0 0 1-1.5 0Zm1.72 4.97a.75.75 0 0 1 1.06 0l2 2a.75.75 0 0 1 0 1.06l-2 2a.749.749 0 0 1-1.275-.326.749.749 0 0 1 .215-.734l1.47-1.47-1.47-1.47a.75.75 0 0 1 0-1.06ZM3.28 7.78 1.81 9.25l1.47 1.47a.751.751 0 0 1-.018 1.042.751.751 0 0 1-1.042.018l-2-2a.75.75 0 0 1 0-1.06l2-2a.751.751 0 0 1 1.042.018.751.751 0 0 1 .018 1.042Zm8.22-6.218V4.25c0 .138.112.25.25.25h2.688l-.011-.013-2.914-2.914-.013-.011Z"></path>
</svg>
</template>

<template id="history-icon">
  <svg aria-hidden="true" height="16" viewBox="0 0 16 16" version="1.1" width="16" data-view-component="true" class="octicon octicon-history">
    <path d="m.427 1.927 1.215 1.215a8.002 8.002 0 1 1-1.6 5.685.75.75 0 1 1 1.493-.154 6.5 6.5 0 1 0 1.18-4.458l1.358 1.358A.25.25 0 0 1 3.896 6H.25A.25.25 0 0 1 0 5.75V2.104a.25.25 0 0 1 .427-.177ZM7.75 4a.75.75 0 0 1 .75.75v2.992l2.028.812a.75.75 0 0 1-.557 1.392l-2.5-1A.751.751 0 0 1 7 8.25v-3.5A.75.75 0 0 1 7.75 4Z"></path>
</svg>
</template>

<template id="repo-icon">
  <svg aria-hidden="true" height="16" viewBox="0 0 16 16" version="1.1" width="16" data-view-component="true" class="octicon octicon-repo">
    <path d="M2 2.5A2.5 2.5 0 0 1 4.5 0h8.75a.75.75 0 0 1 .75.75v12.5a.75.75 0 0 1-.75.75h-2.5a.75.75 0 0 1 0-1.5h1.75v-2h-8a1 1 0 0 0-.714 1.7.75.75 0 1 1-1.072 1.05A2.495 2.495 0 0 1 2 11.5Zm10.5-1h-8a1 1 0 0 0-1 1v6.708A2.486 2.486 0 0 1 4.5 9h8ZM5 12.25a.25.25 0 0 1 .25-.25h3.5a.25.25 0 0 1 .25.25v3.25a.25.25 0 0 1-.4.2l-1.45-1.087a.249.249 0 0 0-.3 0L5.4 15.7a.25.25 0 0 1-.4-.2Z"></path>
</svg>
</template>

<template id="bookmark-icon">
  <svg aria-hidden="true" height="16" viewBox="0 0 16 16" version="1.1" width="16" data-view-component="true" class="octicon octicon-bookmark">
    <path d="M3 2.75C3 1.784 3.784 1 4.75 1h6.5c.966 0 1.75.784 1.75 1.75v11.5a.75.75 0 0 1-1.227.579L8 11.722l-3.773 3.107A.751.751 0 0 1 3 14.25Zm1.75-.25a.25.25 0 0 0-.25.25v9.91l3.023-2.489a.75.75 0 0 1 .954 0l3.023 2.49V2.75a.25.25 0 0 0-.25-.25Z"></path>
</svg>
</template>

<template id="plus-circle-icon">
  <svg aria-hidden="true" height="16" viewBox="0 0 16 16" version="1.1" width="16" data-view-component="true" class="octicon octicon-plus-circle">
    <path d="M8 0a8 8 0 1 1 0 16A8 8 0 0 1 8 0ZM1.5 8a6.5 6.5 0 1 0 13 0 6.5 6.5 0 0 0-13 0Zm7.25-3.25v2.5h2.5a.75.75 0 0 1 0 1.5h-2.5v2.5a.75.75 0 0 1-1.5 0v-2.5h-2.5a.75.75 0 0 1 0-1.5h2.5v-2.5a.75.75 0 0 1 1.5 0Z"></path>
</svg>
</template>

<template id="circle-icon">
  <svg aria-hidden="true" height="16" viewBox="0 0 16 16" version="1.1" width="16" data-view-component="true" class="octicon octicon-dot-fill">
    <path d="M8 4a4 4 0 1 1 0 8 4 4 0 0 1 0-8Z"></path>
</svg>
</template>

<template id="trash-icon">
  <svg aria-hidden="true" height="16" viewBox="0 0 16 16" version="1.1" width="16" data-view-component="true" class="octicon octicon-trash">
    <path d="M11 1.75V3h2.25a.75.75 0 0 1 0 1.5H2.75a.75.75 0 0 1 0-1.5H5V1.75C5 .784 5.784 0 6.75 0h2.5C10.216 0 11 .784 11 1.75ZM4.496 6.675l.66 6.6a.25.25 0 0 0 .249.225h5.19a.25.25 0 0 0 .249-.225l.66-6.6a.75.75 0 0 1 1.492.149l-.66 6.6A1.748 1.748 0 0 1 10.595 15h-5.19a1.75 1.75 0 0 1-1.741-1.575l-.66-6.6a.75.75 0 1 1 1.492-.15ZM6.5 1.75V3h3V1.75a.25.25 0 0 0-.25-.25h-2.5a.25.25 0 0 0-.25.25Z"></path>
</svg>
</template>

<template id="team-icon">
  <svg aria-hidden="true" height="16" viewBox="0 0 16 16" version="1.1" width="16" data-view-component="true" class="octicon octicon-people">
    <path d="M2 5.5a3.5 3.5 0 1 1 5.898 2.549 5.508 5.508 0 0 1 3.034 4.084.75.75 0 1 1-1.482.235 4 4 0 0 0-7.9 0 .75.75 0 0 1-1.482-.236A5.507 5.507 0 0 1 3.102 8.05 3.493 3.493 0 0 1 2 5.5ZM11 4a3.001 3.001 0 0 1 2.22 5.018 5.01 5.01 0 0 1 2.56 3.012.749.749 0 0 1-.885.954.752.752 0 0 1-.549-.514 3.507 3.507 0 0 0-2.522-2.372.75.75 0 0 1-.574-.73v-.352a.75.75 0 0 1 .416-.672A1.5 1.5 0 0 0 11 5.5.75.75 0 0 1 11 4Zm-5.5-.5a2 2 0 1 0-.001 3.999A2 2 0 0 0 5.5 3.5Z"></path>
</svg>
</template>

<template id="project-icon">
  <svg aria-hidden="true" height="16" viewBox="0 0 16 16" version="1.1" width="16" data-view-component="true" class="octicon octicon-project">
    <path d="M1.75 0h12.5C15.216 0 16 .784 16 1.75v12.5A1.75 1.75 0 0 1 14.25 16H1.75A1.75 1.75 0 0 1 0 14.25V1.75C0 .784.784 0 1.75 0ZM1.5 1.75v12.5c0 .138.112.25.25.25h12.5a.25.25 0 0 0 .25-.25V1.75a.25.25 0 0 0-.25-.25H1.75a.25.25 0 0 0-.25.25ZM11.75 3a.75.75 0 0 1 .75.75v7.5a.75.75 0 0 1-1.5 0v-7.5a.75.75 0 0 1 .75-.75Zm-8.25.75a.75.75 0 0 1 1.5 0v5.5a.75.75 0 0 1-1.5 0ZM8 3a.75.75 0 0 1 .75.75v3.5a.75.75 0 0 1-1.5 0v-3.5A.75.75 0 0 1 8 3Z"></path>
</svg>
</template>

<template id="pencil-icon">
  <svg aria-hidden="true" height="16" viewBox="0 0 16 16" version="1.1" width="16" data-view-component="true" class="octicon octicon-pencil">
    <path d="M11.013 1.427a1.75 1.75 0 0 1 2.474 0l1.086 1.086a1.75 1.75 0 0 1 0 2.474l-8.61 8.61c-.21.21-.47.364-.756.445l-3.251.93a.75.75 0 0 1-.927-.928l.929-3.25c.081-.286.235-.547.445-.758l8.61-8.61Zm.176 4.823L9.75 4.81l-6.286 6.287a.253.253 0 0 0-.064.108l-.558 1.953 1.953-.558a.253.253 0 0 0 .108-.064Zm1.238-3.763a.25.25 0 0 0-.354 0L10.811 3.75l1.439 1.44 1.263-1.263a.25.25 0 0 0 0-.354Z"></path>
</svg>
</template>

        <div class="position-relative">
                <ul
                  role="listbox"
                  class="ActionListWrap QueryBuilder-ListWrap"
                  aria-label="Suggestions"
                  data-action="
                    combobox-commit:query-builder#comboboxCommit
                    mousedown:query-builder#resultsMousedown
                  "
                  data-target="query-builder.resultsList"
                  data-persist-list=false
                  id="query-builder-test-results"
                ></ul>
        </div>
      <div class="FormControl-inlineValidation" id="validation-7b910b7d-899a-4801-b714-2a18fc0ac52c" hidden="hidden">
        <span class="FormControl-inlineValidation--visual">
          <svg aria-hidden="true" height="12" viewBox="0 0 12 12" version="1.1" width="12" data-view-component="true" class="octicon octicon-alert-fill">
    <path d="M4.855.708c.5-.896 1.79-.896 2.29 0l4.675 8.351a1.312 1.312 0 0 1-1.146 1.954H1.33A1.313 1.313 0 0 1 .183 9.058ZM7 7V3H5v4Zm-1 3a1 1 0 1 0 0-2 1 1 0 0 0 0 2Z"></path>
</svg>
        </span>
        <span></span>
</div>    </div>
    <div data-target="query-builder.screenReaderFeedback" aria-live="polite" aria-atomic="true" class="sr-only"></div>
</query-builder></form>
          <div class="d-flex flex-row color-fg-muted px-3 text-small color-bg-default search-feedback-prompt">
            <a target="_blank" href="https://docs.github.com/en/search-github/github-code-search/understanding-github-code-search-syntax" data-view-component="true" class="Link color-fg-accent text-normal ml-2">
              Search syntax tips
</a>            <div class="d-flex flex-1"></div>
          </div>
        </div>
</div>

    </div>
</modal-dialog></div>
  </div>
  <div data-action="click:qbsearch-input#retract" class="dark-backdrop position-fixed" hidden data-target="qbsearch-input.darkBackdrop"></div>
  <div class="color-fg-default">
    
<div class="Overlay--hidden Overlay-backdrop--center" data-modal-dialog-overlay>
  <modal-dialog data-target="qbsearch-input.feedbackDialog" data-action="close:qbsearch-input#handleDialogClose cancel:qbsearch-input#handleDialogClose" role="dialog" id="feedback-dialog" aria-modal="true" aria-disabled="true" aria-labelledby="feedback-dialog-title" aria-describedby="feedback-dialog-description" data-view-component="true" class="Overlay Overlay-whenNarrow Overlay--size-medium Overlay--motion-scaleFade">
    <div data-view-component="true" class="Overlay-header">
  <div class="Overlay-headerContentWrap">
    <div class="Overlay-titleWrap">
      <h1 class="Overlay-title " id="feedback-dialog-title">
        Provide feedback
      </h1>
    </div>
    <div class="Overlay-actionWrap">
      <button data-close-dialog-id="feedback-dialog" aria-label="Close" type="button" data-view-component="true" class="close-button Overlay-closeButton"><svg aria-hidden="true" height="16" viewBox="0 0 16 16" version="1.1" width="16" data-view-component="true" class="octicon octicon-x">
    <path d="M3.72 3.72a.75.75 0 0 1 1.06 0L8 6.94l3.22-3.22a.749.749 0 0 1 1.275.326.749.749 0 0 1-.215.734L9.06 8l3.22 3.22a.749.749 0 0 1-.326 1.275.749.749 0 0 1-.734-.215L8 9.06l-3.22 3.22a.751.751 0 0 1-1.042-.018.751.751 0 0 1-.018-1.042L6.94 8 3.72 4.78a.75.75 0 0 1 0-1.06Z"></path>
</svg></button>
    </div>
  </div>
</div>
      <div data-view-component="true" class="Overlay-body">        <!-- '"` --><!-- </textarea></xmp> --></option></form><form id="code-search-feedback-form" data-turbo="false" action="/search/feedback" accept-charset="UTF-8" method="post"><input type="hidden" data-csrf="true" name="authenticity_token" value="Fk9SmE4zyEPfeCyo9+YQUISPuwdegjiP236BXa0aTAmvB9Qg6UYj40MeR5OpjC+gQbGabTFB3NFskgbSl8tivQ==" />
          <p>We read every piece of feedback, and take your input very seriously.</p>
          <textarea name="feedback" class="form-control width-full mb-2" style="height: 120px" id="feedback"></textarea>
          <input name="include_email" id="include_email" aria-label="Include my email address so I can be contacted" class="form-control mr-2" type="checkbox">
          <label for="include_email" style="font-weight: normal">Include my email address so I can be contacted</label>
</form></div>
      <div data-view-component="true" class="Overlay-footer Overlay-footer--alignEnd">          <button data-close-dialog-id="feedback-dialog" type="button" data-view-component="true" class="btn">    Cancel
</button>
          <button form="code-search-feedback-form" data-action="click:qbsearch-input#submitFeedback" type="submit" data-view-component="true" class="btn-primary btn">    Submit feedback
</button>
</div>
</modal-dialog></div>

    <custom-scopes data-target="qbsearch-input.customScopesManager">
    
<div class="Overlay--hidden Overlay-backdrop--center" data-modal-dialog-overlay>
  <modal-dialog data-target="custom-scopes.customScopesModalDialog" data-action="close:qbsearch-input#handleDialogClose cancel:qbsearch-input#handleDialogClose" role="dialog" id="custom-scopes-dialog" aria-modal="true" aria-disabled="true" aria-labelledby="custom-scopes-dialog-title" aria-describedby="custom-scopes-dialog-description" data-view-component="true" class="Overlay Overlay-whenNarrow Overlay--size-medium Overlay--motion-scaleFade">
    <div data-view-component="true" class="Overlay-header Overlay-header--divided">
  <div class="Overlay-headerContentWrap">
    <div class="Overlay-titleWrap">
      <h1 class="Overlay-title " id="custom-scopes-dialog-title">
        Saved searches
      </h1>
        <h2 id="custom-scopes-dialog-description" class="Overlay-description">Use saved searches to filter your results more quickly</h2>
    </div>
    <div class="Overlay-actionWrap">
      <button data-close-dialog-id="custom-scopes-dialog" aria-label="Close" type="button" data-view-component="true" class="close-button Overlay-closeButton"><svg aria-hidden="true" height="16" viewBox="0 0 16 16" version="1.1" width="16" data-view-component="true" class="octicon octicon-x">
    <path d="M3.72 3.72a.75.75 0 0 1 1.06 0L8 6.94l3.22-3.22a.749.749 0 0 1 1.275.326.749.749 0 0 1-.215.734L9.06 8l3.22 3.22a.749.749 0 0 1-.326 1.275.749.749 0 0 1-.734-.215L8 9.06l-3.22 3.22a.751.751 0 0 1-1.042-.018.751.751 0 0 1-.018-1.042L6.94 8 3.72 4.78a.75.75 0 0 1 0-1.06Z"></path>
</svg></button>
    </div>
  </div>
</div>
      <div data-view-component="true" class="Overlay-body">        <div data-target="custom-scopes.customScopesModalDialogFlash"></div>

        <div hidden class="create-custom-scope-form" data-target="custom-scopes.createCustomScopeForm">
        <!-- '"` --><!-- </textarea></xmp> --></option></form><form id="custom-scopes-dialog-form" data-turbo="false" action="/search/custom_scopes" accept-charset="UTF-8" method="post"><input type="hidden" data-csrf="true" name="authenticity_token" value="Io6RfNwfgZI4fbC/dwzAR1/NE41Exi0r8MsJGi2Ou4wPrpWMQDwYoh9pBlf1Nn50CGtNOg2DdvuNT5HE6zTsbQ==" />
          <div data-target="custom-scopes.customScopesModalDialogFlash"></div>

          <input type="hidden" id="custom_scope_id" name="custom_scope_id" data-target="custom-scopes.customScopesIdField">

          <div class="form-group">
            <label for="custom_scope_name">Name</label>
            <auto-check src="/search/custom_scopes/check_name" required>
              <input
                type="text"
                name="custom_scope_name"
                id="custom_scope_name"
                data-target="custom-scopes.customScopesNameField"
                class="form-control"
                autocomplete="off"
                placeholder="github-ruby"
                required
                maxlength="50">
              <input type="hidden" data-csrf="true" value="V804/4sGg6k/glGuuD8ScN9huh3nrDbA4qDHTRwV9hHs9A99yda2OlPpH5/W815qt66XnOId1LMvqtJXLlBH5Q==" />
            </auto-check>
          </div>

          <div class="form-group">
            <label for="custom_scope_query">Query</label>
            <input
              type="text"
              name="custom_scope_query"
              id="custom_scope_query"
              data-target="custom-scopes.customScopesQueryField"
              class="form-control"
              autocomplete="off"
              placeholder="(repo:mona/a OR repo:mona/b) AND lang:python"
              required
              maxlength="500">
          </div>

          <p class="text-small color-fg-muted">
            To see all available qualifiers, see our <a class="Link--inTextBlock" href="https://docs.github.com/en/search-github/github-code-search/understanding-github-code-search-syntax">documentation</a>.
          </p>
</form>        </div>

        <div data-target="custom-scopes.manageCustomScopesForm">
          <div data-target="custom-scopes.list"></div>
        </div>

</div>
      <div data-view-component="true" class="Overlay-footer Overlay-footer--alignEnd Overlay-footer--divided">          <button data-action="click:custom-scopes#customScopesCancel" type="button" data-view-component="true" class="btn">    Cancel
</button>
          <button form="custom-scopes-dialog-form" data-action="click:custom-scopes#customScopesSubmit" data-target="custom-scopes.customScopesSubmitButton" type="submit" data-view-component="true" class="btn-primary btn">    Create saved search
</button>
</div>
</modal-dialog></div>
    </custom-scopes>
  </div>
</qbsearch-input><input type="hidden" data-csrf="true" class="js-data-jump-to-suggestions-path-csrf" value="2wXe3ofYqJU6nRtHYuDa3/eWxK+z/tXnaLDlO7LsOK+FsYfRC7tiVglKrXecynC+IGCsFJQy7hQakGXLN2uCgw==" />


          <div class="position-relative mr-lg-3 d-lg-inline-block">
            <a href="/login?return_to=https%3A%2F%2Fgithub.com%2Fsaivuttunoori%2FCoursera-Data-Science%2Fblob%2Fmain%2FData%2520Collection-Web%2520Scraping.ipynb"
              class="HeaderMenu-link HeaderMenu-link--sign-in flex-shrink-0 no-underline d-block d-lg-inline-block border border-lg-0 rounded rounded-lg-0 p-2 p-lg-0"
              data-hydro-click="{&quot;event_type&quot;:&quot;authentication.click&quot;,&quot;payload&quot;:{&quot;location_in_page&quot;:&quot;site header menu&quot;,&quot;repository_id&quot;:null,&quot;auth_type&quot;:&quot;SIGN_UP&quot;,&quot;originating_url&quot;:&quot;https://github.com/saivuttunoori/Coursera-Data-Science/blob/main/Data%20Collection-Web%20Scraping.ipynb&quot;,&quot;user_id&quot;:null}}" data-hydro-click-hmac="e4c05bdf4e7b1b180b59bd8950bac438cf03e6adc81c3eff41fd9602f0457ff0"
              data-ga-click="(Logged out) Header, clicked Sign in, text:sign-in">
              Sign in
            </a>
          </div>

            <a href="/signup?ref_cta=Sign+up&amp;ref_loc=header+logged+out&amp;ref_page=%2F%3Cuser-name%3E%2F%3Crepo-name%3E%2Fblob%2Fshow&amp;source=header-repo&amp;source_repo=saivuttunoori%2FCoursera-Data-Science"
              class="HeaderMenu-link HeaderMenu-link--sign-up flex-shrink-0 d-none d-lg-inline-block no-underline border color-border-default rounded px-2 py-1"
              data-hydro-click="{&quot;event_type&quot;:&quot;authentication.click&quot;,&quot;payload&quot;:{&quot;location_in_page&quot;:&quot;site header menu&quot;,&quot;repository_id&quot;:null,&quot;auth_type&quot;:&quot;SIGN_UP&quot;,&quot;originating_url&quot;:&quot;https://github.com/saivuttunoori/Coursera-Data-Science/blob/main/Data%20Collection-Web%20Scraping.ipynb&quot;,&quot;user_id&quot;:null}}" data-hydro-click-hmac="e4c05bdf4e7b1b180b59bd8950bac438cf03e6adc81c3eff41fd9602f0457ff0"
              data-analytics-event="{&quot;category&quot;:&quot;Sign up&quot;,&quot;action&quot;:&quot;click to sign up for account&quot;,&quot;label&quot;:&quot;ref_page:/&lt;user-name&gt;/&lt;repo-name&gt;/blob/show;ref_cta:Sign up;ref_loc:header logged out&quot;}"
            >
              Sign up
            </a>
        </div>
      </div>
    </div>
  </div>
</header>

      <div hidden="hidden" data-view-component="true" class="js-stale-session-flash stale-session-flash flash flash-warn mb-3">
  
        <svg aria-hidden="true" height="16" viewBox="0 0 16 16" version="1.1" width="16" data-view-component="true" class="octicon octicon-alert">
    <path d="M6.457 1.047c.659-1.234 2.427-1.234 3.086 0l6.082 11.378A1.75 1.75 0 0 1 14.082 15H1.918a1.75 1.75 0 0 1-1.543-2.575Zm1.763.707a.25.25 0 0 0-.44 0L1.698 13.132a.25.25 0 0 0 .22.368h12.164a.25.25 0 0 0 .22-.368Zm.53 3.996v2.5a.75.75 0 0 1-1.5 0v-2.5a.75.75 0 0 1 1.5 0ZM9 11a1 1 0 1 1-2 0 1 1 0 0 1 2 0Z"></path>
</svg>
        <span class="js-stale-session-flash-signed-in" hidden>You signed in with another tab or window. <a class="Link--inTextBlock" href="">Reload</a> to refresh your session.</span>
        <span class="js-stale-session-flash-signed-out" hidden>You signed out in another tab or window. <a class="Link--inTextBlock" href="">Reload</a> to refresh your session.</span>
        <span class="js-stale-session-flash-switched" hidden>You switched accounts on another tab or window. <a class="Link--inTextBlock" href="">Reload</a> to refresh your session.</span>

    <div data-view-component="true" class="flash-close">
  <button id="icon-button-fbcbe2e2-0821-47f3-9930-304c806db34f" aria-labelledby="tooltip-cb86e513-eb23-4a79-8a87-205effec47f0" type="button" data-view-component="true" class="Button Button--iconOnly Button--invisible Button--medium js-flash-close">    <svg aria-hidden="true" height="16" viewBox="0 0 16 16" version="1.1" width="16" data-view-component="true" class="octicon octicon-x Button-visual">
    <path d="M3.72 3.72a.75.75 0 0 1 1.06 0L8 6.94l3.22-3.22a.749.749 0 0 1 1.275.326.749.749 0 0 1-.215.734L9.06 8l3.22 3.22a.749.749 0 0 1-.326 1.275.749.749 0 0 1-.734-.215L8 9.06l-3.22 3.22a.751.751 0 0 1-1.042-.018.751.751 0 0 1-.018-1.042L6.94 8 3.72 4.78a.75.75 0 0 1 0-1.06Z"></path>
</svg>
</button>  <tool-tip id="tooltip-cb86e513-eb23-4a79-8a87-205effec47f0" for="icon-button-fbcbe2e2-0821-47f3-9930-304c806db34f" popover="manual" data-direction="s" data-type="label" data-view-component="true" class="sr-only position-absolute">Dismiss alert</tool-tip>
</div>

  
</div>
    </div>

  <div id="start-of-content" class="show-on-focus"></div>








    <div id="js-flash-container" data-turbo-replace>





  <template class="js-flash-template">
    
<div class="flash flash-full   {{ className }}">
  <div class="px-2" >
    <button autofocus class="flash-close js-flash-close" type="button" aria-label="Dismiss this message">
      <svg aria-hidden="true" height="16" viewBox="0 0 16 16" version="1.1" width="16" data-view-component="true" class="octicon octicon-x">
    <path d="M3.72 3.72a.75.75 0 0 1 1.06 0L8 6.94l3.22-3.22a.749.749 0 0 1 1.275.326.749.749 0 0 1-.215.734L9.06 8l3.22 3.22a.749.749 0 0 1-.326 1.275.749.749 0 0 1-.734-.215L8 9.06l-3.22 3.22a.751.751 0 0 1-1.042-.018.751.751 0 0 1-.018-1.042L6.94 8 3.72 4.78a.75.75 0 0 1 0-1.06Z"></path>
</svg>
    </button>
    <div aria-atomic="true" role="alert" class="js-flash-alert">
      
      <div>{{ message }}</div>

    </div>
  </div>
</div>
  </template>
</div>


    
    <include-fragment class="js-notification-shelf-include-fragment" data-base-src="https://github.com/notifications/beta/shelf"></include-fragment>






  <div
    class="application-main "
    data-commit-hovercards-enabled
    data-discussion-hovercards-enabled
    data-issue-and-pr-hovercards-enabled
  >
        <div itemscope itemtype="http://schema.org/SoftwareSourceCode" class="">
    <main id="js-repo-pjax-container" >
      
      
      






  
  <div id="repository-container-header"  class="pt-3 hide-full-screen" style="background-color: var(--color-page-header-bg);" data-turbo-replace>

      <div class="d-flex flex-wrap flex-justify-end mb-3  px-3 px-md-4 px-lg-5" style="gap: 1rem;">

        <div class="flex-auto min-width-0 width-fit mr-3">
            
  <div class=" d-flex flex-wrap flex-items-center wb-break-word f3 text-normal">
      <svg aria-hidden="true" height="16" viewBox="0 0 16 16" version="1.1" width="16" data-view-component="true" class="octicon octicon-repo color-fg-muted mr-2">
    <path d="M2 2.5A2.5 2.5 0 0 1 4.5 0h8.75a.75.75 0 0 1 .75.75v12.5a.75.75 0 0 1-.75.75h-2.5a.75.75 0 0 1 0-1.5h1.75v-2h-8a1 1 0 0 0-.714 1.7.75.75 0 1 1-1.072 1.05A2.495 2.495 0 0 1 2 11.5Zm10.5-1h-8a1 1 0 0 0-1 1v6.708A2.486 2.486 0 0 1 4.5 9h8ZM5 12.25a.25.25 0 0 1 .25-.25h3.5a.25.25 0 0 1 .25.25v3.25a.25.25 0 0 1-.4.2l-1.45-1.087a.249.249 0 0 0-.3 0L5.4 15.7a.25.25 0 0 1-.4-.2Z"></path>
</svg>
    
    <span class="author flex-self-stretch" itemprop="author">
      <a class="url fn" rel="author" data-hovercard-type="user" data-hovercard-url="/users/saivuttunoori/hovercard" data-octo-click="hovercard-link-click" data-octo-dimensions="link_type:self" href="/saivuttunoori">
        saivuttunoori
</a>    </span>
    <span class="mx-1 flex-self-stretch color-fg-muted">/</span>
    <strong itemprop="name" class="mr-2 flex-self-stretch">
      <a data-pjax="#repo-content-pjax-container" data-turbo-frame="repo-content-turbo-frame" href="/saivuttunoori/Coursera-Data-Science">Coursera-Data-Science</a>
    </strong>

    <span></span><span class="Label Label--secondary v-align-middle mr-1">Public</span>
  </div>


        </div>

        <div id="repository-details-container" data-turbo-replace>
            <ul class="pagehead-actions flex-shrink-0 d-none d-md-inline" style="padding: 2px 0;">
    
      

  <li>
            <a href="/login?return_to=%2Fsaivuttunoori%2FCoursera-Data-Science" rel="nofollow" data-hydro-click="{&quot;event_type&quot;:&quot;authentication.click&quot;,&quot;payload&quot;:{&quot;location_in_page&quot;:&quot;notification subscription menu watch&quot;,&quot;repository_id&quot;:null,&quot;auth_type&quot;:&quot;LOG_IN&quot;,&quot;originating_url&quot;:&quot;https://github.com/saivuttunoori/Coursera-Data-Science/blob/main/Data%20Collection-Web%20Scraping.ipynb&quot;,&quot;user_id&quot;:null}}" data-hydro-click-hmac="d7330b5a35c0d020f2ce3eaaac05a1ec473f0dc64588605fbf9f24938f557ad7" aria-label="You must be signed in to change notification settings" data-view-component="true" class="tooltipped tooltipped-s btn-sm btn">    <svg aria-hidden="true" height="16" viewBox="0 0 16 16" version="1.1" width="16" data-view-component="true" class="octicon octicon-bell mr-2">
    <path d="M8 16a2 2 0 0 0 1.985-1.75c.017-.137-.097-.25-.235-.25h-3.5c-.138 0-.252.113-.235.25A2 2 0 0 0 8 16ZM3 5a5 5 0 0 1 10 0v2.947c0 .05.015.098.042.139l1.703 2.555A1.519 1.519 0 0 1 13.482 13H2.518a1.516 1.516 0 0 1-1.263-2.36l1.703-2.554A.255.255 0 0 0 3 7.947Zm5-3.5A3.5 3.5 0 0 0 4.5 5v2.947c0 .346-.102.683-.294.97l-1.703 2.556a.017.017 0 0 0-.003.01l.001.006c0 .002.002.004.004.006l.006.004.007.001h10.964l.007-.001.006-.004.004-.006.001-.007a.017.017 0 0 0-.003-.01l-1.703-2.554a1.745 1.745 0 0 1-.294-.97V5A3.5 3.5 0 0 0 8 1.5Z"></path>
</svg>Notifications
</a>
  </li>

  <li>
          <a icon="repo-forked" id="fork-button" href="/login?return_to=%2Fsaivuttunoori%2FCoursera-Data-Science" rel="nofollow" data-hydro-click="{&quot;event_type&quot;:&quot;authentication.click&quot;,&quot;payload&quot;:{&quot;location_in_page&quot;:&quot;repo details fork button&quot;,&quot;repository_id&quot;:686678873,&quot;auth_type&quot;:&quot;LOG_IN&quot;,&quot;originating_url&quot;:&quot;https://github.com/saivuttunoori/Coursera-Data-Science/blob/main/Data%20Collection-Web%20Scraping.ipynb&quot;,&quot;user_id&quot;:null}}" data-hydro-click-hmac="6d0a98c2cf353ae21b4e20417a8b3092e741b97e48b3dd0274c96e1d5d9a99da" data-view-component="true" class="btn-sm btn">    <svg aria-hidden="true" height="16" viewBox="0 0 16 16" version="1.1" width="16" data-view-component="true" class="octicon octicon-repo-forked mr-2">
    <path d="M5 5.372v.878c0 .414.336.75.75.75h4.5a.75.75 0 0 0 .75-.75v-.878a2.25 2.25 0 1 1 1.5 0v.878a2.25 2.25 0 0 1-2.25 2.25h-1.5v2.128a2.251 2.251 0 1 1-1.5 0V8.5h-1.5A2.25 2.25 0 0 1 3.5 6.25v-.878a2.25 2.25 0 1 1 1.5 0ZM5 3.25a.75.75 0 1 0-1.5 0 .75.75 0 0 0 1.5 0Zm6.75.75a.75.75 0 1 0 0-1.5.75.75 0 0 0 0 1.5Zm-3 8.75a.75.75 0 1 0-1.5 0 .75.75 0 0 0 1.5 0Z"></path>
</svg>Fork
    <span id="repo-network-counter" data-pjax-replace="true" data-turbo-replace="true" title="0" data-view-component="true" class="Counter">0</span>
</a>
  </li>

  <li>
        <div data-view-component="true" class="BtnGroup d-flex">
        <a href="/login?return_to=%2Fsaivuttunoori%2FCoursera-Data-Science" rel="nofollow" data-hydro-click="{&quot;event_type&quot;:&quot;authentication.click&quot;,&quot;payload&quot;:{&quot;location_in_page&quot;:&quot;star button&quot;,&quot;repository_id&quot;:686678873,&quot;auth_type&quot;:&quot;LOG_IN&quot;,&quot;originating_url&quot;:&quot;https://github.com/saivuttunoori/Coursera-Data-Science/blob/main/Data%20Collection-Web%20Scraping.ipynb&quot;,&quot;user_id&quot;:null}}" data-hydro-click-hmac="31744e58f17b1e21f00619e5d995867f2df3632ffd760c1fe922ef1244dd6a23" aria-label="You must be signed in to star a repository" data-view-component="true" class="tooltipped tooltipped-s btn-sm btn BtnGroup-item">    <svg aria-hidden="true" height="16" viewBox="0 0 16 16" version="1.1" width="16" data-view-component="true" class="octicon octicon-star v-align-text-bottom d-inline-block mr-2">
    <path d="M8 .25a.75.75 0 0 1 .673.418l1.882 3.815 4.21.612a.75.75 0 0 1 .416 1.279l-3.046 2.97.719 4.192a.751.751 0 0 1-1.088.791L8 12.347l-3.766 1.98a.75.75 0 0 1-1.088-.79l.72-4.194L.818 6.374a.75.75 0 0 1 .416-1.28l4.21-.611L7.327.668A.75.75 0 0 1 8 .25Zm0 2.445L6.615 5.5a.75.75 0 0 1-.564.41l-3.097.45 2.24 2.184a.75.75 0 0 1 .216.664l-.528 3.084 2.769-1.456a.75.75 0 0 1 .698 0l2.77 1.456-.53-3.084a.75.75 0 0 1 .216-.664l2.24-2.183-3.096-.45a.75.75 0 0 1-.564-.41L8 2.694Z"></path>
</svg><span data-view-component="true" class="d-inline">
          Star
</span>          <span id="repo-stars-counter-star" aria-label="0 users starred this repository" data-singular-suffix="user starred this repository" data-plural-suffix="users starred this repository" data-turbo-replace="true" title="0" data-view-component="true" class="Counter js-social-count">0</span>
</a>        <button aria-label="You must be signed in to add this repository to a list" type="button" disabled="disabled" data-view-component="true" class="btn-sm btn BtnGroup-item px-2">    <svg aria-hidden="true" height="16" viewBox="0 0 16 16" version="1.1" width="16" data-view-component="true" class="octicon octicon-triangle-down">
    <path d="m4.427 7.427 3.396 3.396a.25.25 0 0 0 .354 0l3.396-3.396A.25.25 0 0 0 11.396 7H4.604a.25.25 0 0 0-.177.427Z"></path>
</svg>
</button></div>
  </li>

</ul>

        </div>
      </div>

        <div id="responsive-meta-container" data-turbo-replace>
</div>


          <nav data-pjax="#js-repo-pjax-container" aria-label="Repository" data-view-component="true" class="js-repo-nav js-sidenav-container-pjax js-responsive-underlinenav overflow-hidden UnderlineNav px-3 px-md-4 px-lg-5">

  <ul data-view-component="true" class="UnderlineNav-body list-style-none">
      <li data-view-component="true" class="d-inline-flex">
  <a id="code-tab" href="/saivuttunoori/Coursera-Data-Science" data-tab-item="i0code-tab" data-selected-links="repo_source repo_downloads repo_commits repo_releases repo_tags repo_branches repo_packages repo_deployments repo_attestations /saivuttunoori/Coursera-Data-Science" data-pjax="#repo-content-pjax-container" data-turbo-frame="repo-content-turbo-frame" data-hotkey="g c" data-analytics-event="{&quot;category&quot;:&quot;Underline navbar&quot;,&quot;action&quot;:&quot;Click tab&quot;,&quot;label&quot;:&quot;Code&quot;,&quot;target&quot;:&quot;UNDERLINE_NAV.TAB&quot;}" aria-current="page" data-view-component="true" class="UnderlineNav-item no-wrap js-responsive-underlinenav-item js-selected-navigation-item selected">
    
              <svg aria-hidden="true" height="16" viewBox="0 0 16 16" version="1.1" width="16" data-view-component="true" class="octicon octicon-code UnderlineNav-octicon d-none d-sm-inline">
    <path d="m11.28 3.22 4.25 4.25a.75.75 0 0 1 0 1.06l-4.25 4.25a.749.749 0 0 1-1.275-.326.749.749 0 0 1 .215-.734L13.94 8l-3.72-3.72a.749.749 0 0 1 .326-1.275.749.749 0 0 1 .734.215Zm-6.56 0a.751.751 0 0 1 1.042.018.751.751 0 0 1 .018 1.042L2.06 8l3.72 3.72a.749.749 0 0 1-.326 1.275.749.749 0 0 1-.734-.215L.47 8.53a.75.75 0 0 1 0-1.06Z"></path>
</svg>
        <span data-content="Code">Code</span>
          <span id="code-repo-tab-count" data-pjax-replace="" data-turbo-replace="" title="Not available" data-view-component="true" class="Counter"></span>


    
</a></li>
      <li data-view-component="true" class="d-inline-flex">
  <a id="issues-tab" href="/saivuttunoori/Coursera-Data-Science/issues" data-tab-item="i1issues-tab" data-selected-links="repo_issues repo_labels repo_milestones /saivuttunoori/Coursera-Data-Science/issues" data-pjax="#repo-content-pjax-container" data-turbo-frame="repo-content-turbo-frame" data-hotkey="g i" data-analytics-event="{&quot;category&quot;:&quot;Underline navbar&quot;,&quot;action&quot;:&quot;Click tab&quot;,&quot;label&quot;:&quot;Issues&quot;,&quot;target&quot;:&quot;UNDERLINE_NAV.TAB&quot;}" data-view-component="true" class="UnderlineNav-item no-wrap js-responsive-underlinenav-item js-selected-navigation-item">
    
              <svg aria-hidden="true" height="16" viewBox="0 0 16 16" version="1.1" width="16" data-view-component="true" class="octicon octicon-issue-opened UnderlineNav-octicon d-none d-sm-inline">
    <path d="M8 9.5a1.5 1.5 0 1 0 0-3 1.5 1.5 0 0 0 0 3Z"></path><path d="M8 0a8 8 0 1 1 0 16A8 8 0 0 1 8 0ZM1.5 8a6.5 6.5 0 1 0 13 0 6.5 6.5 0 0 0-13 0Z"></path>
</svg>
        <span data-content="Issues">Issues</span>
          <span id="issues-repo-tab-count" data-pjax-replace="" data-turbo-replace="" title="0" hidden="hidden" data-view-component="true" class="Counter">0</span>


    
</a></li>
      <li data-view-component="true" class="d-inline-flex">
  <a id="pull-requests-tab" href="/saivuttunoori/Coursera-Data-Science/pulls" data-tab-item="i2pull-requests-tab" data-selected-links="repo_pulls checks /saivuttunoori/Coursera-Data-Science/pulls" data-pjax="#repo-content-pjax-container" data-turbo-frame="repo-content-turbo-frame" data-hotkey="g p" data-analytics-event="{&quot;category&quot;:&quot;Underline navbar&quot;,&quot;action&quot;:&quot;Click tab&quot;,&quot;label&quot;:&quot;Pull requests&quot;,&quot;target&quot;:&quot;UNDERLINE_NAV.TAB&quot;}" data-view-component="true" class="UnderlineNav-item no-wrap js-responsive-underlinenav-item js-selected-navigation-item">
    
              <svg aria-hidden="true" height="16" viewBox="0 0 16 16" version="1.1" width="16" data-view-component="true" class="octicon octicon-git-pull-request UnderlineNav-octicon d-none d-sm-inline">
    <path d="M1.5 3.25a2.25 2.25 0 1 1 3 2.122v5.256a2.251 2.251 0 1 1-1.5 0V5.372A2.25 2.25 0 0 1 1.5 3.25Zm5.677-.177L9.573.677A.25.25 0 0 1 10 .854V2.5h1A2.5 2.5 0 0 1 13.5 5v5.628a2.251 2.251 0 1 1-1.5 0V5a1 1 0 0 0-1-1h-1v1.646a.25.25 0 0 1-.427.177L7.177 3.427a.25.25 0 0 1 0-.354ZM3.75 2.5a.75.75 0 1 0 0 1.5.75.75 0 0 0 0-1.5Zm0 9.5a.75.75 0 1 0 0 1.5.75.75 0 0 0 0-1.5Zm8.25.75a.75.75 0 1 0 1.5 0 .75.75 0 0 0-1.5 0Z"></path>
</svg>
        <span data-content="Pull requests">Pull requests</span>
          <span id="pull-requests-repo-tab-count" data-pjax-replace="" data-turbo-replace="" title="0" hidden="hidden" data-view-component="true" class="Counter">0</span>


    
</a></li>
      <li data-view-component="true" class="d-inline-flex">
  <a id="actions-tab" href="/saivuttunoori/Coursera-Data-Science/actions" data-tab-item="i3actions-tab" data-selected-links="repo_actions /saivuttunoori/Coursera-Data-Science/actions" data-pjax="#repo-content-pjax-container" data-turbo-frame="repo-content-turbo-frame" data-hotkey="g a" data-analytics-event="{&quot;category&quot;:&quot;Underline navbar&quot;,&quot;action&quot;:&quot;Click tab&quot;,&quot;label&quot;:&quot;Actions&quot;,&quot;target&quot;:&quot;UNDERLINE_NAV.TAB&quot;}" data-view-component="true" class="UnderlineNav-item no-wrap js-responsive-underlinenav-item js-selected-navigation-item">
    
              <svg aria-hidden="true" height="16" viewBox="0 0 16 16" version="1.1" width="16" data-view-component="true" class="octicon octicon-play UnderlineNav-octicon d-none d-sm-inline">
    <path d="M8 0a8 8 0 1 1 0 16A8 8 0 0 1 8 0ZM1.5 8a6.5 6.5 0 1 0 13 0 6.5 6.5 0 0 0-13 0Zm4.879-2.773 4.264 2.559a.25.25 0 0 1 0 .428l-4.264 2.559A.25.25 0 0 1 6 10.559V5.442a.25.25 0 0 1 .379-.215Z"></path>
</svg>
        <span data-content="Actions">Actions</span>
          <span id="actions-repo-tab-count" data-pjax-replace="" data-turbo-replace="" title="Not available" data-view-component="true" class="Counter"></span>


    
</a></li>
      <li data-view-component="true" class="d-inline-flex">
  <a id="projects-tab" href="/saivuttunoori/Coursera-Data-Science/projects" data-tab-item="i4projects-tab" data-selected-links="repo_projects new_repo_project repo_project /saivuttunoori/Coursera-Data-Science/projects" data-pjax="#repo-content-pjax-container" data-turbo-frame="repo-content-turbo-frame" data-hotkey="g b" data-analytics-event="{&quot;category&quot;:&quot;Underline navbar&quot;,&quot;action&quot;:&quot;Click tab&quot;,&quot;label&quot;:&quot;Projects&quot;,&quot;target&quot;:&quot;UNDERLINE_NAV.TAB&quot;}" data-view-component="true" class="UnderlineNav-item no-wrap js-responsive-underlinenav-item js-selected-navigation-item">
    
              <svg aria-hidden="true" height="16" viewBox="0 0 16 16" version="1.1" width="16" data-view-component="true" class="octicon octicon-table UnderlineNav-octicon d-none d-sm-inline">
    <path d="M0 1.75C0 .784.784 0 1.75 0h12.5C15.216 0 16 .784 16 1.75v12.5A1.75 1.75 0 0 1 14.25 16H1.75A1.75 1.75 0 0 1 0 14.25ZM6.5 6.5v8h7.75a.25.25 0 0 0 .25-.25V6.5Zm8-1.5V1.75a.25.25 0 0 0-.25-.25H6.5V5Zm-13 1.5v7.75c0 .138.112.25.25.25H5v-8ZM5 5V1.5H1.75a.25.25 0 0 0-.25.25V5Z"></path>
</svg>
        <span data-content="Projects">Projects</span>
          <span id="projects-repo-tab-count" data-pjax-replace="" data-turbo-replace="" title="0" hidden="hidden" data-view-component="true" class="Counter">0</span>


    
</a></li>
      <li data-view-component="true" class="d-inline-flex">
  <a id="security-tab" href="/saivuttunoori/Coursera-Data-Science/security" data-tab-item="i5security-tab" data-selected-links="security overview alerts policy token_scanning code_scanning /saivuttunoori/Coursera-Data-Science/security" data-pjax="#repo-content-pjax-container" data-turbo-frame="repo-content-turbo-frame" data-hotkey="g s" data-analytics-event="{&quot;category&quot;:&quot;Underline navbar&quot;,&quot;action&quot;:&quot;Click tab&quot;,&quot;label&quot;:&quot;Security&quot;,&quot;target&quot;:&quot;UNDERLINE_NAV.TAB&quot;}" data-view-component="true" class="UnderlineNav-item no-wrap js-responsive-underlinenav-item js-selected-navigation-item">
    
              <svg aria-hidden="true" height="16" viewBox="0 0 16 16" version="1.1" width="16" data-view-component="true" class="octicon octicon-shield UnderlineNav-octicon d-none d-sm-inline">
    <path d="M7.467.133a1.748 1.748 0 0 1 1.066 0l5.25 1.68A1.75 1.75 0 0 1 15 3.48V7c0 1.566-.32 3.182-1.303 4.682-.983 1.498-2.585 2.813-5.032 3.855a1.697 1.697 0 0 1-1.33 0c-2.447-1.042-4.049-2.357-5.032-3.855C1.32 10.182 1 8.566 1 7V3.48a1.75 1.75 0 0 1 1.217-1.667Zm.61 1.429a.25.25 0 0 0-.153 0l-5.25 1.68a.25.25 0 0 0-.174.238V7c0 1.358.275 2.666 1.057 3.86.784 1.194 2.121 2.34 4.366 3.297a.196.196 0 0 0 .154 0c2.245-.956 3.582-2.104 4.366-3.298C13.225 9.666 13.5 8.36 13.5 7V3.48a.251.251 0 0 0-.174-.237l-5.25-1.68ZM8.75 4.75v3a.75.75 0 0 1-1.5 0v-3a.75.75 0 0 1 1.5 0ZM9 10.5a1 1 0 1 1-2 0 1 1 0 0 1 2 0Z"></path>
</svg>
        <span data-content="Security">Security</span>
          <include-fragment src="/saivuttunoori/Coursera-Data-Science/security/overall-count" accept="text/fragment+html"></include-fragment>

    
</a></li>
      <li data-view-component="true" class="d-inline-flex">
  <a id="insights-tab" href="/saivuttunoori/Coursera-Data-Science/pulse" data-tab-item="i6insights-tab" data-selected-links="repo_graphs repo_contributors dependency_graph dependabot_updates pulse people community /saivuttunoori/Coursera-Data-Science/pulse" data-pjax="#repo-content-pjax-container" data-turbo-frame="repo-content-turbo-frame" data-analytics-event="{&quot;category&quot;:&quot;Underline navbar&quot;,&quot;action&quot;:&quot;Click tab&quot;,&quot;label&quot;:&quot;Insights&quot;,&quot;target&quot;:&quot;UNDERLINE_NAV.TAB&quot;}" data-view-component="true" class="UnderlineNav-item no-wrap js-responsive-underlinenav-item js-selected-navigation-item">
    
              <svg aria-hidden="true" height="16" viewBox="0 0 16 16" version="1.1" width="16" data-view-component="true" class="octicon octicon-graph UnderlineNav-octicon d-none d-sm-inline">
    <path d="M1.5 1.75V13.5h13.75a.75.75 0 0 1 0 1.5H.75a.75.75 0 0 1-.75-.75V1.75a.75.75 0 0 1 1.5 0Zm14.28 2.53-5.25 5.25a.75.75 0 0 1-1.06 0L7 7.06 4.28 9.78a.751.751 0 0 1-1.042-.018.751.751 0 0 1-.018-1.042l3.25-3.25a.75.75 0 0 1 1.06 0L10 7.94l4.72-4.72a.751.751 0 0 1 1.042.018.751.751 0 0 1 .018 1.042Z"></path>
</svg>
        <span data-content="Insights">Insights</span>
          <span id="insights-repo-tab-count" data-pjax-replace="" data-turbo-replace="" title="Not available" data-view-component="true" class="Counter"></span>


    
</a></li>
</ul>
    <div style="visibility:hidden;" data-view-component="true" class="UnderlineNav-actions js-responsive-underlinenav-overflow position-absolute pr-3 pr-md-4 pr-lg-5 right-0">        <details data-view-component="true" class="details-overlay details-reset position-relative">
    <summary role="button" data-view-component="true">          <div class="UnderlineNav-item mr-0 border-0">
            <svg aria-hidden="true" height="16" viewBox="0 0 16 16" version="1.1" width="16" data-view-component="true" class="octicon octicon-kebab-horizontal">
    <path d="M8 9a1.5 1.5 0 1 0 0-3 1.5 1.5 0 0 0 0 3ZM1.5 9a1.5 1.5 0 1 0 0-3 1.5 1.5 0 0 0 0 3Zm13 0a1.5 1.5 0 1 0 0-3 1.5 1.5 0 0 0 0 3Z"></path>
</svg>
            <span class="sr-only">More</span>
          </div>
</summary>
    <details-menu role="menu" data-view-component="true" class="dropdown-menu dropdown-menu-sw">
          <ul>
              <li data-menu-item="i0code-tab" hidden>
                <a role="menuitem" class="js-selected-navigation-item selected dropdown-item" aria-current="page" data-selected-links="repo_source repo_downloads repo_commits repo_releases repo_tags repo_branches repo_packages repo_deployments repo_attestations /saivuttunoori/Coursera-Data-Science" href="/saivuttunoori/Coursera-Data-Science">
                  Code
</a>              </li>
              <li data-menu-item="i1issues-tab" hidden>
                <a role="menuitem" class="js-selected-navigation-item dropdown-item" data-selected-links="repo_issues repo_labels repo_milestones /saivuttunoori/Coursera-Data-Science/issues" href="/saivuttunoori/Coursera-Data-Science/issues">
                  Issues
</a>              </li>
              <li data-menu-item="i2pull-requests-tab" hidden>
                <a role="menuitem" class="js-selected-navigation-item dropdown-item" data-selected-links="repo_pulls checks /saivuttunoori/Coursera-Data-Science/pulls" href="/saivuttunoori/Coursera-Data-Science/pulls">
                  Pull requests
</a>              </li>
              <li data-menu-item="i3actions-tab" hidden>
                <a role="menuitem" class="js-selected-navigation-item dropdown-item" data-selected-links="repo_actions /saivuttunoori/Coursera-Data-Science/actions" href="/saivuttunoori/Coursera-Data-Science/actions">
                  Actions
</a>              </li>
              <li data-menu-item="i4projects-tab" hidden>
                <a role="menuitem" class="js-selected-navigation-item dropdown-item" data-selected-links="repo_projects new_repo_project repo_project /saivuttunoori/Coursera-Data-Science/projects" href="/saivuttunoori/Coursera-Data-Science/projects">
                  Projects
</a>              </li>
              <li data-menu-item="i5security-tab" hidden>
                <a role="menuitem" class="js-selected-navigation-item dropdown-item" data-selected-links="security overview alerts policy token_scanning code_scanning /saivuttunoori/Coursera-Data-Science/security" href="/saivuttunoori/Coursera-Data-Science/security">
                  Security
</a>              </li>
              <li data-menu-item="i6insights-tab" hidden>
                <a role="menuitem" class="js-selected-navigation-item dropdown-item" data-selected-links="repo_graphs repo_contributors dependency_graph dependabot_updates pulse people community /saivuttunoori/Coursera-Data-Science/pulse" href="/saivuttunoori/Coursera-Data-Science/pulse">
                  Insights
</a>              </li>
          </ul>
</details-menu>
</details></div>
</nav>

  </div>

  



<turbo-frame id="repo-content-turbo-frame" target="_top" data-turbo-action="advance" class="">
    <div id="repo-content-pjax-container" class="repository-content " >
    


    
      
    





<react-app
  app-name="react-code-view"
  initial-path="/saivuttunoori/Coursera-Data-Science/blob/main/Data%20Collection-Web%20Scraping.ipynb"
  style="min-height: calc(100vh - 64px)" 
  data-ssr="false"
  data-lazy="false"
  data-alternate="false"
>
  
  <script type="application/json" data-target="react-app.embeddedData">{"payload":{"allShortcutsEnabled":false,"fileTree":{"":{"items":[{"name":"Analyzing Historical StockRevenue Data and Building a Dashboard.ipynb","path":"Analyzing Historical StockRevenue Data and Building a Dashboard.ipynb","contentType":"file"},{"name":"Data Collection-API.ipynb","path":"Data Collection-API.ipynb","contentType":"file"},{"name":"Data Collection-Web Scraping.ipynb","path":"Data Collection-Web Scraping.ipynb","contentType":"file"},{"name":"Data-Wrangling.ipynb","path":"Data-Wrangling.ipynb","contentType":"file"},{"name":"DataScienceEcosystem.ipynb","path":"DataScienceEcosystem.ipynb","contentType":"file"},{"name":"EDA-Viz.ipynb","path":"EDA-Viz.ipynb","contentType":"file"},{"name":"EDA_with_SQL.ipynb","path":"EDA_with_SQL.ipynb","contentType":"file"},{"name":"README.md","path":"README.md","contentType":"file"},{"name":"SpaceX Machine Learning Prediction.ipynb","path":"SpaceX Machine Learning Prediction.ipynb","contentType":"file"},{"name":"Visual Analytics with Folium lab.ipynb","path":"Visual Analytics with Folium lab.ipynb","contentType":"file"}],"totalCount":10}},"fileTreeProcessingTime":5.293804,"foldersToFetch":[],"reducedMotionEnabled":null,"repo":{"id":686678873,"defaultBranch":"main","name":"Coursera-Data-Science","ownerLogin":"saivuttunoori","currentUserCanPush":false,"isFork":false,"isEmpty":false,"createdAt":"2023-09-03T15:40:28.000Z","ownerAvatar":"https://avatars.githubusercontent.com/u/97359778?v=4","public":true,"private":false,"isOrgOwned":false},"symbolsExpanded":false,"treeExpanded":true,"refInfo":{"name":"main","listCacheKey":"v0:1696060360.0","canEdit":false,"refType":"branch","currentOid":"3c29162e0646f77141cc8893cd62d2e93fe62629"},"path":"Data Collection-Web Scraping.ipynb","currentUser":null,"blob":{"rawLines":["{\"cells\": [{\"metadata\": {}, \"cell_type\": \"markdown\", \"source\": \"\u003cp style=\\\"text-align:center\\\"\u003e\\n    \u003ca href=\\\"https://skills.network/?utm_medium=Exinfluencer\u0026utm_source=Exinfluencer\u0026utm_content=000026UJ\u0026utm_term=10006555\u0026utm_id=NA-SkillsNetwork-Channel-SkillsNetworkCoursesIBMDS0321ENSkillsNetwork26802033-2022-01-01\\\" target=\\\"_blank\\\"\u003e\\n    \u003cimg src=\\\"https://cf-courses-data.s3.us.cloud-object-storage.appdomain.cloud/assets/logos/SN_web_lightmode.png\\\" width=\\\"200\\\" alt=\\\"Skills Network Logo\\\"  /\u003e\\n    \u003c/a\u003e\\n\u003c/p\u003e\\n\"}, {\"metadata\": {}, \"cell_type\": \"markdown\", \"source\": \"# **Space X  Falcon 9 First Stage Landing Prediction**\\n\"}, {\"metadata\": {}, \"cell_type\": \"markdown\", \"source\": \"## Web scraping Falcon 9 and Falcon Heavy Launches Records from Wikipedia\\n\"}, {\"metadata\": {}, \"cell_type\": \"markdown\", \"source\": \"Estimated time needed: **40** minutes\\n\"}, {\"metadata\": {}, \"cell_type\": \"markdown\", \"source\": \"In this lab, you will be performing web scraping to collect Falcon 9 historical launch records from a Wikipedia page titled `List of Falcon 9 and Falcon Heavy launches`\\n\\n[https://en.wikipedia.org/wiki/List_of_Falcon\\\\_9\\\\_and_Falcon_Heavy_launches](https://en.wikipedia.org/wiki/List_of_Falcon\\\\_9\\\\_and_Falcon_Heavy_launches?utm_medium=Exinfluencer\u0026utm_source=Exinfluencer\u0026utm_content=000026UJ\u0026utm_term=10006555\u0026utm_id=NA-SkillsNetwork-Channel-SkillsNetworkCoursesIBMDS0321ENSkillsNetwork26802033-2022-01-01)\\n\"}, {\"metadata\": {}, \"cell_type\": \"markdown\", \"source\": \"![](https://cf-courses-data.s3.us.cloud-object-storage.appdomain.cloud/IBM-DS0321EN-SkillsNetwork/labs/module\\\\_1\\\\_L2/images/Falcon9\\\\_rocket_family.svg)\\n\"}, {\"metadata\": {}, \"cell_type\": \"markdown\", \"source\": \"Falcon 9 first stage will land successfully\\n\"}, {\"metadata\": {}, \"cell_type\": \"markdown\", \"source\": \"![](https://cf-courses-data.s3.us.cloud-object-storage.appdomain.cloud/IBMDeveloperSkillsNetwork-DS0701EN-SkillsNetwork/api/Images/landing\\\\_1.gif)\\n\"}, {\"metadata\": {}, \"cell_type\": \"markdown\", \"source\": \"Several examples of an unsuccessful landing are shown here:\\n\"}, {\"metadata\": {}, \"cell_type\": \"markdown\", \"source\": \"![](https://cf-courses-data.s3.us.cloud-object-storage.appdomain.cloud/IBMDeveloperSkillsNetwork-DS0701EN-SkillsNetwork/api/Images/crash.gif)\\n\"}, {\"metadata\": {}, \"cell_type\": \"markdown\", \"source\": \"More specifically, the launch records are stored in a HTML table shown below:\\n\"}, {\"metadata\": {}, \"cell_type\": \"markdown\", \"source\": \"![](https://cf-courses-data.s3.us.cloud-object-storage.appdomain.cloud/IBM-DS0321EN-SkillsNetwork/labs/module\\\\_1\\\\_L2/images/falcon9-launches-wiki.png)\\n\"}, {\"metadata\": {}, \"cell_type\": \"markdown\", \"source\": \"## Objectives\\n\\nWeb scrap Falcon 9 launch records with `BeautifulSoup`:\\n\\n*   Extract a Falcon 9 launch records HTML table from Wikipedia\\n*   Parse the table and convert it into a Pandas data frame\\n\"}, {\"metadata\": {}, \"cell_type\": \"markdown\", \"source\": \"First let's import required packages for this lab\\n\"}, {\"metadata\": {}, \"cell_type\": \"code\", \"source\": \"!pip3 install beautifulsoup4\\n!pip3 install requests\", \"execution_count\": 1, \"outputs\": [{\"output_type\": \"stream\", \"text\": \"Requirement already satisfied: beautifulsoup4 in /opt/conda/envs/Python-3.9/lib/python3.9/site-packages (4.10.0)\\nRequirement already satisfied: soupsieve\u003e1.2 in /opt/conda/envs/Python-3.9/lib/python3.9/site-packages (from beautifulsoup4) (2.3.1)\\nRequirement already satisfied: requests in /opt/conda/envs/Python-3.9/lib/python3.9/site-packages (2.26.0)\\nRequirement already satisfied: charset-normalizer~=2.0.0 in /opt/conda/envs/Python-3.9/lib/python3.9/site-packages (from requests) (2.0.4)\\nRequirement already satisfied: idna\u003c4,\u003e=2.5 in /opt/conda/envs/Python-3.9/lib/python3.9/site-packages (from requests) (3.3)\\nRequirement already satisfied: certifi\u003e=2017.4.17 in /opt/conda/envs/Python-3.9/lib/python3.9/site-packages (from requests) (2022.6.15)\\nRequirement already satisfied: urllib3\u003c1.27,\u003e=1.21.1 in /opt/conda/envs/Python-3.9/lib/python3.9/site-packages (from requests) (1.26.7)\\n\", \"name\": \"stdout\"}]}, {\"metadata\": {}, \"cell_type\": \"code\", \"source\": \"import sys\\n\\nimport requests\\nfrom bs4 import BeautifulSoup\\nimport re\\nimport unicodedata\\nimport pandas as pd\", \"execution_count\": 2, \"outputs\": []}, {\"metadata\": {}, \"cell_type\": \"markdown\", \"source\": \"and we will provide some helper functions for you to process web scraped HTML table\\n\"}, {\"metadata\": {}, \"cell_type\": \"code\", \"source\": \"def date_time(table_cells):\\n    \\\"\\\"\\\"\\n    This function returns the data and time from the HTML  table cell\\n    Input: the  element of a table data cell extracts extra row\\n    \\\"\\\"\\\"\\n    return [data_time.strip() for data_time in list(table_cells.strings)][0:2]\\n\\ndef booster_version(table_cells):\\n    \\\"\\\"\\\"\\n    This function returns the booster version from the HTML  table cell \\n    Input: the  element of a table data cell extracts extra row\\n    \\\"\\\"\\\"\\n    out=''.join([booster_version for i,booster_version in enumerate( table_cells.strings) if i%2==0][0:-1])\\n    return out\\n\\ndef landing_status(table_cells):\\n    \\\"\\\"\\\"\\n    This function returns the landing status from the HTML table cell \\n    Input: the  element of a table data cell extracts extra row\\n    \\\"\\\"\\\"\\n    out=[i for i in table_cells.strings][0]\\n    return out\\n\\n\\ndef get_mass(table_cells):\\n    mass=unicodedata.normalize(\\\"NFKD\\\", table_cells.text).strip()\\n    if mass:\\n        mass.find(\\\"kg\\\")\\n        new_mass=mass[0:mass.find(\\\"kg\\\")+2]\\n    else:\\n        new_mass=0\\n    return new_mass\\n\\n\\ndef extract_column_from_header(row):\\n    \\\"\\\"\\\"\\n    This function returns the landing status from the HTML table cell \\n    Input: the  element of a table data cell extracts extra row\\n    \\\"\\\"\\\"\\n    if (row.br):\\n        row.br.extract()\\n    if row.a:\\n        row.a.extract()\\n    if row.sup:\\n        row.sup.extract()\\n        \\n    colunm_name = ' '.join(row.contents)\\n    \\n    # Filter the digit and empty names\\n    if not(colunm_name.strip().isdigit()):\\n        colunm_name = colunm_name.strip()\\n        return colunm_name    \\n\", \"execution_count\": 3, \"outputs\": []}, {\"metadata\": {}, \"cell_type\": \"markdown\", \"source\": \"To keep the lab tasks consistent, you will be asked to scrape the data from a snapshot of the  `List of Falcon 9 and Falcon Heavy launches` Wikipage updated on\\n`9th June 2021`\\n\"}, {\"metadata\": {}, \"cell_type\": \"code\", \"source\": \"static_url = \\\"https://en.wikipedia.org/w/index.php?title=List_of_Falcon_9_and_Falcon_Heavy_launches\u0026oldid=1027686922\\\"\", \"execution_count\": 4, \"outputs\": []}, {\"metadata\": {}, \"cell_type\": \"markdown\", \"source\": \"Next, request the HTML page from the above URL and get a `response` object\\n\"}, {\"metadata\": {}, \"cell_type\": \"markdown\", \"source\": \"### TASK 1: Request the Falcon9 Launch Wiki page from its URL\\n\"}, {\"metadata\": {}, \"cell_type\": \"markdown\", \"source\": \"First, let's perform an HTTP GET method to request the Falcon9 Launch HTML page, as an HTTP response.\\n\"}, {\"metadata\": {}, \"cell_type\": \"code\", \"source\": \"# use requests.get() method with the provided static_url\\n# assign the response to a object\\nresponse = requests.get(static_url)\", \"execution_count\": 5, \"outputs\": []}, {\"metadata\": {}, \"cell_type\": \"markdown\", \"source\": \"Create a `BeautifulSoup` object from the HTML `response`\\n\"}, {\"metadata\": {}, \"cell_type\": \"code\", \"source\": \"# Use BeautifulSoup() to create a BeautifulSoup object from a response text content\\nsoup = BeautifulSoup(response.text, 'html')\", \"execution_count\": 6, \"outputs\": []}, {\"metadata\": {}, \"cell_type\": \"markdown\", \"source\": \"Print the page title to verify if the `BeautifulSoup` object was created properly\\n\"}, {\"metadata\": {}, \"cell_type\": \"code\", \"source\": \"# Use soup.title attribute\\nsoup.title\", \"execution_count\": 7, \"outputs\": [{\"output_type\": \"execute_result\", \"execution_count\": 7, \"data\": {\"text/plain\": \"\u003ctitle\u003eList of Falcon 9 and Falcon Heavy launches - Wikipedia\u003c/title\u003e\"}, \"metadata\": {}}]}, {\"metadata\": {}, \"cell_type\": \"markdown\", \"source\": \"### TASK 2: Extract all column/variable names from the HTML table header\\n\"}, {\"metadata\": {}, \"cell_type\": \"markdown\", \"source\": \"Next, we want to collect all relevant column names from the HTML table header\\n\"}, {\"metadata\": {}, \"cell_type\": \"markdown\", \"source\": \"Let's try to find all tables on the wiki page first. If you need to refresh your memory about `BeautifulSoup`, please check the external reference link towards the end of this lab\\n\"}, {\"metadata\": {}, \"cell_type\": \"code\", \"source\": \"# Use the find_all function in the BeautifulSoup object, with element type `table`\\n# Assign the result to a list called `html_tables`\\nhtml_tables = soup.find_all('table')\", \"execution_count\": 8, \"outputs\": []}, {\"metadata\": {}, \"cell_type\": \"markdown\", \"source\": \"Starting from the third table is our target table contains the actual launch records.\\n\"}, {\"metadata\": {}, \"cell_type\": \"code\", \"source\": \"# Let's print the third table and check its content\\nfirst_launch_table = html_tables[2]\\nprint(first_launch_table)\", \"execution_count\": 9, \"outputs\": [{\"output_type\": \"stream\", \"text\": \"\u003ctable class=\\\"wikitable plainrowheaders collapsible\\\" style=\\\"width: 100%;\\\"\u003e\\n\u003ctbody\u003e\u003ctr\u003e\\n\u003cth scope=\\\"col\\\"\u003eFlight No.\\n\u003c/th\u003e\\n\u003cth scope=\\\"col\\\"\u003eDate and\u003cbr/\u003etime (\u003ca href=\\\"/wiki/Coordinated_Universal_Time\\\" title=\\\"Coordinated Universal Time\\\"\u003eUTC\u003c/a\u003e)\\n\u003c/th\u003e\\n\u003cth scope=\\\"col\\\"\u003e\u003ca href=\\\"/wiki/List_of_Falcon_9_first-stage_boosters\\\" title=\\\"List of Falcon 9 first-stage boosters\\\"\u003eVersion,\u003cbr/\u003eBooster\u003c/a\u003e \u003csup class=\\\"reference\\\" id=\\\"cite_ref-booster_11-0\\\"\u003e\u003ca href=\\\"#cite_note-booster-11\\\"\u003e[b]\u003c/a\u003e\u003c/sup\u003e\\n\u003c/th\u003e\\n\u003cth scope=\\\"col\\\"\u003eLaunch site\\n\u003c/th\u003e\\n\u003cth scope=\\\"col\\\"\u003ePayload\u003csup class=\\\"reference\\\" id=\\\"cite_ref-Dragon_12-0\\\"\u003e\u003ca href=\\\"#cite_note-Dragon-12\\\"\u003e[c]\u003c/a\u003e\u003c/sup\u003e\\n\u003c/th\u003e\\n\u003cth scope=\\\"col\\\"\u003ePayload mass\\n\u003c/th\u003e\\n\u003cth scope=\\\"col\\\"\u003eOrbit\\n\u003c/th\u003e\\n\u003cth scope=\\\"col\\\"\u003eCustomer\\n\u003c/th\u003e\\n\u003cth scope=\\\"col\\\"\u003eLaunch\u003cbr/\u003eoutcome\\n\u003c/th\u003e\\n\u003cth scope=\\\"col\\\"\u003e\u003ca href=\\\"/wiki/Falcon_9_first-stage_landing_tests\\\" title=\\\"Falcon 9 first-stage landing tests\\\"\u003eBooster\u003cbr/\u003elanding\u003c/a\u003e\\n\u003c/th\u003e\u003c/tr\u003e\\n\u003ctr\u003e\\n\u003cth rowspan=\\\"2\\\" scope=\\\"row\\\" style=\\\"text-align:center;\\\"\u003e1\\n\u003c/th\u003e\\n\u003ctd\u003e4 June 2010,\u003cbr/\u003e18:45\\n\u003c/td\u003e\\n\u003ctd\u003e\u003ca href=\\\"/wiki/Falcon_9_v1.0\\\" title=\\\"Falcon 9 v1.0\\\"\u003eF9 v1.0\u003c/a\u003e\u003csup class=\\\"reference\\\" id=\\\"cite_ref-MuskMay2012_13-0\\\"\u003e\u003ca href=\\\"#cite_note-MuskMay2012-13\\\"\u003e[7]\u003c/a\u003e\u003c/sup\u003e\u003cbr/\u003eB0003.1\u003csup class=\\\"reference\\\" id=\\\"cite_ref-block_numbers_14-0\\\"\u003e\u003ca href=\\\"#cite_note-block_numbers-14\\\"\u003e[8]\u003c/a\u003e\u003c/sup\u003e\\n\u003c/td\u003e\\n\u003ctd\u003e\u003ca href=\\\"/wiki/Cape_Canaveral_Space_Force_Station\\\" title=\\\"Cape Canaveral Space Force Station\\\"\u003eCCAFS\u003c/a\u003e,\u003cbr/\u003e\u003ca href=\\\"/wiki/Cape_Canaveral_Space_Launch_Complex_40\\\" title=\\\"Cape Canaveral Space Launch Complex 40\\\"\u003eSLC-40\u003c/a\u003e\\n\u003c/td\u003e\\n\u003ctd\u003e\u003ca href=\\\"/wiki/Dragon_Spacecraft_Qualification_Unit\\\" title=\\\"Dragon Spacecraft Qualification Unit\\\"\u003eDragon Spacecraft Qualification Unit\u003c/a\u003e\\n\u003c/td\u003e\\n\u003ctd\u003e\\n\u003c/td\u003e\\n\u003ctd\u003e\u003ca href=\\\"/wiki/Low_Earth_orbit\\\" title=\\\"Low Earth orbit\\\"\u003eLEO\u003c/a\u003e\\n\u003c/td\u003e\\n\u003ctd\u003e\u003ca href=\\\"/wiki/SpaceX\\\" title=\\\"SpaceX\\\"\u003eSpaceX\u003c/a\u003e\\n\u003c/td\u003e\\n\u003ctd class=\\\"table-success\\\" style=\\\"background: #9EFF9E; vertical-align: middle; text-align: center;\\\"\u003eSuccess\\n\u003c/td\u003e\\n\u003ctd class=\\\"table-failure\\\" style=\\\"background: #FFC7C7; vertical-align: middle; text-align: center;\\\"\u003eFailure\u003csup class=\\\"reference\\\" id=\\\"cite_ref-ns20110930_15-0\\\"\u003e\u003ca href=\\\"#cite_note-ns20110930-15\\\"\u003e[9]\u003c/a\u003e\u003c/sup\u003e\u003csup class=\\\"reference\\\" id=\\\"cite_ref-16\\\"\u003e\u003ca href=\\\"#cite_note-16\\\"\u003e[10]\u003c/a\u003e\u003c/sup\u003e\u003cbr/\u003e\u003csmall\u003e(parachute)\u003c/small\u003e\\n\u003c/td\u003e\u003c/tr\u003e\\n\u003ctr\u003e\\n\u003ctd colspan=\\\"9\\\"\u003eFirst flight of Falcon 9 v1.0.\u003csup class=\\\"reference\\\" id=\\\"cite_ref-sfn20100604_17-0\\\"\u003e\u003ca href=\\\"#cite_note-sfn20100604-17\\\"\u003e[11]\u003c/a\u003e\u003c/sup\u003e Used a boilerplate version of Dragon capsule which was not designed to separate from the second stage.\u003csmall\u003e(\u003ca href=\\\"#First_flight_of_Falcon_9\\\"\u003emore details below\u003c/a\u003e)\u003c/small\u003e Attempted to recover the first stage by parachuting it into the ocean, but it burned up on reentry, before the parachutes even deployed.\u003csup class=\\\"reference\\\" id=\\\"cite_ref-parachute_18-0\\\"\u003e\u003ca href=\\\"#cite_note-parachute-18\\\"\u003e[12]\u003c/a\u003e\u003c/sup\u003e\\n\u003c/td\u003e\u003c/tr\u003e\\n\u003ctr\u003e\\n\u003cth rowspan=\\\"2\\\" scope=\\\"row\\\" style=\\\"text-align:center;\\\"\u003e2\\n\u003c/th\u003e\\n\u003ctd\u003e8 December 2010,\u003cbr/\u003e15:43\u003csup class=\\\"reference\\\" id=\\\"cite_ref-spaceflightnow_Clark_Launch_Report_19-0\\\"\u003e\u003ca href=\\\"#cite_note-spaceflightnow_Clark_Launch_Report-19\\\"\u003e[13]\u003c/a\u003e\u003c/sup\u003e\\n\u003c/td\u003e\\n\u003ctd\u003e\u003ca href=\\\"/wiki/Falcon_9_v1.0\\\" title=\\\"Falcon 9 v1.0\\\"\u003eF9 v1.0\u003c/a\u003e\u003csup class=\\\"reference\\\" id=\\\"cite_ref-MuskMay2012_13-1\\\"\u003e\u003ca href=\\\"#cite_note-MuskMay2012-13\\\"\u003e[7]\u003c/a\u003e\u003c/sup\u003e\u003cbr/\u003eB0004.1\u003csup class=\\\"reference\\\" id=\\\"cite_ref-block_numbers_14-1\\\"\u003e\u003ca href=\\\"#cite_note-block_numbers-14\\\"\u003e[8]\u003c/a\u003e\u003c/sup\u003e\\n\u003c/td\u003e\\n\u003ctd\u003e\u003ca href=\\\"/wiki/Cape_Canaveral_Space_Force_Station\\\" title=\\\"Cape Canaveral Space Force Station\\\"\u003eCCAFS\u003c/a\u003e,\u003cbr/\u003e\u003ca href=\\\"/wiki/Cape_Canaveral_Space_Launch_Complex_40\\\" title=\\\"Cape Canaveral Space Launch Complex 40\\\"\u003eSLC-40\u003c/a\u003e\\n\u003c/td\u003e\\n\u003ctd\u003e\u003ca href=\\\"/wiki/SpaceX_Dragon\\\" title=\\\"SpaceX Dragon\\\"\u003eDragon\u003c/a\u003e \u003ca class=\\\"mw-redirect\\\" href=\\\"/wiki/COTS_Demo_Flight_1\\\" title=\\\"COTS Demo Flight 1\\\"\u003edemo flight C1\u003c/a\u003e\u003cbr/\u003e(Dragon C101)\\n\u003c/td\u003e\\n\u003ctd\u003e\\n\u003c/td\u003e\\n\u003ctd\u003e\u003ca href=\\\"/wiki/Low_Earth_orbit\\\" title=\\\"Low Earth orbit\\\"\u003eLEO\u003c/a\u003e (\u003ca href=\\\"/wiki/International_Space_Station\\\" title=\\\"International Space Station\\\"\u003eISS\u003c/a\u003e)\\n\u003c/td\u003e\\n\u003ctd\u003e\u003cdiv class=\\\"plainlist\\\"\u003e\\n\u003cul\u003e\u003cli\u003e\u003ca href=\\\"/wiki/NASA\\\" title=\\\"NASA\\\"\u003eNASA\u003c/a\u003e (\u003ca href=\\\"/wiki/Commercial_Orbital_Transportation_Services\\\" title=\\\"Commercial Orbital Transportation Services\\\"\u003eCOTS\u003c/a\u003e)\u003c/li\u003e\\n\u003cli\u003e\u003ca href=\\\"/wiki/National_Reconnaissance_Office\\\" title=\\\"National Reconnaissance Office\\\"\u003eNRO\u003c/a\u003e\u003c/li\u003e\u003c/ul\u003e\\n\u003c/div\u003e\\n\u003c/td\u003e\\n\u003ctd class=\\\"table-success\\\" style=\\\"background: #9EFF9E; vertical-align: middle; text-align: center;\\\"\u003eSuccess\u003csup class=\\\"reference\\\" id=\\\"cite_ref-ns20110930_15-1\\\"\u003e\u003ca href=\\\"#cite_note-ns20110930-15\\\"\u003e[9]\u003c/a\u003e\u003c/sup\u003e\\n\u003c/td\u003e\\n\u003ctd class=\\\"table-failure\\\" style=\\\"background: #FFC7C7; vertical-align: middle; text-align: center;\\\"\u003eFailure\u003csup class=\\\"reference\\\" id=\\\"cite_ref-ns20110930_15-2\\\"\u003e\u003ca href=\\\"#cite_note-ns20110930-15\\\"\u003e[9]\u003c/a\u003e\u003c/sup\u003e\u003csup class=\\\"reference\\\" id=\\\"cite_ref-20\\\"\u003e\u003ca href=\\\"#cite_note-20\\\"\u003e[14]\u003c/a\u003e\u003c/sup\u003e\u003cbr/\u003e\u003csmall\u003e(parachute)\u003c/small\u003e\\n\u003c/td\u003e\u003c/tr\u003e\\n\u003ctr\u003e\\n\u003ctd colspan=\\\"9\\\"\u003eMaiden flight of \u003ca class=\\\"mw-redirect\\\" href=\\\"/wiki/Dragon_capsule\\\" title=\\\"Dragon capsule\\\"\u003eDragon capsule\u003c/a\u003e, consisting of over 3 hours of testing thruster maneuvering and reentry.\u003csup class=\\\"reference\\\" id=\\\"cite_ref-spaceflightnow_Clark_unleashing_Dragon_21-0\\\"\u003e\u003ca href=\\\"#cite_note-spaceflightnow_Clark_unleashing_Dragon-21\\\"\u003e[15]\u003c/a\u003e\u003c/sup\u003e Attempted to recover the first stage by parachuting it into the ocean, but it disintegrated upon reentry, before the parachutes were deployed.\u003csup class=\\\"reference\\\" id=\\\"cite_ref-parachute_18-1\\\"\u003e\u003ca href=\\\"#cite_note-parachute-18\\\"\u003e[12]\u003c/a\u003e\u003c/sup\u003e \u003csmall\u003e(\u003ca href=\\\"#COTS_demo_missions\\\"\u003emore details below\u003c/a\u003e)\u003c/small\u003e It also included two \u003ca href=\\\"/wiki/CubeSat\\\" title=\\\"CubeSat\\\"\u003eCubeSats\u003c/a\u003e,\u003csup class=\\\"reference\\\" id=\\\"cite_ref-NRO_Taps_Boeing_for_Next_Batch_of_CubeSats_22-0\\\"\u003e\u003ca href=\\\"#cite_note-NRO_Taps_Boeing_for_Next_Batch_of_CubeSats-22\\\"\u003e[16]\u003c/a\u003e\u003c/sup\u003e and a wheel of \u003ca href=\\\"/wiki/Brou%C3%A8re\\\" title=\\\"Brou\\u00e8re\\\"\u003eBrou\\u00e8re\u003c/a\u003e cheese.\\n\u003c/td\u003e\u003c/tr\u003e\\n\u003ctr\u003e\\n\u003cth rowspan=\\\"2\\\" scope=\\\"row\\\" style=\\\"text-align:center;\\\"\u003e3\\n\u003c/th\u003e\\n\u003ctd\u003e22 May 2012,\u003cbr/\u003e07:44\u003csup class=\\\"reference\\\" id=\\\"cite_ref-BBC_new_era_23-0\\\"\u003e\u003ca href=\\\"#cite_note-BBC_new_era-23\\\"\u003e[17]\u003c/a\u003e\u003c/sup\u003e\\n\u003c/td\u003e\\n\u003ctd\u003e\u003ca href=\\\"/wiki/Falcon_9_v1.0\\\" title=\\\"Falcon 9 v1.0\\\"\u003eF9 v1.0\u003c/a\u003e\u003csup class=\\\"reference\\\" id=\\\"cite_ref-MuskMay2012_13-2\\\"\u003e\u003ca href=\\\"#cite_note-MuskMay2012-13\\\"\u003e[7]\u003c/a\u003e\u003c/sup\u003e\u003cbr/\u003eB0005.1\u003csup class=\\\"reference\\\" id=\\\"cite_ref-block_numbers_14-2\\\"\u003e\u003ca href=\\\"#cite_note-block_numbers-14\\\"\u003e[8]\u003c/a\u003e\u003c/sup\u003e\\n\u003c/td\u003e\\n\u003ctd\u003e\u003ca href=\\\"/wiki/Cape_Canaveral_Space_Force_Station\\\" title=\\\"Cape Canaveral Space Force Station\\\"\u003eCCAFS\u003c/a\u003e,\u003cbr/\u003e\u003ca href=\\\"/wiki/Cape_Canaveral_Space_Launch_Complex_40\\\" title=\\\"Cape Canaveral Space Launch Complex 40\\\"\u003eSLC-40\u003c/a\u003e\\n\u003c/td\u003e\\n\u003ctd\u003e\u003ca href=\\\"/wiki/SpaceX_Dragon\\\" title=\\\"SpaceX Dragon\\\"\u003eDragon\u003c/a\u003e \u003ca class=\\\"mw-redirect\\\" href=\\\"/wiki/Dragon_C2%2B\\\" title=\\\"Dragon C2+\\\"\u003edemo flight C2+\u003c/a\u003e\u003csup class=\\\"reference\\\" id=\\\"cite_ref-C2_24-0\\\"\u003e\u003ca href=\\\"#cite_note-C2-24\\\"\u003e[18]\u003c/a\u003e\u003c/sup\u003e\u003cbr/\u003e(Dragon C102)\\n\u003c/td\u003e\\n\u003ctd\u003e525\\u00a0kg (1,157\\u00a0lb)\u003csup class=\\\"reference\\\" id=\\\"cite_ref-25\\\"\u003e\u003ca href=\\\"#cite_note-25\\\"\u003e[19]\u003c/a\u003e\u003c/sup\u003e\\n\u003c/td\u003e\\n\u003ctd\u003e\u003ca href=\\\"/wiki/Low_Earth_orbit\\\" title=\\\"Low Earth orbit\\\"\u003eLEO\u003c/a\u003e (\u003ca href=\\\"/wiki/International_Space_Station\\\" title=\\\"International Space Station\\\"\u003eISS\u003c/a\u003e)\\n\u003c/td\u003e\\n\u003ctd\u003e\u003ca href=\\\"/wiki/NASA\\\" title=\\\"NASA\\\"\u003eNASA\u003c/a\u003e (\u003ca href=\\\"/wiki/Commercial_Orbital_Transportation_Services\\\" title=\\\"Commercial Orbital Transportation Services\\\"\u003eCOTS\u003c/a\u003e)\\n\u003c/td\u003e\\n\u003ctd class=\\\"table-success\\\" style=\\\"background: #9EFF9E; vertical-align: middle; text-align: center;\\\"\u003eSuccess\u003csup class=\\\"reference\\\" id=\\\"cite_ref-26\\\"\u003e\u003ca href=\\\"#cite_note-26\\\"\u003e[20]\u003c/a\u003e\u003c/sup\u003e\\n\u003c/td\u003e\\n\u003ctd class=\\\"table-noAttempt\\\" style=\\\"background: #EEE; vertical-align: middle; white-space: nowrap; text-align: center;\\\"\u003eNo attempt\\n\u003c/td\u003e\u003c/tr\u003e\\n\u003ctr\u003e\\n\u003ctd colspan=\\\"9\\\"\u003eDragon spacecraft demonstrated a series of tests before it was allowed to approach the \u003ca href=\\\"/wiki/International_Space_Station\\\" title=\\\"International Space Station\\\"\u003eInternational Space Station\u003c/a\u003e. Two days later, it became the first commercial spacecraft to board the ISS.\u003csup class=\\\"reference\\\" id=\\\"cite_ref-BBC_new_era_23-1\\\"\u003e\u003ca href=\\\"#cite_note-BBC_new_era-23\\\"\u003e[17]\u003c/a\u003e\u003c/sup\u003e \u003csmall\u003e(\u003ca href=\\\"#COTS_demo_missions\\\"\u003emore details below\u003c/a\u003e)\u003c/small\u003e\\n\u003c/td\u003e\u003c/tr\u003e\\n\u003ctr\u003e\\n\u003cth rowspan=\\\"3\\\" scope=\\\"row\\\" style=\\\"text-align:center;\\\"\u003e4\\n\u003c/th\u003e\\n\u003ctd rowspan=\\\"2\\\"\u003e8 October 2012,\u003cbr/\u003e00:35\u003csup class=\\\"reference\\\" id=\\\"cite_ref-SFN_LLog_27-0\\\"\u003e\u003ca href=\\\"#cite_note-SFN_LLog-27\\\"\u003e[21]\u003c/a\u003e\u003c/sup\u003e\\n\u003c/td\u003e\\n\u003ctd rowspan=\\\"2\\\"\u003e\u003ca href=\\\"/wiki/Falcon_9_v1.0\\\" title=\\\"Falcon 9 v1.0\\\"\u003eF9 v1.0\u003c/a\u003e\u003csup class=\\\"reference\\\" id=\\\"cite_ref-MuskMay2012_13-3\\\"\u003e\u003ca href=\\\"#cite_note-MuskMay2012-13\\\"\u003e[7]\u003c/a\u003e\u003c/sup\u003e\u003cbr/\u003eB0006.1\u003csup class=\\\"reference\\\" id=\\\"cite_ref-block_numbers_14-3\\\"\u003e\u003ca href=\\\"#cite_note-block_numbers-14\\\"\u003e[8]\u003c/a\u003e\u003c/sup\u003e\\n\u003c/td\u003e\\n\u003ctd rowspan=\\\"2\\\"\u003e\u003ca href=\\\"/wiki/Cape_Canaveral_Space_Force_Station\\\" title=\\\"Cape Canaveral Space Force Station\\\"\u003eCCAFS\u003c/a\u003e,\u003cbr/\u003e\u003ca href=\\\"/wiki/Cape_Canaveral_Space_Launch_Complex_40\\\" title=\\\"Cape Canaveral Space Launch Complex 40\\\"\u003eSLC-40\u003c/a\u003e\\n\u003c/td\u003e\\n\u003ctd\u003e\u003ca href=\\\"/wiki/SpaceX_CRS-1\\\" title=\\\"SpaceX CRS-1\\\"\u003eSpaceX CRS-1\u003c/a\u003e\u003csup class=\\\"reference\\\" id=\\\"cite_ref-sxManifest20120925_28-0\\\"\u003e\u003ca href=\\\"#cite_note-sxManifest20120925-28\\\"\u003e[22]\u003c/a\u003e\u003c/sup\u003e\u003cbr/\u003e(Dragon C103)\\n\u003c/td\u003e\\n\u003ctd\u003e4,700\\u00a0kg (10,400\\u00a0lb)\\n\u003c/td\u003e\\n\u003ctd\u003e\u003ca href=\\\"/wiki/Low_Earth_orbit\\\" title=\\\"Low Earth orbit\\\"\u003eLEO\u003c/a\u003e (\u003ca href=\\\"/wiki/International_Space_Station\\\" title=\\\"International Space Station\\\"\u003eISS\u003c/a\u003e)\\n\u003c/td\u003e\\n\u003ctd\u003e\u003ca href=\\\"/wiki/NASA\\\" title=\\\"NASA\\\"\u003eNASA\u003c/a\u003e (\u003ca href=\\\"/wiki/Commercial_Resupply_Services\\\" title=\\\"Commercial Resupply Services\\\"\u003eCRS\u003c/a\u003e)\\n\u003c/td\u003e\\n\u003ctd class=\\\"table-success\\\" style=\\\"background: #9EFF9E; vertical-align: middle; text-align: center;\\\"\u003eSuccess\\n\u003c/td\u003e\\n\u003ctd rowspan=\\\"2\\\" style=\\\"background:#ececec; text-align:center;\\\"\u003e\u003cspan class=\\\"nowrap\\\"\u003eNo attempt\u003c/span\u003e\\n\u003c/td\u003e\u003c/tr\u003e\\n\u003ctr\u003e\\n\u003ctd\u003e\u003ca href=\\\"/wiki/Orbcomm_(satellite)\\\" title=\\\"Orbcomm (satellite)\\\"\u003eOrbcomm-OG2\u003c/a\u003e\u003csup class=\\\"reference\\\" id=\\\"cite_ref-Orbcomm_29-0\\\"\u003e\u003ca href=\\\"#cite_note-Orbcomm-29\\\"\u003e[23]\u003c/a\u003e\u003c/sup\u003e\\n\u003c/td\u003e\\n\u003ctd\u003e172\\u00a0kg (379\\u00a0lb)\u003csup class=\\\"reference\\\" id=\\\"cite_ref-gunter-og2_30-0\\\"\u003e\u003ca href=\\\"#cite_note-gunter-og2-30\\\"\u003e[24]\u003c/a\u003e\u003c/sup\u003e\\n\u003c/td\u003e\\n\u003ctd\u003e\u003ca href=\\\"/wiki/Low_Earth_orbit\\\" title=\\\"Low Earth orbit\\\"\u003eLEO\u003c/a\u003e\\n\u003c/td\u003e\\n\u003ctd\u003e\u003ca href=\\\"/wiki/Orbcomm\\\" title=\\\"Orbcomm\\\"\u003eOrbcomm\u003c/a\u003e\\n\u003c/td\u003e\\n\u003ctd class=\\\"table-partial\\\" style=\\\"background: #FE9; vertical-align: middle; text-align: center;\\\"\u003ePartial failure\u003csup class=\\\"reference\\\" id=\\\"cite_ref-nyt-20121030_31-0\\\"\u003e\u003ca href=\\\"#cite_note-nyt-20121030-31\\\"\u003e[25]\u003c/a\u003e\u003c/sup\u003e\\n\u003c/td\u003e\u003c/tr\u003e\\n\u003ctr\u003e\\n\u003ctd colspan=\\\"9\\\"\u003eCRS-1 was successful, but the \u003ca href=\\\"/wiki/Secondary_payload\\\" title=\\\"Secondary payload\\\"\u003esecondary payload\u003c/a\u003e was inserted into an abnormally low orbit and subsequently lost. This was due to one of the nine \u003ca href=\\\"/wiki/SpaceX_Merlin\\\" title=\\\"SpaceX Merlin\\\"\u003eMerlin engines\u003c/a\u003e shutting down during the launch, and NASA declining a second reignition, as per \u003ca href=\\\"/wiki/International_Space_Station\\\" title=\\\"International Space Station\\\"\u003eISS\u003c/a\u003e visiting vehicle safety rules, the primary payload owner is contractually allowed to decline a second reignition. NASA stated that this was because SpaceX could not guarantee a high enough likelihood of the second stage completing the second burn successfully which was required to avoid any risk of secondary payload's collision with the ISS.\u003csup class=\\\"reference\\\" id=\\\"cite_ref-OrbcommTotalLoss_32-0\\\"\u003e\u003ca href=\\\"#cite_note-OrbcommTotalLoss-32\\\"\u003e[26]\u003c/a\u003e\u003c/sup\u003e\u003csup class=\\\"reference\\\" id=\\\"cite_ref-sn20121011_33-0\\\"\u003e\u003ca href=\\\"#cite_note-sn20121011-33\\\"\u003e[27]\u003c/a\u003e\u003c/sup\u003e\u003csup class=\\\"reference\\\" id=\\\"cite_ref-34\\\"\u003e\u003ca href=\\\"#cite_note-34\\\"\u003e[28]\u003c/a\u003e\u003c/sup\u003e\\n\u003c/td\u003e\u003c/tr\u003e\\n\u003ctr\u003e\\n\u003cth rowspan=\\\"2\\\" scope=\\\"row\\\" style=\\\"text-align:center;\\\"\u003e5\\n\u003c/th\u003e\\n\u003ctd\u003e1 March 2013,\u003cbr/\u003e15:10\\n\u003c/td\u003e\\n\u003ctd\u003e\u003ca href=\\\"/wiki/Falcon_9_v1.0\\\" title=\\\"Falcon 9 v1.0\\\"\u003eF9 v1.0\u003c/a\u003e\u003csup class=\\\"reference\\\" id=\\\"cite_ref-MuskMay2012_13-4\\\"\u003e\u003ca href=\\\"#cite_note-MuskMay2012-13\\\"\u003e[7]\u003c/a\u003e\u003c/sup\u003e\u003cbr/\u003eB0007.1\u003csup class=\\\"reference\\\" id=\\\"cite_ref-block_numbers_14-4\\\"\u003e\u003ca href=\\\"#cite_note-block_numbers-14\\\"\u003e[8]\u003c/a\u003e\u003c/sup\u003e\\n\u003c/td\u003e\\n\u003ctd\u003e\u003ca href=\\\"/wiki/Cape_Canaveral_Space_Force_Station\\\" title=\\\"Cape Canaveral Space Force Station\\\"\u003eCCAFS\u003c/a\u003e,\u003cbr/\u003e\u003ca href=\\\"/wiki/Cape_Canaveral_Space_Launch_Complex_40\\\" title=\\\"Cape Canaveral Space Launch Complex 40\\\"\u003eSLC-40\u003c/a\u003e\\n\u003c/td\u003e\\n\u003ctd\u003e\u003ca href=\\\"/wiki/SpaceX_CRS-2\\\" title=\\\"SpaceX CRS-2\\\"\u003eSpaceX CRS-2\u003c/a\u003e\u003csup class=\\\"reference\\\" id=\\\"cite_ref-sxManifest20120925_28-1\\\"\u003e\u003ca href=\\\"#cite_note-sxManifest20120925-28\\\"\u003e[22]\u003c/a\u003e\u003c/sup\u003e\u003cbr/\u003e(Dragon C104)\\n\u003c/td\u003e\\n\u003ctd\u003e4,877\\u00a0kg (10,752\\u00a0lb)\\n\u003c/td\u003e\\n\u003ctd\u003e\u003ca href=\\\"/wiki/Low_Earth_orbit\\\" title=\\\"Low Earth orbit\\\"\u003eLEO\u003c/a\u003e (\u003ca class=\\\"mw-redirect\\\" href=\\\"/wiki/ISS\\\" title=\\\"ISS\\\"\u003eISS\u003c/a\u003e)\\n\u003c/td\u003e\\n\u003ctd\u003e\u003ca href=\\\"/wiki/NASA\\\" title=\\\"NASA\\\"\u003eNASA\u003c/a\u003e (\u003ca href=\\\"/wiki/Commercial_Resupply_Services\\\" title=\\\"Commercial Resupply Services\\\"\u003eCRS\u003c/a\u003e)\\n\u003c/td\u003e\\n\u003ctd class=\\\"table-success\\\" style=\\\"background: #9EFF9E; vertical-align: middle; text-align: center;\\\"\u003eSuccess\\n\u003c/td\u003e\\n\u003ctd class=\\\"table-noAttempt\\\" style=\\\"background: #EEE; vertical-align: middle; white-space: nowrap; text-align: center;\\\"\u003eNo attempt\\n\u003c/td\u003e\u003c/tr\u003e\\n\u003ctr\u003e\\n\u003ctd colspan=\\\"9\\\"\u003eLast launch of the original Falcon 9 v1.0 \u003ca href=\\\"/wiki/Launch_vehicle\\\" title=\\\"Launch vehicle\\\"\u003elaunch vehicle\u003c/a\u003e, first use of the unpressurized trunk section of Dragon.\u003csup class=\\\"reference\\\" id=\\\"cite_ref-sxf9_20110321_35-0\\\"\u003e\u003ca href=\\\"#cite_note-sxf9_20110321-35\\\"\u003e[29]\u003c/a\u003e\u003c/sup\u003e\\n\u003c/td\u003e\u003c/tr\u003e\\n\u003ctr\u003e\\n\u003cth rowspan=\\\"2\\\" scope=\\\"row\\\" style=\\\"text-align:center;\\\"\u003e6\\n\u003c/th\u003e\\n\u003ctd\u003e29 September 2013,\u003cbr/\u003e16:00\u003csup class=\\\"reference\\\" id=\\\"cite_ref-pa20130930_36-0\\\"\u003e\u003ca href=\\\"#cite_note-pa20130930-36\\\"\u003e[30]\u003c/a\u003e\u003c/sup\u003e\\n\u003c/td\u003e\\n\u003ctd\u003e\u003ca href=\\\"/wiki/Falcon_9_v1.1\\\" title=\\\"Falcon 9 v1.1\\\"\u003eF9 v1.1\u003c/a\u003e\u003csup class=\\\"reference\\\" id=\\\"cite_ref-MuskMay2012_13-5\\\"\u003e\u003ca href=\\\"#cite_note-MuskMay2012-13\\\"\u003e[7]\u003c/a\u003e\u003c/sup\u003e\u003cbr/\u003eB1003\u003csup class=\\\"reference\\\" id=\\\"cite_ref-block_numbers_14-5\\\"\u003e\u003ca href=\\\"#cite_note-block_numbers-14\\\"\u003e[8]\u003c/a\u003e\u003c/sup\u003e\\n\u003c/td\u003e\\n\u003ctd\u003e\u003ca class=\\\"mw-redirect\\\" href=\\\"/wiki/Vandenberg_Air_Force_Base\\\" title=\\\"Vandenberg Air Force Base\\\"\u003eVAFB\u003c/a\u003e,\u003cbr/\u003e\u003ca href=\\\"/wiki/Vandenberg_Space_Launch_Complex_4\\\" title=\\\"Vandenberg Space Launch Complex 4\\\"\u003eSLC-4E\u003c/a\u003e\\n\u003c/td\u003e\\n\u003ctd\u003e\u003ca href=\\\"/wiki/CASSIOPE\\\" title=\\\"CASSIOPE\\\"\u003eCASSIOPE\u003c/a\u003e\u003csup class=\\\"reference\\\" id=\\\"cite_ref-sxManifest20120925_28-2\\\"\u003e\u003ca href=\\\"#cite_note-sxManifest20120925-28\\\"\u003e[22]\u003c/a\u003e\u003c/sup\u003e\u003csup class=\\\"reference\\\" id=\\\"cite_ref-CASSIOPE_MDA_37-0\\\"\u003e\u003ca href=\\\"#cite_note-CASSIOPE_MDA-37\\\"\u003e[31]\u003c/a\u003e\u003c/sup\u003e\\n\u003c/td\u003e\\n\u003ctd\u003e500\\u00a0kg (1,100\\u00a0lb)\\n\u003c/td\u003e\\n\u003ctd\u003e\u003ca href=\\\"/wiki/Polar_orbit\\\" title=\\\"Polar orbit\\\"\u003ePolar orbit\u003c/a\u003e \u003ca href=\\\"/wiki/Low_Earth_orbit\\\" title=\\\"Low Earth orbit\\\"\u003eLEO\u003c/a\u003e\\n\u003c/td\u003e\\n\u003ctd\u003e\u003ca href=\\\"/wiki/Maxar_Technologies\\\" title=\\\"Maxar Technologies\\\"\u003eMDA\u003c/a\u003e\\n\u003c/td\u003e\\n\u003ctd class=\\\"table-success\\\" style=\\\"background: #9EFF9E; vertical-align: middle; text-align: center;\\\"\u003eSuccess\u003csup class=\\\"reference\\\" id=\\\"cite_ref-pa20130930_36-1\\\"\u003e\u003ca href=\\\"#cite_note-pa20130930-36\\\"\u003e[30]\u003c/a\u003e\u003c/sup\u003e\\n\u003c/td\u003e\\n\u003ctd class=\\\"table-no2\\\" style=\\\"background: #FFE3E3; color: black; vertical-align: middle; text-align: center;\\\"\u003eUncontrolled\u003cbr/\u003e\u003csmall\u003e(ocean)\u003c/small\u003e\u003csup class=\\\"reference\\\" id=\\\"cite_ref-ocean_landing_38-0\\\"\u003e\u003ca href=\\\"#cite_note-ocean_landing-38\\\"\u003e[d]\u003c/a\u003e\u003c/sup\u003e\\n\u003c/td\u003e\u003c/tr\u003e\\n\u003ctr\u003e\\n\u003ctd colspan=\\\"9\\\"\u003eFirst commercial mission with a private customer, first launch from Vandenberg, and demonstration flight of Falcon 9 v1.1 with an improved 13-tonne to LEO capacity.\u003csup class=\\\"reference\\\" id=\\\"cite_ref-sxf9_20110321_35-1\\\"\u003e\u003ca href=\\\"#cite_note-sxf9_20110321-35\\\"\u003e[29]\u003c/a\u003e\u003c/sup\u003e After separation from the second stage carrying Canadian commercial and scientific satellites, the first stage booster performed a controlled reentry,\u003csup class=\\\"reference\\\" id=\\\"cite_ref-39\\\"\u003e\u003ca href=\\\"#cite_note-39\\\"\u003e[32]\u003c/a\u003e\u003c/sup\u003e and an \u003ca href=\\\"/wiki/Falcon_9_first-stage_landing_tests\\\" title=\\\"Falcon 9 first-stage landing tests\\\"\u003eocean touchdown test\u003c/a\u003e for the first time. This provided good test data, even though the booster started rolling as it neared the ocean, leading to the shutdown of the central engine as the roll depleted it of fuel, resulting in a hard impact with the ocean.\u003csup class=\\\"reference\\\" id=\\\"cite_ref-pa20130930_36-2\\\"\u003e\u003ca href=\\\"#cite_note-pa20130930-36\\\"\u003e[30]\u003c/a\u003e\u003c/sup\u003e This was the first known attempt of a rocket engine being lit to perform a supersonic retro propulsion, and allowed SpaceX to enter a public-private partnership with \u003ca href=\\\"/wiki/NASA\\\" title=\\\"NASA\\\"\u003eNASA\u003c/a\u003e and its Mars entry, descent, and landing technologies research projects.\u003csup class=\\\"reference\\\" id=\\\"cite_ref-40\\\"\u003e\u003ca href=\\\"#cite_note-40\\\"\u003e[33]\u003c/a\u003e\u003c/sup\u003e \u003csmall\u003e(\u003ca href=\\\"#Maiden_flight_of_v1.1\\\"\u003emore details below\u003c/a\u003e)\u003c/small\u003e\\n\u003c/td\u003e\u003c/tr\u003e\\n\u003ctr\u003e\\n\u003cth rowspan=\\\"2\\\" scope=\\\"row\\\" style=\\\"text-align:center;\\\"\u003e7\\n\u003c/th\u003e\\n\u003ctd\u003e3 December 2013,\u003cbr/\u003e22:41\u003csup class=\\\"reference\\\" id=\\\"cite_ref-sfn_wwls20130624_41-0\\\"\u003e\u003ca href=\\\"#cite_note-sfn_wwls20130624-41\\\"\u003e[34]\u003c/a\u003e\u003c/sup\u003e\\n\u003c/td\u003e\\n\u003ctd\u003e\u003ca href=\\\"/wiki/Falcon_9_v1.1\\\" title=\\\"Falcon 9 v1.1\\\"\u003eF9 v1.1\u003c/a\u003e\u003cbr/\u003eB1004\\n\u003c/td\u003e\\n\u003ctd\u003e\u003ca href=\\\"/wiki/Cape_Canaveral_Space_Force_Station\\\" title=\\\"Cape Canaveral Space Force Station\\\"\u003eCCAFS\u003c/a\u003e,\u003cbr/\u003e\u003ca href=\\\"/wiki/Cape_Canaveral_Space_Launch_Complex_40\\\" title=\\\"Cape Canaveral Space Launch Complex 40\\\"\u003eSLC-40\u003c/a\u003e\\n\u003c/td\u003e\\n\u003ctd\u003e\u003ca href=\\\"/wiki/SES-8\\\" title=\\\"SES-8\\\"\u003eSES-8\u003c/a\u003e\u003csup class=\\\"reference\\\" id=\\\"cite_ref-sxManifest20120925_28-3\\\"\u003e\u003ca href=\\\"#cite_note-sxManifest20120925-28\\\"\u003e[22]\u003c/a\u003e\u003c/sup\u003e\u003csup class=\\\"reference\\\" id=\\\"cite_ref-spx-pr_42-0\\\"\u003e\u003ca href=\\\"#cite_note-spx-pr-42\\\"\u003e[35]\u003c/a\u003e\u003c/sup\u003e\u003csup class=\\\"reference\\\" id=\\\"cite_ref-aw20110323_43-0\\\"\u003e\u003ca href=\\\"#cite_note-aw20110323-43\\\"\u003e[36]\u003c/a\u003e\u003c/sup\u003e\\n\u003c/td\u003e\\n\u003ctd\u003e3,170\\u00a0kg (6,990\\u00a0lb)\\n\u003c/td\u003e\\n\u003ctd\u003e\u003ca href=\\\"/wiki/Geostationary_transfer_orbit\\\" title=\\\"Geostationary transfer orbit\\\"\u003eGTO\u003c/a\u003e\\n\u003c/td\u003e\\n\u003ctd\u003e\u003ca href=\\\"/wiki/SES_S.A.\\\" title=\\\"SES S.A.\\\"\u003eSES\u003c/a\u003e\\n\u003c/td\u003e\\n\u003ctd class=\\\"table-success\\\" style=\\\"background: #9EFF9E; vertical-align: middle; text-align: center;\\\"\u003eSuccess\u003csup class=\\\"reference\\\" id=\\\"cite_ref-SNMissionStatus7_44-0\\\"\u003e\u003ca href=\\\"#cite_note-SNMissionStatus7-44\\\"\u003e[37]\u003c/a\u003e\u003c/sup\u003e\\n\u003c/td\u003e\\n\u003ctd class=\\\"table-noAttempt\\\" style=\\\"background: #EEE; vertical-align: middle; white-space: nowrap; text-align: center;\\\"\u003eNo attempt\u003cbr/\u003e\u003csup class=\\\"reference\\\" id=\\\"cite_ref-sf10120131203_45-0\\\"\u003e\u003ca href=\\\"#cite_note-sf10120131203-45\\\"\u003e[38]\u003c/a\u003e\u003c/sup\u003e\\n\u003c/td\u003e\u003c/tr\u003e\\n\u003ctr\u003e\\n\u003ctd colspan=\\\"9\\\"\u003eFirst \u003ca href=\\\"/wiki/Geostationary_transfer_orbit\\\" title=\\\"Geostationary transfer orbit\\\"\u003eGeostationary transfer orbit\u003c/a\u003e (GTO) launch for Falcon 9,\u003csup class=\\\"reference\\\" id=\\\"cite_ref-spx-pr_42-1\\\"\u003e\u003ca href=\\\"#cite_note-spx-pr-42\\\"\u003e[35]\u003c/a\u003e\u003c/sup\u003e and first successful reignition of the second stage.\u003csup class=\\\"reference\\\" id=\\\"cite_ref-46\\\"\u003e\u003ca href=\\\"#cite_note-46\\\"\u003e[39]\u003c/a\u003e\u003c/sup\u003e SES-8 was inserted into a \u003ca href=\\\"/wiki/Geostationary_transfer_orbit\\\" title=\\\"Geostationary transfer orbit\\\"\u003eSuper-Synchronous Transfer Orbit\u003c/a\u003e of 79,341\\u00a0km (49,300\\u00a0mi) in apogee with an \u003ca href=\\\"/wiki/Orbital_inclination\\\" title=\\\"Orbital inclination\\\"\u003einclination\u003c/a\u003e of 20.55\\u00b0 to the \u003ca href=\\\"/wiki/Equator\\\" title=\\\"Equator\\\"\u003eequator\u003c/a\u003e.\\n\u003c/td\u003e\u003c/tr\u003e\u003c/tbody\u003e\u003c/table\u003e\\n\", \"name\": \"stdout\"}]}, {\"metadata\": {}, \"cell_type\": \"markdown\", \"source\": \"You should able to see the columns names embedded in the table header elements `\u003cth\u003e` as follows:\\n\"}, {\"metadata\": {}, \"cell_type\": \"markdown\", \"source\": \"```\\n\u003ctr\u003e\\n\u003cth scope=\\\"col\\\"\u003eFlight No.\\n\u003c/th\u003e\\n\u003cth scope=\\\"col\\\"\u003eDate and\u003cbr/\u003etime (\u003ca href=\\\"/wiki/Coordinated_Universal_Time\\\" title=\\\"Coordinated Universal Time\\\"\u003eUTC\u003c/a\u003e)\\n\u003c/th\u003e\\n\u003cth scope=\\\"col\\\"\u003e\u003ca href=\\\"/wiki/List_of_Falcon_9_first-stage_boosters\\\" title=\\\"List of Falcon 9 first-stage boosters\\\"\u003eVersion,\u003cbr/\u003eBooster\u003c/a\u003e \u003csup class=\\\"reference\\\" id=\\\"cite_ref-booster_11-0\\\"\u003e\u003ca href=\\\"#cite_note-booster-11\\\"\u003e[b]\u003c/a\u003e\u003c/sup\u003e\\n\u003c/th\u003e\\n\u003cth scope=\\\"col\\\"\u003eLaunch site\\n\u003c/th\u003e\\n\u003cth scope=\\\"col\\\"\u003ePayload\u003csup class=\\\"reference\\\" id=\\\"cite_ref-Dragon_12-0\\\"\u003e\u003ca href=\\\"#cite_note-Dragon-12\\\"\u003e[c]\u003c/a\u003e\u003c/sup\u003e\\n\u003c/th\u003e\\n\u003cth scope=\\\"col\\\"\u003ePayload mass\\n\u003c/th\u003e\\n\u003cth scope=\\\"col\\\"\u003eOrbit\\n\u003c/th\u003e\\n\u003cth scope=\\\"col\\\"\u003eCustomer\\n\u003c/th\u003e\\n\u003cth scope=\\\"col\\\"\u003eLaunch\u003cbr/\u003eoutcome\\n\u003c/th\u003e\\n\u003cth scope=\\\"col\\\"\u003e\u003ca href=\\\"/wiki/Falcon_9_first-stage_landing_tests\\\" title=\\\"Falcon 9 first-stage landing tests\\\"\u003eBooster\u003cbr/\u003elanding\u003c/a\u003e\\n\u003c/th\u003e\u003c/tr\u003e\\n```\\n\"}, {\"metadata\": {}, \"cell_type\": \"markdown\", \"source\": \"Next, we just need to iterate through the `\u003cth\u003e` elements and apply the provided `extract_column_from_header()` to extract column name one by one\\n\"}, {\"metadata\": {}, \"cell_type\": \"code\", \"source\": \"column_names = []\\n\\n# Apply find_all() function with `th` element on first_launch_table\\n# Iterate each th element and apply the provided extract_column_from_header() to get a column name\\n# Append the Non-empty column name (`if name is not None and len(name) \u003e 0`) into a list called column_names\\ntc = first_launch_table.find_all('th')\\nfor th in tc:    \\n    name = extract_column_from_header(th)\\n    if name is not None and len(name) \u003e 0:\\n            column_names.append(name)\", \"execution_count\": 10, \"outputs\": []}, {\"metadata\": {}, \"cell_type\": \"markdown\", \"source\": \"Check the extracted column names\\n\"}, {\"metadata\": {}, \"cell_type\": \"code\", \"source\": \"print(column_names)\", \"execution_count\": 11, \"outputs\": [{\"output_type\": \"stream\", \"text\": \"['Flight No.', 'Date and time ( )', 'Launch site', 'Payload', 'Payload mass', 'Orbit', 'Customer', 'Launch outcome']\\n\", \"name\": \"stdout\"}]}, {\"metadata\": {}, \"cell_type\": \"markdown\", \"source\": \"## TASK 3: Create a data frame by parsing the launch HTML tables\\n\"}, {\"metadata\": {}, \"cell_type\": \"markdown\", \"source\": \"We will create an empty dictionary with keys from the extracted column names in the previous task. Later, this dictionary will be converted into a Pandas dataframe\\n\"}, {\"metadata\": {}, \"cell_type\": \"code\", \"source\": \"launch_dict= dict.fromkeys(column_names)\\n\\n# Remove an irrelvant column\\ndel launch_dict['Date and time ( )']\\n\\n# Let's initial the launch_dict with each value to be an empty list\\nlaunch_dict['Flight No.'] = []\\nlaunch_dict['Launch site'] = []\\nlaunch_dict['Payload'] = []\\nlaunch_dict['Payload mass'] = []\\nlaunch_dict['Orbit'] = []\\nlaunch_dict['Customer'] = []\\nlaunch_dict['Launch outcome'] = []\\n# Added some new columns\\nlaunch_dict['Version Booster']=[]\\nlaunch_dict['Booster landing']=[]\\nlaunch_dict['Date']=[]\\nlaunch_dict['Time']=[]\", \"execution_count\": 12, \"outputs\": []}, {\"metadata\": {}, \"cell_type\": \"markdown\", \"source\": \"Next, we just need to fill up the `launch_dict` with launch records extracted from table rows.\\n\"}, {\"metadata\": {}, \"cell_type\": \"markdown\", \"source\": \"Usually, HTML tables in Wiki pages are likely to contain unexpected annotations and other types of noises, such as reference links `B0004.1[8]`, missing values `N/A [e]`, inconsistent formatting, etc.\\n\"}, {\"metadata\": {}, \"cell_type\": \"markdown\", \"source\": \"To simplify the parsing process, we have provided an incomplete code snippet below to help you to fill up the `launch_dict`. Please complete the following code snippet with TODOs or you can choose to write your own logic to parse all launch tables:\\n\"}, {\"metadata\": {}, \"cell_type\": \"code\", \"source\": \"extracted_row = 0\\n#Extract each table \\nfor table_number,table in enumerate(soup.find_all('table',\\\"wikitable plainrowheaders collapsible\\\")):\\n   # get table row \\n    for rows in table.find_all(\\\"tr\\\"):\\n        #check to see if first table heading is as number corresponding to launch a number \\n        if rows.th:\\n            if rows.th.string:\\n                flight_number=rows.th.string.strip()\\n                flag=flight_number.isdigit()\\n        else:\\n            flag=False\\n        #get table element \\n        row=rows.find_all('td')\\n        #if it is number save cells in a dictonary \\n        if flag:\\n            extracted_row += 1\\n            # Flight Number value\\n            # TODO: Append the flight_number into launch_dict with key `Flight No.`\\n            launch_dict['Flight No.'].append(flight_number)\\n            print(flight_number)\\n            \\n            datatimelist=date_time(row[0])\\n            \\n            # Date value\\n            # TODO: Append the date into launch_dict with key `Date`\\n            date = datatimelist[0].strip(',')\\n            launch_dict['Date'].append(date)\\n            print(date)\\n            \\n            # Time value\\n            # TODO: Append the time into launch_dict with key `Time`\\n            time = datatimelist[1]\\n            launch_dict['Time'].append(time)\\n            print(time)\\n              \\n            # Booster version\\n            # TODO: Append the bv into launch_dict with key `Version Booster`\\n            bv=booster_version(row[1])\\n            if not(bv):\\n                bv=row[1].a.string\\n            launch_dict['Version Booster'].append(bv)\\n            print(bv)\\n            \\n            # Launch Site\\n            # TODO: Append the bv into launch_dict with key `Launch Site`\\n            launch_site = row[2].a.string\\n            launch_dict['Launch site'].append(launch_site)\\n            print(launch_site)\\n            \\n            # Payload\\n            # TODO: Append the payload into launch_dict with key `Payload`\\n            payload = row[3].a.string\\n            launch_dict['Payload'].append(payload)\\n            print(payload)\\n            \\n            # Payload Mass\\n            # TODO: Append the payload_mass into launch_dict with key `Payload mass`\\n            payload_mass = get_mass(row[4])\\n            launch_dict['Payload mass'].append(payload_mass)\\n            print(payload)\\n            \\n            # Orbit\\n            # TODO: Append the orbit into launch_dict with key `Orbit`\\n            orbit = row[5].a.string\\n            launch_dict['Orbit'].append(orbit)\\n            print(orbit)\\n            \\n            # Customer\\n            # TODO: Append the customer into launch_dict with key `Customer`\\n            if row[6].a != None:\\n                customer = row[6].a.string\\n            else:\\n                customer = ''\\n            launch_dict['Customer'].append(customer)\\n            print(customer)\\n            \\n            # Launch outcome\\n            # TODO: Append the launch_outcome into launch_dict with key `Launch outcome`\\n            launch_outcome = list(row[7].strings)[0]\\n            launch_dict['Launch outcome'].append(launch_outcome)\\n            print(launch_outcome)\\n            \\n            # Booster landing\\n            # TODO: Append the launch_outcome into launch_dict with key `Booster landing`\\n            booster_landing = landing_status(row[8])\\n            launch_dict['Booster landing'].append(booster_landing)\\n            print(booster_landing)\\n            \", \"execution_count\": 13, \"outputs\": [{\"output_type\": \"stream\", \"text\": \"1\\n4 June 2010\\n18:45\\nF9 v1.0B0003.1\\nCCAFS\\nDragon Spacecraft Qualification Unit\\nDragon Spacecraft Qualification Unit\\nLEO\\nSpaceX\\nSuccess\\n\\nFailure\\n2\\n8 December 2010\\n15:43\\nF9 v1.0B0004.1\\nCCAFS\\nDragon\\nDragon\\nLEO\\nNASA\\nSuccess\\nFailure\\n3\\n22 May 2012\\n07:44\\nF9 v1.0B0005.1\\nCCAFS\\nDragon\\nDragon\\nLEO\\nNASA\\nSuccess\\nNo attempt\\n\\n4\\n8 October 2012\\n00:35\\nF9 v1.0B0006.1\\nCCAFS\\nSpaceX CRS-1\\nSpaceX CRS-1\\nLEO\\nNASA\\nSuccess\\n\\nNo attempt\\n5\\n1 March 2013\\n15:10\\nF9 v1.0B0007.1\\nCCAFS\\nSpaceX CRS-2\\nSpaceX CRS-2\\nLEO\\nNASA\\nSuccess\\n\\nNo attempt\\n\\n6\\n29 September 2013\\n16:00\\nF9 v1.1B1003\\nVAFB\\nCASSIOPE\\nCASSIOPE\\nPolar orbit\\nMDA\\nSuccess\\nUncontrolled\\n7\\n3 December 2013\\n22:41\\nF9 v1.1\\nCCAFS\\nSES-8\\nSES-8\\nGTO\\nSES\\nSuccess\\nNo attempt\\n8\\n6 January 2014\\n22:06\\nF9 v1.1\\nCCAFS\\nThaicom 6\\nThaicom 6\\nGTO\\nThaicom\\nSuccess\\nNo attempt\\n9\\n18 April 2014\\n19:25\\nF9 v1.1\\nCape Canaveral\\nSpaceX CRS-3\\nSpaceX CRS-3\\nLEO\\nNASA\\nSuccess\\n\\nControlled\\n10\\n14 July 2014\\n15:15\\nF9 v1.1\\nCape Canaveral\\nOrbcomm-OG2\\nOrbcomm-OG2\\nLEO\\nOrbcomm\\nSuccess\\nControlled\\n11\\n5 August 2014\\n08:00\\nF9 v1.1\\nCape Canaveral\\nAsiaSat 8\\nAsiaSat 8\\nGTO\\nAsiaSat\\nSuccess\\nNo attempt\\n12\\n7 September 2014\\n05:00\\nF9 v1.1\\nCape Canaveral\\nAsiaSat 6\\nAsiaSat 6\\nGTO\\nAsiaSat\\nSuccess\\nNo attempt\\n\\n13\\n21 September 2014\\n05:52\\nF9 v1.1\\nCape Canaveral\\nSpaceX CRS-4\\nSpaceX CRS-4\\nLEO\\nNASA\\nSuccess\\nUncontrolled\\n14\\n10 January 2015\\n09:47\\nF9 v1.1\\nCape Canaveral\\nSpaceX CRS-5\\nSpaceX CRS-5\\nLEO\\nNASA\\nSuccess\\nFailure \\n15\\n11 February 2015\\n23:03\\nF9 v1.1\\nCape Canaveral\\nDSCOVR\\nDSCOVR\\nHEO\\nUSAF\\nSuccess\\n\\nControlled\\n16\\n2 March 2015\\n03:50\\nF9 v1.1\\nCape Canaveral\\nABS-3A\\nABS-3A\\nGTO\\nABS\\nSuccess\\n\\nNo attempt\\n17\\n14 April 2015\\n20:10\\nF9 v1.1\\nCape Canaveral\\nSpaceX CRS-6\\nSpaceX CRS-6\\nLEO\\nNASA\\nSuccess\\n\\nFailure\\n18\\n27 April 2015\\n23:03\\nF9 v1.1\\nCape Canaveral\\nT\\u00fcrkmen\\u00c4lem 52\\u00b0E / MonacoSAT\\nT\\u00fcrkmen\\u00c4lem 52\\u00b0E / MonacoSAT\\nGTO\\nNone\\nSuccess\\n\\nNo attempt\\n19\\n28 June 2015\\n14:21\\nF9 v1.1\\nCape Canaveral\\nSpaceX CRS-7\\nSpaceX CRS-7\\nLEO\\nNASA\\nFailure\\nPrecluded\\n20\\n22 December 2015\\n01:29\\nF9 FT\\nCape Canaveral\\nOrbcomm-OG2\\nOrbcomm-OG2\\nLEO\\nOrbcomm\\nSuccess\\n\\nSuccess\\n21\\n17 January 2016\\n18:42\\nF9 v1.1\\nVAFB\\nJason-3\\nJason-3\\nLEO\\nNASA\\nSuccess\\n\\nFailure\\n22\\n4 March 2016\\n23:35\\nF9 FT\\nCape Canaveral\\nSES-9\\nSES-9\\nGTO\\nSES\\nSuccess\\n\\nFailure\\n23\\n8 April 2016\\n20:43\\nF9 FT\\nCape Canaveral\\nSpaceX CRS-8\\nSpaceX CRS-8\\nLEO\\nNASA\\nSuccess\\nSuccess\\n24\\n6 May 2016\\n05:21\\nF9 FT\\nCape Canaveral\\nJCSAT-14\\nJCSAT-14\\nGTO\\nSKY Perfect JSAT Group\\nSuccess\\n\\nSuccess\\n25\\n27 May 2016\\n21:39\\nF9 FT\\nCape Canaveral\\nThaicom 8\\nThaicom 8\\nGTO\\nThaicom\\nSuccess\\n\\nSuccess\\n26\\n15 June 2016\\n14:29\\nF9 FT\\nCape Canaveral\\nABS-2A\\nABS-2A\\nGTO\\nABS\\nSuccess\\n\\nFailure\\n27\\n18 July 2016\\n04:45\\nF9 FT\\nCape Canaveral\\nSpaceX CRS-9\\nSpaceX CRS-9\\nLEO\\nNASA\\nSuccess\\n\\nSuccess\\n28\\n14 August 2016\\n05:26\\nF9 FT\\nCape Canaveral\\nJCSAT-16\\nJCSAT-16\\nGTO\\nSKY Perfect JSAT Group\\nSuccess\\n\\nSuccess\\n29\\n14 January 2017\\n17:54\\nF9 FT\\nVAFB\\nIridium NEXT\\nIridium NEXT\\nPolar\\nIridium Communications\\nSuccess\\n\\nSuccess\\n30\\n19 February 2017\\n14:39\\nF9 FT\\nKSC\\nSpaceX CRS-10\\nSpaceX CRS-10\\nLEO\\nNASA\\nSuccess\\n\\nSuccess\\n31\\n16 March 2017\\n06:00\\nF9 FT\\nKSC\\nEchoStar 23\\nEchoStar 23\\nGTO\\nEchoStar\\nSuccess\\n\\nNo attempt\\n32\\n30 March 2017\\n22:27\\nF9 FT\\u267a\\nKSC\\nSES-10\\nSES-10\\nGTO\\nSES\\nSuccess\\nSuccess\\n33\\n1 May 2017\\n11:15\\nF9 FT\\nKSC\\nNROL-76\\nNROL-76\\nLEO\\nNRO\\nSuccess\\n\\nSuccess\\n34\\n15 May 2017\\n23:21\\nF9 FT\\nKSC\\nInmarsat-5 F4\\nInmarsat-5 F4\\nGTO\\nInmarsat\\nSuccess\\n\\nNo attempt\\n35\\n3 June 2017\\n21:07\\nF9 FT\\nKSC\\nSpaceX CRS-11\\nSpaceX CRS-11\\nLEO\\nNASA\\nSuccess\\n\\nSuccess\\n36\\n23 June 2017\\n19:10\\nF9 FTB1029.2\\nKSC\\nBulgariaSat-1\\nBulgariaSat-1\\nGTO\\nBulsatcom\\nSuccess\\n\\nSuccess\\n37\\n25 June 2017\\n20:25\\nF9 FT\\nVAFB\\nIridium NEXT\\nIridium NEXT\\nLEO\\nIridium Communications\\nSuccess\\n\\nSuccess\\n38\\n5 July 2017\\n23:38\\nF9 FT\\nKSC\\nIntelsat 35e\\nIntelsat 35e\\nGTO\\nIntelsat\\nSuccess\\n\\nNo attempt\\n39\\n14 August 2017\\n16:31\\nF9 B4\\nKSC\\nSpaceX CRS-12\\nSpaceX CRS-12\\nLEO\\nNASA\\nSuccess\\n\\nSuccess\\n40\\n24 August 2017\\n18:51\\nF9 FT\\nVAFB\\nFormosat-5\\nFormosat-5\\nSSO\\nNSPO\\nSuccess\\n\\nSuccess\\n41\\n7 September 2017\\n14:00\\nF9 B4\\nKSC\\nBoeing X-37B\\nBoeing X-37B\\nLEO\\nUSAF\\nSuccess\\n\\nSuccess\\n42\\n9 October 2017\\n12:37\\nF9 B4\\nVAFB\\nIridium NEXT\\nIridium NEXT\\nPolar\\nIridium Communications\\nSuccess\\n\\nSuccess\\n43\\n11 October 2017\\n22:53:00\\nF9 FTB1031.2\\nKSC\\nSES-11\\nSES-11\\nGTO\\nSES S.A.\\nSuccess\\n\\nSuccess\\n44\\n30 October 2017\\n19:34\\nF9 B4\\nKSC\\nKoreasat 5A\\nKoreasat 5A\\nGTO\\nKT Corporation\\nSuccess\\n\\nSuccess\\n45\\n15 December 2017\\n15:36\\nF9 FTB1035.2\\nCape Canaveral\\nSpaceX CRS-13\\nSpaceX CRS-13\\nLEO\\nNASA\\nSuccess\\n\\nSuccess\\n46\\n23 December 2017\\n01:27\\nF9 FTB1036.2\\nVAFB\\nIridium NEXT\\nIridium NEXT\\nPolar\\nIridium Communications\\nSuccess\\nControlled\\n47\\n8 January 2018\\n01:00\\nF9 B4\\nCCAFS\\nZuma\\nZuma\\nLEO\\nNorthrop Grumman\\nSuccess\\nSuccess\\n48\\n31 January 2018\\n21:25\\nF9 FTB1032.2\\nCCAFS\\nGovSat-1\\nGovSat-1\\nGTO\\nSES\\nSuccess\\nControlled\\n49\\n22 February 2018\\n14:17\\nF9 FTB1038.2\\nVAFB\\nPaz\\nPaz\\nSSO\\nHisdesat\\nSuccess\\nNo attempt\\n50\\n6 March 2018\\n05:33\\nF9 B4\\nCCAFS\\nHispasat 30W-6\\nHispasat 30W-6\\nGTO\\nHispasat\\nSuccess\\nNo attempt\\n51\\n30 March 2018\\n14:14\\nF9 B4B1041.2\\nVAFB\\nIridium NEXT\\nIridium NEXT\\nPolar\\nIridium Communications\\nSuccess\\nNo attempt\\n52\\n2 April 2018\\n20:30\\nF9 B4B1039.2\\nCCAFS\\nSpaceX CRS-14\\nSpaceX CRS-14\\nLEO\\nNASA\\nSuccess\\nNo attempt\\n53\\n18 April 2018\\n22:51\\nF9 B4\\nCCAFS\\nTransiting Exoplanet Survey Satellite\\nTransiting Exoplanet Survey Satellite\\nHEO\\nNASA\\nSuccess\\nSuccess\\n54\\n11 May 2018\\n20:14\\nF9 B5B1046.1\\nKSC\\nBangabandhu-1\\nBangabandhu-1\\nGTO\\nThales-Alenia\\nSuccess\\nSuccess\\n55\\n22 May 2018\\n19:47\\nF9 B4B1043.2\\nVAFB\\nIridium NEXT\\nIridium NEXT\\nPolar\\nIridium Communications\\nSuccess\\nNo attempt\\n56\\n4 June 2018\\n04:45\\nF9 B4B1040.2\\nCCAFS\\nSES-12\\nSES-12\\nGTO\\nSES\\nSuccess\\nNo attempt\\n57\\n29 June 2018\\n09:42\\nF9 B4B1045.2\\nCCAFS\\nSpaceX CRS-15\\nSpaceX CRS-15\\nLEO\\nNASA\\nSuccess\\nNo attempt\\n58\\n22 July 2018\\n05:50\\nF9 B5\\nCCAFS\\nTelstar 19V\\nTelstar 19V\\nGTO\\nTelesat\\nSuccess\\nSuccess\\n59\\n25 July 2018\\n11:39\\nF9 B5B1048\\nVAFB\\nIridium NEXT\\nIridium NEXT\\nPolar\\nIridium Communications\\nSuccess\\nSuccess\\n60\\n7 August 2018\\n05:18\\nF9 B5B1046.2\\nCCAFS\\nMerah Putih\\nMerah Putih\\nGTO\\nTelkom Indonesia\\nSuccess\\nSuccess\\n61\\n10 September 2018\\n04:45\\nF9 B5\\nCCAFS\\nTelstar 18V\\nTelstar 18V\\nGTO\\nTelesat\\nSuccess\\nSuccess\\n62\\n8 October 2018\\n02:22\\nF9 B5B1048.2\\nVAFB\\nSAOCOM 1A\\nSAOCOM 1A\\nSSO\\nCONAE\\nSuccess\\nSuccess\\n63\\n15 November 2018\\n20:46\\nF9 B5B1047.2\\nKSC\\nEs'hail 2\\nEs'hail 2\\nGTO\\nEs'hailSat\\nSuccess\\nSuccess\\n64\\n3 December 2018\\n18:34:05\\nF9 B5B1046.3\\nVAFB\\nSSO-A\\nSSO-A\\nSSO\\nSpaceflight Industries\\nSuccess\\nSuccess\\n65\\n5 December 2018\\n18:16\\nF9 B5\\nCCAFS\\nSpaceX CRS-16\\nSpaceX CRS-16\\nLEO\\nNASA\\nSuccess\\n\\nFailure\\n66\\n23 December 2018\\n13:51\\nF9 B5\\nCCAFS\\nGPS III\\nGPS III\\nMEO\\nUSAF\\nSuccess\\nNo attempt\\n67\\n11 January 2019\\n15:31\\nF9 B5B1049.2\\nVAFB\\nIridium NEXT\\nIridium NEXT\\nPolar\\nIridium Communications\\nSuccess\\n\\nSuccess\\n68\\n22 February 2019\\n01:45\\nF9 B5B1048.3\\nCCAFS\\nNusantara Satu\\nNusantara Satu\\nGTO\\nPSN\\nSuccess\\n\\nSuccess\\n69\\n2 March 2019\\n07:49\\nF9 B5[268]\\nKSC\\nCrew Dragon Demo-1\\nCrew Dragon Demo-1\\nLEO\\nNASA\\nSuccess\\n\\nSuccess\\n70\\n4 May 2019\\n06:48\\nF9 B5\\nCCAFS\\nSpaceX CRS-17\\nSpaceX CRS-17\\nLEO\\nNASA\\nSuccess\\n\\nSuccess\\n71\\n24 May 2019\\n02:30\\nF9 B5B1049.3\\nCCAFS\\nStarlink\\nStarlink\\nLEO\\nSpaceX\\nSuccess\\n\\nSuccess\\n72\\n12 June 2019\\n14:17\\nF9 B5B1051.2\\nVAFB\\nRADARSAT Constellation\\nRADARSAT Constellation\\nSSO\\nCanadian Space Agency\\nSuccess\\n\\nSuccess\\n73\\n25 July 2019\\n22:01\\nF9 B5B1056.2\\nCCAFS\\nSpaceX CRS-18\\nSpaceX CRS-18\\nLEO\\nNASA\\nSuccess\\n\\nSuccess\\n74\\n6 August 2019\\n23:23\\nF9 B5B1047.3\\nCCAFS\\nAMOS-17\\nAMOS-17\\nGTO\\nSpacecom\\nSuccess\\n\\nNo attempt\\n75\\n11 November 2019\\n14:56\\nF9 B5\\nCCAFS\\nStarlink\\nStarlink\\nLEO\\nSpaceX\\nSuccess\\n\\nSuccess\\n76\\n5 December 2019\\n17:29\\nF9 B5\\nCCAFS\\nSpaceX CRS-19\\nSpaceX CRS-19\\nLEO\\nNASA\\nSuccess\\n\\nSuccess\\n77\\n17 December 2019\\n00:10\\nF9 B5B1056.3\\nCCAFS\\nJCSat-18\\nJCSat-18\\nGTO\\nSky Perfect JSAT\\nSuccess\\n\\nSuccess\\n78\\n7 January 2020\\n02:19:21\\nF9 B5\\nCCAFS\\nStarlink\\nStarlink\\nLEO\\nSpaceX\\nSuccess\\n\\nSuccess\\n79\\n19 January 2020\\n15:30\\nF9 B5\\nKSC\\nCrew Dragon in-flight abort test\\nCrew Dragon in-flight abort test\\nSub-orbital\\nNASA\\nSuccess\\n\\nNo attempt\\n\\n80\\n29 January 2020\\n14:07\\nF9 B5\\nCCAFS\\nStarlink\\nStarlink\\nLEO\\nSpaceX\\nSuccess\\n\\nSuccess\\n81\\n17 February 2020\\n15:05\\nF9 B5\\nCCAFS\\nStarlink\\nStarlink\\nLEO\\nSpaceX\\nSuccess\\n\\nFailure\\n82\\n7 March 2020\\n04:50\\nF9 B5\\nCCAFS\\nSpaceX CRS-20\\nSpaceX CRS-20\\nLEO\\nNASA\\nSuccess\\n\\nSuccess\\n83\\n18 March 2020\\n12:16\\nF9 B5\\nKSC\\nStarlink\\nStarlink\\nLEO\\nSpaceX\\nSuccess\\n\\nFailure\\n84\\n22 April 2020\\n19:30\\nF9 B5\\nKSC\\nStarlink\\nStarlink\\nLEO\\nSpaceX\\nSuccess\\n\\nSuccess\\n85\\n30 May 2020\\n19:22\\nF9 B5\\nKSC\\nCrew Dragon Demo-2\\nCrew Dragon Demo-2\\nLEO\\nNASA\\nSuccess\\n\\nSuccess\\n86\\n4 June 2020\\n01:25\\nF9 B5\\nCCAFS\\nStarlink\\nStarlink\\nLEO\\nSpaceX\\nSuccess\\n\\nSuccess\\n87\\n13 June 2020\\n\", \"name\": \"stdout\"}, {\"output_type\": \"stream\", \"text\": \"09:21\\nF9 B5\\nCCAFS\\nStarlink\\nStarlink\\nLEO\\nSpaceX\\nSuccess\\n\\nSuccess\\n88\\n30 June 2020\\n20:10:46\\nF9 B5\\nCCAFS\\nGPS III\\nGPS III\\nMEO\\nU.S. Space Force\\nSuccess\\n\\nSuccess\\n89\\n20 July 2020\\n21:30\\nF9 B5B1058.2\\nCCAFS\\nANASIS-II\\nANASIS-II\\nGTO\\nRepublic of Korea Army\\nSuccess\\n\\nSuccess\\n90\\n7 August 2020\\n05:12\\nF9 B5\\nKSC\\nStarlink\\nStarlink\\nLEO\\nSpaceX\\nSuccess\\n\\nSuccess\\n91\\n18 August 2020\\n14:31\\nF9 B5B1049.6\\nCCAFS\\nStarlink\\nStarlink\\nLEO\\nSpaceX\\nSuccess\\n\\nSuccess\\n92\\n30 August 2020\\n23:18\\nF9 B5\\nCCAFS\\nSAOCOM 1B\\nSAOCOM 1B\\nSSO\\nCONAE\\nSuccess\\n\\nSuccess\\n93\\n3 September 2020\\n12:46:14\\nF9 B5B1060.2\\nKSC\\nStarlink\\nStarlink\\nLEO\\nSpaceX\\nSuccess\\n\\nSuccess\\n94\\n6 October 2020\\n11:29:34\\nF9 B5B1058.3\\nKSC\\nStarlink\\nStarlink\\nLEO\\nSpaceX\\nSuccess\\n\\nSuccess\\n95\\n18 October 2020\\n12:25:57\\nF9 B5B1051.6\\nKSC\\nStarlink\\nStarlink\\nLEO\\nSpaceX\\nSuccess\\n\\nSuccess\\n96\\n24 October 2020\\n15:31:34\\nF9 B5\\nCCAFS\\nStarlink\\nStarlink\\nLEO\\nSpaceX\\nSuccess\\n\\nSuccess\\n97\\n5 November 2020\\n23:24:23\\nF9 B5\\nCCAFS\\nGPS III\\nGPS III\\nMEO\\nUSSF\\nSuccess\\n\\nSuccess\\n98\\n16 November 2020\\n00:27\\nF9 B5\\nKSC\\nCrew-1\\nCrew-1\\nLEO\\nNASA\\nSuccess\\n\\nSuccess\\n99\\n21 November 2020\\n17:17:08\\nF9 B5\\nVAFB\\nSentinel-6 Michael Freilich (Jason-CS A)\\nSentinel-6 Michael Freilich (Jason-CS A)\\nLEO\\nNASA\\nSuccess\\n\\nSuccess\\n100\\n25 November 2020\\n02:13\\nF9 B5 \\u267a\\nCCAFS\\nStarlink\\nStarlink\\nLEO\\nSpaceX\\nSuccess\\n\\nSuccess\\n101\\n6 December 2020\\n16:17:08\\nF9 B5 \\u267a\\nKSC\\nSpaceX CRS-21\\nSpaceX CRS-21\\nLEO\\nNASA\\nSuccess\\n\\nSuccess\\n102\\n13 December 2020\\n17:30:00\\nF9 B5 \\u267a\\nCCSFS\\nSXM-7\\nSXM-7\\nGTO\\nSirius XM\\nSuccess\\n\\nSuccess\\n103\\n19 December 2020\\n14:00:00\\nF9 B5 \\u267a\\nKSC\\nNROL-108\\nNROL-108\\nLEO\\nNRO\\nSuccess\\n\\nSuccess\\n104\\n8 January 2021\\n02:15\\nF9 B5\\nCCSFS\\nT\\u00fcrksat 5A\\nT\\u00fcrksat 5A\\nGTO\\nT\\u00fcrksat\\nSuccess\\n\\nSuccess\\n105\\n20 January 2021\\n13:02\\nF9 B5B1051.8\\nKSC\\nStarlink\\nStarlink\\nLEO\\nSpaceX\\nSuccess\\n\\nSuccess\\n106\\n24 January 2021\\n15:00\\nF9 B5B1058.5\\nCCSFS\\nTransporter-1\\nTransporter-1\\nSSO\\n\\nSuccess\\n\\nSuccess\\n107\\n4 February 2021\\n06:19\\nF9 B5 \\u267a\\nCCSFS\\nStarlink\\nStarlink\\nLEO\\nSpaceX\\nSuccess\\n\\nSuccess\\n108\\n16 February 2021\\n03:59:37\\nF9 B5 \\u267a\\nCCSFS\\nStarlink\\nStarlink\\nLEO\\nSpaceX\\nSuccess\\n\\nFailure\\n109\\n4 March 2021\\n08:24\\nF9 B5 \\u267a\\nKSC\\nStarlink\\nStarlink\\nLEO\\nSpaceX\\nSuccess\\n\\nSuccess\\n110\\n11 March 2021\\n08:13:29\\nF9 B5 \\u267a\\nCCSFS\\nStarlink\\nStarlink\\nLEO\\nSpaceX\\nSuccess\\n\\nSuccess\\n111\\n14 March 2021\\n10:01\\nF9 B5 \\u267a\\nKSC\\nStarlink\\nStarlink\\nLEO\\nSpaceX\\nSuccess\\n\\nSuccess\\n112\\n24 March 2021\\n08:28\\nF9 B5B1060.6\\nCCSFS\\nStarlink\\nStarlink\\nLEO\\nSpaceX\\nSuccess\\n\\nSuccess\\n113\\n7 April 2021\\n16:34\\nF9 B5 \\u267a\\nCCSFS\\nStarlink\\nStarlink\\nLEO\\nSpaceX\\nSuccess\\n\\nSuccess\\n114\\n23 April 2021\\n9:49\\nF9 B5B1061.2\\nKSC\\nCrew-2\\nCrew-2\\nLEO\\nNASA\\nSuccess\\n\\nSuccess\\n115\\n29 April 2021\\n03:44\\nF9 B5B1060.7\\nCCSFS\\nStarlink\\nStarlink\\nLEO\\nSpaceX\\nSuccess\\n\\nSuccess\\n116\\n4 May 2021\\n19:01\\nF9 B5B1049.9\\nKSC\\nStarlink\\nStarlink\\nLEO\\nSpaceX\\nSuccess\\n\\nSuccess\\n117\\n9 May 2021\\n06:42\\nF9 B5B1051.10\\nCCSFS\\nStarlink\\nStarlink\\nLEO\\nSpaceX\\nSuccess\\n\\nSuccess\\n118\\n15 May 2021\\n22:56\\nF9 B5B1058.8\\nKSC\\nStarlink\\nStarlink\\nLEO\\nSpaceX\\nSuccess\\n\\nSuccess\\n119\\n26 May 2021\\n18:59\\nF9 B5B1063.2\\nCCSFS\\nStarlink\\nStarlink\\nLEO\\nSpaceX\\nSuccess\\n\\nSuccess\\n120\\n3 June 2021\\n17:29\\nF9 B5B1067.1\\nKSC\\nSpaceX CRS-22\\nSpaceX CRS-22\\nLEO\\nNASA\\nSuccess\\n\\nSuccess\\n121\\n6 June 2021\\n04:26\\nF9 B5\\nCCSFS\\nSXM-8\\nSXM-8\\nGTO\\nSirius XM\\nSuccess\\n\\nSuccess\\n\", \"name\": \"stdout\"}]}, {\"metadata\": {}, \"cell_type\": \"markdown\", \"source\": \"After you have fill in the parsed launch record values into `launch_dict`, you can create a dataframe from it.\\n\"}, {\"metadata\": {}, \"cell_type\": \"code\", \"source\": \"for k in launch_dict.keys():\\n    print(\\\"Key {} =\u003e Len {}\\\".format(k, len(k)))\", \"execution_count\": 14, \"outputs\": [{\"output_type\": \"stream\", \"text\": \"Key Flight No. =\u003e Len 10\\nKey Launch site =\u003e Len 11\\nKey Payload =\u003e Len 7\\nKey Payload mass =\u003e Len 12\\nKey Orbit =\u003e Len 5\\nKey Customer =\u003e Len 8\\nKey Launch outcome =\u003e Len 14\\nKey Version Booster =\u003e Len 15\\nKey Booster landing =\u003e Len 15\\nKey Date =\u003e Len 4\\nKey Time =\u003e Len 4\\n\", \"name\": \"stdout\"}]}, {\"metadata\": {}, \"cell_type\": \"code\", \"source\": \"launch_dict\\ndf=pd.DataFrame(launch_dict)\\ndf\", \"execution_count\": 15, \"outputs\": [{\"output_type\": \"execute_result\", \"execution_count\": 15, \"data\": {\"text/plain\": \"    Flight No. Launch site                               Payload Payload mass  \\\\\\n0            1       CCAFS  Dragon Spacecraft Qualification Unit            0   \\n1            2       CCAFS                                Dragon            0   \\n2            3       CCAFS                                Dragon       525 kg   \\n3            4       CCAFS                          SpaceX CRS-1     4,700 kg   \\n4            5       CCAFS                          SpaceX CRS-2     4,877 kg   \\n..         ...         ...                                   ...          ...   \\n116        117       CCSFS                              Starlink    15,600 kg   \\n117        118         KSC                              Starlink   ~14,000 kg   \\n118        119       CCSFS                              Starlink    15,600 kg   \\n119        120         KSC                         SpaceX CRS-22     3,328 kg   \\n120        121       CCSFS                                 SXM-8     7,000 kg   \\n\\n    Orbit   Customer Launch outcome Version Booster Booster landing  \\\\\\n0     LEO     SpaceX      Success\\\\n  F9 v1.0B0003.1         Failure   \\n1     LEO       NASA        Success  F9 v1.0B0004.1         Failure   \\n2     LEO       NASA        Success  F9 v1.0B0005.1    No attempt\\\\n   \\n3     LEO       NASA      Success\\\\n  F9 v1.0B0006.1      No attempt   \\n4     LEO       NASA      Success\\\\n  F9 v1.0B0007.1    No attempt\\\\n   \\n..    ...        ...            ...             ...             ...   \\n116   LEO     SpaceX      Success\\\\n   F9 B5B1051.10         Success   \\n117   LEO     SpaceX      Success\\\\n    F9 B5B1058.8         Success   \\n118   LEO     SpaceX      Success\\\\n    F9 B5B1063.2         Success   \\n119   LEO       NASA      Success\\\\n    F9 B5B1067.1         Success   \\n120   GTO  Sirius XM      Success\\\\n           F9 B5         Success   \\n\\n                Date   Time  \\n0        4 June 2010  18:45  \\n1    8 December 2010  15:43  \\n2        22 May 2012  07:44  \\n3     8 October 2012  00:35  \\n4       1 March 2013  15:10  \\n..               ...    ...  \\n116       9 May 2021  06:42  \\n117      15 May 2021  22:56  \\n118      26 May 2021  18:59  \\n119      3 June 2021  17:29  \\n120      6 June 2021  04:26  \\n\\n[121 rows x 11 columns]\", \"text/html\": \"\u003cdiv\u003e\\n\u003cstyle scoped\u003e\\n    .dataframe tbody tr th:only-of-type {\\n        vertical-align: middle;\\n    }\\n\\n    .dataframe tbody tr th {\\n        vertical-align: top;\\n    }\\n\\n    .dataframe thead th {\\n        text-align: right;\\n    }\\n\u003c/style\u003e\\n\u003ctable border=\\\"1\\\" class=\\\"dataframe\\\"\u003e\\n  \u003cthead\u003e\\n    \u003ctr style=\\\"text-align: right;\\\"\u003e\\n      \u003cth\u003e\u003c/th\u003e\\n      \u003cth\u003eFlight No.\u003c/th\u003e\\n      \u003cth\u003eLaunch site\u003c/th\u003e\\n      \u003cth\u003ePayload\u003c/th\u003e\\n      \u003cth\u003ePayload mass\u003c/th\u003e\\n      \u003cth\u003eOrbit\u003c/th\u003e\\n      \u003cth\u003eCustomer\u003c/th\u003e\\n      \u003cth\u003eLaunch outcome\u003c/th\u003e\\n      \u003cth\u003eVersion Booster\u003c/th\u003e\\n      \u003cth\u003eBooster landing\u003c/th\u003e\\n      \u003cth\u003eDate\u003c/th\u003e\\n      \u003cth\u003eTime\u003c/th\u003e\\n    \u003c/tr\u003e\\n  \u003c/thead\u003e\\n  \u003ctbody\u003e\\n    \u003ctr\u003e\\n      \u003cth\u003e0\u003c/th\u003e\\n      \u003ctd\u003e1\u003c/td\u003e\\n      \u003ctd\u003eCCAFS\u003c/td\u003e\\n      \u003ctd\u003eDragon Spacecraft Qualification Unit\u003c/td\u003e\\n      \u003ctd\u003e0\u003c/td\u003e\\n      \u003ctd\u003eLEO\u003c/td\u003e\\n      \u003ctd\u003eSpaceX\u003c/td\u003e\\n      \u003ctd\u003eSuccess\\\\n\u003c/td\u003e\\n      \u003ctd\u003eF9 v1.0B0003.1\u003c/td\u003e\\n      \u003ctd\u003eFailure\u003c/td\u003e\\n      \u003ctd\u003e4 June 2010\u003c/td\u003e\\n      \u003ctd\u003e18:45\u003c/td\u003e\\n    \u003c/tr\u003e\\n    \u003ctr\u003e\\n      \u003cth\u003e1\u003c/th\u003e\\n      \u003ctd\u003e2\u003c/td\u003e\\n      \u003ctd\u003eCCAFS\u003c/td\u003e\\n      \u003ctd\u003eDragon\u003c/td\u003e\\n      \u003ctd\u003e0\u003c/td\u003e\\n      \u003ctd\u003eLEO\u003c/td\u003e\\n      \u003ctd\u003eNASA\u003c/td\u003e\\n      \u003ctd\u003eSuccess\u003c/td\u003e\\n      \u003ctd\u003eF9 v1.0B0004.1\u003c/td\u003e\\n      \u003ctd\u003eFailure\u003c/td\u003e\\n      \u003ctd\u003e8 December 2010\u003c/td\u003e\\n      \u003ctd\u003e15:43\u003c/td\u003e\\n    \u003c/tr\u003e\\n    \u003ctr\u003e\\n      \u003cth\u003e2\u003c/th\u003e\\n      \u003ctd\u003e3\u003c/td\u003e\\n      \u003ctd\u003eCCAFS\u003c/td\u003e\\n      \u003ctd\u003eDragon\u003c/td\u003e\\n      \u003ctd\u003e525 kg\u003c/td\u003e\\n      \u003ctd\u003eLEO\u003c/td\u003e\\n      \u003ctd\u003eNASA\u003c/td\u003e\\n      \u003ctd\u003eSuccess\u003c/td\u003e\\n      \u003ctd\u003eF9 v1.0B0005.1\u003c/td\u003e\\n      \u003ctd\u003eNo attempt\\\\n\u003c/td\u003e\\n      \u003ctd\u003e22 May 2012\u003c/td\u003e\\n      \u003ctd\u003e07:44\u003c/td\u003e\\n    \u003c/tr\u003e\\n    \u003ctr\u003e\\n      \u003cth\u003e3\u003c/th\u003e\\n      \u003ctd\u003e4\u003c/td\u003e\\n      \u003ctd\u003eCCAFS\u003c/td\u003e\\n      \u003ctd\u003eSpaceX CRS-1\u003c/td\u003e\\n      \u003ctd\u003e4,700 kg\u003c/td\u003e\\n      \u003ctd\u003eLEO\u003c/td\u003e\\n      \u003ctd\u003eNASA\u003c/td\u003e\\n      \u003ctd\u003eSuccess\\\\n\u003c/td\u003e\\n      \u003ctd\u003eF9 v1.0B0006.1\u003c/td\u003e\\n      \u003ctd\u003eNo attempt\u003c/td\u003e\\n      \u003ctd\u003e8 October 2012\u003c/td\u003e\\n      \u003ctd\u003e00:35\u003c/td\u003e\\n    \u003c/tr\u003e\\n    \u003ctr\u003e\\n      \u003cth\u003e4\u003c/th\u003e\\n      \u003ctd\u003e5\u003c/td\u003e\\n      \u003ctd\u003eCCAFS\u003c/td\u003e\\n      \u003ctd\u003eSpaceX CRS-2\u003c/td\u003e\\n      \u003ctd\u003e4,877 kg\u003c/td\u003e\\n      \u003ctd\u003eLEO\u003c/td\u003e\\n      \u003ctd\u003eNASA\u003c/td\u003e\\n      \u003ctd\u003eSuccess\\\\n\u003c/td\u003e\\n      \u003ctd\u003eF9 v1.0B0007.1\u003c/td\u003e\\n      \u003ctd\u003eNo attempt\\\\n\u003c/td\u003e\\n      \u003ctd\u003e1 March 2013\u003c/td\u003e\\n      \u003ctd\u003e15:10\u003c/td\u003e\\n    \u003c/tr\u003e\\n    \u003ctr\u003e\\n      \u003cth\u003e...\u003c/th\u003e\\n      \u003ctd\u003e...\u003c/td\u003e\\n      \u003ctd\u003e...\u003c/td\u003e\\n      \u003ctd\u003e...\u003c/td\u003e\\n      \u003ctd\u003e...\u003c/td\u003e\\n      \u003ctd\u003e...\u003c/td\u003e\\n      \u003ctd\u003e...\u003c/td\u003e\\n      \u003ctd\u003e...\u003c/td\u003e\\n      \u003ctd\u003e...\u003c/td\u003e\\n      \u003ctd\u003e...\u003c/td\u003e\\n      \u003ctd\u003e...\u003c/td\u003e\\n      \u003ctd\u003e...\u003c/td\u003e\\n    \u003c/tr\u003e\\n    \u003ctr\u003e\\n      \u003cth\u003e116\u003c/th\u003e\\n      \u003ctd\u003e117\u003c/td\u003e\\n      \u003ctd\u003eCCSFS\u003c/td\u003e\\n      \u003ctd\u003eStarlink\u003c/td\u003e\\n      \u003ctd\u003e15,600 kg\u003c/td\u003e\\n      \u003ctd\u003eLEO\u003c/td\u003e\\n      \u003ctd\u003eSpaceX\u003c/td\u003e\\n      \u003ctd\u003eSuccess\\\\n\u003c/td\u003e\\n      \u003ctd\u003eF9 B5B1051.10\u003c/td\u003e\\n      \u003ctd\u003eSuccess\u003c/td\u003e\\n      \u003ctd\u003e9 May 2021\u003c/td\u003e\\n      \u003ctd\u003e06:42\u003c/td\u003e\\n    \u003c/tr\u003e\\n    \u003ctr\u003e\\n      \u003cth\u003e117\u003c/th\u003e\\n      \u003ctd\u003e118\u003c/td\u003e\\n      \u003ctd\u003eKSC\u003c/td\u003e\\n      \u003ctd\u003eStarlink\u003c/td\u003e\\n      \u003ctd\u003e~14,000 kg\u003c/td\u003e\\n      \u003ctd\u003eLEO\u003c/td\u003e\\n      \u003ctd\u003eSpaceX\u003c/td\u003e\\n      \u003ctd\u003eSuccess\\\\n\u003c/td\u003e\\n      \u003ctd\u003eF9 B5B1058.8\u003c/td\u003e\\n      \u003ctd\u003eSuccess\u003c/td\u003e\\n      \u003ctd\u003e15 May 2021\u003c/td\u003e\\n      \u003ctd\u003e22:56\u003c/td\u003e\\n    \u003c/tr\u003e\\n    \u003ctr\u003e\\n      \u003cth\u003e118\u003c/th\u003e\\n      \u003ctd\u003e119\u003c/td\u003e\\n      \u003ctd\u003eCCSFS\u003c/td\u003e\\n      \u003ctd\u003eStarlink\u003c/td\u003e\\n      \u003ctd\u003e15,600 kg\u003c/td\u003e\\n      \u003ctd\u003eLEO\u003c/td\u003e\\n      \u003ctd\u003eSpaceX\u003c/td\u003e\\n      \u003ctd\u003eSuccess\\\\n\u003c/td\u003e\\n      \u003ctd\u003eF9 B5B1063.2\u003c/td\u003e\\n      \u003ctd\u003eSuccess\u003c/td\u003e\\n      \u003ctd\u003e26 May 2021\u003c/td\u003e\\n      \u003ctd\u003e18:59\u003c/td\u003e\\n    \u003c/tr\u003e\\n    \u003ctr\u003e\\n      \u003cth\u003e119\u003c/th\u003e\\n      \u003ctd\u003e120\u003c/td\u003e\\n      \u003ctd\u003eKSC\u003c/td\u003e\\n      \u003ctd\u003eSpaceX CRS-22\u003c/td\u003e\\n      \u003ctd\u003e3,328 kg\u003c/td\u003e\\n      \u003ctd\u003eLEO\u003c/td\u003e\\n      \u003ctd\u003eNASA\u003c/td\u003e\\n      \u003ctd\u003eSuccess\\\\n\u003c/td\u003e\\n      \u003ctd\u003eF9 B5B1067.1\u003c/td\u003e\\n      \u003ctd\u003eSuccess\u003c/td\u003e\\n      \u003ctd\u003e3 June 2021\u003c/td\u003e\\n      \u003ctd\u003e17:29\u003c/td\u003e\\n    \u003c/tr\u003e\\n    \u003ctr\u003e\\n      \u003cth\u003e120\u003c/th\u003e\\n      \u003ctd\u003e121\u003c/td\u003e\\n      \u003ctd\u003eCCSFS\u003c/td\u003e\\n      \u003ctd\u003eSXM-8\u003c/td\u003e\\n      \u003ctd\u003e7,000 kg\u003c/td\u003e\\n      \u003ctd\u003eGTO\u003c/td\u003e\\n      \u003ctd\u003eSirius XM\u003c/td\u003e\\n      \u003ctd\u003eSuccess\\\\n\u003c/td\u003e\\n      \u003ctd\u003eF9 B5\u003c/td\u003e\\n      \u003ctd\u003eSuccess\u003c/td\u003e\\n      \u003ctd\u003e6 June 2021\u003c/td\u003e\\n      \u003ctd\u003e04:26\u003c/td\u003e\\n    \u003c/tr\u003e\\n  \u003c/tbody\u003e\\n\u003c/table\u003e\\n\u003cp\u003e121 rows \\u00d7 11 columns\u003c/p\u003e\\n\u003c/div\u003e\"}, \"metadata\": {}}]}, {\"metadata\": {}, \"cell_type\": \"markdown\", \"source\": \"We can now export it to a \u003cb\u003eCSV\u003c/b\u003e for the next section, but to make the answers consistent and in case you have difficulties finishing this lab.\\n\\nFollowing labs will be using a provided dataset to make each lab independent.\\n\"}, {\"metadata\": {}, \"cell_type\": \"markdown\", \"source\": \"df.to_csv('spacex_web_scraped.csv', index=False)\"}, {\"metadata\": {}, \"cell_type\": \"code\", \"source\": \"df.to_csv('spacex_web_scraped_tpf.csv', index=False)\", \"execution_count\": 16, \"outputs\": []}, {\"metadata\": {}, \"cell_type\": \"markdown\", \"source\": \"## Authors\\n\"}, {\"metadata\": {}, \"cell_type\": \"markdown\", \"source\": \"\u003ca href=\\\"https://www.linkedin.com/in/yan-luo-96288783/?utm_medium=Exinfluencer\u0026utm_source=Exinfluencer\u0026utm_content=000026UJ\u0026utm_term=10006555\u0026utm_id=NA-SkillsNetwork-Channel-SkillsNetworkCoursesIBMDS0321ENSkillsNetwork26802033-2022-01-01\\\"\u003eYan Luo\u003c/a\u003e\\n\"}, {\"metadata\": {}, \"cell_type\": \"markdown\", \"source\": \"\u003ca href=\\\"https://www.linkedin.com/in/nayefaboutayoun/?utm_medium=Exinfluencer\u0026utm_source=Exinfluencer\u0026utm_content=000026UJ\u0026utm_term=10006555\u0026utm_id=NA-SkillsNetwork-Channel-SkillsNetworkCoursesIBMDS0321ENSkillsNetwork26802033-2022-01-01\\\"\u003eNayef Abou Tayoun\u003c/a\u003e\\n\"}, {\"metadata\": {}, \"cell_type\": \"markdown\", \"source\": \"## Change Log\\n\"}, {\"metadata\": {}, \"cell_type\": \"markdown\", \"source\": \"| Date (YYYY-MM-DD) | Version | Changed By | Change Description          |\\n| ----------------- | ------- | ---------- | --------------------------- |\\n| 2021-06-09        | 1.0     | Yan Luo    | Tasks updates               |\\n| 2020-11-10        | 1.0     | Nayef      | Created the initial version |\\n\"}, {\"metadata\": {}, \"cell_type\": \"markdown\", \"source\": \"Copyright \\u00a9 2021 IBM Corporation. All rights reserved.\\n\"}], \"metadata\": {\"kernelspec\": {\"name\": \"python3\", \"display_name\": \"Python 3.9\", \"language\": \"python\"}, \"language_info\": {\"name\": \"python\", \"version\": \"3.9.12\", \"mimetype\": \"text/x-python\", \"codemirror_mode\": {\"name\": \"ipython\", \"version\": 3}, \"pygments_lexer\": \"ipython3\", \"nbconvert_exporter\": \"python\", \"file_extension\": \".py\"}}, \"nbformat\": 4, \"nbformat_minor\": 4}"],"stylingDirectives":null,"csv":null,"csvError":null,"dependabotInfo":{"showConfigurationBanner":false,"configFilePath":null,"networkDependabotPath":"/saivuttunoori/Coursera-Data-Science/network/updates","dismissConfigurationNoticePath":"/settings/dismiss-notice/dependabot_configuration_notice","configurationNoticeDismissed":null,"repoAlertsPath":"/saivuttunoori/Coursera-Data-Science/security/dependabot","repoSecurityAndAnalysisPath":"/saivuttunoori/Coursera-Data-Science/settings/security_analysis","repoOwnerIsOrg":false,"currentUserCanAdminRepo":false},"displayName":"Data Collection-Web Scraping.ipynb","displayUrl":"https://notebooks.githubusercontent.com/view/ipynb?browser=chrome\u0026bypass_fastly=true\u0026color_mode=auto\u0026commit=3c29162e0646f77141cc8893cd62d2e93fe62629\u0026device=unknown_device\u0026docs_host=https%3A%2F%2Fdocs.github.com\u0026enc_url=68747470733a2f2f7261772e67697468756275736572636f6e74656e742e636f6d2f73616976757474756e6f6f72692f436f7572736572612d446174612d536369656e63652f336332393136326530363436663737313431636338383933636436326432653933666536323632392f44617461253230436f6c6c656374696f6e2d5765622532305363726170696e672e6970796e62\u0026logged_in=false\u0026nwo=saivuttunoori%2FCoursera-Data-Science\u0026path=Data+Collection-Web+Scraping.ipynb\u0026platform=windows\u0026repository_id=686678873\u0026repository_type=Repository\u0026version=118","headerInfo":{"blobSize":"57.6 KB","deleteInfo":{"deleteTooltip":"You must be signed in to make or propose changes"},"editInfo":{"editTooltip":"You must be signed in to make or propose changes"},"ghDesktopPath":"https://desktop.github.com","gitLfsPath":null,"onBranch":true,"shortPath":"9cd4275","siteNavLoginPath":"/login?return_to=https%3A%2F%2Fgithub.com%2Fsaivuttunoori%2FCoursera-Data-Science%2Fblob%2Fmain%2FData%2520Collection-Web%2520Scraping.ipynb","isCSV":false,"isRichtext":false,"toc":null,"lineInfo":{"truncatedLoc":"1","truncatedSloc":"1"},"mode":"file"},"image":false,"isCodeownersFile":null,"isPlain":false,"isValidLegacyIssueTemplate":false,"issueTemplateHelpUrl":"https://docs.github.com/articles/about-issue-and-pull-request-templates","issueTemplate":null,"discussionTemplate":null,"language":"Jupyter Notebook","languageID":185,"large":false,"loggedIn":false,"newDiscussionPath":"/saivuttunoori/Coursera-Data-Science/discussions/new","newIssuePath":"/saivuttunoori/Coursera-Data-Science/issues/new","planSupportInfo":{"repoIsFork":null,"repoOwnedByCurrentUser":null,"requestFullPath":"/saivuttunoori/Coursera-Data-Science/blob/main/Data%20Collection-Web%20Scraping.ipynb","showFreeOrgGatedFeatureMessage":null,"showPlanSupportBanner":null,"upgradeDataAttributes":null,"upgradePath":null},"publishBannersInfo":{"dismissActionNoticePath":"/settings/dismiss-notice/publish_action_from_dockerfile","dismissStackNoticePath":"/settings/dismiss-notice/publish_stack_from_file","releasePath":"/saivuttunoori/Coursera-Data-Science/releases/new?marketplace=true","showPublishActionBanner":false,"showPublishStackBanner":false},"rawBlobUrl":"https://github.com/saivuttunoori/Coursera-Data-Science/raw/main/Data%20Collection-Web%20Scraping.ipynb","renderImageOrRaw":false,"richText":null,"renderedFileInfo":{"identityUUID":"53779d9f-120b-45c7-92fd-b554d932bdb0","renderFileType":"ipynb","size":59003},"shortPath":null,"tabSize":8,"topBannersInfo":{"overridingGlobalFundingFile":false,"globalPreferredFundingPath":null,"repoOwner":"saivuttunoori","repoName":"Coursera-Data-Science","showInvalidCitationWarning":false,"citationHelpUrl":"https://docs.github.com/en/github/creating-cloning-and-archiving-repositories/creating-a-repository-on-github/about-citation-files","showDependabotConfigurationBanner":false,"actionsOnboardingTip":null},"truncated":false,"viewable":true,"workflowRedirectUrl":null,"symbols":{"timedOut":false,"notAnalyzed":true,"symbols":[]}},"copilotInfo":null,"copilotAccessAllowed":false,"csrf_tokens":{"/saivuttunoori/Coursera-Data-Science/branches":{"post":"v59OeW8yOoXCc_-3wP-yDPed4iWn-Wva1QRdMFAGTXLTdYJ97s_QrzN9DALHVpyh59Vczfx_gqIC_1Zr0KXEqA"},"/repos/preferences":{"post":"c-QJNGJ0Pl06NaTBMJ8fzGoF78xm6NZZYlsaa_tIBWRdUoLzCdk9VtKW5M5kumMUaODf3bQ1Pg2S5V9w3i0fjA"}}},"title":"Coursera-Data-Science/Data Collection-Web Scraping.ipynb at main · saivuttunoori/Coursera-Data-Science","appPayload":{"helpUrl":"https://docs.github.com","findFileWorkerPath":"/assets-cdn/worker/find-file-worker-32bb159cc57c.js","findInFileWorkerPath":"/assets-cdn/worker/find-in-file-worker-ce6d5c15d2a1.js","githubDevUrl":null,"enabled_features":{"code_nav_ui_events":false,"copilot_conversational_ux":false,"copilot_conversational_ux_embedding_update":false,"copilot_conversational_ux_streaming":false,"copilot_popover_file_editor_header":false,"copilot_smell_icebreaker_ux":false}}}</script>
  <div data-target="react-app.reactRoot"></div>
</react-app>
</turbo-frame>



  </div>

</turbo-frame>

    </main>
  </div>

  </div>

          <footer class="footer width-full container-xl p-responsive" role="contentinfo">
  <h2 class='sr-only'>Footer</h2>

  <div class="position-relative d-flex flex-items-center pb-2 f6 color-fg-muted border-top color-border-muted flex-column-reverse flex-lg-row flex-wrap flex-lg-nowrap mt-6 pt-6">
    <div class="list-style-none d-flex flex-wrap col-0 col-lg-2 flex-justify-start flex-lg-justify-between mb-2 mb-lg-0">
      <div class="mt-2 mt-lg-0 d-flex flex-items-center">
        <a aria-label="Homepage" title="GitHub" class="footer-octicon mr-2" href="https://github.com">
          <svg aria-hidden="true" height="24" viewBox="0 0 16 16" version="1.1" width="24" data-view-component="true" class="octicon octicon-mark-github">
    <path d="M8 0c4.42 0 8 3.58 8 8a8.013 8.013 0 0 1-5.45 7.59c-.4.08-.55-.17-.55-.38 0-.27.01-1.13.01-2.2 0-.75-.25-1.23-.54-1.48 1.78-.2 3.65-.88 3.65-3.95 0-.88-.31-1.59-.82-2.15.08-.2.36-1.02-.08-2.12 0 0-.67-.22-2.2.82-.64-.18-1.32-.27-2-.27-.68 0-1.36.09-2 .27-1.53-1.03-2.2-.82-2.2-.82-.44 1.1-.16 1.92-.08 2.12-.51.56-.82 1.28-.82 2.15 0 3.06 1.86 3.75 3.64 3.95-.23.2-.44.55-.51 1.07-.46.21-1.61.55-2.33-.66-.15-.24-.6-.83-1.23-.82-.67.01-.27.38.01.53.34.19.73.9.82 1.13.16.45.68 1.31 2.69.94 0 .67.01 1.3.01 1.49 0 .21-.15.45-.55.38A7.995 7.995 0 0 1 0 8c0-4.42 3.58-8 8-8Z"></path>
</svg>
</a>        <span>
        &copy; 2023 GitHub, Inc.
        </span>
      </div>
    </div>

    <nav aria-label='Footer' class="col-12 col-lg-8">
      <h3 class='sr-only' id='sr-footer-heading'>Footer navigation</h3>
      <ul class="list-style-none d-flex flex-wrap col-12 flex-justify-center flex-lg-justify-between mb-2 mb-lg-0" aria-labelledby='sr-footer-heading'>
          <li class="mr-3 mr-lg-0"><a href="https://docs.github.com/site-policy/github-terms/github-terms-of-service" data-analytics-event="{&quot;category&quot;:&quot;Footer&quot;,&quot;action&quot;:&quot;go to terms&quot;,&quot;label&quot;:&quot;text:terms&quot;}">Terms</a></li>
          <li class="mr-3 mr-lg-0"><a href="https://docs.github.com/site-policy/privacy-policies/github-privacy-statement" data-analytics-event="{&quot;category&quot;:&quot;Footer&quot;,&quot;action&quot;:&quot;go to privacy&quot;,&quot;label&quot;:&quot;text:privacy&quot;}">Privacy</a></li>
          <li class="mr-3 mr-lg-0"><a data-analytics-event="{&quot;category&quot;:&quot;Footer&quot;,&quot;action&quot;:&quot;go to security&quot;,&quot;label&quot;:&quot;text:security&quot;}" href="https://github.com/security">Security</a></li>
          <li class="mr-3 mr-lg-0"><a href="https://www.githubstatus.com/" data-analytics-event="{&quot;category&quot;:&quot;Footer&quot;,&quot;action&quot;:&quot;go to status&quot;,&quot;label&quot;:&quot;text:status&quot;}">Status</a></li>
          <li class="mr-3 mr-lg-0"><a data-ga-click="Footer, go to help, text:Docs" href="https://docs.github.com">Docs</a></li>
          <li class="mr-3 mr-lg-0"><a href="https://support.github.com?tags=dotcom-footer" data-analytics-event="{&quot;category&quot;:&quot;Footer&quot;,&quot;action&quot;:&quot;go to contact&quot;,&quot;label&quot;:&quot;text:contact&quot;}">Contact GitHub</a></li>
          <li class="mr-3 mr-lg-0"><a href="https://github.com/pricing" data-analytics-event="{&quot;category&quot;:&quot;Footer&quot;,&quot;action&quot;:&quot;go to Pricing&quot;,&quot;label&quot;:&quot;text:Pricing&quot;}">Pricing</a></li>
        <li class="mr-3 mr-lg-0"><a href="https://docs.github.com" data-analytics-event="{&quot;category&quot;:&quot;Footer&quot;,&quot;action&quot;:&quot;go to api&quot;,&quot;label&quot;:&quot;text:api&quot;}">API</a></li>
        <li class="mr-3 mr-lg-0"><a href="https://services.github.com" data-analytics-event="{&quot;category&quot;:&quot;Footer&quot;,&quot;action&quot;:&quot;go to training&quot;,&quot;label&quot;:&quot;text:training&quot;}">Training</a></li>
          <li class="mr-3 mr-lg-0"><a href="https://github.blog" data-analytics-event="{&quot;category&quot;:&quot;Footer&quot;,&quot;action&quot;:&quot;go to blog&quot;,&quot;label&quot;:&quot;text:blog&quot;}">Blog</a></li>
          <li><a data-ga-click="Footer, go to about, text:about" href="https://github.com/about">About</a></li>
      </ul>
    </nav>
  </div>

  <div class="d-flex flex-justify-center pb-6">
    <span class="f6 color-fg-muted"></span>
  </div>
</footer>




  <div id="ajax-error-message" class="ajax-error-message flash flash-error" hidden>
    <svg aria-hidden="true" height="16" viewBox="0 0 16 16" version="1.1" width="16" data-view-component="true" class="octicon octicon-alert">
    <path d="M6.457 1.047c.659-1.234 2.427-1.234 3.086 0l6.082 11.378A1.75 1.75 0 0 1 14.082 15H1.918a1.75 1.75 0 0 1-1.543-2.575Zm1.763.707a.25.25 0 0 0-.44 0L1.698 13.132a.25.25 0 0 0 .22.368h12.164a.25.25 0 0 0 .22-.368Zm.53 3.996v2.5a.75.75 0 0 1-1.5 0v-2.5a.75.75 0 0 1 1.5 0ZM9 11a1 1 0 1 1-2 0 1 1 0 0 1 2 0Z"></path>
</svg>
    <button type="button" class="flash-close js-ajax-error-dismiss" aria-label="Dismiss error">
      <svg aria-hidden="true" height="16" viewBox="0 0 16 16" version="1.1" width="16" data-view-component="true" class="octicon octicon-x">
    <path d="M3.72 3.72a.75.75 0 0 1 1.06 0L8 6.94l3.22-3.22a.749.749 0 0 1 1.275.326.749.749 0 0 1-.215.734L9.06 8l3.22 3.22a.749.749 0 0 1-.326 1.275.749.749 0 0 1-.734-.215L8 9.06l-3.22 3.22a.751.751 0 0 1-1.042-.018.751.751 0 0 1-.018-1.042L6.94 8 3.72 4.78a.75.75 0 0 1 0-1.06Z"></path>
</svg>
    </button>
    You can’t perform that action at this time.
  </div>

    <template id="site-details-dialog">
  <details class="details-reset details-overlay details-overlay-dark lh-default color-fg-default hx_rsm" open>
    <summary role="button" aria-label="Close dialog"></summary>
    <details-dialog class="Box Box--overlay d-flex flex-column anim-fade-in fast hx_rsm-dialog hx_rsm-modal">
      <button class="Box-btn-octicon m-0 btn-octicon position-absolute right-0 top-0" type="button" aria-label="Close dialog" data-close-dialog>
        <svg aria-hidden="true" height="16" viewBox="0 0 16 16" version="1.1" width="16" data-view-component="true" class="octicon octicon-x">
    <path d="M3.72 3.72a.75.75 0 0 1 1.06 0L8 6.94l3.22-3.22a.749.749 0 0 1 1.275.326.749.749 0 0 1-.215.734L9.06 8l3.22 3.22a.749.749 0 0 1-.326 1.275.749.749 0 0 1-.734-.215L8 9.06l-3.22 3.22a.751.751 0 0 1-1.042-.018.751.751 0 0 1-.018-1.042L6.94 8 3.72 4.78a.75.75 0 0 1 0-1.06Z"></path>
</svg>
      </button>
      <div class="octocat-spinner my-6 js-details-dialog-spinner"></div>
    </details-dialog>
  </details>
</template>

    <div class="Popover js-hovercard-content position-absolute" style="display: none; outline: none;" tabindex="0">
  <div class="Popover-message Popover-message--bottom-left Popover-message--large Box color-shadow-large" style="width:360px;">
  </div>
</div>

    <template id="snippet-clipboard-copy-button">
  <div class="zeroclipboard-container position-absolute right-0 top-0">
    <clipboard-copy aria-label="Copy" class="ClipboardButton btn js-clipboard-copy m-2 p-0 tooltipped-no-delay" data-copy-feedback="Copied!" data-tooltip-direction="w">
      <svg aria-hidden="true" height="16" viewBox="0 0 16 16" version="1.1" width="16" data-view-component="true" class="octicon octicon-copy js-clipboard-copy-icon m-2">
    <path d="M0 6.75C0 5.784.784 5 1.75 5h1.5a.75.75 0 0 1 0 1.5h-1.5a.25.25 0 0 0-.25.25v7.5c0 .138.112.25.25.25h7.5a.25.25 0 0 0 .25-.25v-1.5a.75.75 0 0 1 1.5 0v1.5A1.75 1.75 0 0 1 9.25 16h-7.5A1.75 1.75 0 0 1 0 14.25Z"></path><path d="M5 1.75C5 .784 5.784 0 6.75 0h7.5C15.216 0 16 .784 16 1.75v7.5A1.75 1.75 0 0 1 14.25 11h-7.5A1.75 1.75 0 0 1 5 9.25Zm1.75-.25a.25.25 0 0 0-.25.25v7.5c0 .138.112.25.25.25h7.5a.25.25 0 0 0 .25-.25v-7.5a.25.25 0 0 0-.25-.25Z"></path>
</svg>
      <svg aria-hidden="true" height="16" viewBox="0 0 16 16" version="1.1" width="16" data-view-component="true" class="octicon octicon-check js-clipboard-check-icon color-fg-success d-none m-2">
    <path d="M13.78 4.22a.75.75 0 0 1 0 1.06l-7.25 7.25a.75.75 0 0 1-1.06 0L2.22 9.28a.751.751 0 0 1 .018-1.042.751.751 0 0 1 1.042-.018L6 10.94l6.72-6.72a.75.75 0 0 1 1.06 0Z"></path>
</svg>
    </clipboard-copy>
  </div>
</template>
<template id="snippet-clipboard-copy-button-unpositioned">
  <div class="zeroclipboard-container">
    <clipboard-copy aria-label="Copy" class="ClipboardButton btn btn-invisible js-clipboard-copy m-2 p-0 tooltipped-no-delay d-flex flex-justify-center flex-items-center" data-copy-feedback="Copied!" data-tooltip-direction="w">
      <svg aria-hidden="true" height="16" viewBox="0 0 16 16" version="1.1" width="16" data-view-component="true" class="octicon octicon-copy js-clipboard-copy-icon">
    <path d="M0 6.75C0 5.784.784 5 1.75 5h1.5a.75.75 0 0 1 0 1.5h-1.5a.25.25 0 0 0-.25.25v7.5c0 .138.112.25.25.25h7.5a.25.25 0 0 0 .25-.25v-1.5a.75.75 0 0 1 1.5 0v1.5A1.75 1.75 0 0 1 9.25 16h-7.5A1.75 1.75 0 0 1 0 14.25Z"></path><path d="M5 1.75C5 .784 5.784 0 6.75 0h7.5C15.216 0 16 .784 16 1.75v7.5A1.75 1.75 0 0 1 14.25 11h-7.5A1.75 1.75 0 0 1 5 9.25Zm1.75-.25a.25.25 0 0 0-.25.25v7.5c0 .138.112.25.25.25h7.5a.25.25 0 0 0 .25-.25v-7.5a.25.25 0 0 0-.25-.25Z"></path>
</svg>
      <svg aria-hidden="true" height="16" viewBox="0 0 16 16" version="1.1" width="16" data-view-component="true" class="octicon octicon-check js-clipboard-check-icon color-fg-success d-none">
    <path d="M13.78 4.22a.75.75 0 0 1 0 1.06l-7.25 7.25a.75.75 0 0 1-1.06 0L2.22 9.28a.751.751 0 0 1 .018-1.042.751.751 0 0 1 1.042-.018L6 10.94l6.72-6.72a.75.75 0 0 1 1.06 0Z"></path>
</svg>
    </clipboard-copy>
  </div>
</template>




    </div>

    <div id="js-global-screen-reader-notice" class="sr-only" aria-live="polite" ></div>
    <div id="js-global-screen-reader-notice-assertive" class="sr-only" aria-live="assertive"></div>
  </body>
</html>

