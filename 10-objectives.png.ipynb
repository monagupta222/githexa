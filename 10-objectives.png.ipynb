{
 "cells": [
  {
   "cell_type": "markdown",
   "metadata": {},
   "source": [
    "#### Add your code below following the instructions given in the course\n"
   ]
  },
  {
   "cell_type": "markdown",
   "metadata": {
    "tags": []
   },
   "source": [
    "Here are some categories of programming languages and their popular examples:\n",
    "\n",
    "* Object-Oriented:\n",
    "  - Java\n",
    "  - Python\n",
    "  - C++\n",
    "\n",
    "* Functional:\n",
    "  - Haskell\n",
    "  - Scala\n",
    "  - Lisp\n",
    "\n",
    "* Scripting:\n",
    "  - JavaScript\n",
    "  - Ruby\n",
    "  - Perl\n",
    "\n"
   ]
  },
  {
   "cell_type": "markdown",
   "metadata": {},
   "source": []
  }
 ],
 "metadata": {
  "kernelspec": {
   "display_name": "Python",
   "language": "python",
   "name": "conda-env-python-py"
  },
  "language_info": {
   "codemirror_mode": {
    "name": "ipython",
    "version": 3
   },
   "file_extension": ".py",
   "mimetype": "text/x-python",
   "name": "python",
   "nbconvert_exporter": "python",
   "pygments_lexer": "ipython3",
   "version": "3.7.12"
  }
 },
 "nbformat": 4,
 "nbformat_minor": 4
}
